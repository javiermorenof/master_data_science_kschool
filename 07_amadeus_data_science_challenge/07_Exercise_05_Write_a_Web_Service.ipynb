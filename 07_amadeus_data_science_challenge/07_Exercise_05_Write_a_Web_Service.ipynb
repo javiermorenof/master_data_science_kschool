{
 "cells": [
  {
   "cell_type": "markdown",
   "metadata": {},
   "source": [
    "# Amadeus Data Science Challenge"
   ]
  },
  {
   "cell_type": "markdown",
   "metadata": {},
   "source": [
    "## Exercise 5. Write a Web Service\n",
    "\n",
    "- Wrap the output of the second exercise in a web service that returns the data in JSON format (instead of printing to the standard output).\n",
    "- The web service should accept a parameter n>0. For the top 10 airports, n is 10. For the X top airports, n is X \n"
   ]
  },
  {
   "cell_type": "markdown",
   "metadata": {},
   "source": [
    "- Un webservice es una vía de intercomunicación entre máquinas conectadas en red. Se va a ejecutar en local.\n",
    "- Podemos usar la librería Flask o algunas más avanzadas como Django.\n",
    "- Vamos a necesitar tener la información en formato JSON"
   ]
  },
  {
   "cell_type": "markdown",
   "metadata": {},
   "source": [
    "### Ejemplo de Web Service mediante Flask\n",
    "\n",
    "- Mediante el código de debajo voy a crear mi primer Web Service\n",
    "- Cuando ejecute el código me va a devolver \"Running on http:// xxx.x.x.x.:xxxx/\".\n",
    "    - Si introduzco en mi buscador esa dirección http seguido de \"hello\", que es la ruta que he creado, me devolverá \"Hello DS from the service\" \n",
    "    - Ejemplo: http://127.0.0.1:5000/hello\n",
    "- El Web Service estará en funcionamiento hasta que pare el código. Como puedo ver, el Kernel está en ejecución"
   ]
  },
  {
   "cell_type": "code",
   "execution_count": 3,
   "metadata": {},
   "outputs": [
    {
     "name": "stdout",
     "output_type": "stream",
     "text": [
      " * Serving Flask app \"My first web service\" (lazy loading)\n",
      " * Environment: production\n",
      "   WARNING: Do not use the development server in a production environment.\n",
      "   Use a production WSGI server instead.\n",
      " * Debug mode: off\n"
     ]
    },
    {
     "name": "stderr",
     "output_type": "stream",
     "text": [
      " * Running on http://127.0.0.1:5000/ (Press CTRL+C to quit)\n",
      "127.0.0.1 - - [04/Feb/2020 23:53:40] \"GET /hello HTTP/1.1\" 200 -\n",
      "127.0.0.1 - - [04/Feb/2020 23:53:40] \"GET /favicon.ico HTTP/1.1\" 404 -\n"
     ]
    }
   ],
   "source": [
    "from flask import Flask\n",
    "\n",
    "app = Flask(\"My first web service\")\n",
    "@app.route(\"/hello\", methods=[\"GET\"])\n",
    "# GET    The browser tells the server to just get the information stored\n",
    "def get_hello():\n",
    "    return \"Hello DS from the service!\"\n",
    "app.run()"
   ]
  },
  {
   "cell_type": "markdown",
   "metadata": {},
   "source": [
    "### Otro ejemplo de Web Service\n",
    "- El código de debajo se complica un poco más.\n",
    "   - Si entro en `http://127.0.0.1:5000/ret_number/10` me devolverá \"I got 10\"\n",
    "   - Si entro en `http://127.0.0.1:5000/ret_number/-4` me devolverá \"Not a number >0\"\n",
    "   - Si entro en `http://127.0.0.1:5000/ret_number/hola` me devolverá \"Not a number\", porque no ha podido realizar la conversión de \"hola\" a int\n",
    "   - Si entro en `http://127.0.0.1:5000/ret_number/3.14` me devolverá \"Not a number\", porque no ha podido realizar la conversión de \"3.14\" a int\n"
   ]
  },
  {
   "cell_type": "code",
   "execution_count": 32,
   "metadata": {},
   "outputs": [
    {
     "name": "stdout",
     "output_type": "stream",
     "text": [
      " * Serving Flask app \"My first web service\" (lazy loading)\n",
      " * Environment: production\n",
      "   WARNING: Do not use the development server in a production environment.\n",
      "   Use a production WSGI server instead.\n",
      " * Debug mode: off\n"
     ]
    },
    {
     "name": "stderr",
     "output_type": "stream",
     "text": [
      " * Running on http://127.0.0.1:5000/ (Press CTRL+C to quit)\n"
     ]
    }
   ],
   "source": [
    "from flask import Flask\n",
    "\n",
    "app = Flask(\"My first web service\")\n",
    "@app.route(\"/ret_number/<n>\", methods=[\"GET\"])\n",
    "def get_number(n):\n",
    "    try:\n",
    "        numb = int(n)\n",
    "        if numb > 0:\n",
    "            return f\"I got {n}\"\n",
    "        else:\n",
    "            return \"Need a number >0\"\n",
    "    except:\n",
    "        return \"Not a number\"\n",
    "        \n",
    "app.run()"
   ]
  },
  {
   "cell_type": "markdown",
   "metadata": {},
   "source": [
    "- Con todo esto, voy a crear el Web Service que se comentaba antes\n",
    "    - Para ello, voy a exportar el archivo 'top_airports' a \".json\"\n",
    "    - Voy a utiliar el valor de N como filtro"
   ]
  },
  {
   "cell_type": "code",
   "execution_count": 21,
   "metadata": {},
   "outputs": [
    {
     "name": "stdout",
     "output_type": "stream",
     "text": [
      "/home/dsc/Data/challenge\n"
     ]
    }
   ],
   "source": [
    "cd /home/dsc/Data/challenge"
   ]
  },
  {
   "cell_type": "markdown",
   "metadata": {},
   "source": [
    "- Para transformar el archivo a csv puedo utilizar la librería 'json' o 'pandas'\n",
    "    - Si utilizo la librería 'json', utilizaré 'json.dumps', que convierte listas o diccionarios en formato 'json'\n",
    "    - Si utilizo 'pandas', utilizaré 'to_json'"
   ]
  },
  {
   "cell_type": "code",
   "execution_count": 23,
   "metadata": {},
   "outputs": [
    {
     "name": "stdout",
     "output_type": "stream",
     "text": [
      "['a', 'b', 'c', 'd']\n"
     ]
    },
    {
     "data": {
      "text/plain": [
       "'[\"a\", \"b\", \"c\", \"d\"]'"
      ]
     },
     "execution_count": 23,
     "metadata": {},
     "output_type": "execute_result"
    }
   ],
   "source": [
    "#Ejemplo de json.dumps\n",
    "import json\n",
    "\n",
    "#Ejemplo para una lista\n",
    "lista = list(\"abcd\")\n",
    "print(lista)\n",
    "json.dumps(lista)"
   ]
  },
  {
   "cell_type": "code",
   "execution_count": 24,
   "metadata": {},
   "outputs": [
    {
     "data": {
      "text/plain": [
       "'{\"name\": \"John\", \"age\": 32, \"city\": \"New_York\"}'"
      ]
     },
     "execution_count": 24,
     "metadata": {},
     "output_type": "execute_result"
    }
   ],
   "source": [
    "#Ejemplo de json.dumps\n",
    "import json\n",
    "\n",
    "#Ejemplo para un diccionario\n",
    "myDict = {\"name\":\"John\", \"age\":32, \"city\":\"New_York\"}\n",
    "json.dumps(myDict)"
   ]
  },
  {
   "cell_type": "markdown",
   "metadata": {},
   "source": [
    "- Quizás la manera más sencilla es hacerlo mediante pandas"
   ]
  },
  {
   "cell_type": "code",
   "execution_count": 29,
   "metadata": {},
   "outputs": [
    {
     "data": {
      "text/plain": [
       "'{\"arr_port\":{\"0\":\"LHR\"},\"pax\":{\"0\":88809},\"AirportNAme\":{\"0\":\"London Heathrow Airport\"}}'"
      ]
     },
     "execution_count": 29,
     "metadata": {},
     "output_type": "execute_result"
    }
   ],
   "source": [
    "import pandas as pd\n",
    "\n",
    "top_airports = pd.read_csv(\"top_airports.csv\", sep = \"^\")\n",
    "top_airports.head(1).to_json()"
   ]
  },
  {
   "cell_type": "markdown",
   "metadata": {},
   "source": [
    "- Si lo adaptamos para crear el Web Service queda de esta manera:"
   ]
  },
  {
   "cell_type": "code",
   "execution_count": null,
   "metadata": {},
   "outputs": [
    {
     "name": "stdout",
     "output_type": "stream",
     "text": [
      " * Serving Flask app \"My first web service\" (lazy loading)\n",
      " * Environment: production\n",
      "   WARNING: Do not use the development server in a production environment.\n",
      "   Use a production WSGI server instead.\n",
      " * Debug mode: off\n"
     ]
    },
    {
     "name": "stderr",
     "output_type": "stream",
     "text": [
      " * Running on http://127.0.0.1:5000/ (Press CTRL+C to quit)\n",
      "127.0.0.1 - - [05/Feb/2020 00:16:10] \"GET /ret_number/5 HTTP/1.1\" 200 -\n",
      "127.0.0.1 - - [05/Feb/2020 00:16:13] \"GET /ret_number/-5 HTTP/1.1\" 200 -\n",
      "127.0.0.1 - - [05/Feb/2020 00:16:23] \"GET /ret_number/19 HTTP/1.1\" 200 -\n"
     ]
    }
   ],
   "source": [
    "import pandas as pd\n",
    "from flask import Flask\n",
    "top_airports = pd.read_csv(\"top_airports.csv\", sep = \"^\")\n",
    "\n",
    "app = Flask(\"My first web service\")\n",
    "@app.route(\"/ret_number/<n>\", methods=[\"GET\"])\n",
    "def get_number(n):\n",
    "    try:\n",
    "        numb = int(n)\n",
    "        if numb > 0:\n",
    "            return top_airports.head(numb).to_json()\n",
    "        else:\n",
    "            return top_airports.tail(abs(numb)).to_json()\n",
    "    except:\n",
    "        return \"Not a number\"\n",
    "        \n",
    "app.run()"
   ]
  }
 ],
 "metadata": {
  "kernelspec": {
   "display_name": "Python 3",
   "language": "python",
   "name": "python3"
  },
  "language_info": {
   "codemirror_mode": {
    "name": "ipython",
    "version": 3
   },
   "file_extension": ".py",
   "mimetype": "text/x-python",
   "name": "python",
   "nbconvert_exporter": "python",
   "pygments_lexer": "ipython3",
   "version": "3.7.1"
  }
 },
 "nbformat": 4,
 "nbformat_minor": 2
}
