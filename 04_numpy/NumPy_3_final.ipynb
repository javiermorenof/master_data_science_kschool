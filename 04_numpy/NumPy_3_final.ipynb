{
 "cells": [
  {
   "cell_type": "markdown",
   "metadata": {},
   "source": [
    "# NumPy III"
   ]
  },
  {
   "cell_type": "code",
   "execution_count": 1,
   "metadata": {},
   "outputs": [],
   "source": [
    "import numpy as np"
   ]
  },
  {
   "cell_type": "markdown",
   "metadata": {},
   "source": [
    "## Operaciones matemáticas y estadísticas"
   ]
  },
  {
   "cell_type": "markdown",
   "metadata": {},
   "source": [
    "- `sum` : Suma de elementos.\n",
    "- `mean` : Media aritmética de los elementos.\n",
    "- `median` : Mediana de los elementos.\n",
    "- `std` : Desviación estándar de los elementos.\n",
    "- `var` : Varianza de los elementos.\n",
    "- `min` : Valor mínimo de los elementos.\n",
    "- `max` : Valor máximo de los elementos.\n",
    "- `argmin` : Índice del valor mínimo.\n",
    "- `argmax` : Índice del valor máximo.\n",
    "- `cumsum` : Suma acumulada de los elementos.\n",
    "- `cumprod` : Producto acumulado de los elementos.\n",
    "\n",
    "**Ojo**. Al contrario que las operaciones unitarias que se vieron en el apartado anterior y que debían ser denominadas:\n",
    "```python\n",
    "np.sqrt(array)\n",
    "```\n",
    "\n",
    "Ahora algunas se puede volver a denominar todo en su manera más intuitiva, como por ejemplo:\n",
    "```python\n",
    "array.mean()\n",
    "```\n",
    "\n",
    "Aunque otras como `median` no lo permiten\n",
    "```python\n",
    "np.median(array)\n",
    "```"
   ]
  },
  {
   "cell_type": "code",
   "execution_count": 2,
   "metadata": {},
   "outputs": [],
   "source": [
    "array = np.random.randn(1000)"
   ]
  },
  {
   "cell_type": "code",
   "execution_count": 3,
   "metadata": {},
   "outputs": [
    {
     "data": {
      "text/plain": [
       "0.011731683581133783"
      ]
     },
     "execution_count": 3,
     "metadata": {},
     "output_type": "execute_result"
    }
   ],
   "source": [
    "array.mean()"
   ]
  },
  {
   "cell_type": "code",
   "execution_count": 4,
   "metadata": {},
   "outputs": [
    {
     "data": {
      "text/plain": [
       "0.9819661035319387"
      ]
     },
     "execution_count": 4,
     "metadata": {},
     "output_type": "execute_result"
    }
   ],
   "source": [
    "array.std()"
   ]
  },
  {
   "cell_type": "code",
   "execution_count": 5,
   "metadata": {},
   "outputs": [
    {
     "data": {
      "text/plain": [
       "0.031052494722416397"
      ]
     },
     "execution_count": 5,
     "metadata": {},
     "output_type": "execute_result"
    }
   ],
   "source": [
    "array.std()/np.sqrt(1000)"
   ]
  },
  {
   "cell_type": "code",
   "execution_count": 6,
   "metadata": {},
   "outputs": [
    {
     "ename": "AttributeError",
     "evalue": "'numpy.ndarray' object has no attribute 'median'",
     "output_type": "error",
     "traceback": [
      "\u001b[1;31m---------------------------------------------------------------------------\u001b[0m",
      "\u001b[1;31mAttributeError\u001b[0m                            Traceback (most recent call last)",
      "\u001b[1;32m<ipython-input-6-dbe44f932e76>\u001b[0m in \u001b[0;36m<module>\u001b[1;34m\u001b[0m\n\u001b[1;32m----> 1\u001b[1;33m \u001b[0marray\u001b[0m\u001b[1;33m.\u001b[0m\u001b[0mmedian\u001b[0m\u001b[1;33m(\u001b[0m\u001b[1;33m)\u001b[0m\u001b[1;33m\u001b[0m\u001b[1;33m\u001b[0m\u001b[0m\n\u001b[0m",
      "\u001b[1;31mAttributeError\u001b[0m: 'numpy.ndarray' object has no attribute 'median'"
     ]
    }
   ],
   "source": [
    "array.median()"
   ]
  },
  {
   "cell_type": "code",
   "execution_count": 33,
   "metadata": {},
   "outputs": [
    {
     "data": {
      "text/plain": [
       "0.01591508286507074"
      ]
     },
     "execution_count": 33,
     "metadata": {},
     "output_type": "execute_result"
    }
   ],
   "source": [
    "np.median(array)"
   ]
  },
  {
   "cell_type": "code",
   "execution_count": 34,
   "metadata": {},
   "outputs": [
    {
     "data": {
      "text/plain": [
       "3.103894141352079"
      ]
     },
     "execution_count": 34,
     "metadata": {},
     "output_type": "execute_result"
    }
   ],
   "source": [
    "array.max()"
   ]
  },
  {
   "cell_type": "code",
   "execution_count": 35,
   "metadata": {},
   "outputs": [
    {
     "data": {
      "text/plain": [
       "255"
      ]
     },
     "execution_count": 35,
     "metadata": {},
     "output_type": "execute_result"
    }
   ],
   "source": [
    "array.argmax()"
   ]
  },
  {
   "cell_type": "code",
   "execution_count": 36,
   "metadata": {},
   "outputs": [
    {
     "data": {
      "text/plain": [
       "3.103894141352079"
      ]
     },
     "execution_count": 36,
     "metadata": {},
     "output_type": "execute_result"
    }
   ],
   "source": [
    "array[array.argmax()]"
   ]
  },
  {
   "cell_type": "markdown",
   "metadata": {},
   "source": [
    "- Si el **array es multidmensional**:\n",
    "    - Estas funciones poseen un parámetro `axis` que indica el eje sobre el cual aplicar la operación deseada\n",
    "    - Si no se especifica, se calcula sobre todo el array ignorando su estructura\n",
    "- Por lo general (axis=0 o axis=1), pero si es tridimensional el array, se puede poner (axis=3).\n",
    "    - Sin embargo, como se ha explicado apenas se usan arrays tridimensionales."
   ]
  },
  {
   "cell_type": "markdown",
   "metadata": {},
   "source": [
    "-  Con esto se crea un array de tres dimensiones"
   ]
  },
  {
   "cell_type": "code",
   "execution_count": 7,
   "metadata": {},
   "outputs": [],
   "source": [
    "np.random.normal(1000)\n",
    "array.resize(10,10,10)"
   ]
  },
  {
   "cell_type": "code",
   "execution_count": 8,
   "metadata": {},
   "outputs": [
    {
     "data": {
      "text/plain": [
       "0.011731683581133783"
      ]
     },
     "execution_count": 8,
     "metadata": {},
     "output_type": "execute_result"
    }
   ],
   "source": [
    "array.mean()"
   ]
  },
  {
   "cell_type": "code",
   "execution_count": 9,
   "metadata": {},
   "outputs": [
    {
     "data": {
      "text/plain": [
       "array([[ 0.19141049,  0.16555401, -0.48929031,  0.34764533,  0.11007613,\n",
       "         0.03229787,  0.0041905 , -0.11062929, -0.21677821,  0.2893059 ],\n",
       "       [ 0.31583324, -0.58955396, -0.17185037, -0.09902011, -0.0623398 ,\n",
       "         0.02098077,  0.15058378, -0.11547674,  0.11082046, -0.28532486],\n",
       "       [-0.19075646, -0.28059256, -0.02510136,  0.0734391 ,  0.51323577,\n",
       "        -0.11000221,  0.37274284, -0.01982125,  0.47860018, -0.51669987],\n",
       "       [ 0.26436772, -0.21829634,  0.06651803,  0.15200973,  0.30486824,\n",
       "         0.21352558, -0.16315732, -0.75509944, -0.1640047 ,  0.5252427 ],\n",
       "       [ 0.25088864, -0.54428342, -0.36859352,  0.1450714 , -0.03076667,\n",
       "        -0.51040052, -0.72417245,  0.02284983,  0.57413055, -0.13145019],\n",
       "       [-0.16630588, -0.03637481,  0.0524476 , -0.32949975, -0.17658886,\n",
       "         0.37644215, -0.10495585,  0.20233367,  0.26418098,  0.21110442],\n",
       "       [ 0.0329107 ,  0.27105105, -0.54096766,  0.17530784, -0.05728588,\n",
       "        -0.0410291 ,  0.30169911, -0.03958798, -0.3731396 , -0.44556483],\n",
       "       [ 0.3670377 , -0.15472931,  0.71852488,  0.15198628,  0.22005141,\n",
       "        -0.10767463,  0.15367948,  0.42882183, -0.3066361 ,  0.24986911],\n",
       "       [ 0.55125425,  0.13241507, -0.37494428,  0.32722562,  0.38761664,\n",
       "        -0.00450024, -0.10658791,  0.17920061,  0.00814833,  0.56042707],\n",
       "       [ 0.15305023, -0.33756598, -0.05773119, -0.32321505, -0.50000703,\n",
       "        -0.01382713, -0.16535385,  0.28922595,  0.02922824,  0.33927421]])"
      ]
     },
     "execution_count": 9,
     "metadata": {},
     "output_type": "execute_result"
    }
   ],
   "source": [
    "array.mean(axis=2)"
   ]
  },
  {
   "cell_type": "code",
   "execution_count": 10,
   "metadata": {},
   "outputs": [
    {
     "data": {
      "text/plain": [
       "(10, 10)"
      ]
     },
     "execution_count": 10,
     "metadata": {},
     "output_type": "execute_result"
    }
   ],
   "source": [
    "_.shape"
   ]
  },
  {
   "cell_type": "markdown",
   "metadata": {},
   "source": [
    "## Operaciones booleanas"
   ]
  },
  {
   "cell_type": "markdown",
   "metadata": {},
   "source": [
    "- Se pueden hacer operaciones matemáticas sobre arrays booleanos\n",
    "    - True -> 1\n",
    "    - False -> 0"
   ]
  },
  {
   "cell_type": "code",
   "execution_count": 12,
   "metadata": {
    "jupyter": {
     "outputs_hidden": true
    }
   },
   "outputs": [],
   "source": [
    "bool_array = np.array([False, True, True, False, True])"
   ]
  },
  {
   "cell_type": "code",
   "execution_count": 13,
   "metadata": {
    "jupyter": {
     "outputs_hidden": true
    }
   },
   "outputs": [
    {
     "data": {
      "text/plain": [
       "3"
      ]
     },
     "execution_count": 13,
     "metadata": {},
     "output_type": "execute_result"
    }
   ],
   "source": [
    "bool_array.sum()"
   ]
  },
  {
   "cell_type": "code",
   "execution_count": 14,
   "metadata": {
    "jupyter": {
     "outputs_hidden": true
    }
   },
   "outputs": [
    {
     "data": {
      "text/plain": [
       "False"
      ]
     },
     "execution_count": 14,
     "metadata": {},
     "output_type": "execute_result"
    }
   ],
   "source": [
    "bool_array.all()"
   ]
  },
  {
   "cell_type": "code",
   "execution_count": 15,
   "metadata": {
    "jupyter": {
     "outputs_hidden": true
    }
   },
   "outputs": [
    {
     "data": {
      "text/plain": [
       "True"
      ]
     },
     "execution_count": 15,
     "metadata": {},
     "output_type": "execute_result"
    }
   ],
   "source": [
    "bool_array.any()"
   ]
  },
  {
   "cell_type": "code",
   "execution_count": 16,
   "metadata": {
    "jupyter": {
     "outputs_hidden": true
    }
   },
   "outputs": [
    {
     "data": {
      "text/plain": [
       "array([ True, False, False,  True, False])"
      ]
     },
     "execution_count": 16,
     "metadata": {},
     "output_type": "execute_result"
    }
   ],
   "source": [
    "~(bool_array)"
   ]
  },
  {
   "cell_type": "code",
   "execution_count": 17,
   "metadata": {
    "jupyter": {
     "outputs_hidden": true
    }
   },
   "outputs": [
    {
     "data": {
      "text/plain": [
       "True"
      ]
     },
     "execution_count": 17,
     "metadata": {},
     "output_type": "execute_result"
    }
   ],
   "source": [
    "(~bool_array).any()"
   ]
  },
  {
   "cell_type": "markdown",
   "metadata": {},
   "source": [
    "## Sorting\n",
    "### `np.sort(array)` vs `array.sort()`\n",
    "- `np.sort(array)` no es inplace\n",
    "- `array.sort()` es inplace"
   ]
  },
  {
   "cell_type": "code",
   "execution_count": 19,
   "metadata": {
    "jupyter": {
     "outputs_hidden": true
    }
   },
   "outputs": [
    {
     "data": {
      "text/plain": [
       "array([-0.09588592,  0.29152699, -1.14898265, -0.76815833,  0.97149589,\n",
       "        1.14441219, -0.53633286, -0.98098567, -2.25478251, -1.38405772,\n",
       "        0.33589324, -0.42106756,  3.09498074,  0.07218609, -1.07168369,\n",
       "        0.40030899,  0.05191281, -0.99783773, -0.98893875,  1.14457466,\n",
       "        0.14299004, -0.03757572, -0.3149402 ,  0.86189098, -1.01588578,\n",
       "       -0.74866874, -0.78251329, -0.1080248 ,  1.00547155])"
      ]
     },
     "execution_count": 19,
     "metadata": {},
     "output_type": "execute_result"
    }
   ],
   "source": [
    "array = np.random.randn(29)\n",
    "array"
   ]
  },
  {
   "cell_type": "code",
   "execution_count": 20,
   "metadata": {
    "jupyter": {
     "outputs_hidden": true
    }
   },
   "outputs": [
    {
     "data": {
      "text/plain": [
       "array([-2.25478251, -1.38405772, -1.14898265, -1.07168369, -1.01588578,\n",
       "       -0.99783773, -0.98893875, -0.98098567, -0.78251329, -0.76815833,\n",
       "       -0.74866874, -0.53633286, -0.42106756, -0.3149402 , -0.1080248 ,\n",
       "       -0.09588592, -0.03757572,  0.05191281,  0.07218609,  0.14299004,\n",
       "        0.29152699,  0.33589324,  0.40030899,  0.86189098,  0.97149589,\n",
       "        1.00547155,  1.14441219,  1.14457466,  3.09498074])"
      ]
     },
     "execution_count": 20,
     "metadata": {},
     "output_type": "execute_result"
    }
   ],
   "source": [
    "np.sort(array)"
   ]
  },
  {
   "cell_type": "code",
   "execution_count": 21,
   "metadata": {
    "jupyter": {
     "outputs_hidden": true
    }
   },
   "outputs": [
    {
     "data": {
      "text/plain": [
       "array([-0.09588592,  0.29152699, -1.14898265, -0.76815833,  0.97149589,\n",
       "        1.14441219, -0.53633286, -0.98098567, -2.25478251, -1.38405772,\n",
       "        0.33589324, -0.42106756,  3.09498074,  0.07218609, -1.07168369,\n",
       "        0.40030899,  0.05191281, -0.99783773, -0.98893875,  1.14457466,\n",
       "        0.14299004, -0.03757572, -0.3149402 ,  0.86189098, -1.01588578,\n",
       "       -0.74866874, -0.78251329, -0.1080248 ,  1.00547155])"
      ]
     },
     "execution_count": 21,
     "metadata": {},
     "output_type": "execute_result"
    }
   ],
   "source": [
    "array"
   ]
  },
  {
   "cell_type": "code",
   "execution_count": 24,
   "metadata": {
    "jupyter": {
     "outputs_hidden": true
    }
   },
   "outputs": [
    {
     "data": {
      "text/plain": [
       "array([-2.25478251, -1.38405772, -1.14898265, -1.07168369, -1.01588578,\n",
       "       -0.99783773, -0.98893875, -0.98098567, -0.78251329, -0.76815833,\n",
       "       -0.74866874, -0.53633286, -0.42106756, -0.3149402 , -0.1080248 ,\n",
       "       -0.09588592, -0.03757572,  0.05191281,  0.07218609,  0.14299004,\n",
       "        0.29152699,  0.33589324,  0.40030899,  0.86189098,  0.97149589,\n",
       "        1.00547155,  1.14441219,  1.14457466,  3.09498074])"
      ]
     },
     "execution_count": 24,
     "metadata": {},
     "output_type": "execute_result"
    }
   ],
   "source": [
    "array.sort()\n",
    "array"
   ]
  },
  {
   "cell_type": "markdown",
   "metadata": {},
   "source": [
    "## Operaciones de conjuntos"
   ]
  },
  {
   "cell_type": "markdown",
   "metadata": {},
   "source": [
    "- `unique` : Elementos únicos\n",
    "- `intersect1d` : Intersección de dos arrays\n",
    "- `union1d` : Unión de dos arrays\n",
    "- `in1d` : Array booleano que indica si cada elemento del primer array está contenido en el segundo.\n",
    "- `setdiff1d` : Diferencia entre ambos conjuntos.\n",
    "- `setxor1d` : Diferencia simétrica entre ambos conjuntos."
   ]
  },
  {
   "cell_type": "code",
   "execution_count": 25,
   "metadata": {},
   "outputs": [],
   "source": [
    "a = np.array(['python', 'R', 'C#', 'C++', 'R'])\n",
    "b = np.array(['java', 'javascript', 'python', 'R'])"
   ]
  },
  {
   "cell_type": "code",
   "execution_count": 26,
   "metadata": {},
   "outputs": [
    {
     "ename": "AttributeError",
     "evalue": "'numpy.ndarray' object has no attribute 'unique'",
     "output_type": "error",
     "traceback": [
      "\u001b[1;31m---------------------------------------------------------------------------\u001b[0m",
      "\u001b[1;31mAttributeError\u001b[0m                            Traceback (most recent call last)",
      "\u001b[1;32m<ipython-input-26-253e50a38e51>\u001b[0m in \u001b[0;36m<module>\u001b[1;34m\u001b[0m\n\u001b[1;32m----> 1\u001b[1;33m \u001b[0ma\u001b[0m\u001b[1;33m.\u001b[0m\u001b[0munique\u001b[0m\u001b[1;33m(\u001b[0m\u001b[1;33m)\u001b[0m\u001b[1;33m\u001b[0m\u001b[1;33m\u001b[0m\u001b[0m\n\u001b[0m",
      "\u001b[1;31mAttributeError\u001b[0m: 'numpy.ndarray' object has no attribute 'unique'"
     ]
    }
   ],
   "source": [
    "a.unique()"
   ]
  },
  {
   "cell_type": "code",
   "execution_count": 27,
   "metadata": {},
   "outputs": [
    {
     "data": {
      "text/plain": [
       "array(['C#', 'C++', 'R', 'python'], dtype='<U6')"
      ]
     },
     "execution_count": 27,
     "metadata": {},
     "output_type": "execute_result"
    }
   ],
   "source": [
    "np.unique(a)"
   ]
  },
  {
   "cell_type": "code",
   "execution_count": 29,
   "metadata": {},
   "outputs": [
    {
     "data": {
      "text/plain": [
       "array(['C#', 'C++', 'R', 'java', 'javascript', 'python'], dtype='<U10')"
      ]
     },
     "execution_count": 29,
     "metadata": {},
     "output_type": "execute_result"
    }
   ],
   "source": [
    "np.union1d(a, b)"
   ]
  },
  {
   "cell_type": "code",
   "execution_count": 30,
   "metadata": {},
   "outputs": [
    {
     "data": {
      "text/plain": [
       "array(['R', 'python'], dtype='<U10')"
      ]
     },
     "execution_count": 30,
     "metadata": {},
     "output_type": "execute_result"
    }
   ],
   "source": [
    "np.intersect1d(a, b)"
   ]
  },
  {
   "cell_type": "code",
   "execution_count": 31,
   "metadata": {},
   "outputs": [
    {
     "data": {
      "text/plain": [
       "array([ True,  True, False, False])"
      ]
     },
     "execution_count": 31,
     "metadata": {},
     "output_type": "execute_result"
    }
   ],
   "source": [
    "np.in1d(a, b)"
   ]
  },
  {
   "cell_type": "markdown",
   "metadata": {},
   "source": [
    "## Operaciones de cálculo matricial"
   ]
  },
  {
   "cell_type": "markdown",
   "metadata": {},
   "source": [
    "A través del módulo `linalg` podemos acceder a multitud de funciones de álgebra lineal (cálculo matricial)\n",
    "\n",
    "- `diag` : Recupera la diagonal principal de una matriz.\n",
    "- `dot` : Realiza el producto matricial de dos matrices.\n",
    "- `trace` : Calcula la traza de una matriz.\n",
    "- `det` : Calcula el determinante de una matriz.\n",
    "- `eig` : Calcula los autovalores y autovectores de una matriz.\n",
    "- `inv` : Calcula la inversa de una matriz.\n",
    "- `qr` : Calcula la descomposición QR de una matriz.\n",
    "- `svd` : Calcula la descomposición de valores singulares (Singular Value Decomposition) de una matriz.\n",
    "- `solve` : Calcula el resultado del sistema lineal Ax = B donde A y B son las matrices de entrada y x la salida.\n",
    "- `lstsq` : Calcula la solución de mínimos cuadrados a y = Xb, donde y y b son los parámetros de entrada y X la salida."
   ]
  },
  {
   "cell_type": "code",
   "execution_count": 30,
   "metadata": {},
   "outputs": [],
   "source": [
    "X = np.random.normal(loc=5, size=6).reshape(2,3)\n",
    "Y = np.random.normal(loc=5, size=6).reshape(3,2)"
   ]
  },
  {
   "cell_type": "code",
   "execution_count": 31,
   "metadata": {
    "jupyter": {
     "outputs_hidden": true
    }
   },
   "outputs": [],
   "source": [
    "X = np.random.randint(20, size=12).reshape(3,4)\n",
    "Y = np.random.randint(20, size=12).reshape(4,3)"
   ]
  },
  {
   "cell_type": "code",
   "execution_count": 32,
   "metadata": {
    "jupyter": {
     "outputs_hidden": true
    }
   },
   "outputs": [
    {
     "data": {
      "text/plain": [
       "array([[13, 13, 15, 11],\n",
       "       [14,  9,  1, 17],\n",
       "       [ 8, 12, 15, 16]])"
      ]
     },
     "execution_count": 32,
     "metadata": {},
     "output_type": "execute_result"
    }
   ],
   "source": [
    "X"
   ]
  },
  {
   "cell_type": "code",
   "execution_count": 33,
   "metadata": {
    "jupyter": {
     "outputs_hidden": true
    }
   },
   "outputs": [
    {
     "data": {
      "text/plain": [
       "array([[ 8, 10, 11],\n",
       "       [ 1, 13,  3],\n",
       "       [ 1,  0,  8],\n",
       "       [16, 14,  4]])"
      ]
     },
     "execution_count": 33,
     "metadata": {},
     "output_type": "execute_result"
    }
   ],
   "source": [
    "Y"
   ]
  },
  {
   "cell_type": "code",
   "execution_count": 34,
   "metadata": {},
   "outputs": [
    {
     "ename": "ValueError",
     "evalue": "operands could not be broadcast together with shapes (3,4) (4,3) ",
     "output_type": "error",
     "traceback": [
      "\u001b[1;31m---------------------------------------------------------------------------\u001b[0m",
      "\u001b[1;31mValueError\u001b[0m                                Traceback (most recent call last)",
      "\u001b[1;32m<ipython-input-34-c6c375f45737>\u001b[0m in \u001b[0;36m<module>\u001b[1;34m\u001b[0m\n\u001b[1;32m----> 1\u001b[1;33m \u001b[0mX\u001b[0m \u001b[1;33m*\u001b[0m \u001b[0mY\u001b[0m\u001b[1;33m\u001b[0m\u001b[1;33m\u001b[0m\u001b[0m\n\u001b[0m",
      "\u001b[1;31mValueError\u001b[0m: operands could not be broadcast together with shapes (3,4) (4,3) "
     ]
    }
   ],
   "source": [
    "X * Y"
   ]
  },
  {
   "cell_type": "code",
   "execution_count": 35,
   "metadata": {
    "jupyter": {
     "outputs_hidden": true
    }
   },
   "outputs": [
    {
     "data": {
      "text/plain": [
       "(3, 4)"
      ]
     },
     "execution_count": 35,
     "metadata": {},
     "output_type": "execute_result"
    }
   ],
   "source": [
    "X.shape"
   ]
  },
  {
   "cell_type": "code",
   "execution_count": 36,
   "metadata": {
    "jupyter": {
     "outputs_hidden": true
    }
   },
   "outputs": [
    {
     "data": {
      "text/plain": [
       "(4, 3)"
      ]
     },
     "execution_count": 36,
     "metadata": {},
     "output_type": "execute_result"
    }
   ],
   "source": [
    "Y.shape"
   ]
  },
  {
   "cell_type": "code",
   "execution_count": 37,
   "metadata": {
    "jupyter": {
     "outputs_hidden": true
    }
   },
   "outputs": [
    {
     "data": {
      "text/plain": [
       "array([[308, 453, 346],\n",
       "       [394, 495, 257],\n",
       "       [347, 460, 308]])"
      ]
     },
     "execution_count": 37,
     "metadata": {},
     "output_type": "execute_result"
    }
   ],
   "source": [
    "X.dot(Y)"
   ]
  },
  {
   "cell_type": "code",
   "execution_count": 38,
   "metadata": {
    "jupyter": {
     "outputs_hidden": true
    }
   },
   "outputs": [
    {
     "data": {
      "text/plain": [
       "array([[332, 326, 295, 434],\n",
       "       [219, 166,  73, 280],\n",
       "       [ 77, 109, 135, 139],\n",
       "       [436, 382, 314, 478]])"
      ]
     },
     "execution_count": 38,
     "metadata": {},
     "output_type": "execute_result"
    }
   ],
   "source": [
    "np.dot(Y, X)"
   ]
  },
  {
   "cell_type": "markdown",
   "metadata": {},
   "source": [
    "Se puede abriar con la arroba `@`"
   ]
  },
  {
   "cell_type": "code",
   "execution_count": 39,
   "metadata": {
    "jupyter": {
     "outputs_hidden": true
    }
   },
   "outputs": [
    {
     "data": {
      "text/plain": [
       "array([[308, 453, 346],\n",
       "       [394, 495, 257],\n",
       "       [347, 460, 308]])"
      ]
     },
     "execution_count": 39,
     "metadata": {},
     "output_type": "execute_result"
    }
   ],
   "source": [
    "X @ Y"
   ]
  },
  {
   "cell_type": "code",
   "execution_count": 40,
   "metadata": {
    "jupyter": {
     "outputs_hidden": true
    }
   },
   "outputs": [
    {
     "data": {
      "text/plain": [
       "array([[332, 326, 295, 434],\n",
       "       [219, 166,  73, 280],\n",
       "       [ 77, 109, 135, 139],\n",
       "       [436, 382, 314, 478]])"
      ]
     },
     "execution_count": 40,
     "metadata": {},
     "output_type": "execute_result"
    }
   ],
   "source": [
    "Y @ X"
   ]
  },
  {
   "cell_type": "code",
   "execution_count": 41,
   "metadata": {
    "jupyter": {
     "outputs_hidden": true
    }
   },
   "outputs": [
    {
     "data": {
      "text/plain": [
       "array([[1.23133921, 0.29417309, 0.80665676],\n",
       "       [0.29417309, 2.27284522, 1.63594894],\n",
       "       [0.80665676, 1.63594894, 1.860338  ]])"
      ]
     },
     "execution_count": 41,
     "metadata": {},
     "output_type": "execute_result"
    }
   ],
   "source": [
    "M = np.random.normal(size=9).reshape(3, 3)\n",
    "S = M.T @ M\n",
    "S"
   ]
  },
  {
   "cell_type": "code",
   "execution_count": 42,
   "metadata": {
    "jupyter": {
     "outputs_hidden": true
    }
   },
   "outputs": [
    {
     "ename": "ModuleNotFoundError",
     "evalue": "No module named 'np'",
     "output_type": "error",
     "traceback": [
      "\u001b[1;31m---------------------------------------------------------------------------\u001b[0m",
      "\u001b[1;31mModuleNotFoundError\u001b[0m                       Traceback (most recent call last)",
      "\u001b[1;32m<ipython-input-42-6a0c28b455ce>\u001b[0m in \u001b[0;36m<module>\u001b[1;34m\u001b[0m\n\u001b[1;32m----> 1\u001b[1;33m \u001b[1;32mfrom\u001b[0m \u001b[0mnp\u001b[0m\u001b[1;33m.\u001b[0m\u001b[0mlinalg\u001b[0m \u001b[1;32mimport\u001b[0m \u001b[0minv\u001b[0m\u001b[1;33m\u001b[0m\u001b[1;33m\u001b[0m\u001b[0m\n\u001b[0m",
      "\u001b[1;31mModuleNotFoundError\u001b[0m: No module named 'np'"
     ]
    }
   ],
   "source": [
    "from np.linalg import inv"
   ]
  },
  {
   "cell_type": "code",
   "execution_count": 43,
   "metadata": {
    "jupyter": {
     "outputs_hidden": true
    }
   },
   "outputs": [],
   "source": [
    "from numpy.linalg import inv, det, eig"
   ]
  },
  {
   "cell_type": "code",
   "execution_count": 44,
   "metadata": {
    "jupyter": {
     "outputs_hidden": true
    }
   },
   "outputs": [
    {
     "data": {
      "text/plain": [
       "array([[1.23133921, 0.29417309, 0.80665676],\n",
       "       [0.29417309, 2.27284522, 1.63594894],\n",
       "       [0.80665676, 1.63594894, 1.860338  ]])"
      ]
     },
     "execution_count": 44,
     "metadata": {},
     "output_type": "execute_result"
    }
   ],
   "source": [
    "S"
   ]
  },
  {
   "cell_type": "code",
   "execution_count": 45,
   "metadata": {
    "jupyter": {
     "outputs_hidden": true
    }
   },
   "outputs": [
    {
     "data": {
      "text/plain": [
       "1.0474457058694"
      ]
     },
     "execution_count": 45,
     "metadata": {},
     "output_type": "execute_result"
    }
   ],
   "source": [
    "det(S)"
   ]
  },
  {
   "cell_type": "code",
   "execution_count": 46,
   "metadata": {
    "jupyter": {
     "outputs_hidden": true
    }
   },
   "outputs": [
    {
     "data": {
      "text/plain": [
       "(array([3.93005842, 1.21512766, 0.21933635]),\n",
       " array([[-0.27350994, -0.8587877 , -0.43321589],\n",
       "        [-0.69989122,  0.48663826, -0.52281496],\n",
       "        [-0.65980648, -0.16020891,  0.73415837]]))"
      ]
     },
     "execution_count": 46,
     "metadata": {},
     "output_type": "execute_result"
    }
   ],
   "source": [
    "eig(S)"
   ]
  },
  {
   "cell_type": "code",
   "execution_count": 47,
   "metadata": {
    "jupyter": {
     "outputs_hidden": true
    }
   },
   "outputs": [
    {
     "data": {
      "text/plain": [
       "5.364522430405114"
      ]
     },
     "execution_count": 47,
     "metadata": {},
     "output_type": "execute_result"
    }
   ],
   "source": [
    "eig(S)[0].sum()"
   ]
  },
  {
   "cell_type": "code",
   "execution_count": 48,
   "metadata": {
    "jupyter": {
     "outputs_hidden": true
    }
   },
   "outputs": [
    {
     "data": {
      "text/plain": [
       "5.364522430405112"
      ]
     },
     "execution_count": 48,
     "metadata": {},
     "output_type": "execute_result"
    }
   ],
   "source": [
    "S.trace()"
   ]
  },
  {
   "cell_type": "code",
   "execution_count": 49,
   "metadata": {
    "jupyter": {
     "outputs_hidden": true
    }
   },
   "outputs": [
    {
     "data": {
      "text/plain": [
       "1.0474457058693998"
      ]
     },
     "execution_count": 49,
     "metadata": {},
     "output_type": "execute_result"
    }
   ],
   "source": [
    "eig(S)[0].prod()"
   ]
  },
  {
   "cell_type": "code",
   "execution_count": 50,
   "metadata": {
    "jupyter": {
     "outputs_hidden": true
    }
   },
   "outputs": [
    {
     "data": {
      "text/plain": [
       "1.0474457058694"
      ]
     },
     "execution_count": 50,
     "metadata": {},
     "output_type": "execute_result"
    }
   ],
   "source": [
    "det(S)"
   ]
  },
  {
   "cell_type": "code",
   "execution_count": 51,
   "metadata": {
    "jupyter": {
     "outputs_hidden": true
    }
   },
   "outputs": [
    {
     "data": {
      "text/plain": [
       "array([[ 1.48163421,  0.73740136, -1.29090586],\n",
       "       [ 0.73740136,  1.56572507, -1.6966143 ],\n",
       "       [-1.29090586, -1.6966143 ,  2.58925653]])"
      ]
     },
     "execution_count": 51,
     "metadata": {},
     "output_type": "execute_result"
    }
   ],
   "source": [
    "inv(S)"
   ]
  },
  {
   "cell_type": "code",
   "execution_count": 52,
   "metadata": {
    "jupyter": {
     "outputs_hidden": true
    }
   },
   "outputs": [
    {
     "data": {
      "text/plain": [
       "array([[ 1.00000000e+00, -4.09549798e-17,  1.43158719e-16],\n",
       "       [-6.45504826e-16,  1.00000000e+00,  5.90380304e-16],\n",
       "       [-3.89797082e-16, -5.85320983e-16,  1.00000000e+00]])"
      ]
     },
     "execution_count": 52,
     "metadata": {},
     "output_type": "execute_result"
    }
   ],
   "source": [
    "np.dot(S, inv(S))"
   ]
  },
  {
   "cell_type": "code",
   "execution_count": 53,
   "metadata": {
    "jupyter": {
     "outputs_hidden": true
    }
   },
   "outputs": [
    {
     "data": {
      "text/plain": [
       "array([[ 1., -0.,  0.],\n",
       "       [-0.,  1.,  0.],\n",
       "       [-0., -0.,  1.]])"
      ]
     },
     "execution_count": 53,
     "metadata": {},
     "output_type": "execute_result"
    }
   ],
   "source": [
    "_.round()"
   ]
  },
  {
   "cell_type": "markdown",
   "metadata": {},
   "source": [
    "## Funciones financieras"
   ]
  },
  {
   "cell_type": "markdown",
   "metadata": {},
   "source": [
    "|Función|Descripcción|\n",
    "|----|---|\n",
    "|`fv(rate, nper, pmt, pv[, when])`|Calcula el valor futuro.|\n",
    "|`pv(rate, nper, pmt[, fv, when])`|Calcula el valor presente.|\n",
    "|`npv(rate, values)`|NPV (Net Present Value) de una serie de flujo de cajas.|\n",
    "|`pmt(rate, nper, pv[, fv, when])`|Calcula el pago total, principal y intéres.|\n",
    "|`ppmt(rate, per, nper, pv[, fv, when])`|Calcula el pago contra el principal.|\n",
    "|`ipmt(rate, per, nper, pv[, fv, when])`|Calcula la proporción del interés del pago.|\n",
    "|`irr(values)`|Internal Rate of Return (IRR).|\n",
    "|`mirr(values, finance_rate, reinvest_rate)`| Internal Rate of Return (IRR) Modificada.|\n",
    "|`nper(rate, pmt, pv[, fv, when])`|Calcula el número de pagos periodicos|\n",
    "|`rate(nper, pmt, pv, fv[, when, guess, tol, …])`|Calcula la tasa de interes por periodo.|\n"
   ]
  },
  {
   "cell_type": "markdown",
   "metadata": {},
   "source": [
    "## Exportar arrays con NumPy"
   ]
  },
  {
   "cell_type": "markdown",
   "metadata": {},
   "source": [
    "- Podemos usar funciones propias de NumPy para leer y escribir ficheros\n",
    "    - `np.save()` -> En binario\n",
    "    - `np.savez()` -> Varios arrays en binario\n",
    "    - `np.savez_compressed()` -> Varios arrays comprimidos\n",
    "    - `np.savetxt()` -> Texto plano\n",
    "    - `np.load()` -> Cargar fichero    "
   ]
  },
  {
   "cell_type": "code",
   "execution_count": 54,
   "metadata": {
    "jupyter": {
     "outputs_hidden": true
    }
   },
   "outputs": [],
   "source": [
    "array = np.random.randn(1000)"
   ]
  },
  {
   "cell_type": "code",
   "execution_count": 56,
   "metadata": {
    "jupyter": {
     "outputs_hidden": true
    }
   },
   "outputs": [],
   "source": [
    "np.save('data.npy', array)"
   ]
  },
  {
   "cell_type": "code",
   "execution_count": 57,
   "metadata": {
    "jupyter": {
     "outputs_hidden": true
    }
   },
   "outputs": [],
   "source": [
    "array_load = np.load('data.npy')"
   ]
  },
  {
   "cell_type": "code",
   "execution_count": 58,
   "metadata": {
    "jupyter": {
     "outputs_hidden": true
    }
   },
   "outputs": [
    {
     "data": {
      "text/plain": [
       "True"
      ]
     },
     "execution_count": 58,
     "metadata": {},
     "output_type": "execute_result"
    }
   ],
   "source": [
    "(array == array_load).all()"
   ]
  },
  {
   "cell_type": "markdown",
   "metadata": {},
   "source": [
    "- Si queremos guardar varios arrays en el mismo fichero"
   ]
  },
  {
   "cell_type": "code",
   "execution_count": 63,
   "metadata": {
    "jupyter": {
     "outputs_hidden": true
    }
   },
   "outputs": [],
   "source": [
    "a = np.random.randint(100, size=10)\n",
    "b = np.random.randn(10)"
   ]
  },
  {
   "cell_type": "code",
   "execution_count": 64,
   "metadata": {
    "jupyter": {
     "outputs_hidden": true
    }
   },
   "outputs": [],
   "source": [
    "np.savez('data.npz', a1=a, a2=b)"
   ]
  },
  {
   "cell_type": "code",
   "execution_count": 65,
   "metadata": {
    "jupyter": {
     "outputs_hidden": true
    }
   },
   "outputs": [],
   "source": [
    "ab = np.load('data.npz')"
   ]
  },
  {
   "cell_type": "code",
   "execution_count": 67,
   "metadata": {},
   "outputs": [
    {
     "data": {
      "text/plain": [
       "['a1', 'a2']"
      ]
     },
     "execution_count": 67,
     "metadata": {},
     "output_type": "execute_result"
    }
   ],
   "source": [
    "list(ab.keys())"
   ]
  },
  {
   "cell_type": "code",
   "execution_count": 71,
   "metadata": {},
   "outputs": [
    {
     "data": {
      "text/plain": [
       "array([54, 55, 98, 65, 64, 53, 49, 44, 92,  2])"
      ]
     },
     "execution_count": 71,
     "metadata": {},
     "output_type": "execute_result"
    }
   ],
   "source": [
    "ab[\"a1\"]"
   ]
  },
  {
   "cell_type": "code",
   "execution_count": 72,
   "metadata": {},
   "outputs": [
    {
     "data": {
      "text/plain": [
       "array([-0.87873257,  1.11657387,  0.69093284, -2.52963358,  1.48766482,\n",
       "       -2.27960579,  0.62225435, -1.37675454,  1.07365899,  0.20108733])"
      ]
     },
     "execution_count": 72,
     "metadata": {},
     "output_type": "execute_result"
    }
   ],
   "source": [
    "ab[\"a2\"]"
   ]
  },
  {
   "cell_type": "markdown",
   "metadata": {},
   "source": [
    "- Compresión de archivos"
   ]
  },
  {
   "cell_type": "code",
   "execution_count": 73,
   "metadata": {
    "jupyter": {
     "outputs_hidden": true
    }
   },
   "outputs": [],
   "source": [
    "np.savez_compressed('data_com.npz', a1=a, a2=b)"
   ]
  },
  {
   "cell_type": "markdown",
   "metadata": {},
   "source": [
    "- Texto plano"
   ]
  },
  {
   "cell_type": "code",
   "execution_count": 71,
   "metadata": {
    "collapsed": true,
    "jupyter": {
     "outputs_hidden": true
    }
   },
   "outputs": [],
   "source": [
    "np.savetxt('data.txt', array)"
   ]
  },
  {
   "cell_type": "code",
   "execution_count": 72,
   "metadata": {
    "collapsed": true,
    "jupyter": {
     "outputs_hidden": true
    }
   },
   "outputs": [],
   "source": [
    "np.savetxt('ata.txt', array, fmt='%.2f')"
   ]
  }
 ],
 "metadata": {
  "kernelspec": {
   "display_name": "Python 3",
   "language": "python",
   "name": "python3"
  },
  "language_info": {
   "codemirror_mode": {
    "name": "ipython",
    "version": 3
   },
   "file_extension": ".py",
   "mimetype": "text/x-python",
   "name": "python",
   "nbconvert_exporter": "python",
   "pygments_lexer": "ipython3",
   "version": "3.7.4"
  }
 },
 "nbformat": 4,
 "nbformat_minor": 4
}
