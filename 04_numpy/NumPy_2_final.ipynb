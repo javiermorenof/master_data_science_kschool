{
 "cells": [
  {
   "cell_type": "markdown",
   "metadata": {},
   "source": [
    "# NumPy II"
   ]
  },
  {
   "cell_type": "code",
   "execution_count": 1,
   "metadata": {},
   "outputs": [],
   "source": [
    "import numpy as np"
   ]
  },
  {
   "cell_type": "markdown",
   "metadata": {},
   "source": [
    "## Concatenación de arrays"
   ]
  },
  {
   "cell_type": "markdown",
   "metadata": {},
   "source": [
    "- Podemos concatenar arrays de dos formas:\n",
    "    - **`hstack`** ---> En horizonal o en columnas\n",
    "    - **`vstack`** ---> En vertical o en filas"
   ]
  },
  {
   "cell_type": "code",
   "execution_count": 2,
   "metadata": {},
   "outputs": [
    {
     "data": {
      "text/plain": [
       "array([[ 0,  1,  2],\n",
       "       [ 3,  4,  5],\n",
       "       [ 6,  7,  8],\n",
       "       [ 9, 10, 11]])"
      ]
     },
     "execution_count": 2,
     "metadata": {},
     "output_type": "execute_result"
    }
   ],
   "source": [
    "array_1 = np.arange(12).reshape(4,3)\n",
    "array_1"
   ]
  },
  {
   "cell_type": "code",
   "execution_count": 3,
   "metadata": {},
   "outputs": [
    {
     "data": {
      "text/plain": [
       "array([[0],\n",
       "       [1],\n",
       "       [2],\n",
       "       [3]])"
      ]
     },
     "execution_count": 3,
     "metadata": {},
     "output_type": "execute_result"
    }
   ],
   "source": [
    "array_2 = np.arange(4).reshape(4,1)\n",
    "array_2"
   ]
  },
  {
   "cell_type": "code",
   "execution_count": 4,
   "metadata": {},
   "outputs": [
    {
     "data": {
      "text/plain": [
       "array([[ 0,  1,  2,  0],\n",
       "       [ 3,  4,  5,  1],\n",
       "       [ 6,  7,  8,  2],\n",
       "       [ 9, 10, 11,  3]])"
      ]
     },
     "execution_count": 4,
     "metadata": {},
     "output_type": "execute_result"
    }
   ],
   "source": [
    "array_3 = np.hstack((array_1, array_2))\n",
    "array_3"
   ]
  },
  {
   "cell_type": "code",
   "execution_count": 5,
   "metadata": {},
   "outputs": [
    {
     "data": {
      "text/plain": [
       "array([[ 0,  1,  2,  0],\n",
       "       [ 3,  4,  5,  1],\n",
       "       [ 6,  7,  8,  2],\n",
       "       [ 9, 10, 11,  3],\n",
       "       [ 0,  1,  2,  3]])"
      ]
     },
     "execution_count": 5,
     "metadata": {},
     "output_type": "execute_result"
    }
   ],
   "source": [
    "np.vstack((array_3, array_2.T))"
   ]
  },
  {
   "cell_type": "markdown",
   "metadata": {},
   "source": [
    "## División de arrays"
   ]
  },
  {
   "cell_type": "markdown",
   "metadata": {},
   "source": [
    "- Tenemos tres formas diferentes:\n",
    "    - **`hsplit`** -> Por columna\n",
    "    - **`vsplit`** -> Por fila\n",
    "    - **`split`** -> No simétrica. Sus opciones son:\n",
    "        - `array`. Seleccion de array a cortar\n",
    "        - `patrón`. Patrón de corte\n",
    "        - `axis`. Axis=0 equivale a corte por filas; axis=1 equivale a corte por columnas"
   ]
  },
  {
   "cell_type": "code",
   "execution_count": 6,
   "metadata": {},
   "outputs": [
    {
     "data": {
      "text/plain": [
       "array([[ 0,  1,  2,  3],\n",
       "       [ 4,  5,  6,  7],\n",
       "       [ 8,  9, 10, 11],\n",
       "       [12, 13, 14, 15],\n",
       "       [16, 17, 18, 19],\n",
       "       [20, 21, 22, 23]])"
      ]
     },
     "execution_count": 6,
     "metadata": {},
     "output_type": "execute_result"
    }
   ],
   "source": [
    "array = np.arange(24).reshape(6, 4)\n",
    "array"
   ]
  },
  {
   "cell_type": "code",
   "execution_count": 11,
   "metadata": {},
   "outputs": [
    {
     "data": {
      "text/plain": [
       "[array([[ 0,  1],\n",
       "        [ 4,  5],\n",
       "        [ 8,  9],\n",
       "        [12, 13],\n",
       "        [16, 17],\n",
       "        [20, 21]]), array([[ 2,  3],\n",
       "        [ 6,  7],\n",
       "        [10, 11],\n",
       "        [14, 15],\n",
       "        [18, 19],\n",
       "        [22, 23]])]"
      ]
     },
     "execution_count": 11,
     "metadata": {},
     "output_type": "execute_result"
    }
   ],
   "source": [
    "np.hsplit(array, 2)"
   ]
  },
  {
   "cell_type": "markdown",
   "metadata": {},
   "source": [
    "- Se pueden seleccionar uno de los arrays de split"
   ]
  },
  {
   "cell_type": "code",
   "execution_count": 15,
   "metadata": {},
   "outputs": [
    {
     "data": {
      "text/plain": [
       "array([[ 2,  3],\n",
       "       [ 6,  7],\n",
       "       [10, 11],\n",
       "       [14, 15],\n",
       "       [18, 19],\n",
       "       [22, 23]])"
      ]
     },
     "execution_count": 15,
     "metadata": {},
     "output_type": "execute_result"
    }
   ],
   "source": [
    "np.hsplit(array, 2)[1]"
   ]
  },
  {
   "cell_type": "code",
   "execution_count": 16,
   "metadata": {},
   "outputs": [
    {
     "data": {
      "text/plain": [
       "[array([[ 0,  1,  2,  3],\n",
       "        [ 4,  5,  6,  7],\n",
       "        [ 8,  9, 10, 11]]), array([[12, 13, 14, 15],\n",
       "        [16, 17, 18, 19],\n",
       "        [20, 21, 22, 23]])]"
      ]
     },
     "execution_count": 16,
     "metadata": {},
     "output_type": "execute_result"
    }
   ],
   "source": [
    "np.vsplit(array, 2)"
   ]
  },
  {
   "cell_type": "code",
   "execution_count": null,
   "metadata": {},
   "outputs": [],
   "source": [
    "np.split"
   ]
  },
  {
   "cell_type": "code",
   "execution_count": 17,
   "metadata": {},
   "outputs": [
    {
     "data": {
      "text/plain": [
       "[array([[ 0],\n",
       "        [ 4],\n",
       "        [ 8],\n",
       "        [12],\n",
       "        [16],\n",
       "        [20]]), array([[ 1,  2],\n",
       "        [ 5,  6],\n",
       "        [ 9, 10],\n",
       "        [13, 14],\n",
       "        [17, 18],\n",
       "        [21, 22]]), array([[ 3],\n",
       "        [ 7],\n",
       "        [11],\n",
       "        [15],\n",
       "        [19],\n",
       "        [23]])]"
      ]
     },
     "execution_count": 17,
     "metadata": {},
     "output_type": "execute_result"
    }
   ],
   "source": [
    "np.split(array, [1, 3], axis=1)"
   ]
  },
  {
   "cell_type": "markdown",
   "metadata": {},
   "source": [
    "## Universal functions (element-wise)"
   ]
  },
  {
   "cell_type": "markdown",
   "metadata": {},
   "source": [
    "- También se conocen como **ufunc**. Esto es importante porque a veces en el error sale **ufunc**.\n",
    "- Numpy está escrito en C, por eso es tan rápido. Por lo que hay funciones que no vamos a poder ver en detalle su funcionamiento.\n",
    "- Operaciones elemento a lemento (**element-wise**)\n",
    "- En función del número de parámetros existen dos tipos:\n",
    "    - Unarias -> Único ndarray\n",
    "    - Binarias -> Dos ndarrays"
   ]
  },
  {
   "cell_type": "markdown",
   "metadata": {},
   "source": [
    "### Funciones unarias"
   ]
  },
  {
   "cell_type": "markdown",
   "metadata": {},
   "source": [
    "Se deben destacar:\n",
    "- `abs`, `fabs` : Valor absoluto. \n",
    "- `sqrt` : Raíz cuadrada (equivalente a array \\*\\* 0.5). \n",
    "- `square` : Potencia al cuadrado (equivalente a array ** 2). \n",
    "- `exp` : Potencia de e. \n",
    "- `log, log10, log2, log1p` : Logaritmos en distintas bases. \n",
    "- `sign` : Signo (+ = 1 / - = -1 / 0 = 0). \n",
    "- `ceil` : Techo. Es el redondeo hacia arriba.\n",
    "- `floor` : Suelo. Es el redondeo a la baja.\n",
    "- `rint` : Redondeo al entero más cercano. \n",
    "- `modf` : Devuelve dos arrays uno con la parte fraccionaria y otro con la parte entera. \n",
    "- `isnan` : Devuelve un array booleano indicando si el valor es NaN o no. \n",
    "- `isfinite, isinf` : Devuelve un array booleano indicando si el valor es finito o no. \n",
    "- `cos, cosh, sin, sinh, tan, tanh` : Funciones trigonométricas. \n",
    "- `arccos, arccosh, arcsin, arcsinh, arctan, arctanh` : Funciones trigonométricas inversas. \n",
    "- `logical_not` : Inverso booleano de todos los valores del - array (equivalente a ~(array)). \n",
    "\n",
    "**OJO** a su forma de mencionarlas. Aunque puede parecer lógico que se deben nombrar así, siguiendo el patrón estudiado:\n",
    "```python\n",
    "array.sqrt()\n",
    "```\n",
    "\n",
    "Esto no sedevolvería un error.\n",
    "\n",
    "Su manera de mencionar es:\n",
    "```python\n",
    "np.sqrt(array)\n",
    "```"
   ]
  },
  {
   "cell_type": "code",
   "execution_count": 12,
   "metadata": {},
   "outputs": [],
   "source": [
    "array = np.arange(15)"
   ]
  },
  {
   "cell_type": "code",
   "execution_count": 13,
   "metadata": {},
   "outputs": [
    {
     "data": {
      "text/plain": [
       "array([0.        , 1.        , 1.41421356, 1.73205081, 2.        ,\n",
       "       2.23606798, 2.44948974, 2.64575131, 2.82842712, 3.        ,\n",
       "       3.16227766, 3.31662479, 3.46410162, 3.60555128, 3.74165739])"
      ]
     },
     "execution_count": 13,
     "metadata": {},
     "output_type": "execute_result"
    }
   ],
   "source": [
    "np.sqrt(array)"
   ]
  },
  {
   "cell_type": "code",
   "execution_count": 14,
   "metadata": {},
   "outputs": [
    {
     "data": {
      "text/plain": [
       "array([1.00000000e+00, 2.71828183e+00, 7.38905610e+00, 2.00855369e+01,\n",
       "       5.45981500e+01, 1.48413159e+02, 4.03428793e+02, 1.09663316e+03,\n",
       "       2.98095799e+03, 8.10308393e+03, 2.20264658e+04, 5.98741417e+04,\n",
       "       1.62754791e+05, 4.42413392e+05, 1.20260428e+06])"
      ]
     },
     "execution_count": 14,
     "metadata": {},
     "output_type": "execute_result"
    }
   ],
   "source": [
    "np.exp(array)"
   ]
  },
  {
   "cell_type": "code",
   "execution_count": 15,
   "metadata": {},
   "outputs": [
    {
     "data": {
      "text/plain": [
       "array([-0.20548522,  1.30737883, -0.93174646,  0.99006449, -0.10526833,\n",
       "       -0.08638863, -0.10244297,  0.24297532,  0.30763969,  1.4954374 ,\n",
       "        1.07042792, -1.96957438, -0.4304104 , -1.16090036, -2.06412984])"
      ]
     },
     "execution_count": 15,
     "metadata": {},
     "output_type": "execute_result"
    }
   ],
   "source": [
    "array = np.random.normal(size=15)\n",
    "array"
   ]
  },
  {
   "cell_type": "code",
   "execution_count": 16,
   "metadata": {},
   "outputs": [
    {
     "data": {
      "text/plain": [
       "array([-1.,  1., -1.,  1., -1., -1., -1.,  1.,  1.,  1.,  1., -1., -1.,\n",
       "       -1., -1.])"
      ]
     },
     "execution_count": 16,
     "metadata": {},
     "output_type": "execute_result"
    }
   ],
   "source": [
    "np.sign(array)"
   ]
  },
  {
   "cell_type": "code",
   "execution_count": 23,
   "metadata": {},
   "outputs": [
    {
     "data": {
      "text/plain": [
       "array([-0.2026411 ,  0.86361068, -0.73140711,  0.75738982, -0.10488121,\n",
       "       -0.08617437, -0.10208611,  0.23830409,  0.29828832,  0.90432035,\n",
       "        0.78962239, -0.96181373, -0.40566423, -0.82133308, -0.96828911])"
      ]
     },
     "execution_count": 23,
     "metadata": {},
     "output_type": "execute_result"
    }
   ],
   "source": [
    "np.tanh(array)"
   ]
  },
  {
   "cell_type": "code",
   "execution_count": 3,
   "metadata": {},
   "outputs": [
    {
     "data": {
      "text/plain": [
       "array([[[[ 0,  1,  2],\n",
       "         [ 3,  4,  5],\n",
       "         [ 6,  7,  8]],\n",
       "\n",
       "        [[ 9, 10, 11],\n",
       "         [12, 13, 14],\n",
       "         [15, 16, 17]],\n",
       "\n",
       "        [[18, 19, 20],\n",
       "         [21, 22, 23],\n",
       "         [24, 25, 26]]],\n",
       "\n",
       "\n",
       "       [[[27, 28, 29],\n",
       "         [30, 31, 32],\n",
       "         [33, 34, 35]],\n",
       "\n",
       "        [[36, 37, 38],\n",
       "         [39, 40, 41],\n",
       "         [42, 43, 44]],\n",
       "\n",
       "        [[45, 46, 47],\n",
       "         [48, 49, 50],\n",
       "         [51, 52, 53]]],\n",
       "\n",
       "\n",
       "       [[[54, 55, 56],\n",
       "         [57, 58, 59],\n",
       "         [60, 61, 62]],\n",
       "\n",
       "        [[63, 64, 65],\n",
       "         [66, 67, 68],\n",
       "         [69, 70, 71]],\n",
       "\n",
       "        [[72, 73, 74],\n",
       "         [75, 76, 77],\n",
       "         [78, 79, 80]]]])"
      ]
     },
     "execution_count": 3,
     "metadata": {},
     "output_type": "execute_result"
    }
   ],
   "source": [
    "array = np.arange(81).reshape(3,3,3,3)\n",
    "array"
   ]
  },
  {
   "cell_type": "code",
   "execution_count": 4,
   "metadata": {
    "scrolled": true
   },
   "outputs": [
    {
     "name": "stderr",
     "output_type": "stream",
     "text": [
      "C:\\Users\\Jota_Moreno\\Anaconda3\\lib\\site-packages\\ipykernel_launcher.py:1: RuntimeWarning: divide by zero encountered in log\n",
      "  \"\"\"Entry point for launching an IPython kernel.\n"
     ]
    },
    {
     "data": {
      "text/plain": [
       "array([[[[      -inf, 0.        , 0.69314718],\n",
       "         [1.09861229, 1.38629436, 1.60943791],\n",
       "         [1.79175947, 1.94591015, 2.07944154]],\n",
       "\n",
       "        [[2.19722458, 2.30258509, 2.39789527],\n",
       "         [2.48490665, 2.56494936, 2.63905733],\n",
       "         [2.7080502 , 2.77258872, 2.83321334]],\n",
       "\n",
       "        [[2.89037176, 2.94443898, 2.99573227],\n",
       "         [3.04452244, 3.09104245, 3.13549422],\n",
       "         [3.17805383, 3.21887582, 3.25809654]]],\n",
       "\n",
       "\n",
       "       [[[3.29583687, 3.33220451, 3.36729583],\n",
       "         [3.40119738, 3.4339872 , 3.4657359 ],\n",
       "         [3.49650756, 3.52636052, 3.55534806]],\n",
       "\n",
       "        [[3.58351894, 3.61091791, 3.63758616],\n",
       "         [3.66356165, 3.68887945, 3.71357207],\n",
       "         [3.73766962, 3.76120012, 3.78418963]],\n",
       "\n",
       "        [[3.80666249, 3.8286414 , 3.8501476 ],\n",
       "         [3.87120101, 3.8918203 , 3.91202301],\n",
       "         [3.93182563, 3.95124372, 3.97029191]]],\n",
       "\n",
       "\n",
       "       [[[3.98898405, 4.00733319, 4.02535169],\n",
       "         [4.04305127, 4.06044301, 4.07753744],\n",
       "         [4.09434456, 4.11087386, 4.12713439]],\n",
       "\n",
       "        [[4.14313473, 4.15888308, 4.17438727],\n",
       "         [4.18965474, 4.20469262, 4.21950771],\n",
       "         [4.2341065 , 4.24849524, 4.26267988]],\n",
       "\n",
       "        [[4.27666612, 4.29045944, 4.30406509],\n",
       "         [4.31748811, 4.33073334, 4.34380542],\n",
       "         [4.35670883, 4.36944785, 4.38202663]]]])"
      ]
     },
     "execution_count": 4,
     "metadata": {},
     "output_type": "execute_result"
    }
   ],
   "source": [
    "np.log(array)"
   ]
  },
  {
   "cell_type": "code",
   "execution_count": 8,
   "metadata": {},
   "outputs": [
    {
     "name": "stderr",
     "output_type": "stream",
     "text": [
      "C:\\Users\\Jota_Moreno\\Anaconda3\\lib\\site-packages\\ipykernel_launcher.py:1: RuntimeWarning: divide by zero encountered in log\n",
      "  \"\"\"Entry point for launching an IPython kernel.\n"
     ]
    },
    {
     "data": {
      "text/plain": [
       "array([[[[      -inf, 0.        , 0.69314718],\n",
       "         [1.09861229, 1.38629436, 1.60943791],\n",
       "         [1.79175947, 1.94591015, 2.07944154]],\n",
       "\n",
       "        [[2.19722458, 2.30258509, 2.39789527],\n",
       "         [2.48490665, 2.56494936, 2.63905733],\n",
       "         [2.7080502 , 2.77258872, 2.83321334]],\n",
       "\n",
       "        [[2.89037176, 2.94443898, 2.99573227],\n",
       "         [3.04452244, 3.09104245, 3.13549422],\n",
       "         [3.17805383, 3.21887582, 3.25809654]]],\n",
       "\n",
       "\n",
       "       [[[3.29583687, 3.33220451, 3.36729583],\n",
       "         [3.40119738, 3.4339872 , 3.4657359 ],\n",
       "         [3.49650756, 3.52636052, 3.55534806]],\n",
       "\n",
       "        [[3.58351894, 3.61091791, 3.63758616],\n",
       "         [3.66356165, 3.68887945, 3.71357207],\n",
       "         [3.73766962, 3.76120012, 3.78418963]],\n",
       "\n",
       "        [[3.80666249, 3.8286414 , 3.8501476 ],\n",
       "         [3.87120101, 3.8918203 , 3.91202301],\n",
       "         [3.93182563, 3.95124372, 3.97029191]]],\n",
       "\n",
       "\n",
       "       [[[3.98898405, 4.00733319, 4.02535169],\n",
       "         [4.04305127, 4.06044301, 4.07753744],\n",
       "         [4.09434456, 4.11087386, 4.12713439]],\n",
       "\n",
       "        [[4.14313473, 4.15888308, 4.17438727],\n",
       "         [4.18965474, 4.20469262, 4.21950771],\n",
       "         [4.2341065 , 4.24849524, 4.26267988]],\n",
       "\n",
       "        [[4.27666612, 4.29045944, 4.30406509],\n",
       "         [4.31748811, 4.33073334, 4.34380542],\n",
       "         [4.35670883, 4.36944785, 4.38202663]]]])"
      ]
     },
     "execution_count": 8,
     "metadata": {},
     "output_type": "execute_result"
    }
   ],
   "source": [
    "np.log(array)"
   ]
  },
  {
   "cell_type": "markdown",
   "metadata": {},
   "source": [
    "- En Python, infinito es un float."
   ]
  },
  {
   "cell_type": "code",
   "execution_count": 29,
   "metadata": {},
   "outputs": [
    {
     "data": {
      "text/plain": [
       "-inf"
      ]
     },
     "execution_count": 29,
     "metadata": {},
     "output_type": "execute_result"
    }
   ],
   "source": [
    "_[0, 0, 0, 0]"
   ]
  },
  {
   "cell_type": "code",
   "execution_count": 30,
   "metadata": {},
   "outputs": [
    {
     "data": {
      "text/plain": [
       "numpy.float64"
      ]
     },
     "execution_count": 30,
     "metadata": {},
     "output_type": "execute_result"
    }
   ],
   "source": [
    "type(_)"
   ]
  },
  {
   "cell_type": "code",
   "execution_count": 31,
   "metadata": {},
   "outputs": [
    {
     "data": {
      "text/plain": [
       "inf"
      ]
     },
     "execution_count": 31,
     "metadata": {},
     "output_type": "execute_result"
    }
   ],
   "source": [
    "np.inf"
   ]
  },
  {
   "cell_type": "markdown",
   "metadata": {},
   "source": [
    "### Funciones binarias"
   ]
  },
  {
   "cell_type": "markdown",
   "metadata": {},
   "source": [
    "- `add` : Suma (equivalente a array1 + array2). \n",
    "- `subtract` : Resta (equivalente a array1 - array2). \n",
    "- `multiply` : Multiplicación (equivalente a array1 \\* array2). \n",
    "- `divide, floor_divide` : División/División entera (equivalente a array1 / (o //) array2). \n",
    "- `power` : Potencia (equivalente a array1 ** array2). \n",
    "- `maximum, fmax` : Máximo de los dos arrays (elemento a elemento). fmax ignora Inf. \n",
    "- `minimum, fmin` : Mínimo de los dos arrays (elemento a elemento). fmin ignora NaN. \n",
    "- `mod` : Resto de la división (equivalente a array1 % array2). \n",
    "- `greater, greater_equal, less, less_equal, equal, not_equal` : Comparativas sobre los elementos de ambos ndarrays (elemento a elemento). \n",
    "- `logical_and, logical_or, logical_xor` : Operaciones booleanas sobre los elementos de ambos ndarrays (elemento a elemento). "
   ]
  },
  {
   "cell_type": "code",
   "execution_count": 32,
   "metadata": {},
   "outputs": [],
   "source": [
    "a = np.random.normal(loc=0, scale=10, size=10)\n",
    "b = np.random.normal(loc=0, scale=10, size=10)"
   ]
  },
  {
   "cell_type": "code",
   "execution_count": 33,
   "metadata": {},
   "outputs": [
    {
     "data": {
      "text/plain": [
       "array([  4.29683119,  -9.67040013,   9.6603742 ,  -6.93779642,\n",
       "       -11.51988562, -11.86040603,  -3.28963862,  -5.98994603,\n",
       "        11.61229445,  -1.05195155])"
      ]
     },
     "execution_count": 33,
     "metadata": {},
     "output_type": "execute_result"
    }
   ],
   "source": [
    "a"
   ]
  },
  {
   "cell_type": "code",
   "execution_count": 34,
   "metadata": {},
   "outputs": [
    {
     "data": {
      "text/plain": [
       "array([-12.88430421,  17.17924147, -12.32111581,   7.32404199,\n",
       "         2.03178271,  -4.3961873 ,   9.10271034, -10.21884934,\n",
       "       -13.45384479,  13.52606701])"
      ]
     },
     "execution_count": 34,
     "metadata": {},
     "output_type": "execute_result"
    }
   ],
   "source": [
    "b"
   ]
  },
  {
   "cell_type": "code",
   "execution_count": 35,
   "metadata": {},
   "outputs": [
    {
     "data": {
      "text/plain": [
       "array([ -55.36168019, -166.13013897, -119.02658929,  -50.81271232,\n",
       "        -23.40590445,   52.14056638,  -29.94462745,   61.21035601,\n",
       "       -156.23000709,  -14.22876722])"
      ]
     },
     "execution_count": 35,
     "metadata": {},
     "output_type": "execute_result"
    }
   ],
   "source": [
    "a * b"
   ]
  },
  {
   "cell_type": "code",
   "execution_count": 26,
   "metadata": {},
   "outputs": [
    {
     "data": {
      "text/plain": [
       "array([ -0.24731852,   4.73663266,  10.8446029 , -15.95527018,\n",
       "        22.54549321,  10.23915451,  13.31452065,   4.96527515,\n",
       "        13.8652988 ,  -4.44916407])"
      ]
     },
     "execution_count": 26,
     "metadata": {},
     "output_type": "execute_result"
    }
   ],
   "source": [
    "np.maximum(a, b)"
   ]
  },
  {
   "cell_type": "code",
   "execution_count": 27,
   "metadata": {},
   "outputs": [
    {
     "data": {
      "text/plain": [
       "array([ True, False, False, False, False,  True,  True,  True, False,\n",
       "        True])"
      ]
     },
     "execution_count": 27,
     "metadata": {},
     "output_type": "execute_result"
    }
   ],
   "source": [
    "np.greater(a, b)"
   ]
  },
  {
   "cell_type": "markdown",
   "metadata": {},
   "source": [
    "## Lógica condicional con arrays"
   ]
  },
  {
   "cell_type": "markdown",
   "metadata": {},
   "source": [
    "- Podemos usar la función `where()` para implementar condicionales vectorizados con arrays de forma sencilla."
   ]
  },
  {
   "cell_type": "code",
   "execution_count": 41,
   "metadata": {},
   "outputs": [
    {
     "data": {
      "text/plain": [
       "array([False, False, False,  True,  True,  True,  True, False,  True,\n",
       "        True])"
      ]
     },
     "execution_count": 41,
     "metadata": {},
     "output_type": "execute_result"
    }
   ],
   "source": [
    "array_bool = np.random.randn(10).round().astype('bool')\n",
    "array_bool"
   ]
  },
  {
   "cell_type": "markdown",
   "metadata": {},
   "source": [
    "- Con el redondeo redondeo a 1 o 0 y con el astype(`bool`) me convierte a Falso los 0 y a True los 1 debido a la lógica interna de Python"
   ]
  },
  {
   "cell_type": "code",
   "execution_count": 42,
   "metadata": {},
   "outputs": [
    {
     "data": {
      "text/plain": [
       "array(['Adiós', 'Adiós', 'Adiós', 'Hola', 'Hola', 'Hola', 'Hola', 'Adiós',\n",
       "       'Hola', 'Hola'], dtype='<U5')"
      ]
     },
     "execution_count": 42,
     "metadata": {},
     "output_type": "execute_result"
    }
   ],
   "source": [
    "np.where(array_bool, 'Hola', 'Adiós')"
   ]
  },
  {
   "cell_type": "code",
   "execution_count": 30,
   "metadata": {},
   "outputs": [],
   "source": [
    "a = np.arange(10)\n",
    "b = np.arange(10, 20)"
   ]
  },
  {
   "cell_type": "code",
   "execution_count": 31,
   "metadata": {},
   "outputs": [
    {
     "data": {
      "text/plain": [
       "array([10,  1,  2,  3,  4, 15, 16,  7, 18,  9])"
      ]
     },
     "execution_count": 31,
     "metadata": {},
     "output_type": "execute_result"
    }
   ],
   "source": [
    "np.where(array_bool, a, b)"
   ]
  },
  {
   "cell_type": "code",
   "execution_count": 32,
   "metadata": {},
   "outputs": [
    {
     "data": {
      "text/plain": [
       "array([None, 1, 2, 3, 4, None, None, 7, None, 9], dtype=object)"
      ]
     },
     "execution_count": 32,
     "metadata": {},
     "output_type": "execute_result"
    }
   ],
   "source": [
    "np.where(array_bool, a, None)"
   ]
  },
  {
   "cell_type": "markdown",
   "metadata": {},
   "source": [
    "- Es muy común que cuando tengamos un `dtype=object` sea porque hay un `None`."
   ]
  },
  {
   "cell_type": "markdown",
   "metadata": {},
   "source": [
    "## Plots"
   ]
  },
  {
   "cell_type": "markdown",
   "metadata": {},
   "source": [
    "- Con numpy arrays podemos generar plots de forma muy sencilla y rápida\n",
    "\n",
    "`conda install matplotlib`"
   ]
  },
  {
   "cell_type": "code",
   "execution_count": 25,
   "metadata": {},
   "outputs": [],
   "source": [
    "import matplotlib.pyplot as plt"
   ]
  },
  {
   "cell_type": "markdown",
   "metadata": {},
   "source": [
    "- Si hacemos memoria, el código de debajo hace:\n",
    "    - Define la variable x como un array que va de 0 a 3xPI en 20 espacios equidistantes\n",
    "    - La variable Y calcula el seno de ese array, devolviendo un nuevo array."
   ]
  },
  {
   "cell_type": "code",
   "execution_count": 26,
   "metadata": {},
   "outputs": [],
   "source": [
    "x = np.linspace(0, 3*np.pi, 20)\n",
    "y = np.sin(x)"
   ]
  },
  {
   "cell_type": "code",
   "execution_count": 29,
   "metadata": {
    "scrolled": true
   },
   "outputs": [
    {
     "data": {
      "text/plain": [
       "[<matplotlib.lines.Line2D at 0x2f98a4fc948>]"
      ]
     },
     "execution_count": 29,
     "metadata": {},
     "output_type": "execute_result"
    },
    {
     "data": {
      "image/png": "[encoded data removed]",
      "text/plain": [
       "<Figure size 432x288 with 1 Axes>"
      ]
     },
     "metadata": {
      "needs_background": "light"
     },
     "output_type": "display_data"
    }
   ],
   "source": [
    "plt.plot(y)"
   ]
  },
  {
   "cell_type": "code",
   "execution_count": 28,
   "metadata": {},
   "outputs": [
    {
     "data": {
      "text/plain": [
       "[<matplotlib.lines.Line2D at 0x2f98a484e48>]"
      ]
     },
     "execution_count": 28,
     "metadata": {},
     "output_type": "execute_result"
    },
    {
     "data": {
      "image/png": "[encoded data removed]",
      "text/plain": [
       "<Figure size 432x288 with 1 Axes>"
      ]
     },
     "metadata": {
      "needs_background": "light"
     },
     "output_type": "display_data"
    }
   ],
   "source": [
    "plt.plot(x,y)"
   ]
  },
  {
   "cell_type": "markdown",
   "metadata": {},
   "source": [
    "- Ya se le dedicará un tema más adelante, pero **Matplotlib** tiene muchas opciones, como se ve debajo.\n",
    "- Con `r` se indica que es de color rojo, con `-.` se indica que la línea debe ser línea con puntos y con `*` se indica que debe dibujar asteriscos."
   ]
  },
  {
   "cell_type": "code",
   "execution_count": 52,
   "metadata": {},
   "outputs": [
    {
     "data": {
      "text/plain": [
       "[<matplotlib.lines.Line2D at 0x1f31f2bc188>]"
      ]
     },
     "execution_count": 52,
     "metadata": {},
     "output_type": "execute_result"
    },
    {
     "data": {
      "image/png": "[encoded data removed]",
      "text/plain": [
       "<Figure size 432x288 with 1 Axes>"
      ]
     },
     "metadata": {
      "needs_background": "light"
     },
     "output_type": "display_data"
    }
   ],
   "source": [
    "plt.plot(x, y, 'r-.*')"
   ]
  },
  {
   "cell_type": "code",
   "execution_count": 30,
   "metadata": {},
   "outputs": [],
   "source": [
    "points = np.arange(-5, 5, 0.01)\n",
    "xs, ys = np.meshgrid(points, points)"
   ]
  },
  {
   "cell_type": "code",
   "execution_count": 31,
   "metadata": {},
   "outputs": [
    {
     "data": {
      "text/plain": [
       "array([[-5.  , -4.99, -4.98, ...,  4.97,  4.98,  4.99],\n",
       "       [-5.  , -4.99, -4.98, ...,  4.97,  4.98,  4.99],\n",
       "       [-5.  , -4.99, -4.98, ...,  4.97,  4.98,  4.99],\n",
       "       ...,\n",
       "       [-5.  , -4.99, -4.98, ...,  4.97,  4.98,  4.99],\n",
       "       [-5.  , -4.99, -4.98, ...,  4.97,  4.98,  4.99],\n",
       "       [-5.  , -4.99, -4.98, ...,  4.97,  4.98,  4.99]])"
      ]
     },
     "execution_count": 31,
     "metadata": {},
     "output_type": "execute_result"
    }
   ],
   "source": [
    "xs"
   ]
  },
  {
   "cell_type": "code",
   "execution_count": 32,
   "metadata": {},
   "outputs": [
    {
     "data": {
      "text/plain": [
       "array([[-5.  , -5.  , -5.  , ..., -5.  , -5.  , -5.  ],\n",
       "       [-4.99, -4.99, -4.99, ..., -4.99, -4.99, -4.99],\n",
       "       [-4.98, -4.98, -4.98, ..., -4.98, -4.98, -4.98],\n",
       "       ...,\n",
       "       [ 4.97,  4.97,  4.97, ...,  4.97,  4.97,  4.97],\n",
       "       [ 4.98,  4.98,  4.98, ...,  4.98,  4.98,  4.98],\n",
       "       [ 4.99,  4.99,  4.99, ...,  4.99,  4.99,  4.99]])"
      ]
     },
     "execution_count": 32,
     "metadata": {},
     "output_type": "execute_result"
    }
   ],
   "source": [
    "ys"
   ]
  },
  {
   "cell_type": "code",
   "execution_count": 33,
   "metadata": {},
   "outputs": [],
   "source": [
    "z = np.sin(xs**2 + 3*ys**2)/(xs**2 + 3*ys**2)**0.5"
   ]
  },
  {
   "cell_type": "code",
   "execution_count": 34,
   "metadata": {},
   "outputs": [
    {
     "data": {
      "text/plain": [
       "<matplotlib.colorbar.Colorbar at 0x2f98bcd54c8>"
      ]
     },
     "execution_count": 34,
     "metadata": {},
     "output_type": "execute_result"
    },
    {
     "data": {
      "image/png": "[encoded data removed]",
      "text/plain": [
       "<Figure size 432x288 with 2 Axes>"
      ]
     },
     "metadata": {
      "needs_background": "light"
     },
     "output_type": "display_data"
    }
   ],
   "source": [
    "plt.imshow(z, cmap=plt.cm.rainbow); plt.colorbar()"
   ]
  }
 ],
 "metadata": {
  "kernelspec": {
   "display_name": "Python 3",
   "language": "python",
   "name": "python3"
  },
  "language_info": {
   "codemirror_mode": {
    "name": "ipython",
    "version": 3
   },
   "file_extension": ".py",
   "mimetype": "text/x-python",
   "name": "python",
   "nbconvert_exporter": "python",
   "pygments_lexer": "ipython3",
   "version": "3.7.4"
  }
 },
 "nbformat": 4,
 "nbformat_minor": 4
}
