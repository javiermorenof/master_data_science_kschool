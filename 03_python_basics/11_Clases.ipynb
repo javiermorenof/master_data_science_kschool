{
 "cells": [
  {
   "cell_type": "markdown",
   "metadata": {},
   "source": [
    "# Clases"
   ]
  },
  {
   "cell_type": "markdown",
   "metadata": {},
   "source": [
    "- Python es un lenguaje orientado a objetos (**OOP -> Object Oriented Programming**)\n",
    "- Los objetos pueden poseer atributos y/o métodos\n",
    "    - **Atributos** -> **Variables** ancladas al objeto\n",
    "    - **Métodos** -> **Funciones** ancladas al objeto\n",
    "- Generalmente, cuando nos referimos a objetos nos estamos refiriendo a **instancias de la clase**. Por ejemplo, una **clase** puede ser un *coche* y una **instancia** sería el coche en particular, como por ejemplo un *Seat Panda*.\n",
    "\n",
    "(Tema muy extenso, esto es una breve introducción más que sufciente para defendernos como Data Scientists)"
   ]
  },
  {
   "cell_type": "code",
   "execution_count": 1,
   "metadata": {},
   "outputs": [
    {
     "data": {
      "text/plain": [
       "datetime.datetime"
      ]
     },
     "execution_count": 1,
     "metadata": {},
     "output_type": "execute_result"
    }
   ],
   "source": [
    "import datetime\n",
    "fecha = datetime.datetime(2019, 12, 14)\n",
    "type(fecha)"
   ]
  },
  {
   "cell_type": "markdown",
   "metadata": {},
   "source": [
    "- En este caso la fecha que hemos introducido es un objeto de la clase `datetime` que está definida en el módulo datetime (que se llama igual en este caso, pero no tiene porqué). Lo primero es el objeto y lo segundo es la clase.\n",
    "- Tiene **atributos**"
   ]
  },
  {
   "cell_type": "code",
   "execution_count": 2,
   "metadata": {},
   "outputs": [
    {
     "data": {
      "text/plain": [
       "14"
      ]
     },
     "execution_count": 2,
     "metadata": {},
     "output_type": "execute_result"
    }
   ],
   "source": [
    "fecha.day"
   ]
  },
  {
   "cell_type": "markdown",
   "metadata": {},
   "source": [
    "- También tiene **métodos**. Los métodos son funciones."
   ]
  },
  {
   "cell_type": "code",
   "execution_count": 3,
   "metadata": {},
   "outputs": [
    {
     "data": {
      "text/plain": [
       "6"
      ]
     },
     "execution_count": 3,
     "metadata": {},
     "output_type": "execute_result"
    }
   ],
   "source": [
    "fecha.isoweekday()"
   ]
  },
  {
   "cell_type": "code",
   "execution_count": 4,
   "metadata": {},
   "outputs": [
    {
     "data": {
      "text/plain": [
       "['astimezone',\n",
       " 'combine',\n",
       " 'ctime',\n",
       " 'date',\n",
       " 'day',\n",
       " 'dst',\n",
       " 'fold',\n",
       " 'fromisoformat',\n",
       " 'fromordinal',\n",
       " 'fromtimestamp',\n",
       " 'hour',\n",
       " 'isocalendar',\n",
       " 'isoformat',\n",
       " 'isoweekday',\n",
       " 'max',\n",
       " 'microsecond',\n",
       " 'min',\n",
       " 'minute',\n",
       " 'month',\n",
       " 'now',\n",
       " 'replace',\n",
       " 'resolution',\n",
       " 'second',\n",
       " 'strftime',\n",
       " 'strptime',\n",
       " 'time',\n",
       " 'timestamp',\n",
       " 'timetuple',\n",
       " 'timetz',\n",
       " 'today',\n",
       " 'toordinal',\n",
       " 'tzinfo',\n",
       " 'tzname',\n",
       " 'utcfromtimestamp',\n",
       " 'utcnow',\n",
       " 'utcoffset',\n",
       " 'utctimetuple',\n",
       " 'weekday',\n",
       " 'year']"
      ]
     },
     "execution_count": 4,
     "metadata": {},
     "output_type": "execute_result"
    }
   ],
   "source": [
    "from utils import midir\n",
    "midir(fecha)"
   ]
  },
  {
   "cell_type": "markdown",
   "metadata": {},
   "source": [
    "- Todo objeto pertenece a una determinada **clase** (y en Python todo es un objeto).\n",
    "- Las clases son abstracciones de las características comunes de los objetos.\n",
    "- Un objeto que pertenece a una clase se dice que es una **instancia** de esa clase. Yo tengo una clase, que es fecha y cuando cfreo una fecha concreta es una instancia de esa clase.\n",
    "- Con clases podemos modelar el comportamiento y las propiedades de entidades complejas.\n",
    "- En definitiva, podemos definir estructuras que se adaptan a nuestras necesidades.\n",
    "- Son extremadamente útiles."
   ]
  },
  {
   "cell_type": "markdown",
   "metadata": {},
   "source": [
    "- Los nombres de las clases son en Camel Case notation (la primera letra de una palabra en mayúsculas, sin guiones para separar palabras)."
   ]
  },
  {
   "cell_type": "code",
   "execution_count": 5,
   "metadata": {},
   "outputs": [],
   "source": [
    "class Coche:\n",
    "    pass"
   ]
  },
  {
   "cell_type": "code",
   "execution_count": 6,
   "metadata": {},
   "outputs": [],
   "source": [
    "mi_porsche = Coche()"
   ]
  },
  {
   "cell_type": "code",
   "execution_count": 7,
   "metadata": {},
   "outputs": [
    {
     "data": {
      "text/plain": [
       "__main__.Coche"
      ]
     },
     "execution_count": 7,
     "metadata": {},
     "output_type": "execute_result"
    }
   ],
   "source": [
    "type(mi_porsche)"
   ]
  },
  {
   "cell_type": "markdown",
   "metadata": {},
   "source": [
    "Pongo `mi_porsche = Coche()`, con paréntesis, porque así indico que `mi_porsche` es de la clase `Coche`, ya que si no usase paréntesis diría que `mi_porsche` es igual a la clase, no a un objeto de la clase."
   ]
  },
  {
   "cell_type": "markdown",
   "metadata": {},
   "source": [
    "## Atributos"
   ]
  },
  {
   "cell_type": "markdown",
   "metadata": {},
   "source": [
    "- Todas las clases tienen un constructor `__init__()`, que inicializa la clase y se llama al crear la instancia de la clase."
   ]
  },
  {
   "cell_type": "code",
   "execution_count": 6,
   "metadata": {},
   "outputs": [],
   "source": [
    "class Coche:\n",
    "    def __init__(self, marca, modelo):\n",
    "        self.marca = marca\n",
    "        self.modelo = modelo"
   ]
  },
  {
   "cell_type": "markdown",
   "metadata": {},
   "source": [
    "Puede ser otra paralabra que sea `self`, pero por convención es esta. `self` hace referencia a la instancia de la clase.\n",
    "\n",
    "`self` hace referencia a `mi_porsche`."
   ]
  },
  {
   "cell_type": "markdown",
   "metadata": {},
   "source": [
    "También podría hacerlo así, pero como es más confuso, igualo nombres:"
   ]
  },
  {
   "cell_type": "code",
   "execution_count": 3,
   "metadata": {},
   "outputs": [],
   "source": [
    "class Coche:\n",
    "    def __init__(self, m, mod):\n",
    "        self.marca = m\n",
    "        self.modelo = mod"
   ]
  },
  {
   "cell_type": "markdown",
   "metadata": {},
   "source": [
    "- La variable `self` dentro de una clase hace referencia a una instancia de esa clase."
   ]
  },
  {
   "cell_type": "code",
   "execution_count": 7,
   "metadata": {},
   "outputs": [],
   "source": [
    "mi_porsche = Coche('Porsche', '911')"
   ]
  },
  {
   "cell_type": "code",
   "execution_count": 8,
   "metadata": {},
   "outputs": [
    {
     "data": {
      "text/plain": [
       "'Porsche'"
      ]
     },
     "execution_count": 8,
     "metadata": {},
     "output_type": "execute_result"
    }
   ],
   "source": [
    "mi_porsche.marca"
   ]
  },
  {
   "cell_type": "code",
   "execution_count": 11,
   "metadata": {},
   "outputs": [
    {
     "data": {
      "text/plain": [
       "'911'"
      ]
     },
     "execution_count": 11,
     "metadata": {},
     "output_type": "execute_result"
    }
   ],
   "source": [
    "mi_porsche.modelo"
   ]
  },
  {
   "cell_type": "code",
   "execution_count": 12,
   "metadata": {},
   "outputs": [
    {
     "data": {
      "text/plain": [
       "['marca', 'modelo']"
      ]
     },
     "execution_count": 12,
     "metadata": {},
     "output_type": "execute_result"
    }
   ],
   "source": [
    "midir(mi_porsche)"
   ]
  },
  {
   "cell_type": "markdown",
   "metadata": {},
   "source": [
    "- Podemeos definir tantas instancias como queramos de una clase"
   ]
  },
  {
   "cell_type": "code",
   "execution_count": 13,
   "metadata": {},
   "outputs": [],
   "source": [
    "mi_ferrari = Coche('Ferrari', 'F1') "
   ]
  },
  {
   "cell_type": "code",
   "execution_count": 14,
   "metadata": {},
   "outputs": [
    {
     "data": {
      "text/plain": [
       "'Ferrari'"
      ]
     },
     "execution_count": 14,
     "metadata": {},
     "output_type": "execute_result"
    }
   ],
   "source": [
    "mi_ferrari.marca"
   ]
  },
  {
   "cell_type": "markdown",
   "metadata": {},
   "source": [
    "- Si hay un constructor que recibe argumentos, debemos pasárselos al instanciar la clase. En el mensaje de abajo me indican que me faltan elementos."
   ]
  },
  {
   "cell_type": "code",
   "execution_count": 15,
   "metadata": {},
   "outputs": [
    {
     "ename": "TypeError",
     "evalue": "__init__() missing 2 required positional arguments: 'marca' and 'modelo'",
     "output_type": "error",
     "traceback": [
      "\u001b[1;31m---------------------------------------------------------------------------\u001b[0m",
      "\u001b[1;31mTypeError\u001b[0m                                 Traceback (most recent call last)",
      "\u001b[1;32m<ipython-input-15-0f9b580029fa>\u001b[0m in \u001b[0;36m<module>\u001b[1;34m\u001b[0m\n\u001b[1;32m----> 1\u001b[1;33m \u001b[0mcoche_fantasma\u001b[0m \u001b[1;33m=\u001b[0m \u001b[0mCoche\u001b[0m\u001b[1;33m(\u001b[0m\u001b[1;33m)\u001b[0m\u001b[1;33m\u001b[0m\u001b[1;33m\u001b[0m\u001b[0m\n\u001b[0m",
      "\u001b[1;31mTypeError\u001b[0m: __init__() missing 2 required positional arguments: 'marca' and 'modelo'"
     ]
    }
   ],
   "source": [
    "coche_fantasma = Coche()"
   ]
  },
  {
   "cell_type": "markdown",
   "metadata": {},
   "source": [
    "- Podemos modificar los atributos de la clase desde fuera."
   ]
  },
  {
   "cell_type": "code",
   "execution_count": 16,
   "metadata": {},
   "outputs": [
    {
     "data": {
      "text/plain": [
       "'911 Turbo'"
      ]
     },
     "execution_count": 16,
     "metadata": {},
     "output_type": "execute_result"
    }
   ],
   "source": [
    "mi_porsche.modelo = '911 Turbo'\n",
    "mi_porsche.modelo"
   ]
  },
  {
   "cell_type": "markdown",
   "metadata": {},
   "source": [
    "## Atributos de clase"
   ]
  },
  {
   "cell_type": "markdown",
   "metadata": {},
   "source": [
    "Lo que acabamos de ver son **atributos de la instancia** y son propios de la instancia.\n",
    "\n",
    "Sin embargo, hay **atributos de clase**, que se definen fuera de la isntancia de la clase y son los mismos para todos los elementos de la clase."
   ]
  },
  {
   "cell_type": "code",
   "execution_count": 17,
   "metadata": {},
   "outputs": [],
   "source": [
    "class Coche:\n",
    "    \n",
    "    RUEDAS = True\n",
    "    \n",
    "    def __init__(self, marca, modelo):\n",
    "        self.marca = marca\n",
    "        self.modelo = modelo"
   ]
  },
  {
   "cell_type": "markdown",
   "metadata": {},
   "source": [
    "- A estos atributos podemos acceder a través de la clase o a través de una isntancia de la clase."
   ]
  },
  {
   "cell_type": "code",
   "execution_count": 18,
   "metadata": {},
   "outputs": [
    {
     "data": {
      "text/plain": [
       "True"
      ]
     },
     "execution_count": 18,
     "metadata": {},
     "output_type": "execute_result"
    }
   ],
   "source": [
    "Coche.RUEDAS"
   ]
  },
  {
   "cell_type": "code",
   "execution_count": 22,
   "metadata": {},
   "outputs": [],
   "source": [
    "mi_porsche = Coche('porsche', '911 Turbo')"
   ]
  },
  {
   "cell_type": "code",
   "execution_count": 23,
   "metadata": {},
   "outputs": [
    {
     "data": {
      "text/plain": [
       "True"
      ]
     },
     "execution_count": 23,
     "metadata": {},
     "output_type": "execute_result"
    }
   ],
   "source": [
    "mi_porsche.RUEDAS"
   ]
  },
  {
   "cell_type": "code",
   "execution_count": 10,
   "metadata": {},
   "outputs": [
    {
     "ename": "AttributeError",
     "evalue": "type object 'Coche' has no attribute 'marca'",
     "output_type": "error",
     "traceback": [
      "\u001b[1;31m---------------------------------------------------------------------------\u001b[0m",
      "\u001b[1;31mAttributeError\u001b[0m                            Traceback (most recent call last)",
      "\u001b[1;32m<ipython-input-10-26ad78f90992>\u001b[0m in \u001b[0;36m<module>\u001b[1;34m\u001b[0m\n\u001b[1;32m----> 1\u001b[1;33m \u001b[0mCoche\u001b[0m\u001b[1;33m.\u001b[0m\u001b[0mmarca\u001b[0m\u001b[1;33m\u001b[0m\u001b[1;33m\u001b[0m\u001b[0m\n\u001b[0m",
      "\u001b[1;31mAttributeError\u001b[0m: type object 'Coche' has no attribute 'marca'"
     ]
    }
   ],
   "source": [
    "Coche.marca"
   ]
  },
  {
   "cell_type": "markdown",
   "metadata": {},
   "source": [
    "## Métodos"
   ]
  },
  {
   "cell_type": "markdown",
   "metadata": {},
   "source": [
    "- Funciones ancladas a la clase y que tienen acceso a los atributos y métodos de la instancia y de la clase.\n",
    "\n",
    "- Esto quiere decir que puedo definir un método dentro de la clase pero puedo acceder a instancias.\n",
    "\n",
    "- En el ejemplo de debajo puedo ver que el (self) es el argumento de la función y que debajo se le referencia el self. Recordar que el self apunta a la instancia, así que al hacer \"mi_porsche.marca_y_modelo = marca_y_modelo(mi_porsche)\""
   ]
  },
  {
   "cell_type": "code",
   "execution_count": 25,
   "metadata": {},
   "outputs": [],
   "source": [
    "class Coche:\n",
    "    \n",
    "    RUEDAS = True\n",
    "    \n",
    "    def __init__(self, marca, modelo):\n",
    "        self.marca = marca\n",
    "        self.modelo = modelo\n",
    "    \n",
    "    def marca_y_modelo(self):\n",
    "        return self.marca + ' ' + self.modelo"
   ]
  },
  {
   "cell_type": "code",
   "execution_count": 26,
   "metadata": {},
   "outputs": [],
   "source": [
    "mi_porsche = Coche('Porsche', '911 Turbo')"
   ]
  },
  {
   "cell_type": "code",
   "execution_count": 27,
   "metadata": {},
   "outputs": [
    {
     "data": {
      "text/plain": [
       "<bound method Coche.marca_y_modelo of <__main__.Coche object at 0x0000025C4ECD26C8>>"
      ]
     },
     "execution_count": 27,
     "metadata": {},
     "output_type": "execute_result"
    }
   ],
   "source": [
    "mi_porsche.marca_y_modelo"
   ]
  },
  {
   "cell_type": "code",
   "execution_count": 28,
   "metadata": {},
   "outputs": [
    {
     "data": {
      "text/plain": [
       "'Porsche 911 Turbo'"
      ]
     },
     "execution_count": 28,
     "metadata": {},
     "output_type": "execute_result"
    }
   ],
   "source": [
    "mi_porsche.marca_y_modelo()"
   ]
  },
  {
   "cell_type": "markdown",
   "metadata": {},
   "source": [
    "## Herencia"
   ]
  },
  {
   "cell_type": "markdown",
   "metadata": {},
   "source": [
    "- Podemos definir clases que hereden de otra clase\n",
    "- Esto significa que heredan los atributos y los métodos de la clase padre"
   ]
  },
  {
   "cell_type": "code",
   "execution_count": 29,
   "metadata": {},
   "outputs": [],
   "source": [
    "class CocheElectrico(Coche):\n",
    "    \n",
    "    ELECTRICO = True"
   ]
  },
  {
   "cell_type": "code",
   "execution_count": 30,
   "metadata": {},
   "outputs": [
    {
     "ename": "TypeError",
     "evalue": "__init__() missing 2 required positional arguments: 'marca' and 'modelo'",
     "output_type": "error",
     "traceback": [
      "\u001b[1;31m---------------------------------------------------------------------------\u001b[0m",
      "\u001b[1;31mTypeError\u001b[0m                                 Traceback (most recent call last)",
      "\u001b[1;32m<ipython-input-30-4ed94558dc79>\u001b[0m in \u001b[0;36m<module>\u001b[1;34m\u001b[0m\n\u001b[1;32m----> 1\u001b[1;33m \u001b[0mel_prius_de_mi_vecino\u001b[0m \u001b[1;33m=\u001b[0m \u001b[0mCocheElectrico\u001b[0m\u001b[1;33m(\u001b[0m\u001b[1;33m)\u001b[0m\u001b[1;33m\u001b[0m\u001b[1;33m\u001b[0m\u001b[0m\n\u001b[0m",
      "\u001b[1;31mTypeError\u001b[0m: __init__() missing 2 required positional arguments: 'marca' and 'modelo'"
     ]
    }
   ],
   "source": [
    "el_prius_de_mi_vecino = CocheElectrico()"
   ]
  },
  {
   "cell_type": "code",
   "execution_count": 31,
   "metadata": {},
   "outputs": [],
   "source": [
    "el_prius_de_mi_vecino = CocheElectrico('Toyota', 'Prius')"
   ]
  },
  {
   "cell_type": "code",
   "execution_count": 32,
   "metadata": {},
   "outputs": [
    {
     "data": {
      "text/plain": [
       "['ELECTRICO', 'RUEDAS', 'marca', 'marca_y_modelo', 'modelo']"
      ]
     },
     "execution_count": 32,
     "metadata": {},
     "output_type": "execute_result"
    }
   ],
   "source": [
    "midir(el_prius_de_mi_vecino)"
   ]
  },
  {
   "cell_type": "markdown",
   "metadata": {},
   "source": [
    "- Los atributos y métodos se pueden sobreescribir en la clase hija. Eso quiere decir que puedo modificar los métodos de la clase padre desde la clase hija."
   ]
  },
  {
   "cell_type": "markdown",
   "metadata": {},
   "source": [
    "## Atributos/Métodos protegidos"
   ]
  },
  {
   "cell_type": "markdown",
   "metadata": {},
   "source": [
    "- Si queremos que un atributo/método sólo se llame desde la propia clase, se nombran con un `_` delante.\n",
    "- Cuando hacemos `from modulo import *`, las funciones que empiezan por `_` no se importan\n",
    "- Esto no implica que no tengamos acceso a él, simplemente nos informa de que estos atributos/métodos no están escritos para poder usarse desde fuera.\n",
    "- Por lo tanto, su funcionamiento puede variar sin previos aviso cuando actualizamos la librería.\n",
    "- Su única diferencia es que estos no se importan"
   ]
  },
  {
   "cell_type": "code",
   "execution_count": 53,
   "metadata": {},
   "outputs": [],
   "source": [
    "class Coche:\n",
    "    \n",
    "    RUEDAS = True\n",
    "    \n",
    "    def __init__(self, marca, modelo):\n",
    "        self.marca = marca\n",
    "        self.modelo = modelo\n",
    "        self.luces = False\n",
    "        self.arrancado = False\n",
    "    \n",
    "    def marca_y_modelo(self):\n",
    "        return self.marca + ' ' + self.modelo\n",
    "    \n",
    "    def _encender_luces(self):\n",
    "        self.luces = True\n",
    "        \n",
    "    def _apagar_luces(self):\n",
    "        self.luces = False\n",
    "        \n",
    "    def arrancar(self):\n",
    "        self._encender_luces()\n",
    "        self.arrancado = True"
   ]
  },
  {
   "cell_type": "markdown",
   "metadata": {},
   "source": [
    "Como se puede ver, apagar luces hy encender kluces están protegidos, pero arrancar no."
   ]
  },
  {
   "cell_type": "markdown",
   "metadata": {},
   "source": [
    "En el ejemplo de debajo llamo a la funcion encender luces, que como comienza con _ está hecha para ser ejecutada solo internamente. \n",
    "\n",
    "Podría haberlo hecho también sin una función y haber puesto self.luces = True, pero eso es a gusto del desarrollador."
   ]
  },
  {
   "cell_type": "code",
   "execution_count": null,
   "metadata": {},
   "outputs": [],
   "source": [
    "    def arrancar(self):\n",
    "        self._encender_luces()\n",
    "        self.arrancado = True"
   ]
  },
  {
   "cell_type": "code",
   "execution_count": 54,
   "metadata": {},
   "outputs": [],
   "source": [
    "mi_ferrari = Coche('Ferrari', 'F1')"
   ]
  },
  {
   "cell_type": "code",
   "execution_count": 55,
   "metadata": {},
   "outputs": [
    {
     "data": {
      "text/plain": [
       "False"
      ]
     },
     "execution_count": 55,
     "metadata": {},
     "output_type": "execute_result"
    }
   ],
   "source": [
    "mi_ferrari.luces"
   ]
  },
  {
   "cell_type": "code",
   "execution_count": 56,
   "metadata": {},
   "outputs": [
    {
     "data": {
      "text/plain": [
       "False"
      ]
     },
     "execution_count": 56,
     "metadata": {},
     "output_type": "execute_result"
    }
   ],
   "source": [
    "mi_ferrari.arrancado"
   ]
  },
  {
   "cell_type": "code",
   "execution_count": 57,
   "metadata": {},
   "outputs": [],
   "source": [
    "mi_ferrari.arrancar()"
   ]
  },
  {
   "cell_type": "code",
   "execution_count": 58,
   "metadata": {},
   "outputs": [
    {
     "data": {
      "text/plain": [
       "True"
      ]
     },
     "execution_count": 58,
     "metadata": {},
     "output_type": "execute_result"
    }
   ],
   "source": [
    "mi_ferrari.luces"
   ]
  },
  {
   "cell_type": "code",
   "execution_count": 59,
   "metadata": {},
   "outputs": [
    {
     "data": {
      "text/plain": [
       "True"
      ]
     },
     "execution_count": 59,
     "metadata": {},
     "output_type": "execute_result"
    }
   ],
   "source": [
    "mi_ferrari.arrancado"
   ]
  },
  {
   "cell_type": "code",
   "execution_count": 60,
   "metadata": {},
   "outputs": [
    {
     "data": {
      "text/plain": [
       "['RUEDAS',\n",
       " '_apagar_luces',\n",
       " '_encender_luces',\n",
       " 'arrancado',\n",
       " 'arrancar',\n",
       " 'luces',\n",
       " 'marca',\n",
       " 'marca_y_modelo',\n",
       " 'modelo']"
      ]
     },
     "execution_count": 60,
     "metadata": {},
     "output_type": "execute_result"
    }
   ],
   "source": [
    "midir(mi_ferrari)"
   ]
  },
  {
   "cell_type": "code",
   "execution_count": 61,
   "metadata": {},
   "outputs": [],
   "source": [
    "mi_ferrari._apagar_luces()"
   ]
  },
  {
   "cell_type": "code",
   "execution_count": 62,
   "metadata": {},
   "outputs": [
    {
     "data": {
      "text/plain": [
       "False"
      ]
     },
     "execution_count": 62,
     "metadata": {},
     "output_type": "execute_result"
    }
   ],
   "source": [
    "mi_ferrari.luces"
   ]
  },
  {
   "cell_type": "markdown",
   "metadata": {},
   "source": [
    "## Atributos/Métodos privados"
   ]
  },
  {
   "cell_type": "markdown",
   "metadata": {},
   "source": [
    "- Si nombramos el método con dos `__` delante, el método se considera privado.\n",
    "- Python cambia el nombre del método (`name mangling`) para evitar colisiones con métodos definidos por subclases.\n",
    "- Buscar diferencia con protegidos, además de que hace el name mangling aunque entiendo que la diferencia es que hay que llamarlos de otra forma."
   ]
  },
  {
   "cell_type": "code",
   "execution_count": 63,
   "metadata": {},
   "outputs": [],
   "source": [
    "class Coche:\n",
    "    \n",
    "    RUEDAS = True\n",
    "    \n",
    "    def __init__(self, marca, modelo):\n",
    "        self.marca = marca\n",
    "        self.modelo = modelo\n",
    "        self.luces = False\n",
    "        self.arrancado = False\n",
    "    \n",
    "    def marca_y_modelo(self):\n",
    "        return self.marca + ' ' + self.modelo\n",
    "    \n",
    "    def __encender_luces(self):\n",
    "        self.luces = True\n",
    "    \n",
    "    def __apagar_luces(self):\n",
    "        self.luces = False\n",
    "        \n",
    "    def arrancar(self):\n",
    "        self.__encender_luces()\n",
    "        self.arrancado = True"
   ]
  },
  {
   "cell_type": "code",
   "execution_count": 64,
   "metadata": {},
   "outputs": [],
   "source": [
    "mi_ferrari = Coche('Ferrari', 'F1')"
   ]
  },
  {
   "cell_type": "markdown",
   "metadata": {},
   "source": [
    "Como puedo ver, _apagar luces y _enceder lunes ya no me lo indica solo, sino que al añadir los dos guiones bajos me ha añadido Coche también."
   ]
  },
  {
   "cell_type": "code",
   "execution_count": 65,
   "metadata": {},
   "outputs": [
    {
     "data": {
      "text/plain": [
       "['RUEDAS',\n",
       " '_Coche__apagar_luces',\n",
       " '_Coche__encender_luces',\n",
       " 'arrancado',\n",
       " 'arrancar',\n",
       " 'luces',\n",
       " 'marca',\n",
       " 'marca_y_modelo',\n",
       " 'modelo']"
      ]
     },
     "execution_count": 65,
     "metadata": {},
     "output_type": "execute_result"
    }
   ],
   "source": [
    "midir(mi_ferrari)"
   ]
  },
  {
   "cell_type": "code",
   "execution_count": 66,
   "metadata": {},
   "outputs": [
    {
     "data": {
      "text/plain": [
       "False"
      ]
     },
     "execution_count": 66,
     "metadata": {},
     "output_type": "execute_result"
    }
   ],
   "source": [
    "mi_ferrari.luces"
   ]
  },
  {
   "cell_type": "code",
   "execution_count": 67,
   "metadata": {},
   "outputs": [],
   "source": [
    "mi_ferrari._Coche__encender_luces()"
   ]
  },
  {
   "cell_type": "code",
   "execution_count": 68,
   "metadata": {},
   "outputs": [
    {
     "data": {
      "text/plain": [
       "True"
      ]
     },
     "execution_count": 68,
     "metadata": {},
     "output_type": "execute_result"
    }
   ],
   "source": [
    "mi_ferrari.luces"
   ]
  },
  {
   "cell_type": "markdown",
   "metadata": {},
   "source": [
    "- Más información sobre las convenciones de usar `_` en Python [aquí](https://dbader.org/blog/meaning-of-underscores-in-python)."
   ]
  },
  {
   "cell_type": "markdown",
   "metadata": {},
   "source": [
    "## Atributos que empiezan y acaban por `__`"
   ]
  },
  {
   "cell_type": "markdown",
   "metadata": {},
   "source": [
    "- Lo astributos que empiezan y terminan por `__` se llaman **atributos/métodos mágicos**.\n",
    "- Tienen funcionalidades especiales (más info [aquí](https://rszalski.github.io/magicmethods/))\n",
    "- No se ven afectados por el **name mangling** de Python.\n",
    "- Son variables/métodos reservados para Python\n",
    "- Hay que evitar hacer nuestra propia magia (no definir variables que empiecen y terminen con `__`)"
   ]
  },
  {
   "cell_type": "code",
   "execution_count": 69,
   "metadata": {},
   "outputs": [],
   "source": [
    "mi_ferrari = Coche('Ferrari', 'F1')\n",
    "mi_porsche = Coche('Porsche', '911 Turbo')"
   ]
  },
  {
   "cell_type": "code",
   "execution_count": 71,
   "metadata": {},
   "outputs": [
    {
     "data": {
      "text/plain": [
       "<__main__.Coche at 0x25c4fc049c8>"
      ]
     },
     "execution_count": 71,
     "metadata": {},
     "output_type": "execute_result"
    }
   ],
   "source": [
    "mi_ferrari"
   ]
  },
  {
   "cell_type": "code",
   "execution_count": 72,
   "metadata": {},
   "outputs": [
    {
     "ename": "TypeError",
     "evalue": "unsupported operand type(s) for +: 'Coche' and 'Coche'",
     "output_type": "error",
     "traceback": [
      "\u001b[1;31m---------------------------------------------------------------------------\u001b[0m",
      "\u001b[1;31mTypeError\u001b[0m                                 Traceback (most recent call last)",
      "\u001b[1;32m<ipython-input-72-2a0566a10a6c>\u001b[0m in \u001b[0;36m<module>\u001b[1;34m\u001b[0m\n\u001b[1;32m----> 1\u001b[1;33m \u001b[0mmi_ferrari\u001b[0m \u001b[1;33m+\u001b[0m \u001b[0mmi_porsche\u001b[0m\u001b[1;33m\u001b[0m\u001b[1;33m\u001b[0m\u001b[0m\n\u001b[0m",
      "\u001b[1;31mTypeError\u001b[0m: unsupported operand type(s) for +: 'Coche' and 'Coche'"
     ]
    }
   ],
   "source": [
    "mi_ferrari + mi_porsche"
   ]
  },
  {
   "cell_type": "markdown",
   "metadata": {},
   "source": [
    "Me dará error.\n",
    "\n",
    "Veremos abajo como solucionarlo con el método máigo que llamaremos add.\n",
    "\n",
    "Este ejemplo no tiene mucho sentido en este caso, peor es muy útil, por ejemplo, para juntar dos bases de datos."
   ]
  },
  {
   "cell_type": "code",
   "execution_count": 15,
   "metadata": {},
   "outputs": [],
   "source": [
    "class Coche:\n",
    "    \n",
    "    RUEDAS = True\n",
    "    \n",
    "    def __init__(self, marca, modelo):\n",
    "        self.marca = marca\n",
    "        self.modelo = modelo\n",
    "        self.luces = False\n",
    "        self.arrancado = False\n",
    "    \n",
    "    def marca_y_modelo(self):\n",
    "        return self.marca + ' ' + self.modelo\n",
    "    \n",
    "    def __repr__(self):\n",
    "        return self.marca_y_modelo()\n",
    "    \n",
    "    def __add__(self, other):\n",
    "        return self.marca_y_modelo() + ' y ' + other.marca_y_modelo()"
   ]
  },
  {
   "cell_type": "code",
   "execution_count": 16,
   "metadata": {},
   "outputs": [],
   "source": [
    "mi_ferrari = Coche('Ferrari', 'F1')\n",
    "mi_porsche = Coche('Porsche', '911 Turbo')"
   ]
  },
  {
   "cell_type": "code",
   "execution_count": 17,
   "metadata": {},
   "outputs": [
    {
     "data": {
      "text/plain": [
       "Porsche 911 Turbo"
      ]
     },
     "execution_count": 17,
     "metadata": {},
     "output_type": "execute_result"
    }
   ],
   "source": [
    "mi_porsche"
   ]
  },
  {
   "cell_type": "code",
   "execution_count": 18,
   "metadata": {},
   "outputs": [],
   "source": [
    "union = mi_ferrari + mi_porsche"
   ]
  },
  {
   "cell_type": "code",
   "execution_count": 21,
   "metadata": {},
   "outputs": [
    {
     "data": {
      "text/plain": [
       "'Ferrari F1 y Porsche 911 Turbo'"
      ]
     },
     "execution_count": 21,
     "metadata": {},
     "output_type": "execute_result"
    }
   ],
   "source": [
    "union"
   ]
  },
  {
   "cell_type": "code",
   "execution_count": 19,
   "metadata": {},
   "outputs": [
    {
     "data": {
      "text/plain": [
       "__main__.Coche"
      ]
     },
     "execution_count": 19,
     "metadata": {},
     "output_type": "execute_result"
    }
   ],
   "source": [
    "type(_)"
   ]
  },
  {
   "cell_type": "code",
   "execution_count": 20,
   "metadata": {},
   "outputs": [
    {
     "ename": "TypeError",
     "evalue": "can only concatenate str (not \"Coche\") to str",
     "output_type": "error",
     "traceback": [
      "\u001b[1;31m---------------------------------------------------------------------------\u001b[0m",
      "\u001b[1;31mTypeError\u001b[0m                                 Traceback (most recent call last)",
      "\u001b[1;32m<ipython-input-20-3625eb5408e4>\u001b[0m in \u001b[0;36m<module>\u001b[1;34m\u001b[0m\n\u001b[1;32m----> 1\u001b[1;33m \u001b[0mmi_ferrari\u001b[0m \u001b[1;33m+\u001b[0m \u001b[0mmi_porsche\u001b[0m \u001b[1;33m+\u001b[0m \u001b[0mmi_ferrari\u001b[0m\u001b[1;33m\u001b[0m\u001b[1;33m\u001b[0m\u001b[0m\n\u001b[0m",
      "\u001b[1;31mTypeError\u001b[0m: can only concatenate str (not \"Coche\") to str"
     ]
    }
   ],
   "source": [
    "mi_ferrari + mi_porsche + mi_ferrari"
   ]
  },
  {
   "cell_type": "code",
   "execution_count": null,
   "metadata": {},
   "outputs": [],
   "source": [
    "Me da error porque solo se puede unir clases string"
   ]
  },
  {
   "cell_type": "code",
   "execution_count": null,
   "metadata": {},
   "outputs": [],
   "source": [
    "Se puede ver si algo es una instancia mediante:"
   ]
  },
  {
   "cell_type": "code",
   "execution_count": 13,
   "metadata": {},
   "outputs": [
    {
     "ename": "NameError",
     "evalue": "name 'instance' is not defined",
     "output_type": "error",
     "traceback": [
      "\u001b[1;31m---------------------------------------------------------------------------\u001b[0m",
      "\u001b[1;31mNameError\u001b[0m                                 Traceback (most recent call last)",
      "\u001b[1;32m<ipython-input-13-5dd8ea036ab8>\u001b[0m in \u001b[0;36m<module>\u001b[1;34m\u001b[0m\n\u001b[1;32m----> 1\u001b[1;33m \u001b[0minstance\u001b[0m\u001b[1;33m(\u001b[0m\u001b[1;33m)\u001b[0m\u001b[1;33m\u001b[0m\u001b[1;33m\u001b[0m\u001b[0m\n\u001b[0m",
      "\u001b[1;31mNameError\u001b[0m: name 'instance' is not defined"
     ]
    }
   ],
   "source": [
    "isinstance(other, Coche)"
   ]
  },
  {
   "cell_type": "markdown",
   "metadata": {},
   "source": [
    "## Métodos de clase"
   ]
  },
  {
   "cell_type": "markdown",
   "metadata": {},
   "source": [
    "- Podemos definir métodos que no involucren a la instancia de la clase\n",
    "- Se usa la variable `cls` para referenciar a la clase"
   ]
  },
  {
   "cell_type": "code",
   "execution_count": 79,
   "metadata": {},
   "outputs": [],
   "source": [
    "class Coche:\n",
    "    \n",
    "    RUEDAS = True\n",
    "    \n",
    "    def __init__(self, marca, modelo):\n",
    "        self.marca = marca\n",
    "        self.modelo = modelo\n",
    "        self.luces = False\n",
    "        self.arrancado = False\n",
    "    \n",
    "    def marca_y_modelo(self):\n",
    "        return self.marca + ' ' + self.modelo\n",
    "    \n",
    "    @classmethod\n",
    "    def tiene_ruedas(cls):\n",
    "        return cls.RUEDAS == True"
   ]
  },
  {
   "cell_type": "markdown",
   "metadata": {},
   "source": [
    "Hace que solo tenga acceso a la clase y no a la instancia de la clase."
   ]
  },
  {
   "cell_type": "markdown",
   "metadata": {},
   "source": [
    "Por ejemplo, imaginemos que tenemos una base de datos y queremos hacer un método que cambie el nombre de una columna. El nombre de una columna es un atributo de la clase, no depende de los datos o instancias, por lo que sería un ejemplo de cuándo utilizar un método de clase"
   ]
  },
  {
   "cell_type": "code",
   "execution_count": 80,
   "metadata": {},
   "outputs": [
    {
     "data": {
      "text/plain": [
       "True"
      ]
     },
     "execution_count": 80,
     "metadata": {},
     "output_type": "execute_result"
    }
   ],
   "source": [
    "Coche.tiene_ruedas()"
   ]
  },
  {
   "cell_type": "code",
   "execution_count": 81,
   "metadata": {},
   "outputs": [],
   "source": [
    "mi_porsche = Coche('Porsche', '911 Turbo')"
   ]
  },
  {
   "cell_type": "code",
   "execution_count": 82,
   "metadata": {},
   "outputs": [
    {
     "data": {
      "text/plain": [
       "True"
      ]
     },
     "execution_count": 82,
     "metadata": {},
     "output_type": "execute_result"
    }
   ],
   "source": [
    "mi_porsche.tiene_ruedas()"
   ]
  },
  {
   "cell_type": "markdown",
   "metadata": {},
   "source": [
    "## Métodos estáticos"
   ]
  },
  {
   "cell_type": "markdown",
   "metadata": {},
   "source": [
    "- Métodos que no involucran ni a la instancia de la clase ni a la propia clase.\n",
    "- Básicamente es una función dentro de una clase.\n",
    "- En la definición de estos métodos no hay que pasar ni la variable `self` ni la variable `cls` ya que no van a acceder ni a la clase ni a la instancia"
   ]
  },
  {
   "cell_type": "code",
   "execution_count": 84,
   "metadata": {},
   "outputs": [],
   "source": [
    "class Coche:\n",
    "    \n",
    "    RUEDAS = True\n",
    "    \n",
    "    def __init__(self, marca, modelo):\n",
    "        self.marca = marca\n",
    "        self.modelo = modelo\n",
    "        self.luces = False\n",
    "        self.arrancado = False\n",
    "    \n",
    "    def marca_y_modelo(self):\n",
    "        return self.marca + ' ' + self.modelo\n",
    "    \n",
    "    @staticmethod\n",
    "    def sumar(a, b):\n",
    "        return a + b"
   ]
  },
  {
   "cell_type": "code",
   "execution_count": 85,
   "metadata": {},
   "outputs": [
    {
     "data": {
      "text/plain": [
       "8"
      ]
     },
     "execution_count": 85,
     "metadata": {},
     "output_type": "execute_result"
    }
   ],
   "source": [
    "Coche.sumar(3, 5)"
   ]
  },
  {
   "cell_type": "code",
   "execution_count": 86,
   "metadata": {},
   "outputs": [],
   "source": [
    "mi_porsche = Coche('Porsche', '911 Turbo')"
   ]
  },
  {
   "cell_type": "code",
   "execution_count": 87,
   "metadata": {},
   "outputs": [
    {
     "data": {
      "text/plain": [
       "8"
      ]
     },
     "execution_count": 87,
     "metadata": {},
     "output_type": "execute_result"
    }
   ],
   "source": [
    "mi_porsche.sumar(5, 3)"
   ]
  },
  {
   "cell_type": "markdown",
   "metadata": {},
   "source": [
    "Mirad que ocurre si no pongo static method"
   ]
  },
  {
   "cell_type": "code",
   "execution_count": 23,
   "metadata": {},
   "outputs": [],
   "source": [
    "class Coche:\n",
    "    \n",
    "    RUEDAS = True\n",
    "    \n",
    "    def __init__(self, marca, modelo):\n",
    "        self.marca = marca\n",
    "        self.modelo = modelo\n",
    "        self.luces = False\n",
    "        self.arrancado = False\n",
    "    \n",
    "    def marca_y_modelo(self):\n",
    "        return self.marca + ' ' + self.modelo\n",
    "    \n",
    "    def sumar(a, b):\n",
    "        return a + b"
   ]
  },
  {
   "cell_type": "code",
   "execution_count": 24,
   "metadata": {},
   "outputs": [
    {
     "data": {
      "text/plain": [
       "11"
      ]
     },
     "execution_count": 24,
     "metadata": {},
     "output_type": "execute_result"
    }
   ],
   "source": [
    "Coche.sumar(2,9)"
   ]
  },
  {
   "cell_type": "code",
   "execution_count": 25,
   "metadata": {},
   "outputs": [
    {
     "ename": "AttributeError",
     "evalue": "'Coche' object has no attribute 'sumar'",
     "output_type": "error",
     "traceback": [
      "\u001b[1;31m---------------------------------------------------------------------------\u001b[0m",
      "\u001b[1;31mAttributeError\u001b[0m                            Traceback (most recent call last)",
      "\u001b[1;32m<ipython-input-25-50ba8da5e920>\u001b[0m in \u001b[0;36m<module>\u001b[1;34m\u001b[0m\n\u001b[1;32m----> 1\u001b[1;33m \u001b[0mmi_porsche\u001b[0m\u001b[1;33m.\u001b[0m\u001b[0msumar\u001b[0m\u001b[1;33m(\u001b[0m\u001b[1;36m2\u001b[0m\u001b[1;33m,\u001b[0m\u001b[1;36m9\u001b[0m\u001b[1;33m)\u001b[0m\u001b[1;33m\u001b[0m\u001b[1;33m\u001b[0m\u001b[0m\n\u001b[0m",
      "\u001b[1;31mAttributeError\u001b[0m: 'Coche' object has no attribute 'sumar'"
     ]
    }
   ],
   "source": [
    "mi_porsche.sumar(2,9)"
   ]
  },
  {
   "cell_type": "markdown",
   "metadata": {},
   "source": [
    "Me realiza la suma cuando actúa sobre la clase, pero no sobre la instancia, ya que no tiene acceso a las variables de la instancia"
   ]
  },
  {
   "cell_type": "markdown",
   "metadata": {},
   "source": [
    "## Decoradores"
   ]
  },
  {
   "cell_type": "markdown",
   "metadata": {},
   "source": [
    "- Se colocan encima de la definción de un método o función\n",
    "```python\n",
    "@decorador\n",
    "def funcion():\n",
    "    return str\n",
    "```\n",
    "- Son funciones que devuelven otra función que actúa de wrapper."
   ]
  },
  {
   "cell_type": "code",
   "execution_count": 7,
   "metadata": {},
   "outputs": [],
   "source": [
    "def print_logs(f):\n",
    "    def logs(*args, **kwargs):\n",
    "        fun_name = f.__name__\n",
    "        print(f\"Estoy ejecutando: {fun_name}\")\n",
    "        result = f(*args, **kwargs)\n",
    "        print(result)\n",
    "        print(f\"He acabado de ejecutar: {fun_name}\")\n",
    "    return logs"
   ]
  },
  {
   "cell_type": "code",
   "execution_count": 8,
   "metadata": {},
   "outputs": [],
   "source": [
    "@print_logs\n",
    "def sumar(a, b):\n",
    "    return a + b"
   ]
  },
  {
   "cell_type": "code",
   "execution_count": 9,
   "metadata": {},
   "outputs": [
    {
     "name": "stdout",
     "output_type": "stream",
     "text": [
      "Estoy ejecutando: sumar\n",
      "8\n",
      "He acabado de ejecutar: sumar\n"
     ]
    }
   ],
   "source": [
    "sumar(3, 5)"
   ]
  },
  {
   "cell_type": "markdown",
   "metadata": {},
   "source": [
    "- Los decoradores se pueden usar para logs, conexiones a bases de datos, ..."
   ]
  },
  {
   "cell_type": "code",
   "execution_count": null,
   "metadata": {},
   "outputs": [],
   "source": [
    "Ver el ejercicio explicado!!!\n",
    "\n",
    "Cuando lo creo en el init le digo que no este conectada\n",
    "\n",
    "COn connect algo que este conectada\n",
    "Con disconnect digo que se desconexte\n",
    "\n",
    "Y con el atributo magico delete hago que cuando se borre también me desconecte"
   ]
  },
  {
   "cell_type": "markdown",
   "metadata": {},
   "source": [
    "Ejemplo real if prod (existe, es verdaro) si no, el usuario va a ser uno, el passwrord va a ser otro. Simplemente diciendo si prod es ttrue o no me piuedo conectar a una base de datos u a otra.\n"
   ]
  },
  {
   "cell_type": "code",
   "execution_count": null,
   "metadata": {},
   "outputs": [],
   "source": []
  }
 ],
 "metadata": {
  "kernelspec": {
   "display_name": "Python 3",
   "language": "python",
   "name": "python3"
  },
  "language_info": {
   "codemirror_mode": {
    "name": "ipython",
    "version": 3
   },
   "file_extension": ".py",
   "mimetype": "text/x-python",
   "name": "python",
   "nbconvert_exporter": "python",
   "pygments_lexer": "ipython3",
   "version": "3.7.4"
  }
 },
 "nbformat": 4,
 "nbformat_minor": 4
}
