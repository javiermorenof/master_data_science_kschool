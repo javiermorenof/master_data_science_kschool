{
 "cells": [
  {
   "cell_type": "markdown",
   "metadata": {},
   "source": [
    "# 08. Metodologías de modelado"
   ]
  },
  {
   "cell_type": "markdown",
   "metadata": {},
   "source": [
    "- A continuación se va a ver un proceso de modelado de principio a fin y se realizará un caso práctico de segmentación de clientes.\n",
    "- El caso que se verá a continuación es de CDNow, una empresa que vendía CDs por internet."
   ]
  },
  {
   "cell_type": "markdown",
   "metadata": {},
   "source": [
    "## 0. Pasos\n",
    "- Importación del dataset\n",
    "- Limpieza de datos\n",
    "- Filtrado de datos\n",
    "- Visualización\n",
    "- Feature Engineering\n",
    "- Machine Learning\n",
    "- Evaluación del modelo\n",
    "- Interpretación\n",
    "- Toma de decisiones"
   ]
  },
  {
   "cell_type": "markdown",
   "metadata": {},
   "source": [
    "## 1. Importación del dataset"
   ]
  },
  {
   "cell_type": "code",
   "execution_count": 1,
   "metadata": {},
   "outputs": [
    {
     "name": "stdout",
     "output_type": "stream",
     "text": [
      "/home/dsc/data_science/master_data_science_kschool/08_metodologias_modelado\n"
     ]
    }
   ],
   "source": [
    "! pwd"
   ]
  },
  {
   "cell_type": "code",
   "execution_count": 1,
   "metadata": {},
   "outputs": [],
   "source": [
    "! cd /home/dsc/data_science/master_data_science_kschool/08_metodologias_modelado/"
   ]
  },
  {
   "cell_type": "code",
   "execution_count": 2,
   "metadata": {},
   "outputs": [
    {
     "name": "stdout",
     "output_type": "stream",
     "text": [
      " CDNOW_master.txt  'Modelling Methodologies Final PDF.pdf'\n",
      " CDNOW_master.zip   read_me_CDNOW_master.txt\n",
      " exercise_1.xlsx    Untitled1.ipynb\n",
      " exercise_2.xlsx    Untitled.ipynb\n",
      "'ML Canvas.pptx'\n"
     ]
    }
   ],
   "source": [
    "! ls"
   ]
  },
  {
   "cell_type": "code",
   "execution_count": 10,
   "metadata": {},
   "outputs": [
    {
     "name": "stdout",
     "output_type": "stream",
     "text": [
      "Archive:  CDNOW_master.zip\n",
      "replace CDNOW_master.txt? [y]es, [n]o, [A]ll, [N]one, [r]ename: ^C\n"
     ]
    }
   ],
   "source": [
    "! unzip CDNOW_master.zip"
   ]
  },
  {
   "cell_type": "markdown",
   "metadata": {},
   "source": [
    "- Se han descomprimido dos archivos:\n",
    "    - CDNOW_master.txt\n",
    "    - read_me_CDNOW_master.txt"
   ]
  },
  {
   "cell_type": "markdown",
   "metadata": {},
   "source": [
    "- Abrimos el CDNOW_master.txt"
   ]
  },
  {
   "cell_type": "code",
   "execution_count": 1,
   "metadata": {},
   "outputs": [],
   "source": [
    "import pandas as pd\n",
    "db = pd.read_csv(\"CDNOW_master.txt\")"
   ]
  },
  {
   "cell_type": "code",
   "execution_count": 12,
   "metadata": {},
   "outputs": [
    {
     "data": {
      "text/html": [
       "<div>\n",
       "<style scoped>\n",
       "    .dataframe tbody tr th:only-of-type {\n",
       "        vertical-align: middle;\n",
       "    }\n",
       "\n",
       "    .dataframe tbody tr th {\n",
       "        vertical-align: top;\n",
       "    }\n",
       "\n",
       "    .dataframe thead th {\n",
       "        text-align: right;\n",
       "    }\n",
       "</style>\n",
       "<table border=\"1\" class=\"dataframe\">\n",
       "  <thead>\n",
       "    <tr style=\"text-align: right;\">\n",
       "      <th></th>\n",
       "      <th>00001 19970101  1   11.77</th>\n",
       "    </tr>\n",
       "  </thead>\n",
       "  <tbody>\n",
       "    <tr>\n",
       "      <th>0</th>\n",
       "      <td>00002 19970112  1   12.00</td>\n",
       "    </tr>\n",
       "    <tr>\n",
       "      <th>1</th>\n",
       "      <td>00002 19970112  5   77.00</td>\n",
       "    </tr>\n",
       "    <tr>\n",
       "      <th>2</th>\n",
       "      <td>00003 19970102  2   20.76</td>\n",
       "    </tr>\n",
       "    <tr>\n",
       "      <th>3</th>\n",
       "      <td>00003 19970330  2   20.76</td>\n",
       "    </tr>\n",
       "    <tr>\n",
       "      <th>4</th>\n",
       "      <td>00003 19970402  2   19.54</td>\n",
       "    </tr>\n",
       "  </tbody>\n",
       "</table>\n",
       "</div>"
      ],
      "text/plain": [
       "    00001 19970101  1   11.77\n",
       "0   00002 19970112  1   12.00\n",
       "1   00002 19970112  5   77.00\n",
       "2   00003 19970102  2   20.76\n",
       "3   00003 19970330  2   20.76\n",
       "4   00003 19970402  2   19.54"
      ]
     },
     "execution_count": 12,
     "metadata": {},
     "output_type": "execute_result"
    }
   ],
   "source": [
    "db.head(5)"
   ]
  },
  {
   "cell_type": "markdown",
   "metadata": {},
   "source": [
    "- Leemos el read_me_CDNOW_master.txt"
   ]
  },
  {
   "cell_type": "code",
   "execution_count": 18,
   "metadata": {},
   "outputs": [
    {
     "name": "stdout",
     "output_type": "stream",
     "text": [
      "The file CDNOW_master.txt contains the entire purchase history up to the end of June 1998 of the cohort of 23,570 individuals who made their first-ever purchase at CDNOW in the first quarter of 1997. This CDNOW dataset was first used by Fader and Hardie (2001).\n",
      "\n",
      "Each record in this file, 69,659 in total, comprises four fields: the customer's ID, the date of the transaction, the number of CDs purchased, and the dollar value of the transaction.\n",
      "\n",
      "See \"Notes on the CDNOW Master Data Set\" (http://brucehardie.com/notes/026/) for details of how the 1/10th systematic sample (http://brucehardie.com/datasets/CDNOW_sample.zip) used in many papers was created. \n",
      "\n",
      "Reference:\n",
      "\n",
      "Fader, Peter S. and Bruce G.,S. Hardie, (2001), \"Forecasting Repeat Sales at CDNOW: A Case Study,\" Interfaces, 31 (May-June), Part 2 of 2, S94-S107.\n",
      "\n"
     ]
    }
   ],
   "source": [
    "! cat read_me_CDNOW_master.txt"
   ]
  },
  {
   "cell_type": "markdown",
   "metadata": {},
   "source": [
    "- Con `read_csv` ha leído todo en una columna. Se convierte el CDNOW_master.txt en formato apto para pandas\n",
    "    - Se abre con un `with`.\n",
    "    - No se puede olvidar poner el nombre del archivo entre comillas, si no se hace dirá que la variable no está definida."
   ]
  },
  {
   "cell_type": "code",
   "execution_count": 2,
   "metadata": {},
   "outputs": [],
   "source": [
    "with open(\"CDNOW_master.txt\") as file:\n",
    "    my_file =  file.read()"
   ]
  },
  {
   "cell_type": "code",
   "execution_count": 3,
   "metadata": {},
   "outputs": [
    {
     "data": {
      "text/plain": [
       "str"
      ]
     },
     "execution_count": 3,
     "metadata": {},
     "output_type": "execute_result"
    }
   ],
   "source": [
    "type(my_file)"
   ]
  },
  {
   "cell_type": "code",
   "execution_count": 4,
   "metadata": {},
   "outputs": [
    {
     "data": {
      "text/plain": [
       "True"
      ]
     },
     "execution_count": 4,
     "metadata": {},
     "output_type": "execute_result"
    }
   ],
   "source": [
    "file.closed"
   ]
  },
  {
   "cell_type": "markdown",
   "metadata": {},
   "source": [
    "- Del código de arriba se pueden sacar dos conclusiones:\n",
    "    - Como se ha abierto con un `with`, al terminar el `with` el archivo `file` se ha cerrado\n",
    "    - La variable *my_file* es de tipo `str`, así que tiene los métodos y atributos de las strings. Por lo tanto, head no servirá con ella."
   ]
  },
  {
   "cell_type": "code",
   "execution_count": 5,
   "metadata": {},
   "outputs": [
    {
     "ename": "AttributeError",
     "evalue": "'str' object has no attribute 'head'",
     "output_type": "error",
     "traceback": [
      "\u001b[0;31m---------------------------------------------------------------------------\u001b[0m",
      "\u001b[0;31mAttributeError\u001b[0m                            Traceback (most recent call last)",
      "\u001b[0;32m<ipython-input-5-9c2f3d6bb55b>\u001b[0m in \u001b[0;36m<module>\u001b[0;34m\u001b[0m\n\u001b[0;32m----> 1\u001b[0;31m \u001b[0mmy_file\u001b[0m\u001b[0;34m.\u001b[0m\u001b[0mhead\u001b[0m\u001b[0;34m(\u001b[0m\u001b[0;36m5\u001b[0m\u001b[0;34m)\u001b[0m\u001b[0;34m\u001b[0m\u001b[0;34m\u001b[0m\u001b[0m\n\u001b[0m",
      "\u001b[0;31mAttributeError\u001b[0m: 'str' object has no attribute 'head'"
     ]
    }
   ],
   "source": [
    "my_file.head(5)"
   ]
  },
  {
   "cell_type": "code",
   "execution_count": 6,
   "metadata": {},
   "outputs": [
    {
     "data": {
      "text/plain": [
       "' 00001 19970101  1   11.77\\n 00002 19970112  1   12.00\\n 00002 19970112  5   77.00\\n 00003 19970102  2 '"
      ]
     },
     "execution_count": 6,
     "metadata": {},
     "output_type": "execute_result"
    }
   ],
   "source": [
    "my_file[0:100]"
   ]
  },
  {
   "cell_type": "markdown",
   "metadata": {},
   "source": [
    "- Se va a separar la string en una lista en base a un caracter común: el salto de línea"
   ]
  },
  {
   "cell_type": "code",
   "execution_count": 7,
   "metadata": {},
   "outputs": [],
   "source": [
    "my_file = my_file.split(\"\\n\")"
   ]
  },
  {
   "cell_type": "code",
   "execution_count": 8,
   "metadata": {},
   "outputs": [
    {
     "data": {
      "text/plain": [
       "[' 00001 19970101  1   11.77',\n",
       " ' 00002 19970112  1   12.00',\n",
       " ' 00002 19970112  5   77.00',\n",
       " ' 00003 19970102  2   20.76',\n",
       " ' 00003 19970330  2   20.76']"
      ]
     },
     "execution_count": 8,
     "metadata": {},
     "output_type": "execute_result"
    }
   ],
   "source": [
    "my_file[0:5]"
   ]
  },
  {
   "cell_type": "code",
   "execution_count": 9,
   "metadata": {},
   "outputs": [
    {
     "data": {
      "text/plain": [
       "list"
      ]
     },
     "execution_count": 9,
     "metadata": {},
     "output_type": "execute_result"
    }
   ],
   "source": [
    "type(my_file)"
   ]
  },
  {
   "cell_type": "markdown",
   "metadata": {},
   "source": [
    "- Por otra parte, faltaría dividir en columnas cada línea, que se encuentra separada actualmente por espacios.\n",
    "    - Tengo que hacer un nuevo `split` pero las listas no tienen el método `split`.\n",
    "    - ... Pero cada una de sus líneas son strings y sí tienen ese método\n",
    "    - Como tengo que aplicar la función línea a línea, necesito una función lambda\n",
    "    - Así creo listas dentro de una listas"
   ]
  },
  {
   "cell_type": "code",
   "execution_count": 10,
   "metadata": {},
   "outputs": [
    {
     "ename": "AttributeError",
     "evalue": "'list' object has no attribute 'split'",
     "output_type": "error",
     "traceback": [
      "\u001b[0;31m---------------------------------------------------------------------------\u001b[0m",
      "\u001b[0;31mAttributeError\u001b[0m                            Traceback (most recent call last)",
      "\u001b[0;32m<ipython-input-10-04611b964fa6>\u001b[0m in \u001b[0;36m<module>\u001b[0;34m\u001b[0m\n\u001b[0;32m----> 1\u001b[0;31m \u001b[0mmy_file\u001b[0m\u001b[0;34m.\u001b[0m\u001b[0msplit\u001b[0m\u001b[0;34m(\u001b[0m\u001b[0;34m\" \"\u001b[0m\u001b[0;34m)\u001b[0m\u001b[0;34m\u001b[0m\u001b[0;34m\u001b[0m\u001b[0m\n\u001b[0m",
      "\u001b[0;31mAttributeError\u001b[0m: 'list' object has no attribute 'split'"
     ]
    }
   ],
   "source": [
    "my_file.split(\" \")"
   ]
  },
  {
   "cell_type": "code",
   "execution_count": 11,
   "metadata": {},
   "outputs": [
    {
     "data": {
      "text/plain": [
       "str"
      ]
     },
     "execution_count": 11,
     "metadata": {},
     "output_type": "execute_result"
    }
   ],
   "source": [
    "type(my_file[0])"
   ]
  },
  {
   "cell_type": "code",
   "execution_count": 12,
   "metadata": {},
   "outputs": [
    {
     "data": {
      "text/plain": [
       "['00001', '19970101', '1', '11.77']"
      ]
     },
     "execution_count": 12,
     "metadata": {},
     "output_type": "execute_result"
    }
   ],
   "source": [
    "my_file[0].split()"
   ]
  },
  {
   "cell_type": "code",
   "execution_count": 13,
   "metadata": {},
   "outputs": [],
   "source": [
    "lines = list(map(lambda line: line.split(),my_file))"
   ]
  },
  {
   "cell_type": "code",
   "execution_count": 14,
   "metadata": {},
   "outputs": [
    {
     "data": {
      "text/plain": [
       "['00001', '19970101', '1', '11.77']"
      ]
     },
     "execution_count": 14,
     "metadata": {},
     "output_type": "execute_result"
    }
   ],
   "source": [
    "lines[0]"
   ]
  },
  {
   "cell_type": "markdown",
   "metadata": {},
   "source": [
    "- Ya lo puedo pasar todo a un DataFrame de Pandas"
   ]
  },
  {
   "cell_type": "code",
   "execution_count": 15,
   "metadata": {},
   "outputs": [],
   "source": [
    "df = pd.DataFrame(lines)"
   ]
  },
  {
   "cell_type": "code",
   "execution_count": 16,
   "metadata": {},
   "outputs": [
    {
     "data": {
      "text/html": [
       "<div>\n",
       "<style scoped>\n",
       "    .dataframe tbody tr th:only-of-type {\n",
       "        vertical-align: middle;\n",
       "    }\n",
       "\n",
       "    .dataframe tbody tr th {\n",
       "        vertical-align: top;\n",
       "    }\n",
       "\n",
       "    .dataframe thead th {\n",
       "        text-align: right;\n",
       "    }\n",
       "</style>\n",
       "<table border=\"1\" class=\"dataframe\">\n",
       "  <thead>\n",
       "    <tr style=\"text-align: right;\">\n",
       "      <th></th>\n",
       "      <th>0</th>\n",
       "      <th>1</th>\n",
       "      <th>2</th>\n",
       "      <th>3</th>\n",
       "    </tr>\n",
       "  </thead>\n",
       "  <tbody>\n",
       "    <tr>\n",
       "      <th>0</th>\n",
       "      <td>00001</td>\n",
       "      <td>19970101</td>\n",
       "      <td>1</td>\n",
       "      <td>11.77</td>\n",
       "    </tr>\n",
       "    <tr>\n",
       "      <th>1</th>\n",
       "      <td>00002</td>\n",
       "      <td>19970112</td>\n",
       "      <td>1</td>\n",
       "      <td>12.00</td>\n",
       "    </tr>\n",
       "    <tr>\n",
       "      <th>2</th>\n",
       "      <td>00002</td>\n",
       "      <td>19970112</td>\n",
       "      <td>5</td>\n",
       "      <td>77.00</td>\n",
       "    </tr>\n",
       "    <tr>\n",
       "      <th>3</th>\n",
       "      <td>00003</td>\n",
       "      <td>19970102</td>\n",
       "      <td>2</td>\n",
       "      <td>20.76</td>\n",
       "    </tr>\n",
       "    <tr>\n",
       "      <th>4</th>\n",
       "      <td>00003</td>\n",
       "      <td>19970330</td>\n",
       "      <td>2</td>\n",
       "      <td>20.76</td>\n",
       "    </tr>\n",
       "  </tbody>\n",
       "</table>\n",
       "</div>"
      ],
      "text/plain": [
       "       0         1  2      3\n",
       "0  00001  19970101  1  11.77\n",
       "1  00002  19970112  1  12.00\n",
       "2  00002  19970112  5  77.00\n",
       "3  00003  19970102  2  20.76\n",
       "4  00003  19970330  2  20.76"
      ]
     },
     "execution_count": 16,
     "metadata": {},
     "output_type": "execute_result"
    }
   ],
   "source": [
    "df.head(5)"
   ]
  },
  {
   "cell_type": "markdown",
   "metadata": {},
   "source": [
    "- Establezco el nombre de las columnas"
   ]
  },
  {
   "cell_type": "code",
   "execution_count": 17,
   "metadata": {},
   "outputs": [],
   "source": [
    "df.columns = [\"customer_id\",\"date\",\"quantity\",\"money\"]"
   ]
  },
  {
   "cell_type": "code",
   "execution_count": 18,
   "metadata": {},
   "outputs": [
    {
     "data": {
      "text/html": [
       "<div>\n",
       "<style scoped>\n",
       "    .dataframe tbody tr th:only-of-type {\n",
       "        vertical-align: middle;\n",
       "    }\n",
       "\n",
       "    .dataframe tbody tr th {\n",
       "        vertical-align: top;\n",
       "    }\n",
       "\n",
       "    .dataframe thead th {\n",
       "        text-align: right;\n",
       "    }\n",
       "</style>\n",
       "<table border=\"1\" class=\"dataframe\">\n",
       "  <thead>\n",
       "    <tr style=\"text-align: right;\">\n",
       "      <th></th>\n",
       "      <th>customer_id</th>\n",
       "      <th>date</th>\n",
       "      <th>quantity</th>\n",
       "      <th>money</th>\n",
       "    </tr>\n",
       "  </thead>\n",
       "  <tbody>\n",
       "    <tr>\n",
       "      <th>0</th>\n",
       "      <td>00001</td>\n",
       "      <td>19970101</td>\n",
       "      <td>1</td>\n",
       "      <td>11.77</td>\n",
       "    </tr>\n",
       "    <tr>\n",
       "      <th>1</th>\n",
       "      <td>00002</td>\n",
       "      <td>19970112</td>\n",
       "      <td>1</td>\n",
       "      <td>12.00</td>\n",
       "    </tr>\n",
       "    <tr>\n",
       "      <th>2</th>\n",
       "      <td>00002</td>\n",
       "      <td>19970112</td>\n",
       "      <td>5</td>\n",
       "      <td>77.00</td>\n",
       "    </tr>\n",
       "    <tr>\n",
       "      <th>3</th>\n",
       "      <td>00003</td>\n",
       "      <td>19970102</td>\n",
       "      <td>2</td>\n",
       "      <td>20.76</td>\n",
       "    </tr>\n",
       "    <tr>\n",
       "      <th>4</th>\n",
       "      <td>00003</td>\n",
       "      <td>19970330</td>\n",
       "      <td>2</td>\n",
       "      <td>20.76</td>\n",
       "    </tr>\n",
       "  </tbody>\n",
       "</table>\n",
       "</div>"
      ],
      "text/plain": [
       "  customer_id      date quantity  money\n",
       "0       00001  19970101        1  11.77\n",
       "1       00002  19970112        1  12.00\n",
       "2       00002  19970112        5  77.00\n",
       "3       00003  19970102        2  20.76\n",
       "4       00003  19970330        2  20.76"
      ]
     },
     "execution_count": 18,
     "metadata": {},
     "output_type": "execute_result"
    }
   ],
   "source": [
    "df.head(5)"
   ]
  },
  {
   "cell_type": "code",
   "execution_count": 19,
   "metadata": {},
   "outputs": [],
   "source": [
    "# También podria haberlo establecido así:\n",
    "df = pd.DataFrame(lines, columns = [\"customer_id\",\"date\",\"quantity\",\"money\"])"
   ]
  },
  {
   "cell_type": "markdown",
   "metadata": {},
   "source": [
    "## 2. Limpieza de datos"
   ]
  },
  {
   "cell_type": "markdown",
   "metadata": {},
   "source": [
    "- Como siempre, comenzamos viendo el tipo de las columnas importadas\n",
    "    - Recordad que como `dtypes` es un atributo propio de pandas, una librería de Python, hay que nombrar antes a la librería y no a la función como es el caso de `type(str)` al ser una built-in."
   ]
  },
  {
   "cell_type": "code",
   "execution_count": 20,
   "metadata": {},
   "outputs": [
    {
     "data": {
      "text/plain": [
       "customer_id    object\n",
       "date           object\n",
       "quantity       object\n",
       "money          object\n",
       "dtype: object"
      ]
     },
     "execution_count": 20,
     "metadata": {},
     "output_type": "execute_result"
    }
   ],
   "source": [
    "df.dtypes"
   ]
  },
  {
   "cell_type": "code",
   "execution_count": 21,
   "metadata": {},
   "outputs": [],
   "source": [
    "df[\"quantity\"]=df[\"quantity\"].astype(float)\n",
    "df[\"money\"]=df[\"money\"].astype(float)"
   ]
  },
  {
   "cell_type": "code",
   "execution_count": 22,
   "metadata": {},
   "outputs": [],
   "source": [
    "from datetime import datetime\n",
    "df[\"date\"]=pd.to_datetime(df[\"date\"],format=\"%Y%m%d\")"
   ]
  },
  {
   "cell_type": "code",
   "execution_count": 23,
   "metadata": {},
   "outputs": [
    {
     "data": {
      "text/plain": [
       "customer_id            object\n",
       "date           datetime64[ns]\n",
       "quantity              float64\n",
       "money                 float64\n",
       "dtype: object"
      ]
     },
     "execution_count": 23,
     "metadata": {},
     "output_type": "execute_result"
    }
   ],
   "source": [
    "df.dtypes"
   ]
  },
  {
   "cell_type": "markdown",
   "metadata": {},
   "source": [
    "- Analizamos si hay nulos:    "
   ]
  },
  {
   "cell_type": "code",
   "execution_count": 24,
   "metadata": {},
   "outputs": [
    {
     "data": {
      "text/html": [
       "<div>\n",
       "<style scoped>\n",
       "    .dataframe tbody tr th:only-of-type {\n",
       "        vertical-align: middle;\n",
       "    }\n",
       "\n",
       "    .dataframe tbody tr th {\n",
       "        vertical-align: top;\n",
       "    }\n",
       "\n",
       "    .dataframe thead th {\n",
       "        text-align: right;\n",
       "    }\n",
       "</style>\n",
       "<table border=\"1\" class=\"dataframe\">\n",
       "  <thead>\n",
       "    <tr style=\"text-align: right;\">\n",
       "      <th></th>\n",
       "      <th>customer_id</th>\n",
       "      <th>date</th>\n",
       "      <th>quantity</th>\n",
       "      <th>money</th>\n",
       "    </tr>\n",
       "  </thead>\n",
       "  <tbody>\n",
       "    <tr>\n",
       "      <th>69659</th>\n",
       "      <td>None</td>\n",
       "      <td>NaT</td>\n",
       "      <td>NaN</td>\n",
       "      <td>NaN</td>\n",
       "    </tr>\n",
       "  </tbody>\n",
       "</table>\n",
       "</div>"
      ],
      "text/plain": [
       "      customer_id date  quantity  money\n",
       "69659        None  NaT       NaN    NaN"
      ]
     },
     "execution_count": 24,
     "metadata": {},
     "output_type": "execute_result"
    }
   ],
   "source": [
    "df[df[\"quantity\"].isnull()]"
   ]
  },
  {
   "cell_type": "markdown",
   "metadata": {},
   "source": [
    "- Como sí hay nulos, los eliminamos:"
   ]
  },
  {
   "cell_type": "code",
   "execution_count": 25,
   "metadata": {},
   "outputs": [],
   "source": [
    "df.dropna(inplace=True)"
   ]
  },
  {
   "cell_type": "code",
   "execution_count": 26,
   "metadata": {},
   "outputs": [
    {
     "data": {
      "text/html": [
       "<div>\n",
       "<style scoped>\n",
       "    .dataframe tbody tr th:only-of-type {\n",
       "        vertical-align: middle;\n",
       "    }\n",
       "\n",
       "    .dataframe tbody tr th {\n",
       "        vertical-align: top;\n",
       "    }\n",
       "\n",
       "    .dataframe thead th {\n",
       "        text-align: right;\n",
       "    }\n",
       "</style>\n",
       "<table border=\"1\" class=\"dataframe\">\n",
       "  <thead>\n",
       "    <tr style=\"text-align: right;\">\n",
       "      <th></th>\n",
       "      <th>customer_id</th>\n",
       "      <th>date</th>\n",
       "      <th>quantity</th>\n",
       "      <th>money</th>\n",
       "    </tr>\n",
       "  </thead>\n",
       "  <tbody>\n",
       "  </tbody>\n",
       "</table>\n",
       "</div>"
      ],
      "text/plain": [
       "Empty DataFrame\n",
       "Columns: [customer_id, date, quantity, money]\n",
       "Index: []"
      ]
     },
     "execution_count": 26,
     "metadata": {},
     "output_type": "execute_result"
    }
   ],
   "source": [
    "df[df[\"quantity\"].isnull()]"
   ]
  },
  {
   "cell_type": "markdown",
   "metadata": {},
   "source": [
    "- Ya tenemos todas las columnas convertidas al tipo correcto.\n",
    "- No tenemos NaN\n",
    "- Podemos realizar una primera aproximación con `describe`"
   ]
  },
  {
   "cell_type": "code",
   "execution_count": 27,
   "metadata": {},
   "outputs": [
    {
     "data": {
      "text/html": [
       "<div>\n",
       "<style scoped>\n",
       "    .dataframe tbody tr th:only-of-type {\n",
       "        vertical-align: middle;\n",
       "    }\n",
       "\n",
       "    .dataframe tbody tr th {\n",
       "        vertical-align: top;\n",
       "    }\n",
       "\n",
       "    .dataframe thead th {\n",
       "        text-align: right;\n",
       "    }\n",
       "</style>\n",
       "<table border=\"1\" class=\"dataframe\">\n",
       "  <thead>\n",
       "    <tr style=\"text-align: right;\">\n",
       "      <th></th>\n",
       "      <th>customer_id</th>\n",
       "      <th>date</th>\n",
       "      <th>quantity</th>\n",
       "      <th>money</th>\n",
       "    </tr>\n",
       "  </thead>\n",
       "  <tbody>\n",
       "    <tr>\n",
       "      <th>count</th>\n",
       "      <td>69659</td>\n",
       "      <td>69659</td>\n",
       "      <td>69659.000000</td>\n",
       "      <td>69659.000000</td>\n",
       "    </tr>\n",
       "    <tr>\n",
       "      <th>unique</th>\n",
       "      <td>23570</td>\n",
       "      <td>546</td>\n",
       "      <td>NaN</td>\n",
       "      <td>NaN</td>\n",
       "    </tr>\n",
       "    <tr>\n",
       "      <th>top</th>\n",
       "      <td>14048</td>\n",
       "      <td>1997-02-24 00:00:00</td>\n",
       "      <td>NaN</td>\n",
       "      <td>NaN</td>\n",
       "    </tr>\n",
       "    <tr>\n",
       "      <th>freq</th>\n",
       "      <td>217</td>\n",
       "      <td>504</td>\n",
       "      <td>NaN</td>\n",
       "      <td>NaN</td>\n",
       "    </tr>\n",
       "    <tr>\n",
       "      <th>first</th>\n",
       "      <td>NaN</td>\n",
       "      <td>1997-01-01 00:00:00</td>\n",
       "      <td>NaN</td>\n",
       "      <td>NaN</td>\n",
       "    </tr>\n",
       "    <tr>\n",
       "      <th>last</th>\n",
       "      <td>NaN</td>\n",
       "      <td>1998-06-30 00:00:00</td>\n",
       "      <td>NaN</td>\n",
       "      <td>NaN</td>\n",
       "    </tr>\n",
       "    <tr>\n",
       "      <th>mean</th>\n",
       "      <td>NaN</td>\n",
       "      <td>NaN</td>\n",
       "      <td>2.410040</td>\n",
       "      <td>35.893648</td>\n",
       "    </tr>\n",
       "    <tr>\n",
       "      <th>std</th>\n",
       "      <td>NaN</td>\n",
       "      <td>NaN</td>\n",
       "      <td>2.333924</td>\n",
       "      <td>36.281942</td>\n",
       "    </tr>\n",
       "    <tr>\n",
       "      <th>min</th>\n",
       "      <td>NaN</td>\n",
       "      <td>NaN</td>\n",
       "      <td>1.000000</td>\n",
       "      <td>0.000000</td>\n",
       "    </tr>\n",
       "    <tr>\n",
       "      <th>25%</th>\n",
       "      <td>NaN</td>\n",
       "      <td>NaN</td>\n",
       "      <td>1.000000</td>\n",
       "      <td>14.490000</td>\n",
       "    </tr>\n",
       "    <tr>\n",
       "      <th>50%</th>\n",
       "      <td>NaN</td>\n",
       "      <td>NaN</td>\n",
       "      <td>2.000000</td>\n",
       "      <td>25.980000</td>\n",
       "    </tr>\n",
       "    <tr>\n",
       "      <th>75%</th>\n",
       "      <td>NaN</td>\n",
       "      <td>NaN</td>\n",
       "      <td>3.000000</td>\n",
       "      <td>43.700000</td>\n",
       "    </tr>\n",
       "    <tr>\n",
       "      <th>max</th>\n",
       "      <td>NaN</td>\n",
       "      <td>NaN</td>\n",
       "      <td>99.000000</td>\n",
       "      <td>1286.010000</td>\n",
       "    </tr>\n",
       "  </tbody>\n",
       "</table>\n",
       "</div>"
      ],
      "text/plain": [
       "       customer_id                 date      quantity         money\n",
       "count        69659                69659  69659.000000  69659.000000\n",
       "unique       23570                  546           NaN           NaN\n",
       "top          14048  1997-02-24 00:00:00           NaN           NaN\n",
       "freq           217                  504           NaN           NaN\n",
       "first          NaN  1997-01-01 00:00:00           NaN           NaN\n",
       "last           NaN  1998-06-30 00:00:00           NaN           NaN\n",
       "mean           NaN                  NaN      2.410040     35.893648\n",
       "std            NaN                  NaN      2.333924     36.281942\n",
       "min            NaN                  NaN      1.000000      0.000000\n",
       "25%            NaN                  NaN      1.000000     14.490000\n",
       "50%            NaN                  NaN      2.000000     25.980000\n",
       "75%            NaN                  NaN      3.000000     43.700000\n",
       "max            NaN                  NaN     99.000000   1286.010000"
      ]
     },
     "execution_count": 27,
     "metadata": {},
     "output_type": "execute_result"
    }
   ],
   "source": [
    "df.describe(include=\"all\", percentiles=[.25,.5,.75])"
   ]
  },
  {
   "cell_type": "markdown",
   "metadata": {},
   "source": [
    "- Se puede ver la actividad del customer_id con más compras"
   ]
  },
  {
   "cell_type": "code",
   "execution_count": 32,
   "metadata": {},
   "outputs": [
    {
     "data": {
      "text/html": [
       "<div>\n",
       "<style scoped>\n",
       "    .dataframe tbody tr th:only-of-type {\n",
       "        vertical-align: middle;\n",
       "    }\n",
       "\n",
       "    .dataframe tbody tr th {\n",
       "        vertical-align: top;\n",
       "    }\n",
       "\n",
       "    .dataframe thead th {\n",
       "        text-align: right;\n",
       "    }\n",
       "</style>\n",
       "<table border=\"1\" class=\"dataframe\">\n",
       "  <thead>\n",
       "    <tr style=\"text-align: right;\">\n",
       "      <th></th>\n",
       "      <th>customer_id</th>\n",
       "      <th>date</th>\n",
       "      <th>quantity</th>\n",
       "      <th>money</th>\n",
       "    </tr>\n",
       "  </thead>\n",
       "  <tbody>\n",
       "    <tr>\n",
       "      <th>42713</th>\n",
       "      <td>14048</td>\n",
       "      <td>1997-02-19</td>\n",
       "      <td>1.0</td>\n",
       "      <td>4.79</td>\n",
       "    </tr>\n",
       "    <tr>\n",
       "      <th>42714</th>\n",
       "      <td>14048</td>\n",
       "      <td>1997-02-24</td>\n",
       "      <td>1.0</td>\n",
       "      <td>4.79</td>\n",
       "    </tr>\n",
       "    <tr>\n",
       "      <th>42715</th>\n",
       "      <td>14048</td>\n",
       "      <td>1997-02-26</td>\n",
       "      <td>1.0</td>\n",
       "      <td>9.98</td>\n",
       "    </tr>\n",
       "    <tr>\n",
       "      <th>42716</th>\n",
       "      <td>14048</td>\n",
       "      <td>1997-02-28</td>\n",
       "      <td>1.0</td>\n",
       "      <td>15.36</td>\n",
       "    </tr>\n",
       "    <tr>\n",
       "      <th>42717</th>\n",
       "      <td>14048</td>\n",
       "      <td>1997-02-28</td>\n",
       "      <td>1.0</td>\n",
       "      <td>4.79</td>\n",
       "    </tr>\n",
       "    <tr>\n",
       "      <th>42718</th>\n",
       "      <td>14048</td>\n",
       "      <td>1997-03-06</td>\n",
       "      <td>3.0</td>\n",
       "      <td>24.35</td>\n",
       "    </tr>\n",
       "    <tr>\n",
       "      <th>42719</th>\n",
       "      <td>14048</td>\n",
       "      <td>1997-03-13</td>\n",
       "      <td>7.0</td>\n",
       "      <td>55.29</td>\n",
       "    </tr>\n",
       "    <tr>\n",
       "      <th>42720</th>\n",
       "      <td>14048</td>\n",
       "      <td>1997-03-14</td>\n",
       "      <td>5.0</td>\n",
       "      <td>58.87</td>\n",
       "    </tr>\n",
       "    <tr>\n",
       "      <th>42721</th>\n",
       "      <td>14048</td>\n",
       "      <td>1997-03-16</td>\n",
       "      <td>3.0</td>\n",
       "      <td>23.55</td>\n",
       "    </tr>\n",
       "    <tr>\n",
       "      <th>42722</th>\n",
       "      <td>14048</td>\n",
       "      <td>1997-03-18</td>\n",
       "      <td>4.0</td>\n",
       "      <td>24.55</td>\n",
       "    </tr>\n",
       "    <tr>\n",
       "      <th>42723</th>\n",
       "      <td>14048</td>\n",
       "      <td>1997-03-20</td>\n",
       "      <td>3.0</td>\n",
       "      <td>21.75</td>\n",
       "    </tr>\n",
       "    <tr>\n",
       "      <th>42724</th>\n",
       "      <td>14048</td>\n",
       "      <td>1997-03-20</td>\n",
       "      <td>1.0</td>\n",
       "      <td>4.79</td>\n",
       "    </tr>\n",
       "    <tr>\n",
       "      <th>42725</th>\n",
       "      <td>14048</td>\n",
       "      <td>1997-03-27</td>\n",
       "      <td>4.0</td>\n",
       "      <td>33.53</td>\n",
       "    </tr>\n",
       "    <tr>\n",
       "      <th>42726</th>\n",
       "      <td>14048</td>\n",
       "      <td>1997-03-28</td>\n",
       "      <td>7.0</td>\n",
       "      <td>64.67</td>\n",
       "    </tr>\n",
       "    <tr>\n",
       "      <th>42727</th>\n",
       "      <td>14048</td>\n",
       "      <td>1997-03-28</td>\n",
       "      <td>3.0</td>\n",
       "      <td>17.36</td>\n",
       "    </tr>\n",
       "    <tr>\n",
       "      <th>42728</th>\n",
       "      <td>14048</td>\n",
       "      <td>1997-04-03</td>\n",
       "      <td>4.0</td>\n",
       "      <td>22.15</td>\n",
       "    </tr>\n",
       "    <tr>\n",
       "      <th>42729</th>\n",
       "      <td>14048</td>\n",
       "      <td>1997-04-04</td>\n",
       "      <td>8.0</td>\n",
       "      <td>88.81</td>\n",
       "    </tr>\n",
       "    <tr>\n",
       "      <th>42730</th>\n",
       "      <td>14048</td>\n",
       "      <td>1997-04-09</td>\n",
       "      <td>2.0</td>\n",
       "      <td>11.58</td>\n",
       "    </tr>\n",
       "    <tr>\n",
       "      <th>42731</th>\n",
       "      <td>14048</td>\n",
       "      <td>1997-04-10</td>\n",
       "      <td>5.0</td>\n",
       "      <td>30.34</td>\n",
       "    </tr>\n",
       "    <tr>\n",
       "      <th>42732</th>\n",
       "      <td>14048</td>\n",
       "      <td>1997-04-15</td>\n",
       "      <td>9.0</td>\n",
       "      <td>97.37</td>\n",
       "    </tr>\n",
       "    <tr>\n",
       "      <th>42733</th>\n",
       "      <td>14048</td>\n",
       "      <td>1997-04-15</td>\n",
       "      <td>12.0</td>\n",
       "      <td>132.68</td>\n",
       "    </tr>\n",
       "    <tr>\n",
       "      <th>42734</th>\n",
       "      <td>14048</td>\n",
       "      <td>1997-04-15</td>\n",
       "      <td>1.0</td>\n",
       "      <td>9.77</td>\n",
       "    </tr>\n",
       "    <tr>\n",
       "      <th>42735</th>\n",
       "      <td>14048</td>\n",
       "      <td>1997-04-17</td>\n",
       "      <td>10.0</td>\n",
       "      <td>79.84</td>\n",
       "    </tr>\n",
       "    <tr>\n",
       "      <th>42736</th>\n",
       "      <td>14048</td>\n",
       "      <td>1997-04-24</td>\n",
       "      <td>9.0</td>\n",
       "      <td>85.80</td>\n",
       "    </tr>\n",
       "    <tr>\n",
       "      <th>42737</th>\n",
       "      <td>14048</td>\n",
       "      <td>1997-04-25</td>\n",
       "      <td>9.0</td>\n",
       "      <td>105.35</td>\n",
       "    </tr>\n",
       "    <tr>\n",
       "      <th>42738</th>\n",
       "      <td>14048</td>\n",
       "      <td>1997-04-29</td>\n",
       "      <td>7.0</td>\n",
       "      <td>91.57</td>\n",
       "    </tr>\n",
       "    <tr>\n",
       "      <th>42739</th>\n",
       "      <td>14048</td>\n",
       "      <td>1997-04-29</td>\n",
       "      <td>1.0</td>\n",
       "      <td>4.79</td>\n",
       "    </tr>\n",
       "    <tr>\n",
       "      <th>42740</th>\n",
       "      <td>14048</td>\n",
       "      <td>1997-05-01</td>\n",
       "      <td>4.0</td>\n",
       "      <td>27.93</td>\n",
       "    </tr>\n",
       "    <tr>\n",
       "      <th>42741</th>\n",
       "      <td>14048</td>\n",
       "      <td>1997-05-01</td>\n",
       "      <td>1.0</td>\n",
       "      <td>6.79</td>\n",
       "    </tr>\n",
       "    <tr>\n",
       "      <th>42742</th>\n",
       "      <td>14048</td>\n",
       "      <td>1997-05-10</td>\n",
       "      <td>5.0</td>\n",
       "      <td>47.50</td>\n",
       "    </tr>\n",
       "    <tr>\n",
       "      <th>...</th>\n",
       "      <td>...</td>\n",
       "      <td>...</td>\n",
       "      <td>...</td>\n",
       "      <td>...</td>\n",
       "    </tr>\n",
       "    <tr>\n",
       "      <th>42900</th>\n",
       "      <td>14048</td>\n",
       "      <td>1998-04-14</td>\n",
       "      <td>1.0</td>\n",
       "      <td>11.99</td>\n",
       "    </tr>\n",
       "    <tr>\n",
       "      <th>42901</th>\n",
       "      <td>14048</td>\n",
       "      <td>1998-04-16</td>\n",
       "      <td>4.0</td>\n",
       "      <td>26.66</td>\n",
       "    </tr>\n",
       "    <tr>\n",
       "      <th>42902</th>\n",
       "      <td>14048</td>\n",
       "      <td>1998-04-21</td>\n",
       "      <td>9.0</td>\n",
       "      <td>83.11</td>\n",
       "    </tr>\n",
       "    <tr>\n",
       "      <th>42903</th>\n",
       "      <td>14048</td>\n",
       "      <td>1998-04-21</td>\n",
       "      <td>4.0</td>\n",
       "      <td>49.96</td>\n",
       "    </tr>\n",
       "    <tr>\n",
       "      <th>42904</th>\n",
       "      <td>14048</td>\n",
       "      <td>1998-04-28</td>\n",
       "      <td>14.0</td>\n",
       "      <td>136.56</td>\n",
       "    </tr>\n",
       "    <tr>\n",
       "      <th>42905</th>\n",
       "      <td>14048</td>\n",
       "      <td>1998-04-30</td>\n",
       "      <td>4.0</td>\n",
       "      <td>47.96</td>\n",
       "    </tr>\n",
       "    <tr>\n",
       "      <th>42906</th>\n",
       "      <td>14048</td>\n",
       "      <td>1998-05-05</td>\n",
       "      <td>9.0</td>\n",
       "      <td>78.71</td>\n",
       "    </tr>\n",
       "    <tr>\n",
       "      <th>42907</th>\n",
       "      <td>14048</td>\n",
       "      <td>1998-05-05</td>\n",
       "      <td>1.0</td>\n",
       "      <td>11.99</td>\n",
       "    </tr>\n",
       "    <tr>\n",
       "      <th>42908</th>\n",
       "      <td>14048</td>\n",
       "      <td>1998-05-05</td>\n",
       "      <td>1.0</td>\n",
       "      <td>9.99</td>\n",
       "    </tr>\n",
       "    <tr>\n",
       "      <th>42909</th>\n",
       "      <td>14048</td>\n",
       "      <td>1998-05-07</td>\n",
       "      <td>1.0</td>\n",
       "      <td>9.99</td>\n",
       "    </tr>\n",
       "    <tr>\n",
       "      <th>42910</th>\n",
       "      <td>14048</td>\n",
       "      <td>1998-05-08</td>\n",
       "      <td>5.0</td>\n",
       "      <td>49.29</td>\n",
       "    </tr>\n",
       "    <tr>\n",
       "      <th>42911</th>\n",
       "      <td>14048</td>\n",
       "      <td>1998-05-12</td>\n",
       "      <td>10.0</td>\n",
       "      <td>80.12</td>\n",
       "    </tr>\n",
       "    <tr>\n",
       "      <th>42912</th>\n",
       "      <td>14048</td>\n",
       "      <td>1998-05-19</td>\n",
       "      <td>12.0</td>\n",
       "      <td>107.58</td>\n",
       "    </tr>\n",
       "    <tr>\n",
       "      <th>42913</th>\n",
       "      <td>14048</td>\n",
       "      <td>1998-05-19</td>\n",
       "      <td>5.0</td>\n",
       "      <td>51.95</td>\n",
       "    </tr>\n",
       "    <tr>\n",
       "      <th>42914</th>\n",
       "      <td>14048</td>\n",
       "      <td>1998-05-21</td>\n",
       "      <td>3.0</td>\n",
       "      <td>25.47</td>\n",
       "    </tr>\n",
       "    <tr>\n",
       "      <th>42915</th>\n",
       "      <td>14048</td>\n",
       "      <td>1998-05-26</td>\n",
       "      <td>7.0</td>\n",
       "      <td>64.43</td>\n",
       "    </tr>\n",
       "    <tr>\n",
       "      <th>42916</th>\n",
       "      <td>14048</td>\n",
       "      <td>1998-05-26</td>\n",
       "      <td>1.0</td>\n",
       "      <td>9.99</td>\n",
       "    </tr>\n",
       "    <tr>\n",
       "      <th>42917</th>\n",
       "      <td>14048</td>\n",
       "      <td>1998-05-28</td>\n",
       "      <td>3.0</td>\n",
       "      <td>22.47</td>\n",
       "    </tr>\n",
       "    <tr>\n",
       "      <th>42918</th>\n",
       "      <td>14048</td>\n",
       "      <td>1998-05-28</td>\n",
       "      <td>1.0</td>\n",
       "      <td>9.99</td>\n",
       "    </tr>\n",
       "    <tr>\n",
       "      <th>42919</th>\n",
       "      <td>14048</td>\n",
       "      <td>1998-06-02</td>\n",
       "      <td>15.0</td>\n",
       "      <td>137.83</td>\n",
       "    </tr>\n",
       "    <tr>\n",
       "      <th>42920</th>\n",
       "      <td>14048</td>\n",
       "      <td>1998-06-03</td>\n",
       "      <td>5.0</td>\n",
       "      <td>39.29</td>\n",
       "    </tr>\n",
       "    <tr>\n",
       "      <th>42921</th>\n",
       "      <td>14048</td>\n",
       "      <td>1998-06-04</td>\n",
       "      <td>3.0</td>\n",
       "      <td>28.67</td>\n",
       "    </tr>\n",
       "    <tr>\n",
       "      <th>42922</th>\n",
       "      <td>14048</td>\n",
       "      <td>1998-06-04</td>\n",
       "      <td>1.0</td>\n",
       "      <td>2.99</td>\n",
       "    </tr>\n",
       "    <tr>\n",
       "      <th>42923</th>\n",
       "      <td>14048</td>\n",
       "      <td>1998-06-09</td>\n",
       "      <td>5.0</td>\n",
       "      <td>32.99</td>\n",
       "    </tr>\n",
       "    <tr>\n",
       "      <th>42924</th>\n",
       "      <td>14048</td>\n",
       "      <td>1998-06-11</td>\n",
       "      <td>1.0</td>\n",
       "      <td>2.99</td>\n",
       "    </tr>\n",
       "    <tr>\n",
       "      <th>42925</th>\n",
       "      <td>14048</td>\n",
       "      <td>1998-06-16</td>\n",
       "      <td>11.0</td>\n",
       "      <td>95.89</td>\n",
       "    </tr>\n",
       "    <tr>\n",
       "      <th>42926</th>\n",
       "      <td>14048</td>\n",
       "      <td>1998-06-18</td>\n",
       "      <td>5.0</td>\n",
       "      <td>28.29</td>\n",
       "    </tr>\n",
       "    <tr>\n",
       "      <th>42927</th>\n",
       "      <td>14048</td>\n",
       "      <td>1998-06-23</td>\n",
       "      <td>7.0</td>\n",
       "      <td>56.93</td>\n",
       "    </tr>\n",
       "    <tr>\n",
       "      <th>42928</th>\n",
       "      <td>14048</td>\n",
       "      <td>1998-06-25</td>\n",
       "      <td>5.0</td>\n",
       "      <td>22.95</td>\n",
       "    </tr>\n",
       "    <tr>\n",
       "      <th>42929</th>\n",
       "      <td>14048</td>\n",
       "      <td>1998-06-30</td>\n",
       "      <td>9.0</td>\n",
       "      <td>85.91</td>\n",
       "    </tr>\n",
       "  </tbody>\n",
       "</table>\n",
       "<p>217 rows × 4 columns</p>\n",
       "</div>"
      ],
      "text/plain": [
       "      customer_id       date  quantity   money\n",
       "42713       14048 1997-02-19       1.0    4.79\n",
       "42714       14048 1997-02-24       1.0    4.79\n",
       "42715       14048 1997-02-26       1.0    9.98\n",
       "42716       14048 1997-02-28       1.0   15.36\n",
       "42717       14048 1997-02-28       1.0    4.79\n",
       "42718       14048 1997-03-06       3.0   24.35\n",
       "42719       14048 1997-03-13       7.0   55.29\n",
       "42720       14048 1997-03-14       5.0   58.87\n",
       "42721       14048 1997-03-16       3.0   23.55\n",
       "42722       14048 1997-03-18       4.0   24.55\n",
       "42723       14048 1997-03-20       3.0   21.75\n",
       "42724       14048 1997-03-20       1.0    4.79\n",
       "42725       14048 1997-03-27       4.0   33.53\n",
       "42726       14048 1997-03-28       7.0   64.67\n",
       "42727       14048 1997-03-28       3.0   17.36\n",
       "42728       14048 1997-04-03       4.0   22.15\n",
       "42729       14048 1997-04-04       8.0   88.81\n",
       "42730       14048 1997-04-09       2.0   11.58\n",
       "42731       14048 1997-04-10       5.0   30.34\n",
       "42732       14048 1997-04-15       9.0   97.37\n",
       "42733       14048 1997-04-15      12.0  132.68\n",
       "42734       14048 1997-04-15       1.0    9.77\n",
       "42735       14048 1997-04-17      10.0   79.84\n",
       "42736       14048 1997-04-24       9.0   85.80\n",
       "42737       14048 1997-04-25       9.0  105.35\n",
       "42738       14048 1997-04-29       7.0   91.57\n",
       "42739       14048 1997-04-29       1.0    4.79\n",
       "42740       14048 1997-05-01       4.0   27.93\n",
       "42741       14048 1997-05-01       1.0    6.79\n",
       "42742       14048 1997-05-10       5.0   47.50\n",
       "...           ...        ...       ...     ...\n",
       "42900       14048 1998-04-14       1.0   11.99\n",
       "42901       14048 1998-04-16       4.0   26.66\n",
       "42902       14048 1998-04-21       9.0   83.11\n",
       "42903       14048 1998-04-21       4.0   49.96\n",
       "42904       14048 1998-04-28      14.0  136.56\n",
       "42905       14048 1998-04-30       4.0   47.96\n",
       "42906       14048 1998-05-05       9.0   78.71\n",
       "42907       14048 1998-05-05       1.0   11.99\n",
       "42908       14048 1998-05-05       1.0    9.99\n",
       "42909       14048 1998-05-07       1.0    9.99\n",
       "42910       14048 1998-05-08       5.0   49.29\n",
       "42911       14048 1998-05-12      10.0   80.12\n",
       "42912       14048 1998-05-19      12.0  107.58\n",
       "42913       14048 1998-05-19       5.0   51.95\n",
       "42914       14048 1998-05-21       3.0   25.47\n",
       "42915       14048 1998-05-26       7.0   64.43\n",
       "42916       14048 1998-05-26       1.0    9.99\n",
       "42917       14048 1998-05-28       3.0   22.47\n",
       "42918       14048 1998-05-28       1.0    9.99\n",
       "42919       14048 1998-06-02      15.0  137.83\n",
       "42920       14048 1998-06-03       5.0   39.29\n",
       "42921       14048 1998-06-04       3.0   28.67\n",
       "42922       14048 1998-06-04       1.0    2.99\n",
       "42923       14048 1998-06-09       5.0   32.99\n",
       "42924       14048 1998-06-11       1.0    2.99\n",
       "42925       14048 1998-06-16      11.0   95.89\n",
       "42926       14048 1998-06-18       5.0   28.29\n",
       "42927       14048 1998-06-23       7.0   56.93\n",
       "42928       14048 1998-06-25       5.0   22.95\n",
       "42929       14048 1998-06-30       9.0   85.91\n",
       "\n",
       "[217 rows x 4 columns]"
      ]
     },
     "execution_count": 32,
     "metadata": {},
     "output_type": "execute_result"
    }
   ],
   "source": [
    "df[df[\"customer_id\"]==\"14048\"]"
   ]
  },
  {
   "cell_type": "markdown",
   "metadata": {},
   "source": [
    "## 3. Agregación y filtrado de datos\n",
    "- Vamos a ver cuánto dinero se ha ganado diariamente\n",
    "    - Realizamores un `groupby` por fecha y una suma de los totales.\n",
    "    - Por lo tanto, también habrá que filtrar para solo obtener la columna [\"money\"]"
   ]
  },
  {
   "cell_type": "code",
   "execution_count": 28,
   "metadata": {},
   "outputs": [
    {
     "data": {
      "text/plain": [
       "date\n",
       "1997-01-01    7515.35\n",
       "1997-01-02    8025.95\n",
       "1997-01-03    7475.04\n",
       "1997-01-04    6722.93\n",
       "1997-01-05    9274.80\n",
       "Name: money, dtype: float64"
      ]
     },
     "execution_count": 28,
     "metadata": {},
     "output_type": "execute_result"
    }
   ],
   "source": [
    "incomes = df.groupby(\"date\")[\"money\"].sum()\n",
    "incomes.head(5)"
   ]
  },
  {
   "cell_type": "markdown",
   "metadata": {},
   "source": [
    "## 4. Visualización de datos"
   ]
  },
  {
   "cell_type": "markdown",
   "metadata": {},
   "source": [
    "- Vamos a visualizar en una gráfica el total de income diario\n",
    "    - Con `plt.figure` ponemos el tamaño de la figura"
   ]
  },
  {
   "cell_type": "code",
   "execution_count": 29,
   "metadata": {},
   "outputs": [
    {
     "data": {
      "text/plain": [
       "[<matplotlib.lines.Line2D at 0x7fa81ad67668>]"
      ]
     },
     "execution_count": 29,
     "metadata": {},
     "output_type": "execute_result"
    },
    {
     "data": {
      "image/png": "[encoded data removed]",
      "text/plain": [
       "<Figure size 1080x360 with 1 Axes>"
      ]
     },
     "metadata": {
      "needs_background": "light"
     },
     "output_type": "display_data"
    }
   ],
   "source": [
    "import matplotlib.pyplot as plt\n",
    "%matplotlib inline\n",
    "\n",
    "plt.figure(figsize = (15,5))\n",
    "plt.plot(incomes)"
   ]
  },
  {
   "cell_type": "markdown",
   "metadata": {},
   "source": [
    "- Vamos a visualiar la figura con ambos gráficos por fecha (el fee total y el acumulado)"
   ]
  },
  {
   "cell_type": "code",
   "execution_count": 30,
   "metadata": {},
   "outputs": [
    {
     "data": {
      "text/plain": [
       "[<matplotlib.lines.Line2D at 0x7fa81a9f46d8>,\n",
       " <matplotlib.lines.Line2D at 0x7fa81aa0dcf8>]"
      ]
     },
     "execution_count": 30,
     "metadata": {},
     "output_type": "execute_result"
    },
    {
     "data": {
      "image/png": "[encoded data removed]",
      "text/plain": [
       "<Figure size 1080x360 with 1 Axes>"
      ]
     },
     "metadata": {
      "needs_background": "light"
     },
     "output_type": "display_data"
    }
   ],
   "source": [
    "plt.figure(figsize = (15,5))\n",
    "perdate = df.groupby(by='date').sum()\n",
    "plt.plot(perdate)"
   ]
  },
  {
   "cell_type": "markdown",
   "metadata": {},
   "source": [
    "- Vamos a obtener un array con los \"customer_id\" únicos"
   ]
  },
  {
   "cell_type": "code",
   "execution_count": 36,
   "metadata": {},
   "outputs": [],
   "source": [
    "clients = df[\"customer_id\"].unique()"
   ]
  },
  {
   "cell_type": "code",
   "execution_count": 37,
   "metadata": {},
   "outputs": [
    {
     "data": {
      "text/plain": [
       "array(['00001', '00002', '00003', ..., '23568', '23569', '23570'],\n",
       "      dtype=object)"
      ]
     },
     "execution_count": 37,
     "metadata": {},
     "output_type": "execute_result"
    }
   ],
   "source": [
    "clients"
   ]
  },
  {
   "cell_type": "code",
   "execution_count": 54,
   "metadata": {},
   "outputs": [],
   "source": [
    "from ipywidgets import interact"
   ]
  },
  {
   "cell_type": "code",
   "execution_count": 48,
   "metadata": {},
   "outputs": [
    {
     "data": {
      "text/html": [
       "<div>\n",
       "<style scoped>\n",
       "    .dataframe tbody tr th:only-of-type {\n",
       "        vertical-align: middle;\n",
       "    }\n",
       "\n",
       "    .dataframe tbody tr th {\n",
       "        vertical-align: top;\n",
       "    }\n",
       "\n",
       "    .dataframe thead th {\n",
       "        text-align: right;\n",
       "    }\n",
       "</style>\n",
       "<table border=\"1\" class=\"dataframe\">\n",
       "  <thead>\n",
       "    <tr style=\"text-align: right;\">\n",
       "      <th></th>\n",
       "      <th>customer_id</th>\n",
       "      <th>date</th>\n",
       "      <th>quantity</th>\n",
       "      <th>money</th>\n",
       "    </tr>\n",
       "  </thead>\n",
       "  <tbody>\n",
       "    <tr>\n",
       "      <th>0</th>\n",
       "      <td>00001</td>\n",
       "      <td>1997-01-01</td>\n",
       "      <td>1.0</td>\n",
       "      <td>11.77</td>\n",
       "    </tr>\n",
       "  </tbody>\n",
       "</table>\n",
       "</div>"
      ],
      "text/plain": [
       "  customer_id       date  quantity  money\n",
       "0       00001 1997-01-01       1.0  11.77"
      ]
     },
     "metadata": {},
     "output_type": "display_data"
    }
   ],
   "source": [
    "@interact(clients = clients[:100])\n",
    "def show_clients(clients):\n",
    "    return df[df['customer_id'] == clients]"
   ]
  },
  {
   "cell_type": "code",
   "execution_count": null,
   "metadata": {},
   "outputs": [],
   "source": []
  }
 ],
 "metadata": {
  "kernelspec": {
   "display_name": "Python 3",
   "language": "python",
   "name": "python3"
  },
  "language_info": {
   "codemirror_mode": {
    "name": "ipython",
    "version": 3
   },
   "file_extension": ".py",
   "mimetype": "text/x-python",
   "name": "python",
   "nbconvert_exporter": "python",
   "pygments_lexer": "ipython3",
   "version": "3.7.1"
  }
 },
 "nbformat": 4,
 "nbformat_minor": 2
}
