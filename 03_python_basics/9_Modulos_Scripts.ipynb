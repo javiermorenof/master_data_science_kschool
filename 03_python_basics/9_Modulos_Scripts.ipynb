{
 "cells": [
  {
   "cell_type": "markdown",
   "metadata": {},
   "source": [
    "# 9. Entornos virtuales, módulos y scripts"
   ]
  },
  {
   "cell_type": "markdown",
   "metadata": {},
   "source": [
    "# 9.1 Entornos virtuales\n",
    "\n",
    "Al margen del Python básico, podemos utilizar funcionalidades extra como son los módulos, las librerías, etc.\n",
    "\n",
    "Sin embargo, debe saberse que no todos los módulos y librerías funcionan con todas las versiones y a veces necesitaremos versiones determinadas para que un código funcione, dependiendo de las versiones de los paquetes utilizados. Para ello podemos utilizar los **entornos virtuales** o ***virtual environments***, que funcionan como entornos aislados para diferentes poryectos, pudiendo cargar configuraciones y paquetes con versiones determinadas.\n",
    "\n",
    "De esta forma, cada proyecto puede tener sus propias dependencias: sus propios módulos, versiones de Python y versiones de paquetes de Python, creando **entornos específicos para cada proyecto** que hagan que el código se ejecute como se pretende.\n",
    "\n",
    "Tanto para la **creación de entornos virtuales** como para la **instalación de paquetes** es común utilizar **conda**, que aglutina ambas opciones, aunque no viene instalado por defecto en Python. De esta forma, **conda** es un gestor de entornos virtuales y paquetes, pudiendo aunar tareas como las que realizan de manera separa **pip** (gestor de paquetes por defecto de Python) y **virtualenvwrapper**, gestor de entornos virtuales."
   ]
  },
  {
   "cell_type": "markdown",
   "metadata": {},
   "source": [
    "### 9.1.1. Creación de un entorno virtual\n",
    "\n",
    "Para crear un entorno virtual hay que abrir la **terminal**. En este tutorial se va a utilizar Linux, aunque también se puede trabajar con Windows, si bien puede cambiar ligeramente.\n",
    "\n",
    "Lo primero es crear el entorno mediante el comando `create`.\n",
    "\n",
    "> **`conda create -n kschool`**\n",
    "\n",
    "De este modo, con la opción `-n` estamos indicando el nombre del entorno que queremos crear (kschool).\n",
    "\n",
    "Nos preguntará si queremos proceder y damos a \"y\" o \"yes\".\n",
    "\n",
    "Posteriormente, nos dirá que para entrar en este entorno tenemos que escribir **`conda activate <nombre_entorno>`** y para salir **`conda deactivate`**.\n",
    "\n",
    "![create](Img\\create_virtual_environment.jpg)\n",
    "\n",
    "Como se puede ver, hasta el momento habíamos estábamos en el entorno **base**. Si se escribe ahora:\n",
    "\n",
    "> **`conda env list`**\n",
    "\n",
    "Se pueden ver todos los entornos virtuales que hay instalados e indicando con un asterisco en el que nos encontramos.\n",
    "\n",
    "Para entrar en el nuevo entorno se escribe:\n",
    "\n",
    "> **`conda activate kschool`**\n",
    "\n",
    "Y se puede ver los paquetes instalados en el nuevo entorno mediante:\n",
    "\n",
    "> **`conda list`**\n",
    "\n",
    "Como se puede ver, como este paquete está instalado desde cero, no tiene ningún paquete instalado, ni siquiera Python:\n",
    "\n",
    "![activate](Img\\conda_activate.jpg)"
   ]
  },
  {
   "cell_type": "markdown",
   "metadata": {},
   "source": [
    "### Trabajar en proyectos con virtual environments\n",
    "\n",
    "La manera común de trabajar es exportar una configuración en un archivo .txt o .yaml comúnmente llamado \"requirements\" y que se guardará en la carpeta del proyecto para que todos los involucrados trabajen con la misma versión"
   ]
  },
  {
   "cell_type": "markdown",
   "metadata": {},
   "source": [
    "## 9.1.2. Comandos más utilizados en entornos virtuales:\n",
    "\n",
    "-  `conda list` -> Listamos módulos instalados\n",
    "-  `conda install` -> Instalamos módulos\n",
    "-  `conda update/upgrade` -> Actualizamos módulos\n",
    "- `conda remove/uninstall` -> Desinstalar módulos\n",
    "- `conda search` -> Busca información sobre paquetes\n",
    "- `conda info` -> Muestra información local\n",
    "- `conda create` -> Creamos entornos virtuales\n",
    "- `conda activate/deactivate`\n",
    "- `conda env` -> Interactuar con entornos virtuales\n",
    "\n",
    "**Para obtener más información de todos ellos, basta con escribir `conda <comando> -h` o `conda <comando> --help`**"
   ]
  },
  {
   "cell_type": "markdown",
   "metadata": {},
   "source": [
    "### `conda create <módulo>`\n",
    "\n",
    "Crea un entorno virtual con módulos. Sus principales opciones son:\n",
    "\n",
    "- `-h` -> Ayuda\n",
    "- `-n` -> Nombre del entorno que queremos crear\n",
    "-  `--file` -> Instala los módulos del fichero especificado\n",
    "-  `--clone` -> Clona el entorno especificado\n",
    "\n",
    "Ejemplos:\n",
    "\n",
    "1. Crear un entorno llamado kschool con Python 3.5 como base desde la revision 0.\n",
    "\n",
    "> `conda create -n kschool python=3.5`\n",
    "\n",
    "2. Clonar el entorno kschool y llamarlo kschool2\n",
    "\n",
    "> `conda create --clone kschool --name kschool2`"
   ]
  },
  {
   "cell_type": "markdown",
   "metadata": {},
   "source": [
    "### `conda list`\n",
    "\n",
    "Este comando lista los módulos instalados. Sus principales opciones son:\n",
    "\n",
    "- `-h` -> Ayuda\n",
    "- `-e` -> Exporta fichero con módulos y versiones instaladas\n",
    "- `-r` -> Lista las modificaciones del entorno actual\n",
    "- `-n` -> Podemos especificar el nombre del entorno virtual\n",
    "\n",
    "Ejemplo:\n",
    "\n",
    "- Para descargar todos los módulos en un archivo .txt\n",
    "\n",
    "> `conda list -e > requirements.txt`"
   ]
  },
  {
   "cell_type": "markdown",
   "metadata": {},
   "source": [
    "### `conda install <modulo>`\n",
    "\n",
    "Este comando se utiliza para instalar módulos. Sus principales opciones son:\n",
    "\n",
    "- `-h` -> Ayuda\n",
    "- `--file` -> Instala los módulos especificados en el fichero\n",
    "- `--revision` -> Revierte el entorno a la versión especificada\n",
    "- `-c` -> Canal adicional a usar para descargar módulos\n",
    "- `-n` -> Podemos especificar el nombre del entorno virtual\n",
    "-  `--no-deps` -> No modifica ni instala dependencias, no usar!\n",
    "- `--only-deps` -> Sólo instala dependencias\n"
   ]
  },
  {
   "cell_type": "markdown",
   "metadata": {},
   "source": [
    "### `conda update <modulo>` y `conda upgrade <modulo>`\n",
    "\n",
    "Este comando actualiza los módulos. Sus principales opciones son:\n",
    "\n",
    "- `-h` -> Ayuda\n",
    "-  `--file` -> Actualiza los módulos especificados en el fichero\n",
    "- `--all` -> Actualiza todos los módulos instalados\n",
    "-  `-c` -> Canal adicional a usar para descargar módulos\n",
    "-  `-n` -> Podemos especificar el nombre del entorno virtual\n",
    "- `--no-deps` -> No modifica ni instala dependencias, no usar!\n",
    "- `--only-deps` -> Sólo instala dependencias\n",
    "\n",
    "Como se puede ver, sus opciones son prácticamente idénticas a `conda install`"
   ]
  },
  {
   "cell_type": "markdown",
   "metadata": {},
   "source": [
    "### `conda remove <modulo>` y `conda uninstall <modulo>`\n",
    "\n",
    "Este comando deinstala los módulos. Sus principales opciones son:\n",
    "\n",
    "- `-h` -> Ayuda\n",
    "- `--all` -> Borra todos los módulos instalados\n",
    "-  `-n` -> Podemos especificar el nombre del entorno virtual"
   ]
  },
  {
   "cell_type": "markdown",
   "metadata": {},
   "source": [
    "### `conda search <modulo>`\n",
    "\n",
    "Busca información sobre módulos en online. Sus principales opciones son:\n",
    "\n",
    "- `-h` -> Ayuda\n",
    "- `--envs` -> Busca todos los entornos locales\n",
    "-  `-i` -> Muestra información detallada\n",
    "\n",
    "Ejemplo:\n",
    "\n",
    "> `conda search numpy`"
   ]
  },
  {
   "cell_type": "markdown",
   "metadata": {},
   "source": [
    "### `conda info <modulo>`\n",
    "\n",
    "Muestra información sobre módulos, pero de manera local. Sus principales opciones son:\n",
    "\n",
    "-  `-h` -> Ayuda\n",
    "-  `-a` -> Muestra toda la información\n",
    "-  `-e` -> Lista todos los entornos locales\n",
    "-  `-s` -> Muestra variables de entorno\n",
    "-  `--base` -> Muestra el directorio del entorno base\n",
    "\n",
    "Ejemplo:\n",
    "\n",
    "> `conda info python`"
   ]
  },
  {
   "cell_type": "markdown",
   "metadata": {},
   "source": [
    "### `conda activate`\n",
    "\n",
    "Activa el entorno virtual. Sus principales opciones son:\n",
    "\n",
    "- `--stack`. Activa el entorno sobre el entorno ya activo"
   ]
  },
  {
   "cell_type": "markdown",
   "metadata": {},
   "source": [
    "### `conda deactivate`\n",
    "\n",
    "Desactiva el entorno virtual.\n",
    "\n",
    "Es **IMPORTANTE** señalar que la desactivación de entornos es a nivel terminal y se pueden tener tantos entornos diferentes abiertos como terminales."
   ]
  },
  {
   "cell_type": "markdown",
   "metadata": {},
   "source": [
    "### `conda env <command>`\n",
    "\n",
    "Permite interactuar con entornos virtuales. Sus principales opciones son:\n",
    "\n",
    "-  `-h` -> Ayuda\n",
    "-  `create` -> Crear entorno a partir de un archivo\n",
    "-  `export` -> Exportar entorno a un archivo\n",
    "-  `list` -> Listar los entornos virtuales\n",
    "-  `remove` -> Borrar entorno virtual\n",
    "-  `update` -> Actualizar entorno\n",
    "-  `config` -> Configurar entorno\n",
    "\n",
    "Ejemplos:\n",
    "\n",
    "1. Exporta los módulos de un entorno virtual\n",
    "\n",
    "> `conda env export --file environment.txt`\n",
    "\n",
    "También se puede hacer:\n",
    "\n",
    "> `conda env export > requirements.txt`\n",
    "\n",
    "2. Copia los módulos exportados de un entorno virtual al entorno virtual kschool desde un archivo .txt llamado \"environments.txt\"\n",
    "\n",
    "> `conda env create --file environments.txt`\n",
    "\n",
    "3. Elimina el entorno virtual test\n",
    "\n",
    "> `conda env remove -n test`"
   ]
  },
  {
   "cell_type": "markdown",
   "metadata": {},
   "source": [
    "### `conda clean <command>`\n",
    "\n",
    "Elimina paquetes y cachés que no se usan. No solo no es peligrosos sino que se debe hacer de vez en cuando. Sus principales opciones son:\n",
    "- `-h` -> Ayuda\n",
    "- `-a` -> Elimina todo\n",
    "- `-i` -> Elimina el índice\n",
    "- `-p` -> Elimina paquetes\n",
    "- `-t` -> Elimina tarballs"
   ]
  },
  {
   "cell_type": "markdown",
   "metadata": {},
   "source": [
    "## Ejercicio de entornos virtuales.\n",
    "\n",
    "Veamos un caso común de entornos virtuales resuelto:\n",
    "\n",
    "- Crea un entorno virtual llamado “test”\n",
    "\n",
    "> `conda env create -n test`\n",
    "\n",
    "- Lista los entornos disponibles\n",
    "\n",
    "> `conda env list`\n",
    "\n",
    "-  Activa el entorno “test”\n",
    "\n",
    "> `conda activate test`\n",
    "\n",
    "-  Lista los módulos instalados\n",
    "\n",
    "> `conda list` o `conda list -n test` si se está fuera del paquete.\n",
    "\n",
    "-  Instala la penúltima versión de python, pandas o numpy\n",
    "\n",
    "> `conda search python` para buscar la penúltima versión\n",
    "\n",
    "> `conda install python=3.8.0`\n",
    "\n",
    "-  Actualiza python, pandas o numpy a la última versión\n",
    "\n",
    "> `conda update python`\n",
    "\n",
    "-  Perdón, vuelve a la penúltima versión\n",
    "\n",
    "> `conda list --revisions` para ver el histórico de versiones\n",
    "\n",
    "> `conda install --revision 0` para reinstalar la penúltima version\n",
    "\n",
    "-  Lista los módulos instalados\n",
    "\n",
    "> `conda list`\n",
    "\n",
    "-  Exporta los módulos instalados del entorno a un fichero “requirements.txt”\n",
    "\n",
    "> `conda env export > requirements.yaml` para descargar en yaml (más complicado de actualizar)\n",
    "\n",
    "> `conda list -e > requirements.txt` para descargar en .txt\n",
    "\n",
    "-  Crea otro entorno virtual llamado “test_bis”\n",
    "\n",
    "> `conda deactivate` (se debe salir del entorno compartido y volver a **base** para crear un nuevo entorno)\n",
    "> `conda create -n test_bis`\n",
    "> `conda activate test_bis`\n",
    "\n",
    "-  Instala los módulos del fichero “requirements.txt” creado anteriormente\n",
    "\n",
    "> `conda install --file requirements.txt` para instalarlo desde un archivo .txt\n",
    "\n",
    "- Para actualizarlo mediante .yaml hay que hacer unos cambios en el documento y en la primera y última línea hay que cambiar \"test\", es decir, el environment del que se ha descargado la configuración por \"test_bis\", es decir, el environment en el que se quiere actualizar.\n",
    "\n",
    "![yaml](Img\\yaml.jpg)\n",
    "\n",
    "> `conda env create -f requirements.yaml`"
   ]
  },
  {
   "cell_type": "markdown",
   "metadata": {},
   "source": [
    "# 9.2. Módulos"
   ]
  },
  {
   "cell_type": "markdown",
   "metadata": {},
   "source": [
    "- Un módulo en Python es un fichero `.py` que contiene definiciones de funciones y variables.\n",
    "- El nombre del módulo es el mismo que el del fichero (sin extensión).\n",
    "- Para incorporar elementos definidos en un módulo, debemos importar el módulo con la sentencia `import`.\n",
    "- Por defecto, en un script de Python tienes acceso a todas las variables y funciones definidas en el propio fichero.\n",
    "\n",
    "Las librerías se empaquetan en diferentes módulos, algunos de los módulos más conocidos de la librería estándar son:\n",
    "- `sys` -> Funcionalidad y configuración del intérprete de Python (p.e. rutas donde buscar módulos).\n",
    "- `os` -> Funcionalidad propia del sistema operativo (p.e. gestión de logins, usuarios, etc.).\n",
    "- `os.path` -> Funcionalidad para la gestión de directorios.\n",
    "- `math` -> Funciones matemáticas.\n",
    "- `random` -> Funciones para generación de números aleatorios.\n",
    "- `re` -> Funciones de expresiones regulares."
   ]
  },
  {
   "cell_type": "markdown",
   "metadata": {},
   "source": [
    "<center>\n",
    "<img src=\"pictures/scipy_ecosystem.png\"  alt=\"drawing\" width=\"600\"/>\n",
    "</center>"
   ]
  },
  {
   "cell_type": "markdown",
   "metadata": {},
   "source": [
    "## Importar módulos"
   ]
  },
  {
   "cell_type": "markdown",
   "metadata": {},
   "source": [
    "- Podemos importar un módulo y acceder a sus funciones a través del nombre del propio módulo"
   ]
  },
  {
   "cell_type": "code",
   "execution_count": 1,
   "metadata": {},
   "outputs": [],
   "source": [
    "import math"
   ]
  },
  {
   "cell_type": "code",
   "execution_count": 2,
   "metadata": {},
   "outputs": [
    {
     "data": {
      "text/plain": [
       "3.141592653589793"
      ]
     },
     "execution_count": 2,
     "metadata": {},
     "output_type": "execute_result"
    }
   ],
   "source": [
    "math.pi"
   ]
  },
  {
   "cell_type": "code",
   "execution_count": 3,
   "metadata": {},
   "outputs": [
    {
     "data": {
      "text/plain": [
       "-1.0"
      ]
     },
     "execution_count": 3,
     "metadata": {},
     "output_type": "execute_result"
    }
   ],
   "source": [
    "math.cos(math.pi)"
   ]
  },
  {
   "cell_type": "markdown",
   "metadata": {},
   "source": [
    "- Podemos cambiar el nombre del módulo al importarlo. Hay \"nicks\" estándar para algunos módulos como numpy (`np`) y pandas (`pd`)"
   ]
  },
  {
   "cell_type": "code",
   "execution_count": 2,
   "metadata": {},
   "outputs": [],
   "source": [
    "import math as mth\n",
    "import pandas as pd\n",
    "import numpy as np"
   ]
  },
  {
   "cell_type": "code",
   "execution_count": 10,
   "metadata": {},
   "outputs": [
    {
     "data": {
      "text/plain": [
       "3.141592653589793"
      ]
     },
     "execution_count": 10,
     "metadata": {},
     "output_type": "execute_result"
    }
   ],
   "source": [
    "mth.pi"
   ]
  },
  {
   "cell_type": "markdown",
   "metadata": {},
   "source": [
    "- Si se importa un módulo y luego se vuelve a importar con un nuevo nombre, el módulo estará cargado dos veces. \n",
    "- Se puede liberarlo de la memoria reiniciando el kernel o mediante el comando `%reset`"
   ]
  },
  {
   "cell_type": "code",
   "execution_count": 12,
   "metadata": {},
   "outputs": [
    {
     "name": "stdout",
     "output_type": "stream",
     "text": [
      "Variable   Type        Data/Info\n",
      "--------------------------------\n",
      "math       module      <module 'math' (built-in)>\n",
      "midir      function    <function midir at 0x000001BA4ED043A8>\n",
      "mth        module      <module 'math' (built-in)>\n"
     ]
    }
   ],
   "source": [
    "%whos"
   ]
  },
  {
   "cell_type": "code",
   "execution_count": 3,
   "metadata": {},
   "outputs": [
    {
     "name": "stdin",
     "output_type": "stream",
     "text": [
      "Once deleted, variables cannot be recovered. Proceed (y/[n])?  y\n"
     ]
    }
   ],
   "source": [
    "%reset"
   ]
  },
  {
   "cell_type": "code",
   "execution_count": 4,
   "metadata": {},
   "outputs": [
    {
     "name": "stdout",
     "output_type": "stream",
     "text": [
      "Interactive namespace is empty.\n"
     ]
    }
   ],
   "source": [
    "%whos"
   ]
  },
  {
   "cell_type": "markdown",
   "metadata": {},
   "source": [
    "- Podemos importar una/s funciones y atributos específicos."
   ]
  },
  {
   "cell_type": "code",
   "execution_count": 14,
   "metadata": {},
   "outputs": [],
   "source": [
    "from math import pi, cos"
   ]
  },
  {
   "cell_type": "markdown",
   "metadata": {},
   "source": [
    "- De esta forma no es necesario que nombremos al móudlo para acceder al atributo o función"
   ]
  },
  {
   "cell_type": "code",
   "execution_count": 15,
   "metadata": {},
   "outputs": [
    {
     "data": {
      "text/plain": [
       "3.141592653589793"
      ]
     },
     "execution_count": 15,
     "metadata": {},
     "output_type": "execute_result"
    }
   ],
   "source": [
    "pi"
   ]
  },
  {
   "cell_type": "code",
   "execution_count": 16,
   "metadata": {},
   "outputs": [
    {
     "data": {
      "text/plain": [
       "-1.0"
      ]
     },
     "execution_count": 16,
     "metadata": {},
     "output_type": "execute_result"
    }
   ],
   "source": [
    "cos(pi)"
   ]
  },
  {
   "cell_type": "code",
   "execution_count": 17,
   "metadata": {},
   "outputs": [
    {
     "name": "stdout",
     "output_type": "stream",
     "text": [
      "Variable   Type                          Data/Info\n",
      "--------------------------------------------------\n",
      "cos        builtin_function_or_method    <built-in function cos>\n",
      "math       module                        <module 'math' (built-in)>\n",
      "midir      function                      <function midir at 0x000001BA4ED043A8>\n",
      "mth        module                        <module 'math' (built-in)>\n",
      "pi         float                         3.141592653589793\n"
     ]
    }
   ],
   "source": [
    "%whos"
   ]
  },
  {
   "cell_type": "markdown",
   "metadata": {},
   "source": [
    "- Podemos importar todo (mala práctica, no se hace). En su lugar es mejor escribir directamente `import <modulo>`"
   ]
  },
  {
   "cell_type": "code",
   "execution_count": 14,
   "metadata": {},
   "outputs": [],
   "source": [
    "from math import *"
   ]
  },
  {
   "cell_type": "markdown",
   "metadata": {},
   "source": [
    "- Es recomendable no hacerlo ya que, aunque no tendríamos que menciar el módulo (ejemplo: escribiríamos `cos`en vez de `math.cos`) por varios motivos:\n",
    "    - El scope se llena de funciones/atributos que posiblemente no usaremos.\n",
    "    - Surge también otro problema además: si en un script nos encontramos un `import *` ¿de dónde vienen las funciones que encontramos en el script?\n",
    "    - Además, haciendo esto se pueden sobreescribir nombres de funciones entre sí"
   ]
  },
  {
   "cell_type": "code",
   "execution_count": 20,
   "metadata": {},
   "outputs": [
    {
     "name": "stdout",
     "output_type": "stream",
     "text": [
      "Variable    Type                          Data/Info\n",
      "---------------------------------------------------\n",
      "acos        builtin_function_or_method    <built-in function acos>\n",
      "acosh       builtin_function_or_method    <built-in function acosh>\n",
      "asin        builtin_function_or_method    <built-in function asin>\n",
      "asinh       builtin_function_or_method    <built-in function asinh>\n",
      "atan        builtin_function_or_method    <built-in function atan>\n",
      "atan2       builtin_function_or_method    <built-in function atan2>\n",
      "atanh       builtin_function_or_method    <built-in function atanh>\n",
      "ceil        builtin_function_or_method    <built-in function ceil>\n",
      "copysign    builtin_function_or_method    <built-in function copysign>\n",
      "cos         builtin_function_or_method    <built-in function cos>\n",
      "cosh        builtin_function_or_method    <built-in function cosh>\n",
      "degrees     builtin_function_or_method    <built-in function degrees>\n",
      "e           float                         2.718281828459045\n",
      "erf         builtin_function_or_method    <built-in function erf>\n",
      "erfc        builtin_function_or_method    <built-in function erfc>\n",
      "exp         builtin_function_or_method    <built-in function exp>\n",
      "expm1       builtin_function_or_method    <built-in function expm1>\n",
      "fabs        builtin_function_or_method    <built-in function fabs>\n",
      "factorial   builtin_function_or_method    <built-in function factorial>\n",
      "floor       builtin_function_or_method    <built-in function floor>\n",
      "fmod        builtin_function_or_method    <built-in function fmod>\n",
      "frexp       builtin_function_or_method    <built-in function frexp>\n",
      "fsum        builtin_function_or_method    <built-in function fsum>\n",
      "gamma       builtin_function_or_method    <built-in function gamma>\n",
      "gcd         builtin_function_or_method    <built-in function gcd>\n",
      "hypot       builtin_function_or_method    <built-in function hypot>\n",
      "inf         float                         inf\n",
      "isclose     builtin_function_or_method    <built-in function isclose>\n",
      "isfinite    builtin_function_or_method    <built-in function isfinite>\n",
      "isinf       builtin_function_or_method    <built-in function isinf>\n",
      "isnan       builtin_function_or_method    <built-in function isnan>\n",
      "ldexp       builtin_function_or_method    <built-in function ldexp>\n",
      "lgamma      builtin_function_or_method    <built-in function lgamma>\n",
      "log         builtin_function_or_method    <built-in function log>\n",
      "log10       builtin_function_or_method    <built-in function log10>\n",
      "log1p       builtin_function_or_method    <built-in function log1p>\n",
      "log2        builtin_function_or_method    <built-in function log2>\n",
      "math        module                        <module 'math' (built-in)>\n",
      "midir       function                      <function midir at 0x000001BA4ED043A8>\n",
      "modf        builtin_function_or_method    <built-in function modf>\n",
      "mth         module                        <module 'math' (built-in)>\n",
      "nan         float                         nan\n",
      "pi          float                         3.141592653589793\n",
      "pow         builtin_function_or_method    <built-in function pow>\n",
      "radians     builtin_function_or_method    <built-in function radians>\n",
      "remainder   builtin_function_or_method    <built-in function remainder>\n",
      "sin         builtin_function_or_method    <built-in function sin>\n",
      "sinh        builtin_function_or_method    <built-in function sinh>\n",
      "sqrt        builtin_function_or_method    <built-in function sqrt>\n",
      "tan         builtin_function_or_method    <built-in function tan>\n",
      "tanh        builtin_function_or_method    <built-in function tanh>\n",
      "tau         float                         6.283185307179586\n",
      "trunc       builtin_function_or_method    <built-in function trunc>\n"
     ]
    }
   ],
   "source": [
    "%whos"
   ]
  },
  {
   "cell_type": "markdown",
   "metadata": {},
   "source": [
    "## 9.2.1. Módulos propios"
   ]
  },
  {
   "cell_type": "markdown",
   "metadata": {},
   "source": [
    "- Fichero `.py` en la ubicación del notebook.\n",
    "- Su importación es igual al resto de módulos y tendríamos que mencionar el nombre del módulo para ejecutar una función salvo que se importe de manera específica. (Ejemplo: `from utils import midir`)"
   ]
  },
  {
   "cell_type": "code",
   "execution_count": 12,
   "metadata": {},
   "outputs": [],
   "source": [
    "import utils"
   ]
  },
  {
   "cell_type": "code",
   "execution_count": 13,
   "metadata": {},
   "outputs": [
    {
     "ename": "NameError",
     "evalue": "name 'midir' is not defined",
     "output_type": "error",
     "traceback": [
      "\u001b[1;31m---------------------------------------------------------------------------\u001b[0m",
      "\u001b[1;31mNameError\u001b[0m                                 Traceback (most recent call last)",
      "\u001b[1;32m<ipython-input-13-bc51b5c22075>\u001b[0m in \u001b[0;36m<module>\u001b[1;34m\u001b[0m\n\u001b[1;32m----> 1\u001b[1;33m \u001b[0mmidir\u001b[0m\u001b[1;33m(\u001b[0m\u001b[0mmath\u001b[0m\u001b[1;33m)\u001b[0m\u001b[1;33m\u001b[0m\u001b[1;33m\u001b[0m\u001b[0m\n\u001b[0m",
      "\u001b[1;31mNameError\u001b[0m: name 'midir' is not defined"
     ]
    }
   ],
   "source": [
    "midir(math)"
   ]
  },
  {
   "cell_type": "code",
   "execution_count": 14,
   "metadata": {},
   "outputs": [
    {
     "data": {
      "text/plain": [
       "['acos',\n",
       " 'acosh',\n",
       " 'asin',\n",
       " 'asinh',\n",
       " 'atan',\n",
       " 'atan2',\n",
       " 'atanh',\n",
       " 'ceil',\n",
       " 'copysign',\n",
       " 'cos',\n",
       " 'cosh',\n",
       " 'degrees',\n",
       " 'e',\n",
       " 'erf',\n",
       " 'erfc',\n",
       " 'exp',\n",
       " 'expm1',\n",
       " 'fabs',\n",
       " 'factorial',\n",
       " 'floor',\n",
       " 'fmod',\n",
       " 'frexp',\n",
       " 'fsum',\n",
       " 'gamma',\n",
       " 'gcd',\n",
       " 'hypot',\n",
       " 'inf',\n",
       " 'isclose',\n",
       " 'isfinite',\n",
       " 'isinf',\n",
       " 'isnan',\n",
       " 'ldexp',\n",
       " 'lgamma',\n",
       " 'log',\n",
       " 'log10',\n",
       " 'log1p',\n",
       " 'log2',\n",
       " 'modf',\n",
       " 'nan',\n",
       " 'pi',\n",
       " 'pow',\n",
       " 'radians',\n",
       " 'remainder',\n",
       " 'sin',\n",
       " 'sinh',\n",
       " 'sqrt',\n",
       " 'tan',\n",
       " 'tanh',\n",
       " 'tau',\n",
       " 'trunc']"
      ]
     },
     "execution_count": 14,
     "metadata": {},
     "output_type": "execute_result"
    }
   ],
   "source": [
    "utils.midir(math)"
   ]
  },
  {
   "cell_type": "markdown",
   "metadata": {},
   "source": [
    "- Se pueden mportar módulos desde otros directorios, teniendo en cuenta que se ponen tantos puntos separando carpetas como tenga su raíz."
   ]
  },
  {
   "cell_type": "code",
   "execution_count": null,
   "metadata": {},
   "outputs": [],
   "source": [
    "import <nombrecarpeta>.<modulo>"
   ]
  },
  {
   "cell_type": "code",
   "execution_count": 19,
   "metadata": {},
   "outputs": [
    {
     "ename": "SyntaxError",
     "evalue": "invalid syntax (<ipython-input-19-05cd584c04d8>, line 1)",
     "output_type": "error",
     "traceback": [
      "\u001b[1;36m  File \u001b[1;32m\"<ipython-input-19-05cd584c04d8>\"\u001b[1;36m, line \u001b[1;32m1\u001b[0m\n\u001b[1;33m    import <nombrecarpeta>.<modulo>\u001b[0m\n\u001b[1;37m           ^\u001b[0m\n\u001b[1;31mSyntaxError\u001b[0m\u001b[1;31m:\u001b[0m invalid syntax\n"
     ]
    }
   ],
   "source": [
    "import <nombrecarpeta>.<modulo>"
   ]
  },
  {
   "cell_type": "markdown",
   "metadata": {},
   "source": [
    "# 9.3 Scripts"
   ]
  },
  {
   "cell_type": "markdown",
   "metadata": {},
   "source": [
    "- Como ya sabemos se pueden ejecutar nuestros programas desde la terminal, tanto de Python como del sistema operativo. Para ello:\n",
    "    - **Desde la TERMINAL**: Creamos un fichero python `.py` y lo ejecutamos usando `python fichero.py`\n",
    "    - **Desde PYTHON**: Podemos tener un fichero de Python que queramos que sea un módulo (para poder importar sus funciones) y que cuando lo ejecutemos, una determinada parte se ejecute de manera automática. \n",
    "    - Para ambas opciones usamos la condición **`if __name__ == __main__:`** y debajo englobamos las funciones que queremos que se ejecuten. Veamos debajo dos ejemplos:"
   ]
  },
  {
   "cell_type": "markdown",
   "metadata": {},
   "source": [
    "## 9.3.1. Script desde Python"
   ]
  },
  {
   "cell_type": "code",
   "execution_count": 15,
   "metadata": {},
   "outputs": [
    {
     "name": "stdout",
     "output_type": "stream",
     "text": [
      "Ejecutaremos el main\n",
      "Hola\n"
     ]
    }
   ],
   "source": [
    "def main():\n",
    "    # poner aqui el codigo a ejecutar\n",
    "    print('Hola')\n",
    "    \n",
    "def otra_fun():\n",
    "    print('Hace cosas')\n",
    "\n",
    "if __name__ == '__main__':\n",
    "    print('Ejecutaremos el main')\n",
    "    main()"
   ]
  },
  {
   "cell_type": "code",
   "execution_count": 17,
   "metadata": {},
   "outputs": [
    {
     "name": "stdout",
     "output_type": "stream",
     "text": [
      "Variable   Type        Data/Info\n",
      "--------------------------------\n",
      "main       function    <function main at 0x00000237725E2438>\n",
      "math       module      <module 'math' (built-in)>\n",
      "otra_fun   function    <function otra_fun at 0x00000237725E20D8>\n",
      "utils      module      <module 'utils' from 'C:\\<...>ster\\\\KSchool\\\\utils.py'>\n"
     ]
    }
   ],
   "source": [
    "%whos"
   ]
  },
  {
   "cell_type": "markdown",
   "metadata": {},
   "source": [
    "## 9.3.2. Script desde la terminal + parsear argumentos desde la Terminal"
   ]
  },
  {
   "cell_type": "markdown",
   "metadata": {},
   "source": [
    "- Podemos pasar argumentos por línea de comandos de la terminal usando la librería **`argparse`**.\n",
    "- Con el código de debajo vamos a utilizar dos funciones: una que parsee y otra que diga qué números hemos introducido"
   ]
  },
  {
   "cell_type": "code",
   "execution_count": 27,
   "metadata": {},
   "outputs": [
    {
     "name": "stdout",
     "output_type": "stream",
     "text": [
      "Writing tmp\\parser.py\n"
     ]
    }
   ],
   "source": [
    "%%file tmp\\parser.py\n",
    "\n",
    "#Usamos el comando %%file (que debe ir siempre al comienzo de la celda) para exportar el código a un documento llamadp 'parser.py' y guardado en la carpeta 'tmp'\n",
    "\n",
    "from argparse import ArgumentParser\n",
    "\n",
    "def funcion(a, b):\n",
    "    print(f'Me han introducido estos números {a} y {b}')\n",
    "\n",
    "def parse_args():\n",
    "    parser = ArgumentParser()\n",
    "    parser.add_argument(\"-n1\",\n",
    "                        \"--numero_1\",  \n",
    "                        required=True,\n",
    "                        type=int,\n",
    "                        help=\"primer numero\")\n",
    "    parser.add_argument(\"-n2\",\n",
    "                        \"--numero_2\",\n",
    "                        required=True,\n",
    "                        type=int,\n",
    "                        help=\"segundo numero\")\n",
    "    args = parser.parse_args()\n",
    "    return args.numero_1, args.numero_2\n",
    "    \n",
    "if __name__ == '__main__':\n",
    "    a, b = parse_args()\n",
    "    funcion(a, b)"
   ]
  },
  {
   "cell_type": "markdown",
   "metadata": {},
   "source": [
    "### Explicación del programa de arriba"
   ]
  },
  {
   "cell_type": "markdown",
   "metadata": {},
   "source": [
    "Vamos a explicar en detenimiento qué hace el código de arriba.\n",
    "\n",
    "- `%%file tmp\\parser.py`. Una vez que has creado tus funciones en jupyter notebook, que como sabemos es un entorno interactivo de python, podemos querer que forman parte de algo mayor en un proyecto más grande y que formen parte de un script, que como acabamos de ver sirve para que se ejecuten automáticamente. Esta parte de código afecta a toda la celda al tener dos símbolos `%%` y exporta en la carpeta *tmp* el archivo `parser.py`.\n",
    "\n",
    "- `if __name__ = __main__` hace que cuando se ejecute el archivo corra el código que engloba, en este caso son dos funciones `parse_args` y posteriormente `funcion`.\n",
    "\n",
    "        - La primera parte que ejecutará será la función `parse_args`, que ha bebido de `ArgumentParser()` importado de `argparser`` y que parsea los datos que se escriben en la línea de comandos. Así, exige dos argumentos, que pueden ser nombrados como -n1 o --numero_1 y como -n2 o --numero 2, que ambos son obligatorios (required = True) y de tipo entero.\n",
    "    \n",
    "        - Una vez se ejecuta estafunción continúa con la siguiente línea de `if __name__ == \"__main__\":` y ejecuta la función que denominé `funcion`.\n",
    "\n",
    "Así que si ejecuto en mi línea de comandos **`python parser.py -n1 5 -n2 6`** devolverá el mensaje **\"Me ha introducido estos números 5 y 6\"**."
   ]
  }
 ],
 "metadata": {
  "kernelspec": {
   "display_name": "Python 3",
   "language": "python",
   "name": "python3"
  },
  "language_info": {
   "codemirror_mode": {
    "name": "ipython",
    "version": 3
   },
   "file_extension": ".py",
   "mimetype": "text/x-python",
   "name": "python",
   "nbconvert_exporter": "python",
   "pygments_lexer": "ipython3",
   "version": "3.7.4"
  }
 },
 "nbformat": 4,
 "nbformat_minor": 4
}
