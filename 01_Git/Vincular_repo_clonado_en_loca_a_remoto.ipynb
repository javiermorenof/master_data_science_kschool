{
 "cells": [
  {
   "cell_type": "markdown",
   "metadata": {},
   "source": [
    "# Cómo vincular un repositorio clonado en local al remoto en GitHub o GitLab\n",
    "A continuación se va a ver el proceso completo de clonado de un repositorio de otra persona en local y luego vincularlo a nuestro remoto en GitHub o GitLab."
   ]
  },
  {
   "cell_type": "markdown",
   "metadata": {},
   "source": [
    "## Clonado del repositorio en local"
   ]
  },
  {
   "cell_type": "markdown",
   "metadata": {},
   "source": [
    "Si en nuestra consola escribimos:"
   ]
  },
  {
   "cell_type": "code",
   "execution_count": null,
   "metadata": {},
   "outputs": [],
   "source": [
    "git clone gitlab.com/Sh3llD00m/kschool-supervised-learning.git"
   ]
  },
  {
   "cell_type": "markdown",
   "metadata": {},
   "source": [
    "Como se ha explicado, esto clonará el repositorio el local, pero no aparecerá en nuestro remoto, como se puede ver mediante:"
   ]
  },
  {
   "cell_type": "code",
   "execution_count": null,
   "metadata": {},
   "outputs": [],
   "source": [
    "git config -l"
   ]
  },
  {
   "cell_type": "markdown",
   "metadata": {},
   "source": [
    "Debe añadirse, por lo tanto, una vinculación con un remoto."
   ]
  },
  {
   "cell_type": "markdown",
   "metadata": {},
   "source": [
    "Sin embargo, ante de hacerlo vamos a crear un nuevo environment basado en el documento \"environment.yaml\" que tiene en concreto este repositorio clonado. Para ver los environments se escribe:"
   ]
  },
  {
   "cell_type": "code",
   "execution_count": null,
   "metadata": {},
   "outputs": [],
   "source": [
    "conda env list"
   ]
  },
  {
   "cell_type": "markdown",
   "metadata": {},
   "source": [
    "Y para crear el nuevo environment, dentro del directorio donde está el .yaml que lo contiene, se escribe el código:"
   ]
  },
  {
   "cell_type": "code",
   "execution_count": null,
   "metadata": {},
   "outputs": [],
   "source": [
    "conda env create -f environment.yml"
   ]
  },
  {
   "cell_type": "markdown",
   "metadata": {},
   "source": [
    "Para activar el nuevo entorno:"
   ]
  },
  {
   "cell_type": "code",
   "execution_count": null,
   "metadata": {},
   "outputs": [],
   "source": [
    "conda activate ks-sl"
   ]
  },
  {
   "cell_type": "markdown",
   "metadata": {},
   "source": [
    "Finalmente crearemos un **kernel** propio al entorno. Esto es especialmente útil para trabajar con Machine Learning, ya que si queremos dejar de trabajar en Machine Learning basta con cambiar el Kernel.\n",
    "\n",
    "Hemos utilizado un nombre personalizado distinto al nombre python3 que los notebooks de Jupyter abrirán por defecto. Por ello, cada vez que abras un notebook en la lase, tendrás que seleccionar el Kernel correcto yendo a Kernel > Change kernel... en Jupyter y seleccionando el kernel ks-sl cada vez que abras un notebook nuevo de esta clase."
   ]
  },
  {
   "cell_type": "code",
   "execution_count": null,
   "metadata": {},
   "outputs": [],
   "source": [
    "python -m ipykernel install --user --name=ks-sl"
   ]
  },
  {
   "cell_type": "markdown",
   "metadata": {},
   "source": [
    "## Vinculando local y remoto de un repositorio clonado"
   ]
  },
  {
   "cell_type": "markdown",
   "metadata": {},
   "source": [
    "EL siguiente paso es crear un repositorio en remoto, que se llamará en este caso \"Supervised_learning_ks\". No es necesario crear un README.md al crearlo en GitHub. En este repositorio se almacenará todo lo clonado en local una vez se haga in `git remote`.\n",
    "\n",
    "Por ello, una vez se haya creado un repositorio en remoto, se va en la shell al directorio que se quiere vincular en local y se escribe el siguiente comando:"
   ]
  },
  {
   "cell_type": "code",
   "execution_count": null,
   "metadata": {},
   "outputs": [],
   "source": [
    "git remote add myremote https://github.com/javiermorenof/Supervised_learning_ks.git"
   ]
  },
  {
   "cell_type": "markdown",
   "metadata": {},
   "source": [
    "Se verifica que se tiene el nuevo remote:"
   ]
  },
  {
   "cell_type": "code",
   "execution_count": null,
   "metadata": {},
   "outputs": [],
   "source": [
    "git remote -v"
   ]
  },
  {
   "cell_type": "markdown",
   "metadata": {},
   "source": [
    "Ya se puede trabajar con ellos. Para actualizarlo, no basta con un `git push`, sino que será necesario hacer:"
   ]
  },
  {
   "cell_type": "code",
   "execution_count": null,
   "metadata": {},
   "outputs": [],
   "source": [
    "git push -u myremote"
   ]
  },
  {
   "cell_type": "markdown",
   "metadata": {},
   "source": [
    "Para que haga el push a mi remoto y no a origin"
   ]
  }
 ],
 "metadata": {
  "kernelspec": {
   "display_name": "Python 3",
   "language": "python",
   "name": "python3"
  },
  "language_info": {
   "codemirror_mode": {
    "name": "ipython",
    "version": 3
   },
   "file_extension": ".py",
   "mimetype": "text/x-python",
   "name": "python",
   "nbconvert_exporter": "python",
   "pygments_lexer": "ipython3",
   "version": "3.7.1"
  }
 },
 "nbformat": 4,
 "nbformat_minor": 2
}
