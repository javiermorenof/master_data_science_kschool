{
 "cells": [
  {
   "cell_type": "markdown",
   "metadata": {},
   "source": [
    "# Cómo vincular un repositorio clonado en local al remoto en GitHub o GitLab\n",
    "A continuación se va a ver el proceso completo de clonado de un repositorio de otra persona en local y luego vincularlo a nuestro remoto en GitHub o GitLab."
   ]
  },
  {
   "cell_type": "markdown",
   "metadata": {},
   "source": [
    "## Clonado del repositorio en local"
   ]
  },
  {
   "cell_type": "markdown",
   "metadata": {},
   "source": [
    "Si en nuestra consola escribimos:"
   ]
  },
  {
   "cell_type": "code",
   "execution_count": null,
   "metadata": {},
   "outputs": [],
   "source": [
    "git clone gitlab.com/Sh3llD00m/kschool-supervised-learning.git"
   ]
  },
  {
   "cell_type": "markdown",
   "metadata": {},
   "source": [
    "Como se ha explicado, esto clonará el repositorio el local, pero no aparecerá en nuestro remoto, como se puede ver mediante:"
   ]
  },
  {
   "cell_type": "code",
   "execution_count": null,
   "metadata": {},
   "outputs": [],
   "source": [
    "git config -l"
   ]
  },
  {
   "cell_type": "markdown",
   "metadata": {},
   "source": [
    "Debe añadirse, por lo tanto, una vinculación con un remoto."
   ]
  },
  {
   "cell_type": "markdown",
   "metadata": {},
   "source": [
    "## Vinculando local y remoto de un repositorio clonado"
   ]
  },
  {
   "cell_type": "markdown",
   "metadata": {},
   "source": [
    "EL siguiente paso es crear un repositorio en remoto, que se llamará en este caso \"Supervised_learning_ks\". No es necesario crear un README.md al crearlo en GitHub. En este repositorio se almacenará todo lo clonado en local una vez se haga in `git remote`.\n",
    "\n",
    "Por ello, una vez se haya creado un repositorio en remoto, se va en la shell al directorio que se quiere vincular en local y se escribe el siguiente comando:"
   ]
  },
  {
   "cell_type": "code",
   "execution_count": null,
   "metadata": {},
   "outputs": [],
   "source": [
    "git remote add myremote https://github.com/javiermorenof/Supervised_learning_ks.git"
   ]
  },
  {
   "cell_type": "markdown",
   "metadata": {},
   "source": [
    "Se verifica que se tiene el nuevo remote:"
   ]
  },
  {
   "cell_type": "code",
   "execution_count": null,
   "metadata": {},
   "outputs": [],
   "source": [
    "git remote -v"
   ]
  },
  {
   "cell_type": "markdown",
   "metadata": {},
   "source": [
    "Ya se puede trabajar con ellos."
   ]
  }
 ],
 "metadata": {
  "kernelspec": {
   "display_name": "Python 3",
   "language": "python",
   "name": "python3"
  },
  "language_info": {
   "codemirror_mode": {
    "name": "ipython",
    "version": 3
   },
   "file_extension": ".py",
   "mimetype": "text/x-python",
   "name": "python",
   "nbconvert_exporter": "python",
   "pygments_lexer": "ipython3",
   "version": "3.7.1"
  }
 },
 "nbformat": 4,
 "nbformat_minor": 2
}
