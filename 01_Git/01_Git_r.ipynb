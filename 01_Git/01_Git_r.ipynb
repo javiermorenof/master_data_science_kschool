{
 "cells": [
  {
   "cell_type": "markdown",
   "metadata": {},
   "source": [
    "# GIT"
   ]
  },
  {
   "cell_type": "markdown",
   "metadata": {},
   "source": [
    "## Documentación:\n",
    "\n",
    "- [Documentación oficial](https://git-scm.com/book/es/v2)\n",
    "- [Official interactive Cheat Sheet](https://ndpsoftware.com/git-cheatsheet.html)\n",
    "- [Git Cheat Sheet (PDF)](https://github.github.com/training-kit/downloads/github-git-cheat-sheet.pdf)\n",
    "- [Tutorial en Youtube de Makigas](https://www.youtube.com/watch?v=UJGKWMHX038)\n",
    "- [Apuntes del informático David Poza](https://davidinformatico.com/apuntes-git/)"
   ]
  },
  {
   "cell_type": "markdown",
   "metadata": {},
   "source": [
    "## ¿Qué es Git?\n",
    "\n",
    "**Git** es un sistema de control de versiones (*Version Control System* o *VCS*, del inglés) que permite hacer un *tracking* de los cambios realizados en los archivos en los que se está trabajando. Fue creado por Linus Torvalds en la década de los 2000.\n",
    "\n",
    "Es importante porque cualquier proyecto serio utiliza un sistema de control de versiones, de tal manera de que si se algo se elimina o corrompe se puede recuperar el código realizado.\n",
    "\n",
    "Las ventajas de Git son:\n",
    "- Permite trabajar sobre el mismo archivo a un conjunto desarrolladores, sabiendo cuándo y qué cambió cada uno.\n",
    "- Permite trabajar con repositorios locales y remotos.\n",
    "- Pemite restaurar y cargar versiones anteriores.\n",
    "\n",
    "**GitHub**. **Bitbucket** o **GitLab** son algunos de los servicios de almacenamiento web más conocidos que utilizan Git."
   ]
  },
  {
   "cell_type": "markdown",
   "metadata": {},
   "source": [
    "## ¿Cómo funciona Git?\n",
    "\n",
    "**Git** se maneja a través de la consola de comandos (*Terminal*). En **Git** hay tres estados:\n",
    "\n",
    "- ***Working directory***. Donde se trabaja con los archivos de manera local. Para pasar de *working directory* a *staging area* utilizamos `git add`.\n",
    "- ***Staging area***. Donde se agregan todos los archivos para el guardado. Para pasar de *staging area* a mi repositorio local hacemos `git commit`.\n",
    "- ***Repository***. Donde se van a almacenar los archivos. Para pasar de mi repositorio local al repositorio remoto hacemos `git push`.\n",
    "\n",
    "<center><img src=\"Img\\git_structure.JPG\" width=500>"
   ]
  },
  {
   "cell_type": "markdown",
   "metadata": {},
   "source": [
    "## Comandos en *Git*\n",
    "\n",
    "La estructura básica de los comandos de git es `git <command>`.\n",
    "\n",
    "Para ver todos los comandos de **Git** en la consola basta con escribir:\n",
    "\n",
    "> **`git --help`**"
   ]
  },
  {
   "cell_type": "markdown",
   "metadata": {},
   "source": [
    "## Creando un repositorio local en *Git*\n",
    "\n",
    "Podemos comenzar a trabajar con Git de dos maneras:\n",
    "- **a**. Crear directamente un respositorio en local mediante `git init`.\n",
    "- **b**. Creando un repositorio en *GitHub* y clonarlo e importarlo en local para trabajar con él.\n"
   ]
  },
  {
   "cell_type": "markdown",
   "metadata": {},
   "source": [
    "### 1A. Creando el repositorio en local con `git init`. \n",
    "\n",
    "Para ello, los pasos que realizo son los siguientes:\n",
    "- **1**. Mediante **`cd <folder>`** voy al directorio donde quiero crer el respositorio.\n",
    "\n",
    "- **2**. Mediante **`mkdir <folder>`** se crea carpeta la carpeta donde se guardará el *repositorio*. \n",
    "\n",
    "- **3**. Finalmente, mediante **`git init`** se creará una carpeta oculta de extensión *.git* donde se autogestionará todo el sistema de control de versiones. Como ya se sabe, todos los archivos que comienzan por *.* son archivos ocultos. Es fundamental no eliminar esta carpeta.\n",
    "\n",
    "    - **3a**. Se puede usar el comando **`ls -a`** para ver todos los archivos, incluidos los ocultos.\n",
    "\n",
    "#### Ejemplo:\n",
    "\n",
    "A continuación, se creará una carpeta llamada *data_science* en el escritorio que tendrá a su vez otra carpeta llamada *master-data-science-kschool*.\n",
    "\n",
    "Como se puede ver, el directorio `.git` creado con el **subcomando** `git init` está oculto y no se puede ver con `ls` pero sí con `ls -a`.\n",
    "\n",
    "![init](Img\\git_init.JPG)"
   ]
  },
  {
   "cell_type": "markdown",
   "metadata": {},
   "source": [
    "### 1B. Creando un repositorio en *Github* que se importará en local\n",
    "\n",
    "#### Paso I. Creación de repositorio.\n",
    "\n",
    "El primer paso es crear un repositorio. Para ello, entro en [GitHub](http://github.com) y se hace click en ***New Repository***:\n",
    "\n",
    "![New_Rep](Img\\Modulo_1_New_Repository.JPG)\n",
    "\n",
    "Ahí se establece el:\n",
    "- **Nombre del repositorio**\n",
    "- **Descripción** (opcional)\n",
    "- Si será **público** o **privado**, donde se aconseja que sea público para poder dar visibilidad a nuestros trabajos.\n",
    "- Si crea un archivo **README.md** en nuestro repositorio, lo que nos permitirá clonarlo de manera inmediata en local. ***Es recomendable activarlo***.\n",
    "\n",
    "Haciendo click en nuestro usuario podemos ver nuestros repositorios:\n",
    "\n",
    "![My_rep](Img\\Modulo_1_My_repositories.JPG)"
   ]
  },
  {
   "cell_type": "markdown",
   "metadata": {},
   "source": [
    "#### Paso II. Clonado de repositorio remoto en local\n",
    "\n",
    "Ahora tenemos el repositorio en la *web*. El siguiente paso es copiar este repositorio a nivel local. Para ello, se entra en los repositorios, concretamente en el que se quiere copiar y se selecciona ***Clone or download***.\n",
    "\n",
    "Esta opción nos deja clonarlo en:\n",
    "- **HTTPS**, que exige claves para modificarlo. Obliga a la existencia de un directorio en red, como es el caso.\n",
    "- **SSH**, no exige claves para modificarlo. Se usa para trabajar en directorios remoto en una misma red.\n",
    "\n",
    "<center><img src=\"Img\\clone_rep.JPG\" width=700><\\center>"
   ]
  },
  {
   "cell_type": "markdown",
   "metadata": {},
   "source": [
    "Para clonar el repositorio: **`git clone <URL>`**\n",
    "\n",
    "![clone](Img\\git_clone.JPG)\n",
    "\n",
    "De esta forma importa el directorio desde *GitHub* y mantiene conectado el repositorio local con el de la nube"
   ]
  },
  {
   "cell_type": "markdown",
   "metadata": {},
   "source": [
    "## Git `status`\n",
    "\n",
    "Podemos ver en cualquier momento el estado de nuestro *repo* mediante `git status`. En este caso nos dice:\n",
    "\n",
    "- **On branch master**. Nos indica que estamos en la rama (*branch*) maestra.\n",
    "- **Initial commit**. Porque todavía no hemos hecho ningún commit.\n",
    "- **Nothing to commit**. Porque no tenemos ningún archivo creado.\n",
    "\n",
    "![status](Img\\git_status.JPG)"
   ]
  },
  {
   "cell_type": "markdown",
   "metadata": {},
   "source": [
    "## Identificarse en Git\n",
    "\n",
    "Es fundamental identificarse en **Git** para especificar quién va a trabajar y que le asigne los cambios:\n",
    "\n",
    "> **`git config --global user.name \"Javier Moreno\"`**\n",
    "\n",
    "> **`git config --global user.email \"javiermfandino@gmail.com\"`**\n",
    "\n",
    "\n",
    "![config](Img\\git_config.JPG)"
   ]
  },
  {
   "cell_type": "markdown",
   "metadata": {},
   "source": [
    "## Creando el primer archivo para Git\n",
    "\n",
    "Vamos a crear el primer archivo que se subirá a Git. Para ello, como ya sabemos, recurriremos a los comandos de la terminal.\n",
    "\n",
    "### Opción 1. `touch <file_name>.<extension>`\n",
    "\n",
    "Para crear un archivo vacío escribimos en la línea de comandos el comando `touch`. Por ejemplo:\n",
    "\n",
    "> **`touch index.html`**\n",
    "\n",
    "### Opción 2. Crear un archivo con un editor de texto.\n",
    "\n",
    "Si por el contrario se quiere crear un archivo y editarlo inmediantamente, basta con nombrar un editor de texto en lugar del comando `touch`. \n",
    "\n",
    "Por ejemplo:\n",
    "\n",
    "> **`nano index.html`**\n",
    "\n",
    "Este comando también sirve para modificar documentos existentes.\n",
    "\n",
    "En el caso del editor **nano**, en la barra de debajo del editor se verán las diferentes opciones, siendo:\n",
    "\n",
    "- **^** == **Ctrl**\n",
    "- **M** == **Alt**\n",
    "\n",
    "Tras realizar las modificaciones, para salir se guardan los cambios mendiante `Ctrl + O` y se cierra el editor con `Ctrl + X`.\n",
    "\n",
    "### Cuando ya hemos creado el archivo...\n",
    "\n",
    "Como se puede ver, si se hace `ls` se puede ver un nuevo archivo, llamado *index.html* y mediante `git status` se puede ver cómo:\n",
    "\n",
    "- El archivo **README.md** ha sido modificado y nos insta a hacer un `git add` sobre él.\n",
    "- El archivo **test.md** está en estado ***untracked*** porque ha sido creado de cero. Nos insta a hacer un `git add`.\n",
    "- Sin embargo, no se han añadido todavía estos cambios al no haber nada en el *staging area*, es decir, no se ha hecho previamente un `git add`. Por lo tanto nos vuelve a instar a hacer un `git add` o `git commit -a`.\n",
    "\n",
    "![stat1](Img\\git_status_1.JPG)"
   ]
  },
  {
   "cell_type": "markdown",
   "metadata": {},
   "source": [
    "## `git diff` para revisar los cambios introducidos\n",
    "\n",
    "Se pueden comparar versiones mediante el comando:\n",
    "\n",
    "> **`git diff <document>`**\n",
    "\n",
    "Si se ejecuta este comando, compararía la versión recién modificada con la última *commiteada*.\n",
    "\n",
    "Sin embargo, se pueden comparar dos versiones cualesquiera mediante:\n",
    "\n",
    "> **`git diff <hash_1> <hash_2>`**\n",
    "\n",
    "Por ejemplo:\n",
    "\n",
    "> **`git diff cd4f5f3 1ff2753`**\n",
    "\n",
    "Se verá posteriormente cómo obtener estos códigos mediante `git log`.\n",
    "\n",
    "![diff](Img\\git_diff.JPG)\n",
    "\n",
    "- Como se puede ver arriba, la rama **master** ha pasado ahora a estar en rojo, indicando que hay cambios en local\n",
    "    \n",
    "- Además la acompañan dos números: un **+3**, indicando que se han introducido 3 líneas, indicando **líneas actuales**.\n",
    "\n",
    "- Un **-1** indicando las **líneas originales**, es decir, que se ha eliminado una línea.\n",
    "\n",
    "¿Y cómo sabemos qué elemento de la carpeta ha sido modificado? Eso se puede ver con **`git status`**, que nos indica que provienen de **README.md**. Con un **`git diff README.md`** nos indica en verde las líneas añadidas y en rojo las eliminadas."
   ]
  },
  {
   "cell_type": "markdown",
   "metadata": {},
   "source": [
    "## El flujo de los cambios en *Git*\n",
    "\n",
    "### 1. `git add`: *working directory* ---> *staging area*\n",
    "\n",
    "Una vez que se han hecho cambios en el ***working directory*** hay que pedir a **Git** que registre estos cambios antes de ser enviados al repositorio local y que los almacene en un espacio temporal llamado ***stage*** o ***staging area***. Estos cambio de estado se realiza mediante:\n",
    "\n",
    "> **`git add <file>`**\n",
    "\n",
    "Por ejemplo, ejecutando **`git add index.html`** se registrarán los cambios realizados realizados en el archivo **index.html**. De esta forma, si se lanza un **`git status`** se puede ver que están ya listos para *commit*\n",
    "\n",
    "Se puede hacer que afecte a todos los documentos mediante:\n",
    "\n",
    "> **`git add .`** o **`git add -A`**\n",
    "\n",
    "![add](Img\\git_add.JPG)\n",
    "\n",
    "<center><img src=https://i.stack.imgur.com/KwOLu.jpg><\\center>\n"
   ]
  },
  {
   "cell_type": "markdown",
   "metadata": {},
   "source": [
    "### 2. `git commit`: de *staging area* ---> *repository*\n",
    "\n",
    "Una vez se ha realizado el `git add` y el archivo modificado se encuentra en el *staging area*, el siguiente paso es registrar los cambios y enviarlos al repositorio. Esto se realiza mediante el comando:\n",
    "\n",
    "> **`git commit`**\n",
    "\n",
    "Después de ejecutarlo nos abrirá una ventana que nos obliga a justificar los cambios realizados. Conviene ser lo más explícito posible para saber qué hemos hecho en esa versión.\n",
    "\n",
    "Si quisiéramos evitar que nos abriese esa ventana, podemos utilizar un *shortcut*:\n",
    "\n",
    "> **`git commit -m \"<reason_message>\"`**\n",
    "\n",
    "Del mismo modo, nos indica que nuestro *commit* en local se encuentra más actualizado que el del *remoto* de *origin*, o lo que es lo mismo, que los cambios no se han subido a *GitHub*. Si quisiéramos subirlos habría que hacer `git push`.\n",
    "\n",
    "![commit](Img\\git_commit.JPG)\n",
    "\n",
    "Existe un *shortcut* para enviar un *commit* sin hacer `git add <file>` previamente, que es:\n",
    "> **`git commit -a`**"
   ]
  },
  {
   "cell_type": "markdown",
   "metadata": {},
   "source": [
    "### 3. `git push`: local --> *remote*\n",
    "\n",
    "Queda finalmente empujar los cambios a remoto, que en este caso es *GitHub*. Esto se realiza mediante:\n",
    "\n",
    "> **`git push <remoto> <rama_que_queremos_actualizar`**\n",
    "\n",
    "En caso de tener una rama y un solo remoto podemos hacer:\n",
    "\n",
    "> **`git push`**\n",
    "\n",
    "Que por defecto sería un:\n",
    "> **`git push origin master`**\n",
    "\n",
    "Si tenemos varias ramas y queremos pushear todas podemos hacer:\n",
    "\n",
    ">**`git push origin --all`**\n",
    "\n",
    "Si hemos hecho el `git clone` con **HTTPS** nos pedirá introducir una contraseña, pero si lo hemos hecho con **SSH**, no nos la pedirá."
   ]
  },
  {
   "cell_type": "markdown",
   "metadata": {},
   "source": [
    "## `git pull`: traer los cambios de *remote*\n",
    "\n",
    "Es **FUNDAMENTAL** cada vez que se inicia sesión realizar un **`git pull`** para asegurarse de que se está trabajando con la última versión de código. Es posible que durante el tiempo en el que no hemos estado trabajando si lo hayan hecho compañeros y si no estamos trabajando con la misma versión podrían surgir conflictos.\n",
    "\n",
    "Por ello, como buena práctica, **SIEMPRE** que se comience a trabajar se debe hacer:\n",
    "\n",
    "> **`git pull <rama remota de la que actualizo> <rama local que queremos actualizar>`**\n",
    "\n",
    "O simplemente:\n",
    "\n",
    "> **`git pull`**\n",
    "\n",
    "Ya que en realidad, `git pull` haría un:\n",
    "\n",
    "> **`git pull origin master`**\n",
    "\n",
    "Es decir, traeme a la rama local master lo que se encuentra en la rama remota origin.\n",
    "\n",
    "Por lo tanto, hacer `git push` y `git pull` de manera constante es necesario para evitar conflictos en el código."
   ]
  },
  {
   "cell_type": "markdown",
   "metadata": {},
   "source": [
    "### La importancia de `git pull`.\n",
    "\n",
    "Veamos en un ejemplo la importancia que tiene el `git pull`.\n",
    "\n",
    "En el caso que venimos explicando se acaba de hacer un `git push` del archivo **index.html**. Si un compañero comenzase a trabajar después de ese `git push` y se ejecutase el comando `ls` vería cómo no aparece este archivo. Y si se escribiese el comando `git status` vería cómo el ordenador devuelve información errónea diciendo que el directorio remoto está actualizado.\n",
    "\n",
    "<center><img src=Img\\pull_ex.JPG width=500><\\center>\n",
    "\n",
    "Por ello, conviene no fiarse y realizar siempre un:\n",
    "\n",
    "> **`git pull`**\n",
    "\n",
    "A partir de ese momento se puede ver cómo ya sí aparece ese archivo:\n",
    "\n",
    "<center><img src=Img\\pull_imp.JPG width=500><\\center>"
   ]
  },
  {
   "cell_type": "markdown",
   "metadata": {},
   "source": [
    "## `git fetch`: otra manera de actualizar desde remoto\n",
    "\n",
    "Realmente `git pull` es una combinación de dos comandos:\n",
    "\n",
    "> **`git fetch`**\n",
    "\n",
    "> **`git merge`**\n",
    "\n",
    "Lo que hace `git fetch` es conectarse a un remoto, consultar si tiene novedades y descargarlas. Por ejemplo **`git fetch origin`** comprobaría en origin si hay cambios.\n",
    "\n",
    "Esto es interesante porque cuando agregamos remotos tenemos muchas más ramas que la rama master. Todas las ramas pueden verse mediante:\n",
    "\n",
    "> **`git branch -a`** o **`git branch --all`**\n",
    "\n",
    "![branch](Img\\branch_a.JPG)\n",
    "\n",
    "De hecho, los remotos no son más que ramas y esto se puede ver si se hace un checkout a origin/master:\n",
    "\n",
    "> **`git checkout origin/master`**\n",
    "\n",
    "Y si la primera parte de pul es un `git fetch`, la segunda parte es fusionarla mediante `git merge` con la rama en la que le hayamos indicando con el comando pull. Es decir, si hemos hecho:\n",
    "\n",
    "> **`git pull origin/master`** \n",
    "\n",
    "Lo que hará será fusionar o `git merge` lo que encuentre en la rama *origin* con la rama *master*. O lo que es lo mismo, sería:\n",
    "\n",
    "> **`git merge origin/master`**\n",
    "\n",
    "Cuando no haya ninguna modificación en *remote* no pasa nada, ya que `git fetch` dirá que está al día y no hay nada que modificar. Sin embargo, ¿qué ocurre si se han hecho modificaciones en las dos ramas y luego se intentan fusionar, como en el caso del punto anterior? Pues ocurre que **Git** no las puede solucionar por *Fast-Forward*, como se verá más adelante cuando se explique `git merge` y lo solucionará mediante *estrategias recursivas* que requieren de nuestra intervención."
   ]
  },
  {
   "cell_type": "markdown",
   "metadata": {},
   "source": [
    "## `git pull --rebase`: rehaciendo los commits\n",
    "\n",
    "Hace dos casos se ha explicado la importancia de hacer `git pull` de manera constante para evitar conflictos por falta de sincronización. En estos casos, una herramienta potente pero muy peligrosa es:\n",
    "\n",
    "> **`git pull --rebase origin master`**\n",
    "\n",
    "Lo que hace este comando es que cuando está intentando fusionar dos ramas que tienen commits en distinto tiempo, se va a ir atrás hasta el momento en el que no tenga que realizar ninguna estrategia recursiva que requiere de nuestra intervención y pueda unificar las ramas mediante *fast-forward*, lo que implica que se modifique el orden de los commits.\n",
    "\n",
    "Por todo ello, `git pull --rebase` es un comando bastante destructivo ya que modifica la identificación de los *commits* afectados.\n",
    "\n",
    "Es por lo que existe un gran debate en el entorno de programación si se debe hacer `git pull --rebase`, ya que se pueden generar grandes conflictos haciéndolo de esta manera y se puede destruir código si está mal ejecutado, aunque puede establecer un historial más limpio en casos complejos. Es nuestra decisión utilizarlo o no."
   ]
  },
  {
   "cell_type": "markdown",
   "metadata": {},
   "source": [
    "## `git clean`: eliminar los archivos no trackeados del dispositorio\n",
    "\n",
    "Para eliminar los archivos no trackeados del repositorio se utiliza el siguiente comando:\n",
    "\n",
    "> **`git clean -fd`**\n",
    "\n",
    "Sin embargo, debe usarse con **CUIDADO** ya que elimina todos los archivos generados por compilaciones, pero también los creados a propósito pero no añadidos al repositorio."
   ]
  },
  {
   "cell_type": "markdown",
   "metadata": {},
   "source": [
    "## `Log` para el manejo de versiones\n",
    "\n",
    "Para el manejo de versiones, `log` es uno de los subcomandos más potentes que tiene **Git**, ya que nos permite ver todas las versiones *commiteadas* de un archivo, así como quién realizó esos *commits*. El comando es el siguiente:\n",
    "\n",
    "- **`git log <file>`**\n",
    "\n",
    "![branch](Img\\log.JPG)\n",
    "\n",
    "El código que aparece en naranja es un código **hash** generado automáticamente dependiendo del mensaje de *commmit* y el contenido del *commit*, de tal manera que le otorga un código único. Tiene varias utilidades:\n",
    "    \n",
    "- La primera es que genera un código por cada *commit*, permitiendo identificarlos y haciendo prácticamente imposible que se repitiesen.\n",
    "- La segunda, es la integridad, sería muy raro modificar un *commit* anterior, impidiendo que alguien perniciosamente modificase un commit, ya que si quisiera modificarlo cambiaría el **hash**.\n",
    "\n",
    "Mencionar que si tenemos muchos *commits*, nos mostrará todos y nos mostrará el símbolo de (**:**) parpadeando debajo, indicando que si utilizo la flecha hacia abajo puedo continuar viendo el resto de *commits*.\n",
    "\n",
    "**Para SALIR de `git log <file>` hay que presionar `q` de QUIT**\n",
    "\n",
    "Por otra parte, existe un parámetro para log, llamado `oneline` que permite ver el **ID** del *commit* y su *descripción* en una línea. Este se ejecuta mediante:\n",
    "\n",
    "> **`git log --oneline`**\n",
    "\n",
    "Otro parámetro interesante es `graph`, que permite mostrar un grafo (que veremos en la imagen de debajo medinate asteriscos) con los distintos commits hechos en nuestro proyecto, mostrando la relación entre los diferentes commits. Se ejecuta así:\n",
    "\n",
    "> **`git log --graph`**\n",
    "\n",
    "Otro parámetro interesante es `decorate`, donde se muestra cuál es el commit que se está revisando en ese momento, indicado mediante **HEAD** e indicando también cuál es su rama. \n",
    "\n",
    "> **`git log --decorate`**\n",
    "\n",
    "Finalmente,`all` muestra todos los *commits* anteriores, no solo unos cuantos. \n",
    "\n",
    "> **`git log --decorate`**\n",
    "\n",
    "Podemos unificarlos todos de la siguiente manera:\n",
    "\n",
    "- **`git log --oneline --graph --decorate --all`**\n",
    "\n",
    "<center><img src=Img\\Modulo_1_log_decorate.JPG width=500><\\center>\n",
    "\n",
    "En este ejemplo de arriba, obtenido de la web de *makigas*, se puede ver claramente que hace este `git log --oneline --graph --decorate --all`"
   ]
  },
  {
   "cell_type": "markdown",
   "metadata": {},
   "source": [
    "## `Log` para el manejo de versiones\n",
    "\n",
    "Para el manejo de versiones, `log` es uno de los subcomandos más potentes que tiene **Git**, ya que nos permite ver todas las versiones *commiteadas* de un archivo, así como quién realizó esos *commits*. El comando es el siguiente:\n",
    "\n",
    "- **`git log <file>`**\n",
    "\n",
    "<center><img src=Img\\Modulo_1_log.JPG width=500><\\center>"
   ]
  },
  {
   "cell_type": "markdown",
   "metadata": {},
   "source": [
    "El código que aparece en naranja es un código **hash** generado automáticamente dependiendo del mensaje de *commmit* y el contenido del *commit*, de tal manera que le otorga un código único. Tiene varias utilidades:\n",
    "    \n",
    "- La primera es que genera un código por cada *commit*, permitiendo identificarlos y haciendo prácticamente imposible que se repitiesen.\n",
    "- La segunda, es la integridad, sería muy raro modificar un *commit* anterior, impidiendo que alguien perniciosamente modificase un commit, ya que si quisiera modificarlo cambiaría el **hash**.\n",
    "\n",
    "Mencionar que si tenemos muchos *commits*, nos mostrará todos y nos mostrará el símbolo de (**:**) parpadeando debajo, indicando que si utilizo la flecha hacia abajo puedo continuar viendo el resto de *commits*.\n",
    "\n",
    "**Para SALIR de `git log <file>` hay que presionar `q` de QUIT**\n",
    "\n",
    "Por otra parte, existe un parámetro para log, llamado `oneline` que permite ver el **ID** del *commit* y su *descripción* en una línea. Este se ejecuta mediante:\n",
    "\n",
    "> **`git log --oneline`**\n",
    "\n",
    "Otro parámetro interesante es `graph`, que permite mostrar un grafo (que veremos en la imagen de debajo medinate asteriscos) con los distintos commits hechos en nuestro proyecto, mostrando la relación entre los diferentes commits. Se ejecuta así:\n",
    "\n",
    "> **`git log --graph`**\n",
    "\n",
    "Otro parámetro interesante es `decorate`, donde se muestra cuál es el commit que se está revisando en ese momento, indicado mediante **HEAD** e indicando también cuál es su rama. \n",
    "\n",
    "> **`git log --decorate`**\n",
    "\n",
    "Finalmente,`all` muestra todos los *commits* anteriores, no solo unos cuantos. \n",
    "\n",
    "> **`git log --decorate`**\n",
    "\n",
    "Podemos unificarlos todos de la siguiente manera:\n",
    "\n",
    "- **`git log --oneline --graph --decorate --all`**\n",
    "\n",
    "<center><img src=Img\\Modulo_1_log_decorate.JPG width=500><\\center>"
   ]
  },
  {
   "cell_type": "markdown",
   "metadata": {},
   "source": [
    "## `git commit --ammend`: realizar una adenda de un commit\n",
    "\n",
    "Si por algún casual hemos realizado un *commit* y antes de hacer *push* nos hemos dato cuenta que falta por realizar algún cambio, podemos *adendarlo* de la siguiente manera:\n",
    "- Hacemos el cambio: `nano <file>`\n",
    "- Hacemos el *add* del cambio: `git add <file>`\n",
    "- Hacemos el *amendment* del *commit*: `git commit --amend`.\n",
    "\n",
    "De esta manera, **Git** vuelve atrás y mete los nuevos cambios antes de realizar el **`git push`**, aunque cambiando el **hash**. Sin embargo **SOLO** se puede hacer un *amendment* del último *commit*."
   ]
  },
  {
   "cell_type": "markdown",
   "metadata": {},
   "source": [
    "## `git checkout --`: deshacer una modificación antes de `git add`.\n",
    "\n",
    "Si hemos realizado un cambio y nos hemos dado cuenta que hemos realizado un error pero todavía no ha sido añadido enviado al *stage* mediante `git add <file>`, se puede deshacer mediante:\n",
    "\n",
    "> **`git checkout <file>`**"
   ]
  },
  {
   "cell_type": "markdown",
   "metadata": {},
   "source": [
    "## `git reset HEAD` + `git checkout`: deshacer una modificación después de `git add`.\n",
    "\n",
    "Si en cambio nos hemos dado cuenta del error después de hacer `git add <file>`, la solución no pasa por `git checkout <file>`, sino por `git reset <file>`. Es decir, del mismo modo que puedo hacer un `add` para mandar al *stage*, puedo hacer un `reset` para mandar al *unstage*.\n",
    "\n",
    "Para ello el comando es:\n",
    "\n",
    "> **`git reset HEAD <file>`**\n",
    "\n",
    "Siendo **HEAD** sinónimo del *último commit* de la rama a la que estoy apuntando.\n",
    "\n",
    "Sin embargo, esto deshace el `git add`, pero no devuelve a la situación original. Por ello, como se acaba de explicar, haría falta hacer un `git checkout  <file>` para volver a la situación original anterior a los cambios.\n",
    "\n",
    "> **`git checkout <file>`**\n",
    "\n",
    "<center><img src=Img\\Modulo_1_reset.JPG width=500><\\center>"
   ]
  },
  {
   "cell_type": "markdown",
   "metadata": {},
   "source": [
    "## Cómo deshacer un *commit* y restaurar una versión previa cualquiera\n",
    "\n",
    "Dibujemos el último escenario: se ha hecho `git add`y `git commit`y nos hemos dado cuenta de que, por error, hemos borrando contenido que era necesario. Para deshacerlo **Git** nos proporciona dos comandos para deshacer contenido de un *commit*. Estos son:\n",
    "- `reset`\n",
    "- `revert`"
   ]
  },
  {
   "cell_type": "markdown",
   "metadata": {},
   "source": [
    "## `reset`, el comando destructivo\n",
    "\n",
    "Vamos a hacer que el último commit desaparezca y volver a uno que queremos. Para ello, tenemos que ver el *commit* que queremos recuperar con **`git log`**, o mejor, para verlo más sencillo y agrupado **`git log --oneline`**.\n",
    "\n",
    "En este caso, vamos a volver a la versión **736be0d**.\n",
    "<center><img src=Img\\Modulo_1_deshacer_commit.JPG width=500><\\center>"
   ]
  },
  {
   "cell_type": "markdown",
   "metadata": {},
   "source": [
    "El siguiente paso, será utilizar **`git reset <code>`**:\n",
    "- **`git reset 736be0d`**\n",
    "\n",
    "Si quisiera restaurar la versión anterior, también puedo hacer, en vez de escribir el código de la versión, escribir:\n",
    "- **`git reset HEAD~1`**\n",
    "\n",
    "<center><img src=Img\\Modulo_1_reset_1.JPG width=500><\\center>"
   ]
  },
  {
   "cell_type": "markdown",
   "metadata": {},
   "source": [
    "Lo finalizamos con un **`git checkout -- <file>`** y así se habrá restaurado la versión antigua.\n",
    "\n",
    "Si por el contrario ponemos:\n",
    "- **`git reset --hard <code>`**\n",
    "eliminará todos los *commits*, incluso del *stage* y no tendremos que hacer el `git checkout`.\n",
    "\n",
    "Por el contrario, si hemos metido archivos distintos, volver a versiones anteriores a ellos supondría eliminarlos, por lo que puede que queramos hacer un **`git reset --soft <code>`** para que nos deje todos los archivos en el *stage* y decidir qué archivos queremos y cuáles queremos eliminar.\n",
    "\n",
    "### IMPORTANTE:\n",
    "\n",
    "Hay que tener mucho cuidado con `git reset` ya que es un comando destructivo y si compartimos proyecto con otras personas y eliminamos un commit que otras personas mantienen, vamos a generar un problema importante, así que aunque funciona bien de manera local es desaconsejable de manera compartida."
   ]
  },
  {
   "cell_type": "markdown",
   "metadata": {},
   "source": [
    "## `revert`, una manera menos agresiva\n",
    "\n",
    "Imaginemos que alguien ha trabajado en un archivo y ha cometido un grave error. Realizar un `reset`es una manera agresiva de solucionarlo, ya que generaría problemas a esa otra persona al acabar provocando en algún momento un **error de sincronización** ya que ambas personas tienen *commits* en un estilo distinto.\n",
    "\n",
    "Una manera más útil de deshacerlo en este caso es usando un `revert`. Este comando es el que debe usarse de manera general cuando se quiere deshacer el contenido de un commit, en vez de `reset`\n",
    "\n",
    "En el caso de debajo, extraído de los tutoriales de *makigas*, si usamos `git diff` podemos ver las diferencias entre dos *commits* diferentes:\n",
    "\n",
    "- **`git diff f5f0388 b4844be`**\n",
    "\n",
    "<center><img src=Img\\Modulo_1_diff_rev.jpg width=500><\\center>\n",
    "<center><img src=Img\\Modulo_1_diff_rev_2.jpg width=300><\\center>"
   ]
  },
  {
   "cell_type": "markdown",
   "metadata": {},
   "source": [
    "Donde se indican en verde la parte nueva y en rojo la parte eliminada\n",
    "\n",
    "Básicamente lo que hace `revert` es el camino inverso: es decir, devolver los cambios a su estado natural.\n",
    "\n",
    "Como ya sabemos la palabra `HEAD` hace referencia al puntero que señala el commit que tenemos en revisión y apunta al directorio de trabajo en el que estamos haciendo los cambios. Igualmente, hay una nomenclatura para referirse al *commit* anterior al que se han hecho los cambios, esta es `HEAD~1`, donde `~` quiere decir anterior.\n",
    "\n",
    "De esta forma, si hacemos **`git revert HEAD~1`** o **`git revert <code>`** se volverá al estado anterior y se creará automáticamente un nuevo commit.\n",
    "\n",
    "Sin embargo, si quisiéramos deshacer varios pasos sin que me crease *commits*, porque luego voy a añadir yo cambios posteriores en cada uno de ellos, puedo hacer:\n",
    "- **`git revert --no-commit HEAD~1`**\n",
    "\n",
    "Como me indica **Git** mediante un mensaje una ver que ya he modificado todo lo que tengo que modificar solamente me quedaría hacer:\n",
    "- **`git revert continue`**\n",
    "\n",
    "que termina de hacer mi reversión y solo me deja un *commit* en vez de varios."
   ]
  },
  {
   "cell_type": "markdown",
   "metadata": {},
   "source": [
    "## Malas prácticas: `git push -f` o *force*\n",
    "\n",
    "Una práctica que no se debe usar prácticamente nunca es **`git push -f`**, que *fuerza* el *push* y pisará todas las versiones menos la que estamos empujando, provocando que si trabajamos con otras personas se pueda destruir su parte del trabajo."
   ]
  },
  {
   "cell_type": "markdown",
   "metadata": {},
   "source": [
    "## Introducción a las ramas o *branches*\n",
    "\n",
    "Una de las principales ventajas que tienen los sistemas de control de versiones es que facilitan mucho ramificar el trabajo. Ramificar el trabajo consiste en crear varias ramas de código, una con código limpio que sabemos que funciona y otra con código en el que estamos trabajando, de tal forma que cuando acabemos con esa rama y sepamos que esa está bien, podamos unificarlas.\n",
    "\n",
    "Una de las principales **ventajas** que permite trabajar por medio de ramificaciones o bifurcaciones es que permite el *multitasking*, dejar de trabajar en un proyecto en el que estamos, dejarlo a medias, ponernos con otro y retomarlo más tarde, siendo cada rama independiente entre sí.\n",
    "\n",
    "Para ver la lista de ramas utilizamos `git branch -a`"
   ]
  },
  {
   "cell_type": "markdown",
   "metadata": {},
   "source": [
    "### Metodología `Feature - Branch`\n",
    "\n",
    "Es una metodología de trabajo que se utiliza mucho en **Git**. Consiste en que cuando queramos añadir un cambio o *feature* vamos a crear una rama nueva para siempre tener una rama *master* como código limpio y una *feature* como código sucio y, cuando hayamos acabado, las integramos.\n",
    "\n",
    "Para crear esta nueva rama tengo que escribir `git branch <branch_name>`, en este caso será:\n",
    "- **`git branch feature`**\n",
    "\n",
    "![branchf](Img\\branch_feature.JPG)\n",
    "\n",
    "Puedo ver cómo ahora me aparecen dos ramas en vez de una sola: una llamada **master** y otra llamada **feature**. \n",
    "\n",
    "Como se puede ver, **master** aparece *de color verde y con un asterisco*, indicando que estamo ahora mismo en ella, mientras que **feature** aparece en blanco."
   ]
  },
  {
   "cell_type": "markdown",
   "metadata": {},
   "source": [
    "## `checkout`: cómo cambiar de rama\n",
    "\n",
    "El comando `checkout`, que ya se utilizó para **cambiar el *commit***, también se utiliza para **cambiar la rama**.\n",
    "\n",
    "En el caso de arriba, lo utilizaríamos para movernos de la rama **master** a la rama **feature**. Su estructura es `git checkout <branch_name>`:\n",
    "\n",
    "- **`git checkout feature`**\n",
    "\n",
    "![branchf](Img\\checkout_ft.JPG)\n",
    "\n",
    "Se puede ver cómo aparece ahora de color verde y con asterisco la rama **feature**."
   ]
  },
  {
   "cell_type": "markdown",
   "metadata": {},
   "source": [
    "## `checkout -b`: crear y cambiar de rama\n",
    "\n",
    "Pero si vamos a crear ramas constamente, ¿no hay un *shortcut* para crearla y movernos a la nueva rama rápidamente sin escribir dos códigos diferentes?\n",
    "\n",
    "Efectivamente, si lo hay, y es `git checkout -b <branch_name>`, donde el `-b` sirve para indicar que se cambie de rama nada más crearla."
   ]
  },
  {
   "cell_type": "markdown",
   "metadata": {},
   "source": [
    "## `branch -m`: cómo renombrar una rama\n",
    "\n",
    "Para renombrar una rama existente se utiliza el comando `git branch -m <old_name> <new_name>`, siendo `-m`igual a *modify*"
   ]
  },
  {
   "cell_type": "markdown",
   "metadata": {},
   "source": [
    "## `branch -d`: cómo eliminar una rama\n",
    "\n",
    "Para eliminar una rama existente se utiliza el comando `git branch -d <branch>`, siendo `-d` igual a *delete*."
   ]
  },
  {
   "cell_type": "markdown",
   "metadata": {},
   "source": [
    "## `branch -h`: ayuda con las ramas\n",
    "\n",
    "Si necesitamos ayuda con las diferentes cosas que podemos hacer con las ramas podemos escribir `git branch -h`, siendo `-h` igual a *help*."
   ]
  },
  {
   "cell_type": "markdown",
   "metadata": {},
   "source": [
    "## Caso práctico: ramas en el diseño de una página web\n",
    "###### (El ejemplo mostrado a continuación ha sido sacado del canal de *makigas*)"
   ]
  },
  {
   "cell_type": "markdown",
   "metadata": {},
   "source": [
    "\n",
    "Como se ha explicado, el uso de ramas es **increíblemente útil**, ya que nos permite mantener una versión operativa (*master*), mientras realizamos cambios. A continuación se va a ver un ejemplo de todo lo expuesto.\n",
    "\n",
    "Imaginemos que se está diseñando una página web y tenemos una versión estable. Pero el cliente nos llama que quiere una versión más innovadora. Lo lógico es crear una nueva rama o `branch` para realizar las modificaciones. Por ello, creamos una nueva rama y con el comando `checkout -b` pedimos que nos destine directamente a ella e introducimos el archivo con los cambios:\n",
    "\n",
    "- **`git checkout -b feature-newstyle`**\n",
    "- **`nano main.scss` o `nano .` o `atom .`** si quisiéramos abrir todos los archivos.\n",
    "\n",
    "Imaginemos que teníamos varios archivos y que se han modificado dos. En un `git status` se puede ver que ambos han sido modificados, como se ve debajo. En vez de hacer `git add <file>` podemos hacer **`git add -a`** o **`git add .`** para que haga un add de todos. Lo mismo ocurre con **`git commit -a`**\n",
    "\n",
    "<center><img src=Img\\Modulo_1_example_1.jpg width=500><\\center>"
   ]
  },
  {
   "cell_type": "markdown",
   "metadata": {},
   "source": [
    "De igual modo, si hacemos:\n",
    "- **`git log --oneline --decorate`**\n",
    "veremos lo siguiente\n",
    "\n",
    "<center><img src=Img\\Modulo_1_example_2.jpg width=500><\\center>"
   ]
  },
  {
   "cell_type": "markdown",
   "metadata": {},
   "source": [
    "Como se puede ver, por un lado tenemos el ***commit actual*** que está siendo apuntado por *HEAD* y que referencia a la rama *feature-newstyle* donde hemos realizado las modificaciones y debajo tenemos ***un segundo commit*** que apunta a la rama *master*, es decir, tenemos *commits* separados.\n",
    "\n",
    "Ahora mismo, al estar apuntando a la *branch* ***features-newstyle*** vería esa versión con los cambios realizados:\n",
    "\n",
    "<center><img src=Img\\Modulo_1_example_3.jpg width=500><\\center>"
   ]
  },
  {
   "cell_type": "markdown",
   "metadata": {},
   "source": [
    "Pero si apuntase a la rama *master* mediante un `git checkout master`, en el `git log` me desaparecería esa nueva rama creada y se visualizaría la versión sin cambios, ya que los archivos son distintos:\n",
    "\n",
    "<center><img src=Img\\Modulo_1_example_4.jpg width=800><\\center>)"
   ]
  },
  {
   "cell_type": "markdown",
   "metadata": {},
   "source": [
    "Ahora nos llama el cliente y nos dice que tenemos que hacer un cambio en la página porque la fecha de lanzamiento va a ser diferente. Lo lógico sería crear una nueva rama que dependiese de *master*, por lo que tengo que asegurarme hacer: \n",
    "\n",
    "- **`git checkout master`**\n",
    "\n",
    "y crear una nueva rama con el *fix* de la fecha:\n",
    "\n",
    "- **`git -b fix-fecha`**\n",
    "- **`nano main.scss`**, donde solo cambio los nuevos elementos, no los cambiados en la rama *feature-newstyle*, ya que los acabaré unificando posteriormente.\n",
    "\n",
    "y realizo un:\n",
    "- **`git add .`**\n",
    "- **`nano commit .`**\n",
    "\n",
    "Si vuelvo a la rama master mediante:\n",
    "\n",
    "- **`git checkout master`**\n",
    "\n",
    "y realizo un:\n",
    "\n",
    "- **`git log --oneline --decorate --graph --all`**\n",
    "\n",
    "donde con `--all` lo que hago es ver todos los commits, puedo ver la relación entre ellos mediante un grafo:"
   ]
  },
  {
   "cell_type": "markdown",
   "metadata": {},
   "source": [
    "<center><img src=Img\\Modulo_1_example_5.jpg width=500><\\center>)\n",
    "\n",
    "Es decir, tengo varias versiones en paralelo de la página web.\n",
    "\n",
    "Sin embargo, **es necesario implementar todo nuestro código en máster unificándolo**. Para ello está la *fusión* o `merge` que se verá a continuación"
   ]
  },
  {
   "cell_type": "markdown",
   "metadata": {},
   "source": [
    "## Continuando el ejemplo anterior:\n",
    "## `merge` o cómo fusionar diferentes versiones\n",
    "\n",
    "Cuando hacemos una fusión, unimos en una misma rama los cambios que hay en una rama origen con los que hay en una rama destino, o lo que es lo mismo, vamos a dejar en un único *commit* amparado baja la rama máster los *commits* provenientes de las ramas *fix-fecha*, *feature-newstyle* y los propios de la rama *master*.\n",
    "\n",
    "Para hacer esto hay que hacer dos pasos:\n",
    "1. **Ir a la rama donde se quiere *mergear***\n",
    "    - **`git checkout master`**\n",
    "    \n",
    "    \n",
    "2. **Utilizar el comando `git merge <branch>`**\n",
    "    - **`git merge fix-fecha`**\n",
    "\n",
    "<center><img src=Img\\Modulo_1_merge.jpg width=500><\\center>"
   ]
  },
  {
   "cell_type": "markdown",
   "metadata": {},
   "source": [
    "Como se puede ver, el mensaje dice que ha hecho el *merge* mediante una operación de *Fast-Forward*. \n",
    "\n",
    "El *Fast-Forward* es una operación en la que **Git** piensa: de acuerdo, tienes que hacer una *fusión* entre una rama que tiene modificaciones y una que no tiene modificaciones ¿no será más fácil que coja el puntero de *master* y lo mueva a la versión con cambios?\n",
    "\n",
    "Si se observa mediante:\n",
    "\n",
    "- **`git log --oneline --decorate --graph --all`**\n",
    "\n",
    "Se puede ver que eso es básicamente lo que ha hecho **Git**, manteniendo los antiguos *commits* anteriores de *master*.\n",
    "\n",
    "<center><img src=Img\\Modulo_1_ff.jpg width=500><\\center>"
   ]
  },
  {
   "cell_type": "markdown",
   "metadata": {},
   "source": [
    "Sin embargo, la estrategia de ***fast-forward*** no es útil para unir la rama *feature-newstyle*, ya que la nueva rama *master* tiene los cambios incluidos en *fix-fecha*. Lo que hará ahora **Git** será utilizar la estrategia **recursiva** y realizar un tercer *commit* que unifique los cambios existentes entre *master* y *feature-newstyle* comparando ambas ramas. Si no hay ningún conflicto, **Git** puede hacerlo por sí mismo, pero si hubiera algún conflicto, necesitaría de nuestra intervención para arreglarlo. \n",
    "\n",
    "Un ejemplo paradigmático de este último caso, donde se requiere intervención, será el caso que se verá posteriormente, donde dos informáticos han modificado un archivo, llegando a modificar la misma línea de código. \n",
    "\n",
    "En el caso que nos ocupa ahora, sin embargo, no será esto necesario y bastará con ese *tercer commit automático*.\n",
    "\n",
    "Como se explicó antes, para realizar este *merge* nos aseguramos que estamos en la rama master:\n",
    "- **`git checkout master`**\n",
    "\n",
    "Y realizamos un nuevo *merge*:\n",
    "- **`git merge feature-newstyle`**\n",
    "\n",
    "Esta vez, como está haciendo un nuevo *commit*, nos pedirá introducir un mensaje de *commit*, algo que no ocurrió con el método *Fast-Forward* y nos dice que ha utilizado la estrategia *recursiva* para realizar este *commit*.\n",
    "\n",
    "Si se mira ahora el log, se ve claramente esta estructura de *tercer commit*\n",
    "\n",
    "<center><img src=Img\\Modulo_1_recursivo.jpg width=500><\\center>"
   ]
  },
  {
   "cell_type": "markdown",
   "metadata": {},
   "source": [
    "Se puede abortar la fusión mediante el código:\n",
    "> **`git merge --abort`**\n",
    "\n",
    "Quedando todo como estaba en un primer momento."
   ]
  },
  {
   "cell_type": "markdown",
   "metadata": {},
   "source": [
    "## Resolución de conflictos\n",
    "\n",
    "Como se ha explicado, **Git** nos obliga a intervenir cuando el conflicto no puede resolverlo por sí mismo, es decir, cuando por ejemplo dos programadores han tocado la misma línea de código y, por ejemplo, por error uno de ellos no hizo **`git pull`** antes de comenzar a trabajar.\n",
    "\n",
    "A continuación veremos un caso similar, imaginando una persona que ha hecho modificaciones de un archivo en la página web de *GitHub* y, días más tarde, comienza a trabajar en el mismo proyecto pero se le olvida hacer **`git pull`**.\n",
    "\n",
    "En *GitHub*, dentro de *Repositories* puedo modificar un proyecto haciendo click en el ratón. Una vez he realizado los cmabios, hago *commit*. Puedo ver los cambios realizados haciendo click sobre el nombre del archivo.\n",
    "\n",
    "<center><img src=Img\\Modulo_1_github.jpg width=500><\\center>"
   ]
  },
  {
   "cell_type": "markdown",
   "metadata": {},
   "source": [
    "Días después vuelvo a trabajar, pero se me ha olvidado hacer `git pull` y abro el `nano README.md` y realizo cambios sobre líneas de código modificadas en *GitHub*. Los comandos ejecutados son los siguientes:\n",
    "- **`nano README.md`**\n",
    "- **`git add README.md`**\n",
    "- **`git commit`**\n",
    "- **`git push`**\n",
    "\n",
    "Y es a partir de ese momento cuando me devuelve un mensaje de alerta indicando que no se ha podido realizar el push porque hay cambios en mi repositorio que no han sido importados en local:\n",
    "\n",
    "<center><img src=Img\\Modulo_1_conflict.jpg width=500><\\center>"
   ]
  },
  {
   "cell_type": "markdown",
   "metadata": {},
   "source": [
    "Por suerte, tiene solución. Tengo que hacer:\n",
    "\n",
    "- **`git pull`**\n",
    "\n",
    "Y veré que me sale un mensaje de **MERGING**. En este caso es ***master (+8/0,+1/-2)***, siendo:\n",
    "- **+8** el número de líneas del documento\n",
    "- **0** el número de líneas añadidas\n",
    "- **+1** las partes en local y no en remoto\n",
    "- **-2** las partes en remoto y no en local\n",
    "\n",
    "<center><img src=Img\\Modulo_1_solucion_1.jpg width=500><\\center>"
   ]
  },
  {
   "cell_type": "markdown",
   "metadata": {},
   "source": [
    "Tengo que abrir el editor para solucionarlo:\n",
    "- **`nano README.md`**\n",
    "y se verá un mensaje indicando dónde están los cambios, siendo:\n",
    "- `<<<<<< HEAD` la parte que tengo en local\n",
    "- `========` la parte que separa las diferencias de local y remoto\n",
    "- `>>>>>>>> <código_de_64_caracteres>` la parte que envuelve los cambios de remoto\n",
    "\n",
    "<center><img src=Img\\Modulo_1_merging.jpg width=500><\\center>"
   ]
  },
  {
   "cell_type": "markdown",
   "metadata": {},
   "source": [
    "Para solucionarlo tengo que eliminar toda la parte de `<<<HEAD`,`===` y `>>> <codigo>`, es decir, **jamás debo mantener las marcas de error**.\n",
    "\n",
    "Una vez solucionado, hago:\n",
    "- **`git add README.md`**\n",
    "- **`git commit`**\n",
    "- **`git push`**\n",
    "\n",
    "Ya tendré el archivo actualizado en remoto. Puedo ver con **`git log --oneline --decorate --graph`** cómo ha quedado trazado:\n",
    "\n",
    "![confl](Img\\Modulo_1_gitlog_conflict.JPG)"
   ]
  },
  {
   "cell_type": "markdown",
   "metadata": {},
   "source": [
    "## `alias` en Git\n",
    "\n",
    "Hasta el momento se han escrito códigos muy largos como:\n",
    "\n",
    "> **`git log --oneline --decorate --graph --all`**\n",
    "\n",
    "Sin embargo, **Git** tiene un mecanismo muy flexible como son los alias, que permiten crear comandos que denominaremos como queramos y que son atajos a otros comandos más largos. Por ejemplo, podríamos llamar `git lodga` a `git log --oneline --decorate --graph --all`.\n",
    "\n",
    "Los atajos se guardan en la configuración de **Git**, de tal forma que si queremos modificar los atajos debemos entrar en:\n",
    "\n",
    "- **`git config --global alias.<name> '<code>'`**. Sus partes son:\n",
    "    - Está en `config` porque es parte de la configuración.\n",
    "    - Está en `global` porque queremos que sea global, que se guarde en nuestra configuración y esté accesible desde todos los repositorios que creemos.\n",
    "    - `alias.<nombre_asignado>`\n",
    "    - `'<code>'`. Y entre **comillas simples** el código del que queremos hacer shortcut.\n",
    "\n",
    "Por ejemplo:\n",
    "> **`git config --global alias.lodga 'git log --oneline --decorate --graph --all`**\n",
    "\n",
    "Para ver todos los `alias` que tenemos asignados usaremos:\n",
    "> **`git config --global --get-regexp alias`**\n",
    "\n",
    "Y para eliminar un alias debo usar `unset`.\n",
    "> **`git config --global --unset alias.lodga`**"
   ]
  },
  {
   "cell_type": "markdown",
   "metadata": {},
   "source": [
    "## `tags` ligeros de los *commits*\n",
    "\n",
    "**Git** nos permite *taggear* a los *commits* que consideremos importantes y ponerles un *alias* para poder acceder a ellos más fácilmente que mediante un código ***hash*** o un *número de* ***HEAD***. \n",
    "\n",
    "Los *tags* son muy útiles, por ejemplo, cuando queremos referirnos rápidamente a una versión importante como con la que se ha lanzando un programa, cuando hemos arreglado un *bug* en una versión y queremos localizarlo rápidamente, etc.\n",
    "\n",
    "Para asignar un *tag* al último *commit* tengo que escribir:\n",
    "\n",
    "> **`git tag <tag_name>`**\n",
    "\n",
    "Pero si quiero asignarlo a un *commit* más viejo puedo asignarlo mediante su *hash*:\n",
    "\n",
    "> **`git tag <tag_name> <hash>`**\n",
    "\n",
    "Eso me permitiría luego volver a una versión de *commit* más adelante:\n",
    "\n",
    "> **`git checkout <tag_name>`**\n",
    "\n",
    "Si necesito ayuda con los *tag* puedo escribir el siguiente código para que abra el *help* y muestre todas sus opciones:\n",
    "\n",
    "> **`git tag -h`**\n",
    "\n",
    "Finalmente, puedo eliminar *tags* con:\n",
    "\n",
    "> **`git tag -d <tag_name>`**\n",
    "\n",
    "Puedo ver todos los *tags* creados con:\n",
    "\n",
    " > **`git tag -l`**\n",
    "\n",
    "Igualmente, para filtrat tags que comiencen por algo en concreto puedo poner:\n",
    "\n",
    " > **`git tag -l \"v.0.1.*\"`**\n",
    " \n",
    "De esta forma me mostraría todos los *tags* de la serie \"v.0.1.\", ya que el asterisco sirve de comodín.\n",
    "\n",
    "Si finalmente quisiera ver el **hash** de un *tag* que realicé anteriormente, puedo hacerlo mediante:\n",
    "\n",
    ">**`cat <tag_name>`**\n",
    "\n",
    "### Ejemplo:\n",
    "\n",
    "Creo el *tag*:\n",
    "> **`git tag v.1.0.0 433f33d`**\n",
    "\n",
    "Accedo a esa versión posteriormente mediante *checkout*:\n",
    "> **`git checkout v.1.0.0`**\n",
    "\n",
    "Podría luego en esa versión crear una rama:\n",
    "> **`git checkout -b fix.1.0.0.`**\n",
    "\n",
    "Y si hiciera un `git log` vería que ese commit tiene una rama."
   ]
  },
  {
   "cell_type": "markdown",
   "metadata": {},
   "source": [
    "## `tags`  anotados\n",
    "\n",
    "Puedo anotar los `tags` poniendo comentarios en ellos. Para ello, pongo en mi código:\n",
    "\n",
    "> **`git tag -a <tag_name>`**\n",
    "\n",
    "Lo cual me abrirá una pantalla para poner un comentario sobre el *tag*.\n",
    "\n",
    "Si posteriormente escribo `git show` podré obtener información sobre algo en particular. Si en concreto pongo el del tag:\n",
    "\n",
    "> **`git show <tag_name>`**\n",
    "\n",
    "Mostrará quién es el autor de la etiqueta, la fecha, el comentario que se puso sobre el *tag*, etc.\n",
    "\n",
    "> **REGLA:** Si quieres realizar un tag serio y que perdure para versiones importantes, utiliza un *tag anotado*. Si es temporal, utiliza un *tag ligero*.\n"
   ]
  },
  {
   "cell_type": "markdown",
   "metadata": {},
   "source": [
    "## `show` para obtener información de casi cualquier cosa\n",
    "\n",
    "Mediante `git show` puedo obtener información sobre casi cualquier cosa. Así, podemos obtener incluso información sobre el último commit de la rama master:\n",
    "\n",
    "> **`git show master`**"
   ]
  },
  {
   "cell_type": "markdown",
   "metadata": {},
   "source": [
    "## `git stash` o cómo dejar un proyecto a medias\n",
    "###### (El ejemplo mostrado a continuación ha sido sacado del canal de *makigas*)\n",
    "\n",
    "\n",
    "Imagina que estás trabajando en una nueva característica dentro de un proyecto en **Git** en una rama llamada *PaginaCliente* y cuando estás a mitad del proyecto se te pide arreglar un *bug* crítico. Para empezar a trabajar en el problema, necesitas crear una nueva rama y limpiar el directorio de trabajo. Por lo que a priori podrías tener solo dos opciones:\n",
    "\n",
    "- Correr **`git reset --hard`** para eliminar los cambios que no se han *commiteado*.\n",
    "- Registrar tu trabajo incompleto como un nuevo `commit`.\n",
    "\n",
    "De esta forma, la primera opción borrará todo tu trabajo mientras que la última realizará un *commit* parcial que no es significativo, por lo que niguno de estos escenarios es bueno.\n",
    "\n",
    "Aquí es donde tiene importancia **`git stash`**, al encontrar una solución intermedia entre ambos: al igual que `git reset --hard` te deja un directorio de trabajo limpio, pero también registra tus cambios incompletos internamente.\n",
    "\n",
    "De esta manera, después de arreglar el bug crítico se pueden re-aplicar estos cambios y continuar por donde estabas. Sería lo más parecido a un \"botón de pausa\" para el trabajo en progreso.\n",
    "\n",
    "Para realizar `git stash`:\n",
    "\n",
    "> **`git add <file>`**\n",
    "\n",
    "> **`git stash save \"<reason>\"`**\n",
    "\n",
    "Puedo ver todos los *stash* guardados mediante:\n",
    "\n",
    ">**`git stash list`**\n",
    "\n",
    "Así, me podría cambiar a la rama *master* y arreglar el *bug crítico*:\n",
    "\n",
    "> **`git checkout master`**\n",
    "\n",
    "Y posteriormente recuperar el proyecto que estaba realizando anteriormente y eliminar el *stash*:\n",
    "\n",
    "> **`git stash pop`**\n",
    "\n",
    "Si por el contrario quisiera eliminar el *stash* desechando el trabajo guardado en *stash* haría:\n",
    "> **`git stash drop`**"
   ]
  },
  {
   "cell_type": "markdown",
   "metadata": {},
   "source": [
    "## Introducción a los fork y al pull request\n",
    "\n",
    "Hasta ahora se han visto repositorios creados por nosotros. Sin embargo, Git es un sistema de control de versiones distribuido donde hay *nodos*, es decir, ordenadores independientes que forman una red y se comunican entre ellos intercambiando código. En ese sentido, se puede contribuir a los repositorios de otros trabajando en ellos. Esto  nos obliga a hablar de los conceptos **fork** y **pull request**.\n",
    "\n",
    "Para interconectar los ordenadores, lo primero es hacer un **fork**, es decir, clonar el repositorio del propietario a mi directorio local. Para ello, tengo que entrar en Github en el repositorio que quiero clonar y arriba a la derecha doy a **Fork**.\n",
    "\n",
    "Una vez que he realizado esto, ya tendré una copia en la sección mis repositorios. Si quisiera eliminarlo de mis repositorios, en la barra superior iría a **Settings** y, abajo del todo, en **Danger zone**, le daría a **Delete this repository**. Al no ser mío, no eliminaría el repositorio original, así que no habría problema. Hay que tener cuidado cuando esto se realice sobre un repositorio propio.\n",
    "\n",
    "Sin embargo, en el ejercicio de ahora quiero copiarlo y contribuir en él, así que le doy a la opción **clone or download** y copio la URL.\n",
    "\n",
    "<center><img src=Img\\Modulo_1_fork.jpg width=800><\\center>"
   ]
  },
  {
   "cell_type": "markdown",
   "metadata": {},
   "source": [
    "El siguiente paso es copiarlo de manera local en mi ordenador, para ello tengo que hacer un `git clone`:\n",
    "\n",
    "> `git clone <URL>`\n",
    "\n",
    "Por ejemplo:\n",
    "\n",
    "> `git clone https://github.com/jmoreno7/master-data-science-1.git`\n",
    "\n",
    "Como veremos, ha descargado todo el repositorio en local y tengo una carpeta llamada como el repositorio en mi ordenador.\n",
    "\n",
    "Sin embargo, es muy importante comprender que estoy ahora mismo conectado con mi repositorio clonado remoto, pero no con el original, por lo que si hay cambios en el original, **no los recibiría**.\n",
    "\n",
    "Por ello es muy importante conectarme con el repositorio original. Si la rama con mi repositorio remoto clonado es **origin** por convención, también por convención se utiliza **upstream** para denominar al repositorio originario remoto al que yo contribuyo.\n",
    "\n",
    "Para realizar esta conexión, **dentro de la carpeta clonada y en su rama master** escribo:\n",
    "\n",
    "> `git remote add upstream <URL>`\n",
    "\n",
    "De esta manera, si escribo `git remote -v` veré que tengo una rama remota que conecta con mi clon (origin) y otra que conecta con el originario al que contribuyo (upstream).\n",
    "\n",
    "Para actualizar, la nomenclatura cambia ligeramente y es:\n",
    "\n",
    "> `git pull <rama remota de la que actualizo> <rama local que quiero actualizar>`\n",
    "\n",
    "Es decir:\n",
    "\n",
    "> `git pull upstream master`\n",
    "\n",
    "\n",
    "### Opción 1. Trabajar sobre la rama origin clonada\n",
    "\n",
    "En caso de trabajar sobre la rama origin clonada, no habría ningún problema. Puedo hacer:\n",
    "\n",
    "> `nano README.md`\n",
    "\n",
    "Introducir los cambios con `git add README.md` o `git add .` en caso de que hubiera modificado varios documentos. Posteriormente hacer un `git commit -m \"<reason>\"` y finalmente un `git push`, o lo que es lo mismo, `git push origin master`, es decir, actualizar a la rama origin lo que tengo en master.\n",
    "\n",
    "En ese caso, puedo solicitar al autor que incluya mis cambios. Para ello, entro en Github para hacer lo que se denomina un  **pull request**.\n",
    "\n",
    "<center><img src=Img\\Modulo_1_pull_request.jpg width=800><\\center>\n",
    "    \n",
    "Para ello hago click en **pull request** y **create pull request**. Así haré una solicitud al propietario del repositorio para incluir mis cambios.\n",
    "    \n",
    "Esa persona recibirá un email y si ve bien los cambios, hará un **merge to pull request**."
   ]
  },
  {
   "cell_type": "markdown",
   "metadata": {},
   "source": [
    "### Opción 2.  Crear una nueva rama sobre la que voy a enviar los cambios\n",
    "\n",
    "Imaginemos ahora que creo una nueva rama sobre la que voy a realizar las modificaciones. Puedo hacerlo con:\n",
    "\n",
    "> `git checkout -b <rama>`\n",
    "    \n",
    "Como por ejemplo:\n",
    "    \n",
    "> `git checkout -b contribucion`\n",
    "\n",
    "Que me creará la rama contribución y me situará automáticamente ahí. Creo un nuevo documento en esta rama, hago un `git add .`, un `git commit -m <reason>` y cuando intento hacer `git push`, me salta un mensaje de error que me insta a hacer un:\n",
    "\n",
    "> `get push --set-upstream origin contribucion`\n",
    "\n",
    "Esto se debe a que la rama que he creado en local no existe, por lo que tengo que vincularla.\n",
    "\n",
    "Una vez que escriba ese código, el git push funcionará correctamente."
   ]
  },
  {
   "cell_type": "markdown",
   "metadata": {},
   "source": [
    "### Si se quiere profundizar este tema, hay comandos muy útiles como `git cherry-pick`"
   ]
  }
 ],
 "metadata": {
  "kernelspec": {
   "display_name": "Python 3",
   "language": "python",
   "name": "python3"
  },
  "language_info": {
   "codemirror_mode": {
    "name": "ipython",
    "version": 3
   },
   "file_extension": ".py",
   "mimetype": "text/x-python",
   "name": "python",
   "nbconvert_exporter": "python",
   "pygments_lexer": "ipython3",
   "version": "3.7.4"
  }
 },
 "nbformat": 4,
 "nbformat_minor": 4
}
