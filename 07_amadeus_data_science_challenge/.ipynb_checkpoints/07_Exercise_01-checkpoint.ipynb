{
 "cells": [
  {
   "cell_type": "markdown",
   "metadata": {},
   "source": [
    "# Amadeus Data Science Challenge"
   ]
  },
  {
   "cell_type": "markdown",
   "metadata": {},
   "source": [
    "## Ejercicio 1. Cuenta el número de línease del documento \"bookings.csv\" \n",
    "- Posibles formas de solucionarlo:\n",
    "    - Usando la línea de comandos\n",
    "    - Usando bucles en Python\n",
    "    - Usando Pandas"
   ]
  },
  {
   "cell_type": "markdown",
   "metadata": {},
   "source": [
    "### Usando la línea de comandos"
   ]
  },
  {
   "cell_type": "code",
   "execution_count": 1,
   "metadata": {},
   "outputs": [
    {
     "name": "stdout",
     "output_type": "stream",
     "text": [
      "/home/dsc/git_shared/master_data_science_kschool/07_amadeus_data_science_challenge\n"
     ]
    }
   ],
   "source": [
    "! pwd"
   ]
  },
  {
   "cell_type": "code",
   "execution_count": 2,
   "metadata": {},
   "outputs": [
    {
     "name": "stdout",
     "output_type": "stream",
     "text": [
      "/home/dsc/Data/challenge\n"
     ]
    }
   ],
   "source": [
    "cd /home/dsc/Data/challenge"
   ]
  },
  {
   "cell_type": "code",
   "execution_count": 3,
   "metadata": {},
   "outputs": [
    {
     "name": "stdout",
     "output_type": "stream",
     "text": [
      "total 1013840\n",
      "-rw-rw-r-- 1 dsc dsc 554970628 abr  2  2018 \u001b[0m\u001b[01;31mbookings.csv.bz2\u001b[0m\n",
      "-rw-rw-r-- 1 dsc dsc 483188920 abr  2  2018 \u001b[01;31msearches.csv.bz2\u001b[0m\n"
     ]
    }
   ],
   "source": [
    "ls -l"
   ]
  },
  {
   "cell_type": "markdown",
   "metadata": {},
   "source": [
    "- Vemos que es muy pesado (+500MB), por lo que es mejor trabajar con él comprimido (en este caso, en formato bz2)\n",
    "    - Se podría descomprimir con `! bunzip2` y comprimir con `! bzip2`, pero mejor trabajar con este formato bzip\n",
    "    - El formato 'bzip' es aconsejable para archivos de +128MB\n",
    "    - Es más recomendable que '.zip', pero más lento. \n",
    "    - Con '.bzip2' nos aseguramos que cada archivo comprimido solo tenga un archivo, algo que no pasa con los '.zip'"
   ]
  },
  {
   "cell_type": "code",
   "execution_count": 4,
   "metadata": {},
   "outputs": [
    {
     "name": "stdout",
     "output_type": "stream",
     "text": [
      "10000011\n"
     ]
    }
   ],
   "source": [
    "# El archivo es muy pesado, durará un rato\n",
    "! bzcat bookings.csv.bz2 | wc -l"
   ]
  },
  {
   "cell_type": "markdown",
   "metadata": {},
   "source": [
    "- Mediante línea de comandos el ejercicio ya estaría resuelto: el archivo tiene 10.000.011 líneas."
   ]
  },
  {
   "cell_type": "code",
   "execution_count": 8,
   "metadata": {},
   "outputs": [
    {
     "name": "stdout",
     "output_type": "stream",
     "text": [
      "\n",
      "bzcat: I/O or other error, bailing out.  Possible reason follows.\n",
      "bzcat: Broken pipe\n",
      "\tInput file = ./bookings.csv.bz2, output file = (stdout)\n"
     ]
    }
   ],
   "source": [
    "# Para ejercicios posteriores se va a exportar una muestra de las 10.000 primeras líneas\n",
    "! bzcat ./bookings.csv.bz2 | head -10000 > ./bookings_sample.csv\n",
    "# Si en vez de una muestra de las 10.000 primeras líneas quisiera una mezcla aleatoria, usaría 'sample'\n",
    "! bzcat ./bookings.csv.bz2 | sample -10000 > ./bookings_sample_2.csv\n",
    "# La misma muestra se comprimirá en 'bzip2' para trabajar en el mismo formato que la entrada\n",
    "! bzip2 bookings_sample.csv"
   ]
  },
  {
   "cell_type": "markdown",
   "metadata": {},
   "source": [
    "### Usando Python\n",
    "- Se puede calcular el número de líneas usando bucles\n",
    "- Para evitar que se tarde mucho en realizar cálculos, se trabajará sobre las 10.000 primeras líneas extraídas"
   ]
  },
  {
   "cell_type": "code",
   "execution_count": 12,
   "metadata": {},
   "outputs": [
    {
     "data": {
      "text/plain": [
       "bz2.BZ2File"
      ]
     },
     "execution_count": 12,
     "metadata": {},
     "output_type": "execute_result"
    }
   ],
   "source": [
    "import bz2\n",
    "\n",
    "fileBz2 =  bz2.BZ2File(\"./bookings_sample.csv.bz2\")\n",
    "type(fileBz2)"
   ]
  },
  {
   "cell_type": "code",
   "execution_count": 13,
   "metadata": {},
   "outputs": [
    {
     "name": "stdout",
     "output_type": "stream",
     "text": [
      "10000\n"
     ]
    }
   ],
   "source": [
    "#Para evitar retardos en el cálculo se utilizará la muestra de 10.000 líneas, pero el concepto es el mismo.\n",
    "k = 0\n",
    "\n",
    "for line in fileBz2:\n",
    "    k += 1\n",
    "    \n",
    "print(k)"
   ]
  },
  {
   "cell_type": "code",
   "execution_count": 14,
   "metadata": {},
   "outputs": [
    {
     "name": "stdout",
     "output_type": "stream",
     "text": [
      "0\n"
     ]
    }
   ],
   "source": [
    "# Mucho ojo con volver a correr el bucle ahora, ya que dará cero al apuntar ahora el puntero al final.\n",
    "k = 0\n",
    "\n",
    "for line in fileBz2:\n",
    "    k += 1\n",
    "\n",
    "print(k)"
   ]
  },
  {
   "cell_type": "markdown",
   "metadata": {},
   "source": [
    "### Mejorando la solución de Python\n",
    "- ¿El fichero está cerrado?"
   ]
  },
  {
   "cell_type": "code",
   "execution_count": 21,
   "metadata": {},
   "outputs": [
    {
     "data": {
      "text/plain": [
       "False"
      ]
     },
     "execution_count": 21,
     "metadata": {},
     "output_type": "execute_result"
    }
   ],
   "source": [
    "fileBz2.closed"
   ]
  },
  {
   "cell_type": "markdown",
   "metadata": {},
   "source": [
    "- Se cierra el fichero"
   ]
  },
  {
   "cell_type": "code",
   "execution_count": 22,
   "metadata": {},
   "outputs": [],
   "source": [
    "fileBz2.close()"
   ]
  },
  {
   "cell_type": "code",
   "execution_count": 23,
   "metadata": {},
   "outputs": [
    {
     "data": {
      "text/plain": [
       "True"
      ]
     },
     "execution_count": 23,
     "metadata": {},
     "output_type": "execute_result"
    }
   ],
   "source": [
    "fileBz2.closed"
   ]
  },
  {
   "cell_type": "markdown",
   "metadata": {},
   "source": [
    "- Pero podría haberse usado un `with` para hacerlo más sencillo."
   ]
  },
  {
   "cell_type": "code",
   "execution_count": 16,
   "metadata": {},
   "outputs": [
    {
     "name": "stdout",
     "output_type": "stream",
     "text": [
      "10000\n",
      "True\n"
     ]
    }
   ],
   "source": [
    "import bz2\n",
    "with bz2.BZ2File(\"./bookings_sample.csv.bz2\") as fileBz2:\n",
    "    k = 0\n",
    "    for line in fileBz2:\n",
    "        k += 1\n",
    "    print(k)\n",
    "print(fileBz2.closed)"
   ]
  },
  {
   "cell_type": "markdown",
   "metadata": {},
   "source": [
    "### Mejorando aún más la solución de Python.\n",
    "- Se pueden manejar excepciones con un `try/except`"
   ]
  },
  {
   "cell_type": "code",
   "execution_count": 18,
   "metadata": {},
   "outputs": [
    {
     "name": "stdout",
     "output_type": "stream",
     "text": [
      "10000\n"
     ]
    }
   ],
   "source": [
    "import bz2\n",
    "try:\n",
    "    with bz2.BZ2File(\"./bookings_sample.csv.bz2\") as fileBz2:\n",
    "        k = 0\n",
    "        for line in fileBz2:\n",
    "            k += 1\n",
    "except:\n",
    "    print(\"Error counting lines\")\n",
    "        \n",
    "print(k)"
   ]
  },
  {
   "cell_type": "markdown",
   "metadata": {},
   "source": [
    "- Podemos dar un paso mas teniendo en cuenta más posibles errores:"
   ]
  },
  {
   "cell_type": "code",
   "execution_count": 17,
   "metadata": {},
   "outputs": [
    {
     "name": "stdout",
     "output_type": "stream",
     "text": [
      "10000\n"
     ]
    }
   ],
   "source": [
    "import bz2\n",
    "try:\n",
    "    with bz2.BZ2File(\"./bookings_sample.csv.bz2\") as fileBz2:\n",
    "        k = 0\n",
    "        for line in fileBz2:\n",
    "            k += 1\n",
    "except FileNotFoundError:\n",
    "    print(\"File Not Found\")\n",
    "except:\n",
    "    print(\"Unexpected error\")\n",
    "        \n",
    "print(k)"
   ]
  },
  {
   "cell_type": "markdown",
   "metadata": {},
   "source": [
    "- Una persona más experimentada hubiera hecho que salte por defecto el error del mensaje"
   ]
  },
  {
   "cell_type": "code",
   "execution_count": 28,
   "metadata": {},
   "outputs": [
    {
     "name": "stdout",
     "output_type": "stream",
     "text": [
      "[Errno 2] No such file or directory: './bookisdfngs_sample.csv.bz2'\n",
      "10000\n"
     ]
    }
   ],
   "source": [
    "import bz2\n",
    "try:\n",
    "    with bz2.BZ2File(\"./bookisdfngs_sample.csv.bz2\") as fileBz2:\n",
    "        k = 0\n",
    "        for line in fileBz2:\n",
    "            k += 1\n",
    "except FileNotFoundError as message:\n",
    "    print(message)\n",
    "except:\n",
    "    print(\"Unexpected error\")\n",
    "        \n",
    "print(k)"
   ]
  },
  {
   "cell_type": "markdown",
   "metadata": {},
   "source": [
    "- O incluso poniendo un `enumerate`"
   ]
  },
  {
   "cell_type": "code",
   "execution_count": 19,
   "metadata": {},
   "outputs": [
    {
     "name": "stdout",
     "output_type": "stream",
     "text": [
      "10000\n"
     ]
    }
   ],
   "source": [
    "import bz2\n",
    "try:\n",
    "    with bz2.BZ2File(\"./bookings_sample.csv.bz2\") as fileBz2:\n",
    "        for k, line in enumerate(fileBz2):\n",
    "            pass\n",
    "        print(k+1)\n",
    "except FileNotFoundError as message:\n",
    "    print(message)\n",
    "except ValueError:\n",
    "    print(\"value error\")\n",
    "except:\n",
    "    print(\"unexpected error\")"
   ]
  },
  {
   "cell_type": "markdown",
   "metadata": {},
   "source": [
    "# Solución 3. Mediante el uso de Pandas"
   ]
  },
  {
   "cell_type": "code",
   "execution_count": 22,
   "metadata": {},
   "outputs": [
    {
     "name": "stdout",
     "output_type": "stream",
     "text": [
      "\n",
      "bzcat: I/O or other error, bailing out.  Possible reason follows.\n",
      "bzcat: Broken pipe\n",
      "\tInput file = bookings_sample.csv.bz2, output file = (stdout)\n",
      "act_date           \n",
      "source\n",
      "pos_ctry\n",
      "pos_iata\n",
      "pos_oid  \n",
      "rloc          \n",
      "cre_date           \n",
      "duration\n",
      "distance\n",
      "dep_port\n",
      "dep_city\n",
      "dep_ctry\n",
      "arr_port\n",
      "arr_city\n",
      "arr_ctry\n",
      "lst_port\n",
      "lst_city\n",
      "lst_ctry\n",
      "brd_port\n",
      "brd_city\n",
      "brd_ctry\n",
      "off_port\n",
      "off_city\n",
      "off_ctry\n",
      "mkt_port\n",
      "mkt_city\n",
      "mkt_ctry\n",
      "intl\n",
      "route          \n",
      "carrier\n",
      "bkg_class\n",
      "cab_class\n",
      "brd_time           \n",
      "off_time           \n",
      "pax\n",
      "year\n",
      "month\n",
      "oid      \n"
     ]
    }
   ],
   "source": [
    "# Puedo ver el nombre de las columnas mediante un 'head -1' para seleccionar solo el header y realizar una transposición\n",
    "! bzcat bookings_sample.csv.bz2 | head -1 |tr ^ \"\\n\""
   ]
  },
  {
   "cell_type": "markdown",
   "metadata": {},
   "source": [
    "- Puedo importar el dataframe en Pandas y ver las columnas de la siguiente manera:\n",
    "    - **Ojo**: se puede ver que el nombre de algunas columnas tiene espacios indeseados que debo saber manejar. "
   ]
  },
  {
   "cell_type": "code",
   "execution_count": 21,
   "metadata": {},
   "outputs": [
    {
     "data": {
      "text/plain": [
       "Index(['act_date           ', 'source', 'pos_ctry', 'pos_iata', 'pos_oid  ',\n",
       "       'rloc          ', 'cre_date           ', 'duration', 'distance',\n",
       "       'dep_port', 'dep_city', 'dep_ctry', 'arr_port', 'arr_city', 'arr_ctry',\n",
       "       'lst_port', 'lst_city', 'lst_ctry', 'brd_port', 'brd_city', 'brd_ctry',\n",
       "       'off_port', 'off_city', 'off_ctry', 'mkt_port', 'mkt_city', 'mkt_ctry',\n",
       "       'intl', 'route          ', 'carrier', 'bkg_class', 'cab_class',\n",
       "       'brd_time           ', 'off_time           ', 'pax', 'year', 'month',\n",
       "       'oid      '],\n",
       "      dtype='object')"
      ]
     },
     "execution_count": 21,
     "metadata": {},
     "output_type": "execute_result"
    }
   ],
   "source": [
    "import pandas as pd\n",
    "df = pd.read_csv(\"bookings_sample.csv.bz2\", sep=\"^\")\n",
    "df.columns"
   ]
  },
  {
   "cell_type": "code",
   "execution_count": 26,
   "metadata": {},
   "outputs": [
    {
     "data": {
      "text/plain": [
       "(9999, 1)"
      ]
     },
     "execution_count": 26,
     "metadata": {},
     "output_type": "execute_result"
    }
   ],
   "source": [
    "#Puedo seleccionar solo una columna para ver el largo y poder contar las filas:\n",
    "df = pd.read_csv(\"bookings_sample.csv.bz2\", sep=\"^\", usecols=[\"pax\"])\n",
    "\n",
    "#Con 'shape' obtengo una tupla con su largo y su ancho.\n",
    "df.shape\n",
    "\n",
    "#Me da 9.999 porque falta una fila que ha usado como header."
   ]
  },
  {
   "cell_type": "code",
   "execution_count": 25,
   "metadata": {},
   "outputs": [
    {
     "data": {
      "text/plain": [
       "9999"
      ]
     },
     "execution_count": 25,
     "metadata": {},
     "output_type": "execute_result"
    }
   ],
   "source": [
    "#Al ser una tupla puedo hacer slicing para obtener solo el largo\n",
    "df.shape[0]"
   ]
  }
 ],
 "metadata": {
  "kernelspec": {
   "display_name": "Python 3",
   "language": "python",
   "name": "python3"
  },
  "language_info": {
   "codemirror_mode": {
    "name": "ipython",
    "version": 3
   },
   "file_extension": ".py",
   "mimetype": "text/x-python",
   "name": "python",
   "nbconvert_exporter": "python",
   "pygments_lexer": "ipython3",
   "version": "3.7.1"
  }
 },
 "nbformat": 4,
 "nbformat_minor": 2
}
