{
 "cells": [
  {
   "cell_type": "markdown",
   "metadata": {},
   "source": [
    "# 10. Ficheros"
   ]
  },
  {
   "cell_type": "markdown",
   "metadata": {},
   "source": [
    "## Leer y escribir ficheros"
   ]
  },
  {
   "cell_type": "markdown",
   "metadata": {},
   "source": [
    "- En Python hay diferentes módulos para trabajar con diferentes archivos, pero también vienen por defecto funcionalidades para abrir documentos.\n",
    "- Por defecto y sin necesidad de librerías, los ficheros se abren con **`open(path, modo)`**.\n",
    "    - Los modos de apertura son los siguientes:\n",
    "\n",
    "\n",
    "|Modo|Description|\n",
    "|----|---|\n",
    "|`'r'`| Read (default).\n",
    "|`'w'`| Write (truncate). Ojo, que sobreescribe|\n",
    "|`'x'`| Write or fail if the file already exists.|\n",
    "|`'a'`| Append.|\n",
    "|`'w+'`| Read and write (truncate).|\n",
    "|`'r+'`| Read and write from the start.|\n",
    "|`'a+'`| Read and write from the end.|\n",
    "|`'t'`| Text mode (default).|\n",
    "|`'b'`| Binary mode.|\n",
    "\n",
    "- Hay que cerrar el fichero una vez se ha terminado de trabajar con el mismo, con `fichero.close()`\n",
    "\n",
    "- **Nota**: Normalmente, usamos funciones de más alto nivel para leer ficheros que automáticamente se ocupan del manejo del archivo (abrirlo, cerrarlo, los permisos necesarios...). Esto quiere decir que el `open` no se suele usar mucho, usaremos `pandas`, `numpy`..."
   ]
  },
  {
   "cell_type": "markdown",
   "metadata": {},
   "source": [
    "- Veamos un ejemplo de cómo se sobreescribe un archivo:\n",
    "    - Con el primer código crearemos un archivo llamado `prueba.txt` que contendrá un texto determinado.\n",
    "    - Con el segundo código se sobreescribirá el código al completo"
   ]
  },
  {
   "cell_type": "code",
   "execution_count": 1,
   "metadata": {},
   "outputs": [],
   "source": [
    "f = open(\"prueba.txt\", \"w\")\n",
    "f.write(\"Mi\\n\")\n",
    "f.write(\"primer\\n\")\n",
    "f.write(\"fichero!\\n\")\n",
    "f.close()"
   ]
  },
  {
   "cell_type": "code",
   "execution_count": 2,
   "metadata": {},
   "outputs": [],
   "source": [
    "f = open(\"prueba.txt\", \"w\")\n",
    "f.write(\"Mi\\n\")\n",
    "f.write(\"fichero\\n\")\n",
    "f.write(\"sobreescrito!\\n\")\n",
    "f.close()"
   ]
  },
  {
   "cell_type": "markdown",
   "metadata": {},
   "source": [
    "## Métodos de archivos"
   ]
  },
  {
   "cell_type": "markdown",
   "metadata": {},
   "source": [
    "- Como se puede ver, f es de tipo *text wrapper*"
   ]
  },
  {
   "cell_type": "code",
   "execution_count": 2,
   "metadata": {},
   "outputs": [
    {
     "data": {
      "text/plain": [
       "_io.TextIOWrapper"
      ]
     },
     "execution_count": 2,
     "metadata": {},
     "output_type": "execute_result"
    }
   ],
   "source": [
    "type(f)"
   ]
  },
  {
   "cell_type": "markdown",
   "metadata": {},
   "source": [
    "- Eso quiere decir que tiene sus propios métodos y atributos"
   ]
  },
  {
   "cell_type": "code",
   "execution_count": 6,
   "metadata": {},
   "outputs": [
    {
     "name": "stdout",
     "output_type": "stream",
     "text": [
      "Help on TextIOWrapper object:\n",
      "\n",
      "class TextIOWrapper(_TextIOBase)\n",
      " |  TextIOWrapper(buffer, encoding=None, errors=None, newline=None, line_buffering=False, write_through=False)\n",
      " |  \n",
      " |  Character and line based layer over a BufferedIOBase object, buffer.\n",
      " |  \n",
      " |  encoding gives the name of the encoding that the stream will be\n",
      " |  decoded or encoded with. It defaults to locale.getpreferredencoding(False).\n",
      " |  \n",
      " |  errors determines the strictness of encoding and decoding (see\n",
      " |  help(codecs.Codec) or the documentation for codecs.register) and\n",
      " |  defaults to \"strict\".\n",
      " |  \n",
      " |  newline controls how line endings are handled. It can be None, '',\n",
      " |  '\\n', '\\r', and '\\r\\n'.  It works as follows:\n",
      " |  \n",
      " |  * On input, if newline is None, universal newlines mode is\n",
      " |    enabled. Lines in the input can end in '\\n', '\\r', or '\\r\\n', and\n",
      " |    these are translated into '\\n' before being returned to the\n",
      " |    caller. If it is '', universal newline mode is enabled, but line\n",
      " |    endings are returned to the caller untranslated. If it has any of\n",
      " |    the other legal values, input lines are only terminated by the given\n",
      " |    string, and the line ending is returned to the caller untranslated.\n",
      " |  \n",
      " |  * On output, if newline is None, any '\\n' characters written are\n",
      " |    translated to the system default line separator, os.linesep. If\n",
      " |    newline is '' or '\\n', no translation takes place. If newline is any\n",
      " |    of the other legal values, any '\\n' characters written are translated\n",
      " |    to the given string.\n",
      " |  \n",
      " |  If line_buffering is True, a call to flush is implied when a call to\n",
      " |  write contains a newline character.\n",
      " |  \n",
      " |  Method resolution order:\n",
      " |      TextIOWrapper\n",
      " |      _TextIOBase\n",
      " |      _IOBase\n",
      " |      builtins.object\n",
      " |  \n",
      " |  Methods defined here:\n",
      " |  \n",
      " |  __getstate__(...)\n",
      " |  \n",
      " |  __init__(self, /, *args, **kwargs)\n",
      " |      Initialize self.  See help(type(self)) for accurate signature.\n",
      " |  \n",
      " |  __next__(self, /)\n",
      " |      Implement next(self).\n",
      " |  \n",
      " |  __repr__(self, /)\n",
      " |      Return repr(self).\n",
      " |  \n",
      " |  close(self, /)\n",
      " |      Flush and close the IO object.\n",
      " |      \n",
      " |      This method has no effect if the file is already closed.\n",
      " |  \n",
      " |  detach(self, /)\n",
      " |      Separate the underlying buffer from the TextIOBase and return it.\n",
      " |      \n",
      " |      After the underlying buffer has been detached, the TextIO is in an\n",
      " |      unusable state.\n",
      " |  \n",
      " |  fileno(self, /)\n",
      " |      Returns underlying file descriptor if one exists.\n",
      " |      \n",
      " |      OSError is raised if the IO object does not use a file descriptor.\n",
      " |  \n",
      " |  flush(self, /)\n",
      " |      Flush write buffers, if applicable.\n",
      " |      \n",
      " |      This is not implemented for read-only and non-blocking streams.\n",
      " |  \n",
      " |  isatty(self, /)\n",
      " |      Return whether this is an 'interactive' stream.\n",
      " |      \n",
      " |      Return False if it can't be determined.\n",
      " |  \n",
      " |  read(self, size=-1, /)\n",
      " |      Read at most n characters from stream.\n",
      " |      \n",
      " |      Read from underlying buffer until we have n characters or we hit EOF.\n",
      " |      If n is negative or omitted, read until EOF.\n",
      " |  \n",
      " |  readable(self, /)\n",
      " |      Return whether object was opened for reading.\n",
      " |      \n",
      " |      If False, read() will raise OSError.\n",
      " |  \n",
      " |  readline(self, size=-1, /)\n",
      " |      Read until newline or EOF.\n",
      " |      \n",
      " |      Returns an empty string if EOF is hit immediately.\n",
      " |  \n",
      " |  reconfigure(self, /, *, encoding=None, errors=None, newline=None, line_buffering=None, write_through=None)\n",
      " |      Reconfigure the text stream with new parameters.\n",
      " |      \n",
      " |      This also does an implicit stream flush.\n",
      " |  \n",
      " |  seek(self, cookie, whence=0, /)\n",
      " |      Change stream position.\n",
      " |      \n",
      " |      Change the stream position to the given byte offset. The offset is\n",
      " |      interpreted relative to the position indicated by whence.  Values\n",
      " |      for whence are:\n",
      " |      \n",
      " |      * 0 -- start of stream (the default); offset should be zero or positive\n",
      " |      * 1 -- current stream position; offset may be negative\n",
      " |      * 2 -- end of stream; offset is usually negative\n",
      " |      \n",
      " |      Return the new absolute position.\n",
      " |  \n",
      " |  seekable(self, /)\n",
      " |      Return whether object supports random access.\n",
      " |      \n",
      " |      If False, seek(), tell() and truncate() will raise OSError.\n",
      " |      This method may need to do a test seek().\n",
      " |  \n",
      " |  tell(self, /)\n",
      " |      Return current stream position.\n",
      " |  \n",
      " |  truncate(self, pos=None, /)\n",
      " |      Truncate file to size bytes.\n",
      " |      \n",
      " |      File pointer is left unchanged.  Size defaults to the current IO\n",
      " |      position as reported by tell().  Returns the new size.\n",
      " |  \n",
      " |  writable(self, /)\n",
      " |      Return whether object was opened for writing.\n",
      " |      \n",
      " |      If False, write() will raise OSError.\n",
      " |  \n",
      " |  write(self, text, /)\n",
      " |      Write string to stream.\n",
      " |      Returns the number of characters written (which is always equal to\n",
      " |      the length of the string).\n",
      " |  \n",
      " |  ----------------------------------------------------------------------\n",
      " |  Static methods defined here:\n",
      " |  \n",
      " |  __new__(*args, **kwargs) from builtins.type\n",
      " |      Create and return a new object.  See help(type) for accurate signature.\n",
      " |  \n",
      " |  ----------------------------------------------------------------------\n",
      " |  Data descriptors defined here:\n",
      " |  \n",
      " |  buffer\n",
      " |  \n",
      " |  closed\n",
      " |  \n",
      " |  encoding\n",
      " |      Encoding of the text stream.\n",
      " |      \n",
      " |      Subclasses should override.\n",
      " |  \n",
      " |  errors\n",
      " |      The error setting of the decoder or encoder.\n",
      " |      \n",
      " |      Subclasses should override.\n",
      " |  \n",
      " |  line_buffering\n",
      " |  \n",
      " |  name\n",
      " |  \n",
      " |  newlines\n",
      " |      Line endings translated so far.\n",
      " |      \n",
      " |      Only line endings translated during reading are considered.\n",
      " |      \n",
      " |      Subclasses should override.\n",
      " |  \n",
      " |  write_through\n",
      " |  \n",
      " |  ----------------------------------------------------------------------\n",
      " |  Methods inherited from _IOBase:\n",
      " |  \n",
      " |  __del__(...)\n",
      " |  \n",
      " |  __enter__(...)\n",
      " |  \n",
      " |  __exit__(...)\n",
      " |  \n",
      " |  __iter__(self, /)\n",
      " |      Implement iter(self).\n",
      " |  \n",
      " |  readlines(self, hint=-1, /)\n",
      " |      Return a list of lines from the stream.\n",
      " |      \n",
      " |      hint can be specified to control the number of lines read: no more\n",
      " |      lines will be read if the total size (in bytes/characters) of all\n",
      " |      lines so far exceeds hint.\n",
      " |  \n",
      " |  writelines(self, lines, /)\n",
      " |      Write a list of lines to stream.\n",
      " |      \n",
      " |      Line separators are not added, so it is usual for each of the\n",
      " |      lines provided to have a line separator at the end.\n",
      " |  \n",
      " |  ----------------------------------------------------------------------\n",
      " |  Data descriptors inherited from _IOBase:\n",
      " |  \n",
      " |  __dict__\n",
      "\n"
     ]
    }
   ],
   "source": [
    "help(f)"
   ]
  },
  {
   "cell_type": "code",
   "execution_count": 5,
   "metadata": {},
   "outputs": [
    {
     "data": {
      "text/plain": [
       "False"
      ]
     },
     "execution_count": 5,
     "metadata": {},
     "output_type": "execute_result"
    }
   ],
   "source": [
    "f.readable()"
   ]
  },
  {
   "cell_type": "code",
   "execution_count": 6,
   "metadata": {},
   "outputs": [
    {
     "data": {
      "text/plain": [
       "True"
      ]
     },
     "execution_count": 6,
     "metadata": {},
     "output_type": "execute_result"
    }
   ],
   "source": [
    "f.writable()"
   ]
  },
  {
   "cell_type": "code",
   "execution_count": 7,
   "metadata": {},
   "outputs": [
    {
     "data": {
      "text/plain": [
       "'w'"
      ]
     },
     "execution_count": 7,
     "metadata": {},
     "output_type": "execute_result"
    }
   ],
   "source": [
    "f.mode"
   ]
  },
  {
   "cell_type": "code",
   "execution_count": 8,
   "metadata": {},
   "outputs": [
    {
     "data": {
      "text/plain": [
       "'prueba.txt'"
      ]
     },
     "execution_count": 8,
     "metadata": {},
     "output_type": "execute_result"
    }
   ],
   "source": [
    "f.name"
   ]
  },
  {
   "cell_type": "code",
   "execution_count": 9,
   "metadata": {},
   "outputs": [
    {
     "data": {
      "text/plain": [
       "False"
      ]
     },
     "execution_count": 9,
     "metadata": {},
     "output_type": "execute_result"
    }
   ],
   "source": [
    "f.closed"
   ]
  },
  {
   "cell_type": "code",
   "execution_count": 10,
   "metadata": {},
   "outputs": [],
   "source": [
    "f.close()"
   ]
  },
  {
   "cell_type": "code",
   "execution_count": 11,
   "metadata": {},
   "outputs": [
    {
     "data": {
      "text/plain": [
       "True"
      ]
     },
     "execution_count": 11,
     "metadata": {},
     "output_type": "execute_result"
    }
   ],
   "source": [
    "f.closed"
   ]
  },
  {
   "cell_type": "markdown",
   "metadata": {},
   "source": [
    "## Context managers"
   ]
  },
  {
   "cell_type": "markdown",
   "metadata": {},
   "source": [
    "- Evitan que tengamos que estar pendientes de cerrar el fichero. En el momento en el que nos salgamos de la identación del with, cierra el fichero, es igual a `f.close( )`\n",
    "- En general, administran recursos consumidos por nuestro código."
   ]
  },
  {
   "cell_type": "code",
   "execution_count": 12,
   "metadata": {},
   "outputs": [],
   "source": [
    "with open('prueba.txt', 'w') as f:\n",
    "    f.write('Esto\\n')\n",
    "    f.write('es\\n')\n",
    "    f.write('una\\n')\n",
    "    f.write('prueba\\n')"
   ]
  },
  {
   "cell_type": "code",
   "execution_count": 13,
   "metadata": {},
   "outputs": [
    {
     "data": {
      "text/plain": [
       "True"
      ]
     },
     "execution_count": 13,
     "metadata": {},
     "output_type": "execute_result"
    }
   ],
   "source": [
    "f.closed"
   ]
  },
  {
   "cell_type": "markdown",
   "metadata": {},
   "source": [
    "- En el caso de abrir ficheros, la instancia `open(path, mode)` actúa de context manager.\n",
    "- Podemos definir nuestros propios context managers.\n",
    "- Todos los context managers tienen que tener implementados dos métodos:\n",
    "```python\n",
    "def __enter__()\n",
    "def __exit__()\n",
    "```"
   ]
  },
  {
   "cell_type": "code",
   "execution_count": 15,
   "metadata": {},
   "outputs": [
    {
     "name": "stdout",
     "output_type": "stream",
     "text": [
      "['_CHUNK_SIZE', '__class__', '__del__', '__delattr__', '__dict__', '__dir__', '__doc__', '__enter__', '__eq__', '__exit__', '__format__', '__ge__', '__getattribute__', '__getstate__', '__gt__', '__hash__', '__init__', '__init_subclass__', '__iter__', '__le__', '__lt__', '__ne__', '__new__', '__next__', '__reduce__', '__reduce_ex__', '__repr__', '__setattr__', '__sizeof__', '__str__', '__subclasshook__', '_checkClosed', '_checkReadable', '_checkSeekable', '_checkWritable', '_finalizing', 'buffer', 'close', 'closed', 'detach', 'encoding', 'errors', 'fileno', 'flush', 'isatty', 'line_buffering', 'mode', 'name', 'newlines', 'read', 'readable', 'readline', 'readlines', 'reconfigure', 'seek', 'seekable', 'tell', 'truncate', 'writable', 'write', 'write_through', 'writelines']\n"
     ]
    }
   ],
   "source": [
    "with open('prueba.txt', 'r') as f: \n",
    "    print(dir(f))"
   ]
  },
  {
   "cell_type": "markdown",
   "metadata": {},
   "source": [
    "Como se puede ver el f que acabamos de definir tiene open y exit, así que es un context manager."
   ]
  },
  {
   "cell_type": "markdown",
   "metadata": {},
   "source": [
    "- Para leer podemos usar los métodos:\n",
    "    - `read()` -> Leemos todo el fichero y devolvemos un string\n",
    "    - `readline()` -> Leemos sólo una línea\n",
    "    - `readlines()` -> Leemos todas las líneas y las devolvemos como una lista de strings."
   ]
  },
  {
   "cell_type": "markdown",
   "metadata": {},
   "source": [
    "Con **`read()`** se puede leer todo el documento"
   ]
  },
  {
   "cell_type": "code",
   "execution_count": 13,
   "metadata": {},
   "outputs": [
    {
     "name": "stdout",
     "output_type": "stream",
     "text": [
      "Esto\n",
      "es\n",
      "una\n",
      "prueba\n",
      "\n"
     ]
    }
   ],
   "source": [
    "with open(\"prueba.txt\", \"r\") as f:\n",
    "    line = f.read()\n",
    "print(line)"
   ]
  },
  {
   "cell_type": "markdown",
   "metadata": {},
   "source": [
    "Con **`readline()`** se puede leer línea a línea."
   ]
  },
  {
   "cell_type": "code",
   "execution_count": 31,
   "metadata": {},
   "outputs": [
    {
     "name": "stdout",
     "output_type": "stream",
     "text": [
      "Esto\n",
      "\n"
     ]
    }
   ],
   "source": [
    "f = open(\"prueba.txt\", \"r\")\n",
    "line = f.readline()\n",
    "print(line)"
   ]
  },
  {
   "cell_type": "markdown",
   "metadata": {},
   "source": [
    "Pero observad qué ocurre si se vuelve a ejecutar sin abrir el documento:"
   ]
  },
  {
   "cell_type": "code",
   "execution_count": 32,
   "metadata": {},
   "outputs": [
    {
     "name": "stdout",
     "output_type": "stream",
     "text": [
      "es\n",
      "\n"
     ]
    }
   ],
   "source": [
    "print(f.readline())"
   ]
  },
  {
   "cell_type": "markdown",
   "metadata": {},
   "source": [
    "Como se puede ver, ha pasado a la segunda línea. Esto se debe a que conserva el puntero. Para volver arriba, hay que utilizar **`seek()`** para recolocar el puntero."
   ]
  },
  {
   "cell_type": "code",
   "execution_count": 33,
   "metadata": {},
   "outputs": [
    {
     "name": "stdout",
     "output_type": "stream",
     "text": [
      "Esto\n",
      "\n"
     ]
    }
   ],
   "source": [
    "f.seek(0)\n",
    "print(f.readline())"
   ]
  },
  {
   "cell_type": "code",
   "execution_count": null,
   "metadata": {},
   "outputs": [],
   "source": []
  },
  {
   "cell_type": "code",
   "execution_count": 34,
   "metadata": {},
   "outputs": [
    {
     "name": "stdout",
     "output_type": "stream",
     "text": [
      "['es\\n', 'una\\n', 'prueba\\n']\n"
     ]
    }
   ],
   "source": [
    "print(f.readlines())"
   ]
  },
  {
   "cell_type": "markdown",
   "metadata": {},
   "source": [
    "## Pickle o `pkl`"
   ]
  },
  {
   "cell_type": "markdown",
   "metadata": {},
   "source": [
    "- Las variables se pueden guardar de forma serializada utilizando la librería `pickle`. \n",
    "- Serializado significa que los objetos conservan su estructura de Python, por lo que los archivos `.pkl` sólo pueden leerse desde Python.\n",
    "- Como se verá posteriormente, los `pkl` deben guardarse en modo `wb` porque son archivos binarios (w = write; b = binary).\n",
    "- Los `pkl` no son seguros, por lo que solo se debe hacer \"unpickle\" de archivos en los que confiemos. (NUNCA se descargan pickle de internet)\n",
    "- Como alternativa, es mejor usar archivos \n",
    "    - `.json` (JSON -> JavaScript Object Notation)\n",
    "    - `.csv` (CSV -> Comma-Separated Values).\n",
    "- Sin embargo, los `pkl` son útiles para uso propio. Por ejemplo, si cargamos un fichero con datos a los cuales limpiamos y damos estructura desde Python, entonces es útil guardar estos datos en un `.pkl` para no tener que volver aplicar el mismo proceso cuando queramos vovler a usarlo. \n",
    "- Sin embargo, los pickles no son muy utilizados, ya que podemos copiar proyectos, etc."
   ]
  },
  {
   "cell_type": "markdown",
   "metadata": {},
   "source": [
    "- Para guardar"
   ]
  },
  {
   "cell_type": "code",
   "execution_count": 8,
   "metadata": {},
   "outputs": [],
   "source": [
    "import pickle"
   ]
  },
  {
   "cell_type": "code",
   "execution_count": 9,
   "metadata": {},
   "outputs": [],
   "source": [
    "lista = ['hola', 'me', 'guardo']\n",
    "dicc = {'key': 'info'}\n",
    "def adios():\n",
    "    print('Adios!')"
   ]
  },
  {
   "cell_type": "markdown",
   "metadata": {},
   "source": [
    "-  Como se ha mencionado, deben ser guardados en modo `wb` porque los `pkl` son binarios"
   ]
  },
  {
   "cell_type": "code",
   "execution_count": 10,
   "metadata": {},
   "outputs": [],
   "source": [
    "with open('variables.pkl', 'wb') as f:\n",
    "    pickle.dump(lista, f)\n",
    "    pickle.dump(dicc, f)\n",
    "    pickle.dump(adios, f)"
   ]
  },
  {
   "cell_type": "markdown",
   "metadata": {},
   "source": [
    "- Para leer, igualmente se usa `rb` porque son archivos binarios"
   ]
  },
  {
   "cell_type": "code",
   "execution_count": 22,
   "metadata": {},
   "outputs": [],
   "source": [
    "with open('variables.pkl', 'rb') as f:\n",
    "    lista_g = pickle.load(f)\n",
    "    dicc_g = pickle.load(f)\n",
    "    adios_g = pickle.load(f)"
   ]
  },
  {
   "cell_type": "code",
   "execution_count": 23,
   "metadata": {},
   "outputs": [
    {
     "data": {
      "text/plain": [
       "['hola', 'me', 'guardo']"
      ]
     },
     "execution_count": 23,
     "metadata": {},
     "output_type": "execute_result"
    }
   ],
   "source": [
    "lista_g"
   ]
  },
  {
   "cell_type": "code",
   "execution_count": 24,
   "metadata": {},
   "outputs": [
    {
     "data": {
      "text/plain": [
       "{'key': 'info'}"
      ]
     },
     "execution_count": 24,
     "metadata": {},
     "output_type": "execute_result"
    }
   ],
   "source": [
    "dicc_g"
   ]
  },
  {
   "cell_type": "code",
   "execution_count": 25,
   "metadata": {},
   "outputs": [
    {
     "data": {
      "text/plain": [
       "<function __main__.adios()>"
      ]
     },
     "execution_count": 25,
     "metadata": {},
     "output_type": "execute_result"
    }
   ],
   "source": [
    "adios_g"
   ]
  },
  {
   "cell_type": "code",
   "execution_count": 26,
   "metadata": {},
   "outputs": [
    {
     "name": "stdout",
     "output_type": "stream",
     "text": [
      "Adios!\n"
     ]
    }
   ],
   "source": [
    "adios_g()"
   ]
  },
  {
   "cell_type": "markdown",
   "metadata": {},
   "source": [
    "## JSON"
   ]
  },
  {
   "cell_type": "markdown",
   "metadata": {},
   "source": [
    "- Formato estandar para almacenar e intercambiar datos (otros: YAML, XML, CSV)\n",
    "- Python tienen un JSON decoder/encoder.\n",
    "- Los propios notebooks son documentos tipo `.json`.\n",
    "- Muy parecidos a un diccionario de Pyhon (pero no son lo mismo!)"
   ]
  },
  {
   "cell_type": "code",
   "execution_count": 27,
   "metadata": {},
   "outputs": [],
   "source": [
    "import json"
   ]
  },
  {
   "cell_type": "code",
   "execution_count": 30,
   "metadata": {},
   "outputs": [],
   "source": [
    "dic = {\n",
    "    'estaciones': {\n",
    "        'verano': 'calor',\n",
    "        'invierno': 'frío'\n",
    "    },\n",
    "    'números': [0, 5, 2.5]\n",
    "}"
   ]
  },
  {
   "cell_type": "code",
   "execution_count": 31,
   "metadata": {},
   "outputs": [],
   "source": [
    "with open('json_data_1.json', 'w') as f:\n",
    "    json.dump(dic, f)"
   ]
  },
  {
   "cell_type": "markdown",
   "metadata": {},
   "source": [
    "- En el ejemplo de debajo se va a poner con la identación del lenguaje Python (`ident=4`), para facilitar su lectura."
   ]
  },
  {
   "cell_type": "code",
   "execution_count": 32,
   "metadata": {},
   "outputs": [],
   "source": [
    "with open('json_data_2.json', 'w') as f:\n",
    "    json.dump(dic, f, indent=4)"
   ]
  },
  {
   "cell_type": "code",
   "execution_count": 33,
   "metadata": {},
   "outputs": [],
   "source": [
    "with open('json_data_1.json', 'r') as f:\n",
    "    dic_g = json.load(f)"
   ]
  },
  {
   "cell_type": "code",
   "execution_count": 34,
   "metadata": {},
   "outputs": [
    {
     "data": {
      "text/plain": [
       "{'estaciones': {'verano': 'calor', 'invierno': 'frío'}, 'números': [0, 5, 2.5]}"
      ]
     },
     "execution_count": 34,
     "metadata": {},
     "output_type": "execute_result"
    }
   ],
   "source": [
    "dic_g"
   ]
  },
  {
   "cell_type": "markdown",
   "metadata": {},
   "source": [
    "- También existen los métodos `dumps()` and `loads()` que interpretan un json que venga como una única string."
   ]
  },
  {
   "cell_type": "code",
   "execution_count": 35,
   "metadata": {},
   "outputs": [
    {
     "data": {
      "text/plain": [
       "'{\"estaciones\": {\"verano\": \"calor\", \"invierno\": \"fr\\\\u00edo\"}, \"n\\\\u00fameros\": [0, 5, 2.5]}'"
      ]
     },
     "execution_count": 35,
     "metadata": {},
     "output_type": "execute_result"
    }
   ],
   "source": [
    "json_string = json.dumps(dic)\n",
    "json_string"
   ]
  },
  {
   "cell_type": "code",
   "execution_count": 36,
   "metadata": {},
   "outputs": [
    {
     "data": {
      "text/plain": [
       "str"
      ]
     },
     "execution_count": 36,
     "metadata": {},
     "output_type": "execute_result"
    }
   ],
   "source": [
    "type(json_string)"
   ]
  },
  {
   "cell_type": "code",
   "execution_count": 37,
   "metadata": {},
   "outputs": [
    {
     "name": "stdout",
     "output_type": "stream",
     "text": [
      "{'estaciones': {'verano': 'calor', 'invierno': 'frío'}, 'números': [0, 5, 2.5]}\n"
     ]
    },
    {
     "data": {
      "text/plain": [
       "dict"
      ]
     },
     "execution_count": 37,
     "metadata": {},
     "output_type": "execute_result"
    }
   ],
   "source": [
    "dic_s = json.loads(json_string)\n",
    "print(dic_s)\n",
    "type(dic_s)"
   ]
  },
  {
   "cell_type": "markdown",
   "metadata": {},
   "source": [
    "# `requests`"
   ]
  },
  {
   "cell_type": "markdown",
   "metadata": {},
   "source": [
    "- El módulo `requests` permite hacer llamadas a un servidor y obtener información a través de `requests.get`.\n",
    "- Es muy útil para obtener información de internet"
   ]
  },
  {
   "cell_type": "code",
   "execution_count": 37,
   "metadata": {},
   "outputs": [
    {
     "ename": "SSLError",
     "evalue": "HTTPSConnectionPool(host='www.sony.co.uk', port=443): Max retries exceeded with url: / (Caused by SSLError(SSLError(\"bad handshake: Error([('SSL routines', 'tls_process_server_certificate', 'certificate verify failed')])\")))",
     "output_type": "error",
     "traceback": [
      "\u001b[1;31m---------------------------------------------------------------------------\u001b[0m",
      "\u001b[1;31mError\u001b[0m                                     Traceback (most recent call last)",
      "\u001b[1;32m~\\AppData\\Local\\Continuum\\anaconda3\\lib\\site-packages\\urllib3\\contrib\\pyopenssl.py\u001b[0m in \u001b[0;36mwrap_socket\u001b[1;34m(self, sock, server_side, do_handshake_on_connect, suppress_ragged_eofs, server_hostname)\u001b[0m\n\u001b[0;32m    455\u001b[0m             \u001b[1;32mtry\u001b[0m\u001b[1;33m:\u001b[0m\u001b[1;33m\u001b[0m\u001b[1;33m\u001b[0m\u001b[0m\n\u001b[1;32m--> 456\u001b[1;33m                 \u001b[0mcnx\u001b[0m\u001b[1;33m.\u001b[0m\u001b[0mdo_handshake\u001b[0m\u001b[1;33m(\u001b[0m\u001b[1;33m)\u001b[0m\u001b[1;33m\u001b[0m\u001b[1;33m\u001b[0m\u001b[0m\n\u001b[0m\u001b[0;32m    457\u001b[0m             \u001b[1;32mexcept\u001b[0m \u001b[0mOpenSSL\u001b[0m\u001b[1;33m.\u001b[0m\u001b[0mSSL\u001b[0m\u001b[1;33m.\u001b[0m\u001b[0mWantReadError\u001b[0m\u001b[1;33m:\u001b[0m\u001b[1;33m\u001b[0m\u001b[1;33m\u001b[0m\u001b[0m\n",
      "\u001b[1;32m~\\AppData\\Local\\Continuum\\anaconda3\\lib\\site-packages\\OpenSSL\\SSL.py\u001b[0m in \u001b[0;36mdo_handshake\u001b[1;34m(self)\u001b[0m\n\u001b[0;32m   1914\u001b[0m         \u001b[0mresult\u001b[0m \u001b[1;33m=\u001b[0m \u001b[0m_lib\u001b[0m\u001b[1;33m.\u001b[0m\u001b[0mSSL_do_handshake\u001b[0m\u001b[1;33m(\u001b[0m\u001b[0mself\u001b[0m\u001b[1;33m.\u001b[0m\u001b[0m_ssl\u001b[0m\u001b[1;33m)\u001b[0m\u001b[1;33m\u001b[0m\u001b[1;33m\u001b[0m\u001b[0m\n\u001b[1;32m-> 1915\u001b[1;33m         \u001b[0mself\u001b[0m\u001b[1;33m.\u001b[0m\u001b[0m_raise_ssl_error\u001b[0m\u001b[1;33m(\u001b[0m\u001b[0mself\u001b[0m\u001b[1;33m.\u001b[0m\u001b[0m_ssl\u001b[0m\u001b[1;33m,\u001b[0m \u001b[0mresult\u001b[0m\u001b[1;33m)\u001b[0m\u001b[1;33m\u001b[0m\u001b[1;33m\u001b[0m\u001b[0m\n\u001b[0m\u001b[0;32m   1916\u001b[0m \u001b[1;33m\u001b[0m\u001b[0m\n",
      "\u001b[1;32m~\\AppData\\Local\\Continuum\\anaconda3\\lib\\site-packages\\OpenSSL\\SSL.py\u001b[0m in \u001b[0;36m_raise_ssl_error\u001b[1;34m(self, ssl, result)\u001b[0m\n\u001b[0;32m   1646\u001b[0m         \u001b[1;32melse\u001b[0m\u001b[1;33m:\u001b[0m\u001b[1;33m\u001b[0m\u001b[1;33m\u001b[0m\u001b[0m\n\u001b[1;32m-> 1647\u001b[1;33m             \u001b[0m_raise_current_error\u001b[0m\u001b[1;33m(\u001b[0m\u001b[1;33m)\u001b[0m\u001b[1;33m\u001b[0m\u001b[1;33m\u001b[0m\u001b[0m\n\u001b[0m\u001b[0;32m   1648\u001b[0m \u001b[1;33m\u001b[0m\u001b[0m\n",
      "\u001b[1;32m~\\AppData\\Local\\Continuum\\anaconda3\\lib\\site-packages\\OpenSSL\\_util.py\u001b[0m in \u001b[0;36mexception_from_error_queue\u001b[1;34m(exception_type)\u001b[0m\n\u001b[0;32m     53\u001b[0m \u001b[1;33m\u001b[0m\u001b[0m\n\u001b[1;32m---> 54\u001b[1;33m     \u001b[1;32mraise\u001b[0m \u001b[0mexception_type\u001b[0m\u001b[1;33m(\u001b[0m\u001b[0merrors\u001b[0m\u001b[1;33m)\u001b[0m\u001b[1;33m\u001b[0m\u001b[1;33m\u001b[0m\u001b[0m\n\u001b[0m\u001b[0;32m     55\u001b[0m \u001b[1;33m\u001b[0m\u001b[0m\n",
      "\u001b[1;31mError\u001b[0m: [('SSL routines', 'tls_process_server_certificate', 'certificate verify failed')]",
      "\nDuring handling of the above exception, another exception occurred:\n",
      "\u001b[1;31mSSLError\u001b[0m                                  Traceback (most recent call last)",
      "\u001b[1;32m~\\AppData\\Local\\Continuum\\anaconda3\\lib\\site-packages\\urllib3\\connectionpool.py\u001b[0m in \u001b[0;36murlopen\u001b[1;34m(self, method, url, body, headers, retries, redirect, assert_same_host, timeout, pool_timeout, release_conn, chunked, body_pos, **response_kw)\u001b[0m\n\u001b[0;32m    599\u001b[0m                                                   \u001b[0mbody\u001b[0m\u001b[1;33m=\u001b[0m\u001b[0mbody\u001b[0m\u001b[1;33m,\u001b[0m \u001b[0mheaders\u001b[0m\u001b[1;33m=\u001b[0m\u001b[0mheaders\u001b[0m\u001b[1;33m,\u001b[0m\u001b[1;33m\u001b[0m\u001b[1;33m\u001b[0m\u001b[0m\n\u001b[1;32m--> 600\u001b[1;33m                                                   chunked=chunked)\n\u001b[0m\u001b[0;32m    601\u001b[0m \u001b[1;33m\u001b[0m\u001b[0m\n",
      "\u001b[1;32m~\\AppData\\Local\\Continuum\\anaconda3\\lib\\site-packages\\urllib3\\connectionpool.py\u001b[0m in \u001b[0;36m_make_request\u001b[1;34m(self, conn, method, url, timeout, chunked, **httplib_request_kw)\u001b[0m\n\u001b[0;32m    342\u001b[0m         \u001b[1;32mtry\u001b[0m\u001b[1;33m:\u001b[0m\u001b[1;33m\u001b[0m\u001b[1;33m\u001b[0m\u001b[0m\n\u001b[1;32m--> 343\u001b[1;33m             \u001b[0mself\u001b[0m\u001b[1;33m.\u001b[0m\u001b[0m_validate_conn\u001b[0m\u001b[1;33m(\u001b[0m\u001b[0mconn\u001b[0m\u001b[1;33m)\u001b[0m\u001b[1;33m\u001b[0m\u001b[1;33m\u001b[0m\u001b[0m\n\u001b[0m\u001b[0;32m    344\u001b[0m         \u001b[1;32mexcept\u001b[0m \u001b[1;33m(\u001b[0m\u001b[0mSocketTimeout\u001b[0m\u001b[1;33m,\u001b[0m \u001b[0mBaseSSLError\u001b[0m\u001b[1;33m)\u001b[0m \u001b[1;32mas\u001b[0m \u001b[0me\u001b[0m\u001b[1;33m:\u001b[0m\u001b[1;33m\u001b[0m\u001b[1;33m\u001b[0m\u001b[0m\n",
      "\u001b[1;32m~\\AppData\\Local\\Continuum\\anaconda3\\lib\\site-packages\\urllib3\\connectionpool.py\u001b[0m in \u001b[0;36m_validate_conn\u001b[1;34m(self, conn)\u001b[0m\n\u001b[0;32m    838\u001b[0m         \u001b[1;32mif\u001b[0m \u001b[1;32mnot\u001b[0m \u001b[0mgetattr\u001b[0m\u001b[1;33m(\u001b[0m\u001b[0mconn\u001b[0m\u001b[1;33m,\u001b[0m \u001b[1;34m'sock'\u001b[0m\u001b[1;33m,\u001b[0m \u001b[1;32mNone\u001b[0m\u001b[1;33m)\u001b[0m\u001b[1;33m:\u001b[0m  \u001b[1;31m# AppEngine might not have  `.sock`\u001b[0m\u001b[1;33m\u001b[0m\u001b[1;33m\u001b[0m\u001b[0m\n\u001b[1;32m--> 839\u001b[1;33m             \u001b[0mconn\u001b[0m\u001b[1;33m.\u001b[0m\u001b[0mconnect\u001b[0m\u001b[1;33m(\u001b[0m\u001b[1;33m)\u001b[0m\u001b[1;33m\u001b[0m\u001b[1;33m\u001b[0m\u001b[0m\n\u001b[0m\u001b[0;32m    840\u001b[0m \u001b[1;33m\u001b[0m\u001b[0m\n",
      "\u001b[1;32m~\\AppData\\Local\\Continuum\\anaconda3\\lib\\site-packages\\urllib3\\connection.py\u001b[0m in \u001b[0;36mconnect\u001b[1;34m(self)\u001b[0m\n\u001b[0;32m    343\u001b[0m             \u001b[0mserver_hostname\u001b[0m\u001b[1;33m=\u001b[0m\u001b[0mserver_hostname\u001b[0m\u001b[1;33m,\u001b[0m\u001b[1;33m\u001b[0m\u001b[1;33m\u001b[0m\u001b[0m\n\u001b[1;32m--> 344\u001b[1;33m             ssl_context=context)\n\u001b[0m\u001b[0;32m    345\u001b[0m \u001b[1;33m\u001b[0m\u001b[0m\n",
      "\u001b[1;32m~\\AppData\\Local\\Continuum\\anaconda3\\lib\\site-packages\\urllib3\\util\\ssl_.py\u001b[0m in \u001b[0;36mssl_wrap_socket\u001b[1;34m(sock, keyfile, certfile, cert_reqs, ca_certs, server_hostname, ssl_version, ciphers, ssl_context, ca_cert_dir)\u001b[0m\n\u001b[0;32m    346\u001b[0m         \u001b[1;32mif\u001b[0m \u001b[0mHAS_SNI\u001b[0m \u001b[1;32mand\u001b[0m \u001b[0mserver_hostname\u001b[0m \u001b[1;32mis\u001b[0m \u001b[1;32mnot\u001b[0m \u001b[1;32mNone\u001b[0m\u001b[1;33m:\u001b[0m\u001b[1;33m\u001b[0m\u001b[1;33m\u001b[0m\u001b[0m\n\u001b[1;32m--> 347\u001b[1;33m             \u001b[1;32mreturn\u001b[0m \u001b[0mcontext\u001b[0m\u001b[1;33m.\u001b[0m\u001b[0mwrap_socket\u001b[0m\u001b[1;33m(\u001b[0m\u001b[0msock\u001b[0m\u001b[1;33m,\u001b[0m \u001b[0mserver_hostname\u001b[0m\u001b[1;33m=\u001b[0m\u001b[0mserver_hostname\u001b[0m\u001b[1;33m)\u001b[0m\u001b[1;33m\u001b[0m\u001b[1;33m\u001b[0m\u001b[0m\n\u001b[0m\u001b[0;32m    348\u001b[0m \u001b[1;33m\u001b[0m\u001b[0m\n",
      "\u001b[1;32m~\\AppData\\Local\\Continuum\\anaconda3\\lib\\site-packages\\urllib3\\contrib\\pyopenssl.py\u001b[0m in \u001b[0;36mwrap_socket\u001b[1;34m(self, sock, server_side, do_handshake_on_connect, suppress_ragged_eofs, server_hostname)\u001b[0m\n\u001b[0;32m    461\u001b[0m             \u001b[1;32mexcept\u001b[0m \u001b[0mOpenSSL\u001b[0m\u001b[1;33m.\u001b[0m\u001b[0mSSL\u001b[0m\u001b[1;33m.\u001b[0m\u001b[0mError\u001b[0m \u001b[1;32mas\u001b[0m \u001b[0me\u001b[0m\u001b[1;33m:\u001b[0m\u001b[1;33m\u001b[0m\u001b[1;33m\u001b[0m\u001b[0m\n\u001b[1;32m--> 462\u001b[1;33m                 \u001b[1;32mraise\u001b[0m \u001b[0mssl\u001b[0m\u001b[1;33m.\u001b[0m\u001b[0mSSLError\u001b[0m\u001b[1;33m(\u001b[0m\u001b[1;34m'bad handshake: %r'\u001b[0m \u001b[1;33m%\u001b[0m \u001b[0me\u001b[0m\u001b[1;33m)\u001b[0m\u001b[1;33m\u001b[0m\u001b[1;33m\u001b[0m\u001b[0m\n\u001b[0m\u001b[0;32m    463\u001b[0m             \u001b[1;32mbreak\u001b[0m\u001b[1;33m\u001b[0m\u001b[1;33m\u001b[0m\u001b[0m\n",
      "\u001b[1;31mSSLError\u001b[0m: (\"bad handshake: Error([('SSL routines', 'tls_process_server_certificate', 'certificate verify failed')])\",)",
      "\nDuring handling of the above exception, another exception occurred:\n",
      "\u001b[1;31mMaxRetryError\u001b[0m                             Traceback (most recent call last)",
      "\u001b[1;32m~\\AppData\\Local\\Continuum\\anaconda3\\lib\\site-packages\\requests\\adapters.py\u001b[0m in \u001b[0;36msend\u001b[1;34m(self, request, stream, timeout, verify, cert, proxies)\u001b[0m\n\u001b[0;32m    448\u001b[0m                     \u001b[0mretries\u001b[0m\u001b[1;33m=\u001b[0m\u001b[0mself\u001b[0m\u001b[1;33m.\u001b[0m\u001b[0mmax_retries\u001b[0m\u001b[1;33m,\u001b[0m\u001b[1;33m\u001b[0m\u001b[1;33m\u001b[0m\u001b[0m\n\u001b[1;32m--> 449\u001b[1;33m                     \u001b[0mtimeout\u001b[0m\u001b[1;33m=\u001b[0m\u001b[0mtimeout\u001b[0m\u001b[1;33m\u001b[0m\u001b[1;33m\u001b[0m\u001b[0m\n\u001b[0m\u001b[0;32m    450\u001b[0m                 )\n",
      "\u001b[1;32m~\\AppData\\Local\\Continuum\\anaconda3\\lib\\site-packages\\urllib3\\connectionpool.py\u001b[0m in \u001b[0;36murlopen\u001b[1;34m(self, method, url, body, headers, retries, redirect, assert_same_host, timeout, pool_timeout, release_conn, chunked, body_pos, **response_kw)\u001b[0m\n\u001b[0;32m    637\u001b[0m             retries = retries.increment(method, url, error=e, _pool=self,\n\u001b[1;32m--> 638\u001b[1;33m                                         _stacktrace=sys.exc_info()[2])\n\u001b[0m\u001b[0;32m    639\u001b[0m             \u001b[0mretries\u001b[0m\u001b[1;33m.\u001b[0m\u001b[0msleep\u001b[0m\u001b[1;33m(\u001b[0m\u001b[1;33m)\u001b[0m\u001b[1;33m\u001b[0m\u001b[1;33m\u001b[0m\u001b[0m\n",
      "\u001b[1;32m~\\AppData\\Local\\Continuum\\anaconda3\\lib\\site-packages\\urllib3\\util\\retry.py\u001b[0m in \u001b[0;36mincrement\u001b[1;34m(self, method, url, response, error, _pool, _stacktrace)\u001b[0m\n\u001b[0;32m    398\u001b[0m         \u001b[1;32mif\u001b[0m \u001b[0mnew_retry\u001b[0m\u001b[1;33m.\u001b[0m\u001b[0mis_exhausted\u001b[0m\u001b[1;33m(\u001b[0m\u001b[1;33m)\u001b[0m\u001b[1;33m:\u001b[0m\u001b[1;33m\u001b[0m\u001b[1;33m\u001b[0m\u001b[0m\n\u001b[1;32m--> 399\u001b[1;33m             \u001b[1;32mraise\u001b[0m \u001b[0mMaxRetryError\u001b[0m\u001b[1;33m(\u001b[0m\u001b[0m_pool\u001b[0m\u001b[1;33m,\u001b[0m \u001b[0murl\u001b[0m\u001b[1;33m,\u001b[0m \u001b[0merror\u001b[0m \u001b[1;32mor\u001b[0m \u001b[0mResponseError\u001b[0m\u001b[1;33m(\u001b[0m\u001b[0mcause\u001b[0m\u001b[1;33m)\u001b[0m\u001b[1;33m)\u001b[0m\u001b[1;33m\u001b[0m\u001b[1;33m\u001b[0m\u001b[0m\n\u001b[0m\u001b[0;32m    400\u001b[0m \u001b[1;33m\u001b[0m\u001b[0m\n",
      "\u001b[1;31mMaxRetryError\u001b[0m: HTTPSConnectionPool(host='www.sony.co.uk', port=443): Max retries exceeded with url: / (Caused by SSLError(SSLError(\"bad handshake: Error([('SSL routines', 'tls_process_server_certificate', 'certificate verify failed')])\")))",
      "\nDuring handling of the above exception, another exception occurred:\n",
      "\u001b[1;31mSSLError\u001b[0m                                  Traceback (most recent call last)",
      "\u001b[1;32m<ipython-input-37-9b8cbb9ae8d0>\u001b[0m in \u001b[0;36m<module>\u001b[1;34m\u001b[0m\n\u001b[0;32m      1\u001b[0m \u001b[1;32mimport\u001b[0m \u001b[0mrequests\u001b[0m\u001b[1;33m\u001b[0m\u001b[1;33m\u001b[0m\u001b[0m\n\u001b[1;32m----> 2\u001b[1;33m \u001b[0mrespuesta\u001b[0m \u001b[1;33m=\u001b[0m \u001b[0mrequests\u001b[0m\u001b[1;33m.\u001b[0m\u001b[0mget\u001b[0m\u001b[1;33m(\u001b[0m\u001b[1;34m\"https://www.sony.co.uk/\"\u001b[0m\u001b[1;33m)\u001b[0m\u001b[1;33m\u001b[0m\u001b[1;33m\u001b[0m\u001b[0m\n\u001b[0m",
      "\u001b[1;32m~\\AppData\\Local\\Continuum\\anaconda3\\lib\\site-packages\\requests\\api.py\u001b[0m in \u001b[0;36mget\u001b[1;34m(url, params, **kwargs)\u001b[0m\n\u001b[0;32m     73\u001b[0m \u001b[1;33m\u001b[0m\u001b[0m\n\u001b[0;32m     74\u001b[0m     \u001b[0mkwargs\u001b[0m\u001b[1;33m.\u001b[0m\u001b[0msetdefault\u001b[0m\u001b[1;33m(\u001b[0m\u001b[1;34m'allow_redirects'\u001b[0m\u001b[1;33m,\u001b[0m \u001b[1;32mTrue\u001b[0m\u001b[1;33m)\u001b[0m\u001b[1;33m\u001b[0m\u001b[1;33m\u001b[0m\u001b[0m\n\u001b[1;32m---> 75\u001b[1;33m     \u001b[1;32mreturn\u001b[0m \u001b[0mrequest\u001b[0m\u001b[1;33m(\u001b[0m\u001b[1;34m'get'\u001b[0m\u001b[1;33m,\u001b[0m \u001b[0murl\u001b[0m\u001b[1;33m,\u001b[0m \u001b[0mparams\u001b[0m\u001b[1;33m=\u001b[0m\u001b[0mparams\u001b[0m\u001b[1;33m,\u001b[0m \u001b[1;33m**\u001b[0m\u001b[0mkwargs\u001b[0m\u001b[1;33m)\u001b[0m\u001b[1;33m\u001b[0m\u001b[1;33m\u001b[0m\u001b[0m\n\u001b[0m\u001b[0;32m     76\u001b[0m \u001b[1;33m\u001b[0m\u001b[0m\n\u001b[0;32m     77\u001b[0m \u001b[1;33m\u001b[0m\u001b[0m\n",
      "\u001b[1;32m~\\AppData\\Local\\Continuum\\anaconda3\\lib\\site-packages\\requests\\api.py\u001b[0m in \u001b[0;36mrequest\u001b[1;34m(method, url, **kwargs)\u001b[0m\n\u001b[0;32m     58\u001b[0m     \u001b[1;31m# cases, and look like a memory leak in others.\u001b[0m\u001b[1;33m\u001b[0m\u001b[1;33m\u001b[0m\u001b[1;33m\u001b[0m\u001b[0m\n\u001b[0;32m     59\u001b[0m     \u001b[1;32mwith\u001b[0m \u001b[0msessions\u001b[0m\u001b[1;33m.\u001b[0m\u001b[0mSession\u001b[0m\u001b[1;33m(\u001b[0m\u001b[1;33m)\u001b[0m \u001b[1;32mas\u001b[0m \u001b[0msession\u001b[0m\u001b[1;33m:\u001b[0m\u001b[1;33m\u001b[0m\u001b[1;33m\u001b[0m\u001b[0m\n\u001b[1;32m---> 60\u001b[1;33m         \u001b[1;32mreturn\u001b[0m \u001b[0msession\u001b[0m\u001b[1;33m.\u001b[0m\u001b[0mrequest\u001b[0m\u001b[1;33m(\u001b[0m\u001b[0mmethod\u001b[0m\u001b[1;33m=\u001b[0m\u001b[0mmethod\u001b[0m\u001b[1;33m,\u001b[0m \u001b[0murl\u001b[0m\u001b[1;33m=\u001b[0m\u001b[0murl\u001b[0m\u001b[1;33m,\u001b[0m \u001b[1;33m**\u001b[0m\u001b[0mkwargs\u001b[0m\u001b[1;33m)\u001b[0m\u001b[1;33m\u001b[0m\u001b[1;33m\u001b[0m\u001b[0m\n\u001b[0m\u001b[0;32m     61\u001b[0m \u001b[1;33m\u001b[0m\u001b[0m\n\u001b[0;32m     62\u001b[0m \u001b[1;33m\u001b[0m\u001b[0m\n",
      "\u001b[1;32m~\\AppData\\Local\\Continuum\\anaconda3\\lib\\site-packages\\requests\\sessions.py\u001b[0m in \u001b[0;36mrequest\u001b[1;34m(self, method, url, params, data, headers, cookies, files, auth, timeout, allow_redirects, proxies, hooks, stream, verify, cert, json)\u001b[0m\n\u001b[0;32m    531\u001b[0m         }\n\u001b[0;32m    532\u001b[0m         \u001b[0msend_kwargs\u001b[0m\u001b[1;33m.\u001b[0m\u001b[0mupdate\u001b[0m\u001b[1;33m(\u001b[0m\u001b[0msettings\u001b[0m\u001b[1;33m)\u001b[0m\u001b[1;33m\u001b[0m\u001b[1;33m\u001b[0m\u001b[0m\n\u001b[1;32m--> 533\u001b[1;33m         \u001b[0mresp\u001b[0m \u001b[1;33m=\u001b[0m \u001b[0mself\u001b[0m\u001b[1;33m.\u001b[0m\u001b[0msend\u001b[0m\u001b[1;33m(\u001b[0m\u001b[0mprep\u001b[0m\u001b[1;33m,\u001b[0m \u001b[1;33m**\u001b[0m\u001b[0msend_kwargs\u001b[0m\u001b[1;33m)\u001b[0m\u001b[1;33m\u001b[0m\u001b[1;33m\u001b[0m\u001b[0m\n\u001b[0m\u001b[0;32m    534\u001b[0m \u001b[1;33m\u001b[0m\u001b[0m\n\u001b[0;32m    535\u001b[0m         \u001b[1;32mreturn\u001b[0m \u001b[0mresp\u001b[0m\u001b[1;33m\u001b[0m\u001b[1;33m\u001b[0m\u001b[0m\n",
      "\u001b[1;32m~\\AppData\\Local\\Continuum\\anaconda3\\lib\\site-packages\\requests\\sessions.py\u001b[0m in \u001b[0;36msend\u001b[1;34m(self, request, **kwargs)\u001b[0m\n\u001b[0;32m    644\u001b[0m \u001b[1;33m\u001b[0m\u001b[0m\n\u001b[0;32m    645\u001b[0m         \u001b[1;31m# Send the request\u001b[0m\u001b[1;33m\u001b[0m\u001b[1;33m\u001b[0m\u001b[1;33m\u001b[0m\u001b[0m\n\u001b[1;32m--> 646\u001b[1;33m         \u001b[0mr\u001b[0m \u001b[1;33m=\u001b[0m \u001b[0madapter\u001b[0m\u001b[1;33m.\u001b[0m\u001b[0msend\u001b[0m\u001b[1;33m(\u001b[0m\u001b[0mrequest\u001b[0m\u001b[1;33m,\u001b[0m \u001b[1;33m**\u001b[0m\u001b[0mkwargs\u001b[0m\u001b[1;33m)\u001b[0m\u001b[1;33m\u001b[0m\u001b[1;33m\u001b[0m\u001b[0m\n\u001b[0m\u001b[0;32m    647\u001b[0m \u001b[1;33m\u001b[0m\u001b[0m\n\u001b[0;32m    648\u001b[0m         \u001b[1;31m# Total elapsed time of the request (approximately)\u001b[0m\u001b[1;33m\u001b[0m\u001b[1;33m\u001b[0m\u001b[1;33m\u001b[0m\u001b[0m\n",
      "\u001b[1;32m~\\AppData\\Local\\Continuum\\anaconda3\\lib\\site-packages\\requests\\adapters.py\u001b[0m in \u001b[0;36msend\u001b[1;34m(self, request, stream, timeout, verify, cert, proxies)\u001b[0m\n\u001b[0;32m    512\u001b[0m             \u001b[1;32mif\u001b[0m \u001b[0misinstance\u001b[0m\u001b[1;33m(\u001b[0m\u001b[0me\u001b[0m\u001b[1;33m.\u001b[0m\u001b[0mreason\u001b[0m\u001b[1;33m,\u001b[0m \u001b[0m_SSLError\u001b[0m\u001b[1;33m)\u001b[0m\u001b[1;33m:\u001b[0m\u001b[1;33m\u001b[0m\u001b[1;33m\u001b[0m\u001b[0m\n\u001b[0;32m    513\u001b[0m                 \u001b[1;31m# This branch is for urllib3 v1.22 and later.\u001b[0m\u001b[1;33m\u001b[0m\u001b[1;33m\u001b[0m\u001b[1;33m\u001b[0m\u001b[0m\n\u001b[1;32m--> 514\u001b[1;33m                 \u001b[1;32mraise\u001b[0m \u001b[0mSSLError\u001b[0m\u001b[1;33m(\u001b[0m\u001b[0me\u001b[0m\u001b[1;33m,\u001b[0m \u001b[0mrequest\u001b[0m\u001b[1;33m=\u001b[0m\u001b[0mrequest\u001b[0m\u001b[1;33m)\u001b[0m\u001b[1;33m\u001b[0m\u001b[1;33m\u001b[0m\u001b[0m\n\u001b[0m\u001b[0;32m    515\u001b[0m \u001b[1;33m\u001b[0m\u001b[0m\n\u001b[0;32m    516\u001b[0m             \u001b[1;32mraise\u001b[0m \u001b[0mConnectionError\u001b[0m\u001b[1;33m(\u001b[0m\u001b[0me\u001b[0m\u001b[1;33m,\u001b[0m \u001b[0mrequest\u001b[0m\u001b[1;33m=\u001b[0m\u001b[0mrequest\u001b[0m\u001b[1;33m)\u001b[0m\u001b[1;33m\u001b[0m\u001b[1;33m\u001b[0m\u001b[0m\n",
      "\u001b[1;31mSSLError\u001b[0m: HTTPSConnectionPool(host='www.sony.co.uk', port=443): Max retries exceeded with url: / (Caused by SSLError(SSLError(\"bad handshake: Error([('SSL routines', 'tls_process_server_certificate', 'certificate verify failed')])\")))"
     ]
    }
   ],
   "source": [
    "import requests\n",
    "respuesta = requests.get(\"https://www.sony.co.uk/\")"
   ]
  },
  {
   "cell_type": "markdown",
   "metadata": {},
   "source": [
    "Otro ejemplo"
   ]
  },
  {
   "cell_type": "code",
   "execution_count": 41,
   "metadata": {},
   "outputs": [
    {
     "data": {
      "text/plain": [
       "'[\\n  {\\n    \"userId\": 1,\\n    \"id\": 1,\\n    \"title\": \"delectus aut autem\",\\n    \"completed\": false\\n  },\\n  {\\n    \"userId\": 1,\\n    \"id\": 2,\\n    \"title\": \"quis ut nam facilis et officia qui\",\\n    \"completed\": false\\n  },\\n  {\\n    \"userId\": 1,\\n    \"id\": 3,\\n    \"title\": \"fugiat veniam minus\",\\n    \"completed\": false\\n  },\\n  {\\n    \"userId\": 1,\\n    \"id\": 4,\\n    \"title\": \"et porro tempora\",\\n    \"completed\": true\\n  },\\n  {\\n    \"userId\": 1,\\n    \"id\": 5,\\n    \"title\": \"laboriosam mollitia et enim quasi adipisci quia provident illum\",\\n    \"completed\": false\\n  },\\n  {\\n    \"userId\": 1,\\n    \"id\": 6,\\n    \"title\": \"qui ullam ratione quibusdam voluptatem quia omnis\",\\n    \"completed\": false\\n  },\\n  {\\n    \"userId\": 1,\\n    \"id\": 7,\\n    \"title\": \"illo expedita consequatur quia in\",\\n    \"completed\": false\\n  },\\n  {\\n    \"userId\": 1,\\n    \"id\": 8,\\n    \"title\": \"quo adipisci enim quam ut ab\",\\n    \"completed\": true\\n  },\\n  {\\n    \"userId\": 1,\\n    \"id\": 9,\\n    \"title\": \"molestiae perspiciatis ipsa\",\\n    \"completed\": false\\n  },\\n  {\\n    \"userId\": 1,\\n    \"id\": 10,\\n    \"title\": \"illo est ratione doloremque quia maiores aut\",\\n    \"completed\": true\\n  },\\n  {\\n    \"userId\": 1,\\n    \"id\": 11,\\n    \"title\": \"vero rerum temporibus dolor\",\\n    \"completed\": true\\n  },\\n  {\\n    \"userId\": 1,\\n    \"id\": 12,\\n    \"title\": \"ipsa repellendus fugit nisi\",\\n    \"completed\": true\\n  },\\n  {\\n    \"userId\": 1,\\n    \"id\": 13,\\n    \"title\": \"et doloremque nulla\",\\n    \"completed\": false\\n  },\\n  {\\n    \"userId\": 1,\\n    \"id\": 14,\\n    \"title\": \"repellendus sunt dolores architecto voluptatum\",\\n    \"completed\": true\\n  },\\n  {\\n    \"userId\": 1,\\n    \"id\": 15,\\n    \"title\": \"ab voluptatum amet voluptas\",\\n    \"completed\": true\\n  },\\n  {\\n    \"userId\": 1,\\n    \"id\": 16,\\n    \"title\": \"accusamus eos facilis sint et aut voluptatem\",\\n    \"completed\": true\\n  },\\n  {\\n    \"userId\": 1,\\n    \"id\": 17,\\n    \"title\": \"quo laboriosam deleniti aut qui\",\\n    \"completed\": true\\n  },\\n  {\\n    \"userId\": 1,\\n    \"id\": 18,\\n    \"title\": \"dolorum est consequatur ea mollitia in culpa\",\\n    \"completed\": false\\n  },\\n  {\\n    \"userId\": 1,\\n    \"id\": 19,\\n    \"title\": \"molestiae ipsa aut voluptatibus pariatur dolor nihil\",\\n    \"completed\": true\\n  },\\n  {\\n    \"userId\": 1,\\n    \"id\": 20,\\n    \"title\": \"ullam nobis libero sapiente ad optio sint\",\\n    \"completed\": true\\n  },\\n  {\\n    \"userId\": 2,\\n    \"id\": 21,\\n    \"title\": \"suscipit repellat esse quibusdam voluptatem incidunt\",\\n    \"completed\": false\\n  },\\n  {\\n    \"userId\": 2,\\n    \"id\": 22,\\n    \"title\": \"distinctio vitae autem nihil ut molestias quo\",\\n    \"completed\": true\\n  },\\n  {\\n    \"userId\": 2,\\n    \"id\": 23,\\n    \"title\": \"et itaque necessitatibus maxime molestiae qui quas velit\",\\n    \"completed\": false\\n  },\\n  {\\n    \"userId\": 2,\\n    \"id\": 24,\\n    \"title\": \"adipisci non ad dicta qui amet quaerat doloribus ea\",\\n    \"completed\": false\\n  },\\n  {\\n    \"userId\": 2,\\n    \"id\": 25,\\n    \"title\": \"voluptas quo tenetur perspiciatis explicabo natus\",\\n    \"completed\": true\\n  },\\n  {\\n    \"userId\": 2,\\n    \"id\": 26,\\n    \"title\": \"aliquam aut quasi\",\\n    \"completed\": true\\n  },\\n  {\\n    \"userId\": 2,\\n    \"id\": 27,\\n    \"title\": \"veritatis pariatur delectus\",\\n    \"completed\": true\\n  },\\n  {\\n    \"userId\": 2,\\n    \"id\": 28,\\n    \"title\": \"nesciunt totam sit blanditiis sit\",\\n    \"completed\": false\\n  },\\n  {\\n    \"userId\": 2,\\n    \"id\": 29,\\n    \"title\": \"laborum aut in quam\",\\n    \"completed\": false\\n  },\\n  {\\n    \"userId\": 2,\\n    \"id\": 30,\\n    \"title\": \"nemo perspiciatis repellat ut dolor libero commodi blanditiis omnis\",\\n    \"completed\": true\\n  },\\n  {\\n    \"userId\": 2,\\n    \"id\": 31,\\n    \"title\": \"repudiandae totam in est sint facere fuga\",\\n    \"completed\": false\\n  },\\n  {\\n    \"userId\": 2,\\n    \"id\": 32,\\n    \"title\": \"earum doloribus ea doloremque quis\",\\n    \"completed\": false\\n  },\\n  {\\n    \"userId\": 2,\\n    \"id\": 33,\\n    \"title\": \"sint sit aut vero\",\\n    \"completed\": false\\n  },\\n  {\\n    \"userId\": 2,\\n    \"id\": 34,\\n    \"title\": \"porro aut necessitatibus eaque distinctio\",\\n    \"completed\": false\\n  },\\n  {\\n    \"userId\": 2,\\n    \"id\": 35,\\n    \"title\": \"repellendus veritatis molestias dicta incidunt\",\\n    \"completed\": true\\n  },\\n  {\\n    \"userId\": 2,\\n    \"id\": 36,\\n    \"title\": \"excepturi deleniti adipisci voluptatem et neque optio illum ad\",\\n    \"completed\": true\\n  },\\n  {\\n    \"userId\": 2,\\n    \"id\": 37,\\n    \"title\": \"sunt cum tempora\",\\n    \"completed\": false\\n  },\\n  {\\n    \"userId\": 2,\\n    \"id\": 38,\\n    \"title\": \"totam quia non\",\\n    \"completed\": false\\n  },\\n  {\\n    \"userId\": 2,\\n    \"id\": 39,\\n    \"title\": \"doloremque quibusdam asperiores libero corrupti illum qui omnis\",\\n    \"completed\": false\\n  },\\n  {\\n    \"userId\": 2,\\n    \"id\": 40,\\n    \"title\": \"totam atque quo nesciunt\",\\n    \"completed\": true\\n  },\\n  {\\n    \"userId\": 3,\\n    \"id\": 41,\\n    \"title\": \"aliquid amet impedit consequatur aspernatur placeat eaque fugiat suscipit\",\\n    \"completed\": false\\n  },\\n  {\\n    \"userId\": 3,\\n    \"id\": 42,\\n    \"title\": \"rerum perferendis error quia ut eveniet\",\\n    \"completed\": false\\n  },\\n  {\\n    \"userId\": 3,\\n    \"id\": 43,\\n    \"title\": \"tempore ut sint quis recusandae\",\\n    \"completed\": true\\n  },\\n  {\\n    \"userId\": 3,\\n    \"id\": 44,\\n    \"title\": \"cum debitis quis accusamus doloremque ipsa natus sapiente omnis\",\\n    \"completed\": true\\n  },\\n  {\\n    \"userId\": 3,\\n    \"id\": 45,\\n    \"title\": \"velit soluta adipisci molestias reiciendis harum\",\\n    \"completed\": false\\n  },\\n  {\\n    \"userId\": 3,\\n    \"id\": 46,\\n    \"title\": \"vel voluptatem repellat nihil placeat corporis\",\\n    \"completed\": false\\n  },\\n  {\\n    \"userId\": 3,\\n    \"id\": 47,\\n    \"title\": \"nam qui rerum fugiat accusamus\",\\n    \"completed\": false\\n  },\\n  {\\n    \"userId\": 3,\\n    \"id\": 48,\\n    \"title\": \"sit reprehenderit omnis quia\",\\n    \"completed\": false\\n  },\\n  {\\n    \"userId\": 3,\\n    \"id\": 49,\\n    \"title\": \"ut necessitatibus aut maiores debitis officia blanditiis velit et\",\\n    \"completed\": false\\n  },\\n  {\\n    \"userId\": 3,\\n    \"id\": 50,\\n    \"title\": \"cupiditate necessitatibus ullam aut quis dolor voluptate\",\\n    \"completed\": true\\n  },\\n  {\\n    \"userId\": 3,\\n    \"id\": 51,\\n    \"title\": \"distinctio exercitationem ab doloribus\",\\n    \"completed\": false\\n  },\\n  {\\n    \"userId\": 3,\\n    \"id\": 52,\\n    \"title\": \"nesciunt dolorum quis recusandae ad pariatur ratione\",\\n    \"completed\": false\\n  },\\n  {\\n    \"userId\": 3,\\n    \"id\": 53,\\n    \"title\": \"qui labore est occaecati recusandae aliquid quam\",\\n    \"completed\": false\\n  },\\n  {\\n    \"userId\": 3,\\n    \"id\": 54,\\n    \"title\": \"quis et est ut voluptate quam dolor\",\\n    \"completed\": true\\n  },\\n  {\\n    \"userId\": 3,\\n    \"id\": 55,\\n    \"title\": \"voluptatum omnis minima qui occaecati provident nulla voluptatem ratione\",\\n    \"completed\": true\\n  },\\n  {\\n    \"userId\": 3,\\n    \"id\": 56,\\n    \"title\": \"deleniti ea temporibus enim\",\\n    \"completed\": true\\n  },\\n  {\\n    \"userId\": 3,\\n    \"id\": 57,\\n    \"title\": \"pariatur et magnam ea doloribus similique voluptatem rerum quia\",\\n    \"completed\": false\\n  },\\n  {\\n    \"userId\": 3,\\n    \"id\": 58,\\n    \"title\": \"est dicta totam qui explicabo doloribus qui dignissimos\",\\n    \"completed\": false\\n  },\\n  {\\n    \"userId\": 3,\\n    \"id\": 59,\\n    \"title\": \"perspiciatis velit id laborum placeat iusto et aliquam odio\",\\n    \"completed\": false\\n  },\\n  {\\n    \"userId\": 3,\\n    \"id\": 60,\\n    \"title\": \"et sequi qui architecto ut adipisci\",\\n    \"completed\": true\\n  },\\n  {\\n    \"userId\": 4,\\n    \"id\": 61,\\n    \"title\": \"odit optio omnis qui sunt\",\\n    \"completed\": true\\n  },\\n  {\\n    \"userId\": 4,\\n    \"id\": 62,\\n    \"title\": \"et placeat et tempore aspernatur sint numquam\",\\n    \"completed\": false\\n  },\\n  {\\n    \"userId\": 4,\\n    \"id\": 63,\\n    \"title\": \"doloremque aut dolores quidem fuga qui nulla\",\\n    \"completed\": true\\n  },\\n  {\\n    \"userId\": 4,\\n    \"id\": 64,\\n    \"title\": \"voluptas consequatur qui ut quia magnam nemo esse\",\\n    \"completed\": false\\n  },\\n  {\\n    \"userId\": 4,\\n    \"id\": 65,\\n    \"title\": \"fugiat pariatur ratione ut asperiores necessitatibus magni\",\\n    \"completed\": false\\n  },\\n  {\\n    \"userId\": 4,\\n    \"id\": 66,\\n    \"title\": \"rerum eum molestias autem voluptatum sit optio\",\\n    \"completed\": false\\n  },\\n  {\\n    \"userId\": 4,\\n    \"id\": 67,\\n    \"title\": \"quia voluptatibus voluptatem quos similique maiores repellat\",\\n    \"completed\": false\\n  },\\n  {\\n    \"userId\": 4,\\n    \"id\": 68,\\n    \"title\": \"aut id perspiciatis voluptatem iusto\",\\n    \"completed\": false\\n  },\\n  {\\n    \"userId\": 4,\\n    \"id\": 69,\\n    \"title\": \"doloribus sint dolorum ab adipisci itaque dignissimos aliquam suscipit\",\\n    \"completed\": false\\n  },\\n  {\\n    \"userId\": 4,\\n    \"id\": 70,\\n    \"title\": \"ut sequi accusantium et mollitia delectus sunt\",\\n    \"completed\": false\\n  },\\n  {\\n    \"userId\": 4,\\n    \"id\": 71,\\n    \"title\": \"aut velit saepe ullam\",\\n    \"completed\": false\\n  },\\n  {\\n    \"userId\": 4,\\n    \"id\": 72,\\n    \"title\": \"praesentium facilis facere quis harum voluptatibus voluptatem eum\",\\n    \"completed\": false\\n  },\\n  {\\n    \"userId\": 4,\\n    \"id\": 73,\\n    \"title\": \"sint amet quia totam corporis qui exercitationem commodi\",\\n    \"completed\": true\\n  },\\n  {\\n    \"userId\": 4,\\n    \"id\": 74,\\n    \"title\": \"expedita tempore nobis eveniet laborum maiores\",\\n    \"completed\": false\\n  },\\n  {\\n    \"userId\": 4,\\n    \"id\": 75,\\n    \"title\": \"occaecati adipisci est possimus totam\",\\n    \"completed\": false\\n  },\\n  {\\n    \"userId\": 4,\\n    \"id\": 76,\\n    \"title\": \"sequi dolorem sed\",\\n    \"completed\": true\\n  },\\n  {\\n    \"userId\": 4,\\n    \"id\": 77,\\n    \"title\": \"maiores aut nesciunt delectus exercitationem vel assumenda eligendi at\",\\n    \"completed\": false\\n  },\\n  {\\n    \"userId\": 4,\\n    \"id\": 78,\\n    \"title\": \"reiciendis est magnam amet nemo iste recusandae impedit quaerat\",\\n    \"completed\": false\\n  },\\n  {\\n    \"userId\": 4,\\n    \"id\": 79,\\n    \"title\": \"eum ipsa maxime ut\",\\n    \"completed\": true\\n  },\\n  {\\n    \"userId\": 4,\\n    \"id\": 80,\\n    \"title\": \"tempore molestias dolores rerum sequi voluptates ipsum consequatur\",\\n    \"completed\": true\\n  },\\n  {\\n    \"userId\": 5,\\n    \"id\": 81,\\n    \"title\": \"suscipit qui totam\",\\n    \"completed\": true\\n  },\\n  {\\n    \"userId\": 5,\\n    \"id\": 82,\\n    \"title\": \"voluptates eum voluptas et dicta\",\\n    \"completed\": false\\n  },\\n  {\\n    \"userId\": 5,\\n    \"id\": 83,\\n    \"title\": \"quidem at rerum quis ex aut sit quam\",\\n    \"completed\": true\\n  },\\n  {\\n    \"userId\": 5,\\n    \"id\": 84,\\n    \"title\": \"sunt veritatis ut voluptate\",\\n    \"completed\": false\\n  },\\n  {\\n    \"userId\": 5,\\n    \"id\": 85,\\n    \"title\": \"et quia ad iste a\",\\n    \"completed\": true\\n  },\\n  {\\n    \"userId\": 5,\\n    \"id\": 86,\\n    \"title\": \"incidunt ut saepe autem\",\\n    \"completed\": true\\n  },\\n  {\\n    \"userId\": 5,\\n    \"id\": 87,\\n    \"title\": \"laudantium quae eligendi consequatur quia et vero autem\",\\n    \"completed\": true\\n  },\\n  {\\n    \"userId\": 5,\\n    \"id\": 88,\\n    \"title\": \"vitae aut excepturi laboriosam sint aliquam et et accusantium\",\\n    \"completed\": false\\n  },\\n  {\\n    \"userId\": 5,\\n    \"id\": 89,\\n    \"title\": \"sequi ut omnis et\",\\n    \"completed\": true\\n  },\\n  {\\n    \"userId\": 5,\\n    \"id\": 90,\\n    \"title\": \"molestiae nisi accusantium tenetur dolorem et\",\\n    \"completed\": true\\n  },\\n  {\\n    \"userId\": 5,\\n    \"id\": 91,\\n    \"title\": \"nulla quis consequatur saepe qui id expedita\",\\n    \"completed\": true\\n  },\\n  {\\n    \"userId\": 5,\\n    \"id\": 92,\\n    \"title\": \"in omnis laboriosam\",\\n    \"completed\": true\\n  },\\n  {\\n    \"userId\": 5,\\n    \"id\": 93,\\n    \"title\": \"odio iure consequatur molestiae quibusdam necessitatibus quia sint\",\\n    \"completed\": true\\n  },\\n  {\\n    \"userId\": 5,\\n    \"id\": 94,\\n    \"title\": \"facilis modi saepe mollitia\",\\n    \"completed\": false\\n  },\\n  {\\n    \"userId\": 5,\\n    \"id\": 95,\\n    \"title\": \"vel nihil et molestiae iusto assumenda nemo quo ut\",\\n    \"completed\": true\\n  },\\n  {\\n    \"userId\": 5,\\n    \"id\": 96,\\n    \"title\": \"nobis suscipit ducimus enim asperiores voluptas\",\\n    \"completed\": false\\n  },\\n  {\\n    \"userId\": 5,\\n    \"id\": 97,\\n    \"title\": \"dolorum laboriosam eos qui iure aliquam\",\\n    \"completed\": false\\n  },\\n  {\\n    \"userId\": 5,\\n    \"id\": 98,\\n    \"title\": \"debitis accusantium ut quo facilis nihil quis sapiente necessitatibus\",\\n    \"completed\": true\\n  },\\n  {\\n    \"userId\": 5,\\n    \"id\": 99,\\n    \"title\": \"neque voluptates ratione\",\\n    \"completed\": false\\n  },\\n  {\\n    \"userId\": 5,\\n    \"id\": 100,\\n    \"title\": \"excepturi a et neque qui expedita vel voluptate\",\\n    \"completed\": false\\n  },\\n  {\\n    \"userId\": 6,\\n    \"id\": 101,\\n    \"title\": \"explicabo enim cumque porro aperiam occaecati minima\",\\n    \"completed\": false\\n  },\\n  {\\n    \"userId\": 6,\\n    \"id\": 102,\\n    \"title\": \"sed ab consequatur\",\\n    \"completed\": false\\n  },\\n  {\\n    \"userId\": 6,\\n    \"id\": 103,\\n    \"title\": \"non sunt delectus illo nulla tenetur enim omnis\",\\n    \"completed\": false\\n  },\\n  {\\n    \"userId\": 6,\\n    \"id\": 104,\\n    \"title\": \"excepturi non laudantium quo\",\\n    \"completed\": false\\n  },\\n  {\\n    \"userId\": 6,\\n    \"id\": 105,\\n    \"title\": \"totam quia dolorem et illum repellat voluptas optio\",\\n    \"completed\": true\\n  },\\n  {\\n    \"userId\": 6,\\n    \"id\": 106,\\n    \"title\": \"ad illo quis voluptatem temporibus\",\\n    \"completed\": true\\n  },\\n  {\\n    \"userId\": 6,\\n    \"id\": 107,\\n    \"title\": \"praesentium facilis omnis laudantium fugit ad iusto nihil nesciunt\",\\n    \"completed\": false\\n  },\\n  {\\n    \"userId\": 6,\\n    \"id\": 108,\\n    \"title\": \"a eos eaque nihil et exercitationem incidunt delectus\",\\n    \"completed\": true\\n  },\\n  {\\n    \"userId\": 6,\\n    \"id\": 109,\\n    \"title\": \"autem temporibus harum quisquam in culpa\",\\n    \"completed\": true\\n  },\\n  {\\n    \"userId\": 6,\\n    \"id\": 110,\\n    \"title\": \"aut aut ea corporis\",\\n    \"completed\": true\\n  },\\n  {\\n    \"userId\": 6,\\n    \"id\": 111,\\n    \"title\": \"magni accusantium labore et id quis provident\",\\n    \"completed\": false\\n  },\\n  {\\n    \"userId\": 6,\\n    \"id\": 112,\\n    \"title\": \"consectetur impedit quisquam qui deserunt non rerum consequuntur eius\",\\n    \"completed\": false\\n  },\\n  {\\n    \"userId\": 6,\\n    \"id\": 113,\\n    \"title\": \"quia atque aliquam sunt impedit voluptatum rerum assumenda nisi\",\\n    \"completed\": false\\n  },\\n  {\\n    \"userId\": 6,\\n    \"id\": 114,\\n    \"title\": \"cupiditate quos possimus corporis quisquam exercitationem beatae\",\\n    \"completed\": false\\n  },\\n  {\\n    \"userId\": 6,\\n    \"id\": 115,\\n    \"title\": \"sed et ea eum\",\\n    \"completed\": false\\n  },\\n  {\\n    \"userId\": 6,\\n    \"id\": 116,\\n    \"title\": \"ipsa dolores vel facilis ut\",\\n    \"completed\": true\\n  },\\n  {\\n    \"userId\": 6,\\n    \"id\": 117,\\n    \"title\": \"sequi quae est et qui qui eveniet asperiores\",\\n    \"completed\": false\\n  },\\n  {\\n    \"userId\": 6,\\n    \"id\": 118,\\n    \"title\": \"quia modi consequatur vero fugiat\",\\n    \"completed\": false\\n  },\\n  {\\n    \"userId\": 6,\\n    \"id\": 119,\\n    \"title\": \"corporis ducimus ea perspiciatis iste\",\\n    \"completed\": false\\n  },\\n  {\\n    \"userId\": 6,\\n    \"id\": 120,\\n    \"title\": \"dolorem laboriosam vel voluptas et aliquam quasi\",\\n    \"completed\": false\\n  },\\n  {\\n    \"userId\": 7,\\n    \"id\": 121,\\n    \"title\": \"inventore aut nihil minima laudantium hic qui omnis\",\\n    \"completed\": true\\n  },\\n  {\\n    \"userId\": 7,\\n    \"id\": 122,\\n    \"title\": \"provident aut nobis culpa\",\\n    \"completed\": true\\n  },\\n  {\\n    \"userId\": 7,\\n    \"id\": 123,\\n    \"title\": \"esse et quis iste est earum aut impedit\",\\n    \"completed\": false\\n  },\\n  {\\n    \"userId\": 7,\\n    \"id\": 124,\\n    \"title\": \"qui consectetur id\",\\n    \"completed\": false\\n  },\\n  {\\n    \"userId\": 7,\\n    \"id\": 125,\\n    \"title\": \"aut quasi autem iste tempore illum possimus\",\\n    \"completed\": false\\n  },\\n  {\\n    \"userId\": 7,\\n    \"id\": 126,\\n    \"title\": \"ut asperiores perspiciatis veniam ipsum rerum saepe\",\\n    \"completed\": true\\n  },\\n  {\\n    \"userId\": 7,\\n    \"id\": 127,\\n    \"title\": \"voluptatem libero consectetur rerum ut\",\\n    \"completed\": true\\n  },\\n  {\\n    \"userId\": 7,\\n    \"id\": 128,\\n    \"title\": \"eius omnis est qui voluptatem autem\",\\n    \"completed\": false\\n  },\\n  {\\n    \"userId\": 7,\\n    \"id\": 129,\\n    \"title\": \"rerum culpa quis harum\",\\n    \"completed\": false\\n  },\\n  {\\n    \"userId\": 7,\\n    \"id\": 130,\\n    \"title\": \"nulla aliquid eveniet harum laborum libero alias ut unde\",\\n    \"completed\": true\\n  },\\n  {\\n    \"userId\": 7,\\n    \"id\": 131,\\n    \"title\": \"qui ea incidunt quis\",\\n    \"completed\": false\\n  },\\n  {\\n    \"userId\": 7,\\n    \"id\": 132,\\n    \"title\": \"qui molestiae voluptatibus velit iure harum quisquam\",\\n    \"completed\": true\\n  },\\n  {\\n    \"userId\": 7,\\n    \"id\": 133,\\n    \"title\": \"et labore eos enim rerum consequatur sunt\",\\n    \"completed\": true\\n  },\\n  {\\n    \"userId\": 7,\\n    \"id\": 134,\\n    \"title\": \"molestiae doloribus et laborum quod ea\",\\n    \"completed\": false\\n  },\\n  {\\n    \"userId\": 7,\\n    \"id\": 135,\\n    \"title\": \"facere ipsa nam eum voluptates reiciendis vero qui\",\\n    \"completed\": false\\n  },\\n  {\\n    \"userId\": 7,\\n    \"id\": 136,\\n    \"title\": \"asperiores illo tempora fuga sed ut quasi adipisci\",\\n    \"completed\": false\\n  },\\n  {\\n    \"userId\": 7,\\n    \"id\": 137,\\n    \"title\": \"qui sit non\",\\n    \"completed\": false\\n  },\\n  {\\n    \"userId\": 7,\\n    \"id\": 138,\\n    \"title\": \"placeat minima consequatur rem qui ut\",\\n    \"completed\": true\\n  },\\n  {\\n    \"userId\": 7,\\n    \"id\": 139,\\n    \"title\": \"consequatur doloribus id possimus voluptas a voluptatem\",\\n    \"completed\": false\\n  },\\n  {\\n    \"userId\": 7,\\n    \"id\": 140,\\n    \"title\": \"aut consectetur in blanditiis deserunt quia sed laboriosam\",\\n    \"completed\": true\\n  },\\n  {\\n    \"userId\": 8,\\n    \"id\": 141,\\n    \"title\": \"explicabo consectetur debitis voluptates quas quae culpa rerum non\",\\n    \"completed\": true\\n  },\\n  {\\n    \"userId\": 8,\\n    \"id\": 142,\\n    \"title\": \"maiores accusantium architecto necessitatibus reiciendis ea aut\",\\n    \"completed\": true\\n  },\\n  {\\n    \"userId\": 8,\\n    \"id\": 143,\\n    \"title\": \"eum non recusandae cupiditate animi\",\\n    \"completed\": false\\n  },\\n  {\\n    \"userId\": 8,\\n    \"id\": 144,\\n    \"title\": \"ut eum exercitationem sint\",\\n    \"completed\": false\\n  },\\n  {\\n    \"userId\": 8,\\n    \"id\": 145,\\n    \"title\": \"beatae qui ullam incidunt voluptatem non nisi aliquam\",\\n    \"completed\": false\\n  },\\n  {\\n    \"userId\": 8,\\n    \"id\": 146,\\n    \"title\": \"molestiae suscipit ratione nihil odio libero impedit vero totam\",\\n    \"completed\": true\\n  },\\n  {\\n    \"userId\": 8,\\n    \"id\": 147,\\n    \"title\": \"eum itaque quod reprehenderit et facilis dolor autem ut\",\\n    \"completed\": true\\n  },\\n  {\\n    \"userId\": 8,\\n    \"id\": 148,\\n    \"title\": \"esse quas et quo quasi exercitationem\",\\n    \"completed\": false\\n  },\\n  {\\n    \"userId\": 8,\\n    \"id\": 149,\\n    \"title\": \"animi voluptas quod perferendis est\",\\n    \"completed\": false\\n  },\\n  {\\n    \"userId\": 8,\\n    \"id\": 150,\\n    \"title\": \"eos amet tempore laudantium fugit a\",\\n    \"completed\": false\\n  },\\n  {\\n    \"userId\": 8,\\n    \"id\": 151,\\n    \"title\": \"accusamus adipisci dicta qui quo ea explicabo sed vero\",\\n    \"completed\": true\\n  },\\n  {\\n    \"userId\": 8,\\n    \"id\": 152,\\n    \"title\": \"odit eligendi recusandae doloremque cumque non\",\\n    \"completed\": false\\n  },\\n  {\\n    \"userId\": 8,\\n    \"id\": 153,\\n    \"title\": \"ea aperiam consequatur qui repellat eos\",\\n    \"completed\": false\\n  },\\n  {\\n    \"userId\": 8,\\n    \"id\": 154,\\n    \"title\": \"rerum non ex sapiente\",\\n    \"completed\": true\\n  },\\n  {\\n    \"userId\": 8,\\n    \"id\": 155,\\n    \"title\": \"voluptatem nobis consequatur et assumenda magnam\",\\n    \"completed\": true\\n  },\\n  {\\n    \"userId\": 8,\\n    \"id\": 156,\\n    \"title\": \"nam quia quia nulla repellat assumenda quibusdam sit nobis\",\\n    \"completed\": true\\n  },\\n  {\\n    \"userId\": 8,\\n    \"id\": 157,\\n    \"title\": \"dolorem veniam quisquam deserunt repellendus\",\\n    \"completed\": true\\n  },\\n  {\\n    \"userId\": 8,\\n    \"id\": 158,\\n    \"title\": \"debitis vitae delectus et harum accusamus aut deleniti a\",\\n    \"completed\": true\\n  },\\n  {\\n    \"userId\": 8,\\n    \"id\": 159,\\n    \"title\": \"debitis adipisci quibusdam aliquam sed dolore ea praesentium nobis\",\\n    \"completed\": true\\n  },\\n  {\\n    \"userId\": 8,\\n    \"id\": 160,\\n    \"title\": \"et praesentium aliquam est\",\\n    \"completed\": false\\n  },\\n  {\\n    \"userId\": 9,\\n    \"id\": 161,\\n    \"title\": \"ex hic consequuntur earum omnis alias ut occaecati culpa\",\\n    \"completed\": true\\n  },\\n  {\\n    \"userId\": 9,\\n    \"id\": 162,\\n    \"title\": \"omnis laboriosam molestias animi sunt dolore\",\\n    \"completed\": true\\n  },\\n  {\\n    \"userId\": 9,\\n    \"id\": 163,\\n    \"title\": \"natus corrupti maxime laudantium et voluptatem laboriosam odit\",\\n    \"completed\": false\\n  },\\n  {\\n    \"userId\": 9,\\n    \"id\": 164,\\n    \"title\": \"reprehenderit quos aut aut consequatur est sed\",\\n    \"completed\": false\\n  },\\n  {\\n    \"userId\": 9,\\n    \"id\": 165,\\n    \"title\": \"fugiat perferendis sed aut quidem\",\\n    \"completed\": false\\n  },\\n  {\\n    \"userId\": 9,\\n    \"id\": 166,\\n    \"title\": \"quos quo possimus suscipit minima ut\",\\n    \"completed\": false\\n  },\\n  {\\n    \"userId\": 9,\\n    \"id\": 167,\\n    \"title\": \"et quis minus quo a asperiores molestiae\",\\n    \"completed\": false\\n  },\\n  {\\n    \"userId\": 9,\\n    \"id\": 168,\\n    \"title\": \"recusandae quia qui sunt libero\",\\n    \"completed\": false\\n  },\\n  {\\n    \"userId\": 9,\\n    \"id\": 169,\\n    \"title\": \"ea odio perferendis officiis\",\\n    \"completed\": true\\n  },\\n  {\\n    \"userId\": 9,\\n    \"id\": 170,\\n    \"title\": \"quisquam aliquam quia doloribus aut\",\\n    \"completed\": false\\n  },\\n  {\\n    \"userId\": 9,\\n    \"id\": 171,\\n    \"title\": \"fugiat aut voluptatibus corrupti deleniti velit iste odio\",\\n    \"completed\": true\\n  },\\n  {\\n    \"userId\": 9,\\n    \"id\": 172,\\n    \"title\": \"et provident amet rerum consectetur et voluptatum\",\\n    \"completed\": false\\n  },\\n  {\\n    \"userId\": 9,\\n    \"id\": 173,\\n    \"title\": \"harum ad aperiam quis\",\\n    \"completed\": false\\n  },\\n  {\\n    \"userId\": 9,\\n    \"id\": 174,\\n    \"title\": \"similique aut quo\",\\n    \"completed\": false\\n  },\\n  {\\n    \"userId\": 9,\\n    \"id\": 175,\\n    \"title\": \"laudantium eius officia perferendis provident perspiciatis asperiores\",\\n    \"completed\": true\\n  },\\n  {\\n    \"userId\": 9,\\n    \"id\": 176,\\n    \"title\": \"magni soluta corrupti ut maiores rem quidem\",\\n    \"completed\": false\\n  },\\n  {\\n    \"userId\": 9,\\n    \"id\": 177,\\n    \"title\": \"et placeat temporibus voluptas est tempora quos quibusdam\",\\n    \"completed\": false\\n  },\\n  {\\n    \"userId\": 9,\\n    \"id\": 178,\\n    \"title\": \"nesciunt itaque commodi tempore\",\\n    \"completed\": true\\n  },\\n  {\\n    \"userId\": 9,\\n    \"id\": 179,\\n    \"title\": \"omnis consequuntur cupiditate impedit itaque ipsam quo\",\\n    \"completed\": true\\n  },\\n  {\\n    \"userId\": 9,\\n    \"id\": 180,\\n    \"title\": \"debitis nisi et dolorem repellat et\",\\n    \"completed\": true\\n  },\\n  {\\n    \"userId\": 10,\\n    \"id\": 181,\\n    \"title\": \"ut cupiditate sequi aliquam fuga maiores\",\\n    \"completed\": false\\n  },\\n  {\\n    \"userId\": 10,\\n    \"id\": 182,\\n    \"title\": \"inventore saepe cumque et aut illum enim\",\\n    \"completed\": true\\n  },\\n  {\\n    \"userId\": 10,\\n    \"id\": 183,\\n    \"title\": \"omnis nulla eum aliquam distinctio\",\\n    \"completed\": true\\n  },\\n  {\\n    \"userId\": 10,\\n    \"id\": 184,\\n    \"title\": \"molestias modi perferendis perspiciatis\",\\n    \"completed\": false\\n  },\\n  {\\n    \"userId\": 10,\\n    \"id\": 185,\\n    \"title\": \"voluptates dignissimos sed doloribus animi quaerat aut\",\\n    \"completed\": false\\n  },\\n  {\\n    \"userId\": 10,\\n    \"id\": 186,\\n    \"title\": \"explicabo odio est et\",\\n    \"completed\": false\\n  },\\n  {\\n    \"userId\": 10,\\n    \"id\": 187,\\n    \"title\": \"consequuntur animi possimus\",\\n    \"completed\": false\\n  },\\n  {\\n    \"userId\": 10,\\n    \"id\": 188,\\n    \"title\": \"vel non beatae est\",\\n    \"completed\": true\\n  },\\n  {\\n    \"userId\": 10,\\n    \"id\": 189,\\n    \"title\": \"culpa eius et voluptatem et\",\\n    \"completed\": true\\n  },\\n  {\\n    \"userId\": 10,\\n    \"id\": 190,\\n    \"title\": \"accusamus sint iusto et voluptatem exercitationem\",\\n    \"completed\": true\\n  },\\n  {\\n    \"userId\": 10,\\n    \"id\": 191,\\n    \"title\": \"temporibus atque distinctio omnis eius impedit tempore molestias pariatur\",\\n    \"completed\": true\\n  },\\n  {\\n    \"userId\": 10,\\n    \"id\": 192,\\n    \"title\": \"ut quas possimus exercitationem sint voluptates\",\\n    \"completed\": false\\n  },\\n  {\\n    \"userId\": 10,\\n    \"id\": 193,\\n    \"title\": \"rerum debitis voluptatem qui eveniet tempora distinctio a\",\\n    \"completed\": true\\n  },\\n  {\\n    \"userId\": 10,\\n    \"id\": 194,\\n    \"title\": \"sed ut vero sit molestiae\",\\n    \"completed\": false\\n  },\\n  {\\n    \"userId\": 10,\\n    \"id\": 195,\\n    \"title\": \"rerum ex veniam mollitia voluptatibus pariatur\",\\n    \"completed\": true\\n  },\\n  {\\n    \"userId\": 10,\\n    \"id\": 196,\\n    \"title\": \"consequuntur aut ut fugit similique\",\\n    \"completed\": true\\n  },\\n  {\\n    \"userId\": 10,\\n    \"id\": 197,\\n    \"title\": \"dignissimos quo nobis earum saepe\",\\n    \"completed\": true\\n  },\\n  {\\n    \"userId\": 10,\\n    \"id\": 198,\\n    \"title\": \"quis eius est sint explicabo\",\\n    \"completed\": true\\n  },\\n  {\\n    \"userId\": 10,\\n    \"id\": 199,\\n    \"title\": \"numquam repellendus a magnam\",\\n    \"completed\": true\\n  },\\n  {\\n    \"userId\": 10,\\n    \"id\": 200,\\n    \"title\": \"ipsam aperiam voluptates qui\",\\n    \"completed\": false\\n  }\\n]'"
      ]
     },
     "execution_count": 41,
     "metadata": {},
     "output_type": "execute_result"
    }
   ],
   "source": [
    "respuesta.text"
   ]
  },
  {
   "cell_type": "code",
   "execution_count": 44,
   "metadata": {},
   "outputs": [
    {
     "name": "stdout",
     "output_type": "stream",
     "text": [
      "<class 'list'>\n"
     ]
    },
    {
     "data": {
      "text/plain": [
       "[{'userId': 1, 'id': 1, 'title': 'delectus aut autem', 'completed': False},\n",
       " {'userId': 1,\n",
       "  'id': 2,\n",
       "  'title': 'quis ut nam facilis et officia qui',\n",
       "  'completed': False},\n",
       " {'userId': 1, 'id': 3, 'title': 'fugiat veniam minus', 'completed': False},\n",
       " {'userId': 1, 'id': 4, 'title': 'et porro tempora', 'completed': True},\n",
       " {'userId': 1,\n",
       "  'id': 5,\n",
       "  'title': 'laboriosam mollitia et enim quasi adipisci quia provident illum',\n",
       "  'completed': False}]"
      ]
     },
     "execution_count": 44,
     "metadata": {},
     "output_type": "execute_result"
    }
   ],
   "source": [
    "json_data = json.loads(respuesta.text)\n",
    "print(type(json_data))\n",
    "json_data[:5]"
   ]
  },
  {
   "cell_type": "markdown",
   "metadata": {},
   "source": [
    "- Sus opciones son"
   ]
  },
  {
   "cell_type": "code",
   "execution_count": 40,
   "metadata": {},
   "outputs": [
    {
     "data": {
      "text/plain": [
       "['_content',\n",
       " '_content_consumed',\n",
       " '_next',\n",
       " 'apparent_encoding',\n",
       " 'close',\n",
       " 'connection',\n",
       " 'content',\n",
       " 'cookies',\n",
       " 'elapsed',\n",
       " 'encoding',\n",
       " 'headers',\n",
       " 'history',\n",
       " 'is_permanent_redirect',\n",
       " 'is_redirect',\n",
       " 'iter_content',\n",
       " 'iter_lines',\n",
       " 'json',\n",
       " 'links',\n",
       " 'next',\n",
       " 'ok',\n",
       " 'raise_for_status',\n",
       " 'raw',\n",
       " 'reason',\n",
       " 'request',\n",
       " 'status_code',\n",
       " 'text',\n",
       " 'url']"
      ]
     },
     "execution_count": 40,
     "metadata": {},
     "output_type": "execute_result"
    }
   ],
   "source": [
    "from utils import midir\n",
    "midir(respuesta)"
   ]
  },
  {
   "cell_type": "code",
   "execution_count": 84,
   "metadata": {},
   "outputs": [
    {
     "name": "stdout",
     "output_type": "stream",
     "text": [
      "{'pepe': 113701, 'juan': 79986, 'jose': 236216}\n"
     ]
    }
   ],
   "source": [
    "dictionary = {}\n",
    "list = [\"pepe\",\"juan\",\"jose\"]\n",
    "\n",
    "for persona in list:\n",
    "    dictionary.update({persona:random.randint(40000,300000)})\n",
    "    \n",
    "print(dictionary)"
   ]
  }
 ],
 "metadata": {
  "kernelspec": {
   "display_name": "Python 3",
   "language": "python",
   "name": "python3"
  },
  "language_info": {
   "codemirror_mode": {
    "name": "ipython",
    "version": 3
   },
   "file_extension": ".py",
   "mimetype": "text/x-python",
   "name": "python",
   "nbconvert_exporter": "python",
   "pygments_lexer": "ipython3",
   "version": "3.7.4"
  }
 },
 "nbformat": 4,
 "nbformat_minor": 4
}
