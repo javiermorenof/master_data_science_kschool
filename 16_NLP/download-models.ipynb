{
 "cells": [
  {
   "cell_type": "markdown",
   "metadata": {
    "Collapsed": "false"
   },
   "source": [
    "# Download Models\n"
   ]
  },
  {
   "cell_type": "code",
   "execution_count": 1,
   "metadata": {},
   "outputs": [
    {
     "name": "stderr",
     "output_type": "stream",
     "text": [
      "[nltk_data] Downloading package brown to /home/dsc/nltk_data...\n",
      "[nltk_data]   Package brown is already up-to-date!\n",
      "[nltk_data] Downloading package cess_esp to /home/dsc/nltk_data...\n",
      "[nltk_data]   Package cess_esp is already up-to-date!\n"
     ]
    },
    {
     "data": {
      "text/plain": [
       "True"
      ]
     },
     "execution_count": 1,
     "metadata": {},
     "output_type": "execute_result"
    }
   ],
   "source": [
    "# NLTK tagged datasets\n",
    "\n",
    "import nltk\n",
    "\n",
    "nltk.download(\"brown\")\n",
    "nltk.download(\"cess_esp\")"
   ]
  },
  {
   "cell_type": "code",
   "execution_count": null,
   "metadata": {},
   "outputs": [],
   "source": [
    "# spaCy models for EN and ES\n",
    "\n",
    "!python -m spacy download en_core_web_md\n",
    "!python -m spacy download es_core_news_md"
   ]
  },
  {
   "cell_type": "code",
   "execution_count": 2,
   "metadata": {
    "Collapsed": "false"
   },
   "outputs": [
    {
     "name": "stdout",
     "output_type": "stream",
     "text": [
      "--2020-06-04 13:01:08--  https://vitojph.keybase.pub/eswiki-300.tar.gz?dl=1\n",
      "Resolving vitojph.keybase.pub (vitojph.keybase.pub)... 35.171.250.101, 52.3.160.119, 34.232.198.135\n",
      "Connecting to vitojph.keybase.pub (vitojph.keybase.pub)|35.171.250.101|:443... connected.\n",
      "HTTP request sent, awaiting response... 200 OK\n",
      "Length: 1734033407 (1,6G) [application/gzip]\n",
      "Saving to: ‘eswiki-300.tar.gz’\n",
      "\n",
      "eswiki-300.tar.gz   100%[===================>]   1,61G  18,4MB/s    in 2m 55s  \n",
      "\n",
      "2020-06-04 13:04:04 (9,46 MB/s) - ‘eswiki-300.tar.gz’ saved [1734033407/1734033407]\n",
      "\n"
     ]
    }
   ],
   "source": [
    "# word2vec embeddings for Spanish (computed from Spanish Wikipedia)\n",
    "![ -d data ] || mkdir data\n",
    "!cd data\n",
    "\n",
    "!wget -O eswiki-300.tar.gz https://vitojph.keybase.pub/eswiki-300.tar.gz?dl=1"
   ]
  },
  {
   "cell_type": "code",
   "execution_count": 3,
   "metadata": {
    "Collapsed": "false"
   },
   "outputs": [
    {
     "name": "stdout",
     "output_type": "stream",
     "text": [
      "--2020-06-04 13:06:05--  https://dl.fbaipublicfiles.com/fasttext/vectors-crawl/cc.en.300.vec.gz\n",
      "Resolving dl.fbaipublicfiles.com (dl.fbaipublicfiles.com)... 104.22.74.142, 104.22.75.142, 2606:4700:10::6816:4a8e, ...\n",
      "Connecting to dl.fbaipublicfiles.com (dl.fbaipublicfiles.com)|104.22.74.142|:443... connected.\n",
      "HTTP request sent, awaiting response... 200 OK\n",
      "Length: 1325960915 (1,2G) [binary/octet-stream]\n",
      "Saving to: ‘cc.en.300.vec.gz’\n",
      "\n",
      "cc.en.300.vec.gz    100%[===================>]   1,23G  11,4MB/s    in 1m 53s  \n",
      "\n",
      "2020-06-04 13:07:59 (11,2 MB/s) - ‘cc.en.300.vec.gz’ saved [1325960915/1325960915]\n",
      "\n",
      "--2020-06-04 13:07:59--  https://dl.fbaipublicfiles.com/fasttext/vectors-crawl/cc.es.300.vec.gz\n",
      "Resolving dl.fbaipublicfiles.com (dl.fbaipublicfiles.com)... 104.22.75.142, 104.22.74.142, 2606:4700:10::6816:4b8e, ...\n",
      "Connecting to dl.fbaipublicfiles.com (dl.fbaipublicfiles.com)|104.22.75.142|:443... connected.\n",
      "HTTP request sent, awaiting response... 200 OK\n",
      "Length: 1285580896 (1,2G) [binary/octet-stream]\n",
      "Saving to: ‘cc.es.300.vec.gz’\n",
      "\n",
      "cc.es.300.vec.gz    100%[===================>]   1,20G  11,0MB/s    in 1m 55s  \n",
      "\n",
      "2020-06-04 13:09:55 (10,6 MB/s) - ‘cc.es.300.vec.gz’ saved [1285580896/1285580896]\n",
      "\n"
     ]
    }
   ],
   "source": [
    "# fastText word vectors for English and Spanish\n",
    "![ -d data ] || mkdir data\n",
    "!cd data\n",
    "\n",
    "!wget https://dl.fbaipublicfiles.com/fasttext/vectors-crawl/cc.en.300.vec.gz\n",
    "!wget https://dl.fbaipublicfiles.com/fasttext/vectors-crawl/cc.es.300.vec.gz"
   ]
  },
  {
   "cell_type": "code",
   "execution_count": null,
   "metadata": {},
   "outputs": [],
   "source": []
  }
 ],
 "metadata": {
  "kernelspec": {
   "display_name": "Python 3",
   "language": "python",
   "name": "python3"
  },
  "language_info": {
   "codemirror_mode": {
    "name": "ipython",
    "version": 3
   },
   "file_extension": ".py",
   "mimetype": "text/x-python",
   "name": "python",
   "nbconvert_exporter": "python",
   "pygments_lexer": "ipython3",
   "version": "3.7.6"
  }
 },
 "nbformat": 4,
 "nbformat_minor": 4
}
