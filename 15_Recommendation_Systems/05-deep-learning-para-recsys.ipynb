{
 "cells": [
  {
   "cell_type": "markdown",
   "metadata": {},
   "source": [
    "<img src=\"kschool.png\" width=\"120\" height=\"120\" align=\"right\"/>\n",
    "\n",
    "# Deep Learning para RecSys"
   ]
  },
  {
   "cell_type": "markdown",
   "metadata": {},
   "source": [
    "<div class  = \"alert alert-info\">\n",
    "\n",
    "Deep Learning tiene muchísimas aplicaciones hoy en día. En RecSys también. En este apartado, explicaremos la generación de un modelo básico basado en redes neuronales cuya funcionalidad sea la de recomendación de items y la clasificación de users/items por su cercanía en el espacio. \n",
    "\n",
    "**Destacamos**:\n",
    "- La arquitectura de las redes neuronales destinadas a RecSys, generalmente, llevan la capa **Embeddings**.\n",
    "\n",
    "</div>"
   ]
  },
  {
   "cell_type": "markdown",
   "metadata": {},
   "source": [
    "### Embeddings Layer"
   ]
  },
  {
   "cell_type": "code",
   "execution_count": 10,
   "metadata": {},
   "outputs": [],
   "source": [
    "from keras.models import Sequential\n",
    "from keras.layers import Embedding\n",
    "import numpy as np"
   ]
  },
  {
   "cell_type": "code",
   "execution_count": 11,
   "metadata": {},
   "outputs": [],
   "source": [
    "\"\"\"Creamos un modelo muy básico para ver cómo se generan los embeddings de forma aleatoria\"\"\"\n",
    "\n",
    "model = Sequential()\n",
    "embedding_layer = Embedding(input_dim=5,output_dim=4, input_length=1)\n",
    "model.add(embedding_layer)\n",
    "\n",
    "# input_dim: int > 0. Size of the vocabulary, i.e. maximum integer index + 1\n",
    "# output_dim: int >= 0. Dimension of the dense embedding.\n",
    "\n",
    "model.compile(optimizer='adam', loss='mse')"
   ]
  },
  {
   "cell_type": "code",
   "execution_count": 12,
   "metadata": {
    "scrolled": true
   },
   "outputs": [
    {
     "name": "stdout",
     "output_type": "stream",
     "text": [
      "5\n"
     ]
    },
    {
     "data": {
      "text/plain": [
       "[array([[ 0.04328568,  0.02112785, -0.00870015,  0.00895127],\n",
       "        [ 0.01600147, -0.02194479,  0.04920075, -0.01066502],\n",
       "        [-0.01768113,  0.02944496,  0.02071451,  0.00631776],\n",
       "        [-0.03986423, -0.04245925,  0.02700081,  0.03771493],\n",
       "        [-0.0015931 , -0.0153446 ,  0.02233991,  0.02153695]],\n",
       "       dtype=float32)]"
      ]
     },
     "execution_count": 12,
     "metadata": {},
     "output_type": "execute_result"
    }
   ],
   "source": [
    "print(len(embedding_layer.get_weights()[0]))\n",
    "embedding_layer.get_weights()"
   ]
  },
  {
   "cell_type": "code",
   "execution_count": 13,
   "metadata": {},
   "outputs": [],
   "source": [
    "# print(model.predict(np.array([[4]])))"
   ]
  },
  {
   "cell_type": "markdown",
   "metadata": {},
   "source": [
    "### Práctica"
   ]
  },
  {
   "cell_type": "markdown",
   "metadata": {},
   "source": [
    "##### Dataset"
   ]
  },
  {
   "cell_type": "code",
   "execution_count": 14,
   "metadata": {},
   "outputs": [],
   "source": [
    "import matplotlib.pyplot as plt\n",
    "import pandas as pd"
   ]
  },
  {
   "cell_type": "code",
   "execution_count": 15,
   "metadata": {},
   "outputs": [
    {
     "name": "stdout",
     "output_type": "stream",
     "text": [
      "Number of rating records: 100836\n",
      "Total of users: 610\n",
      "Total of movies: 9742\n"
     ]
    }
   ],
   "source": [
    "def read_movie_files(folder):\n",
    "\n",
    "    pd_ratings = pd.read_csv(folder+'/ratings.csv')\n",
    "    print('Number of rating records: ' + str(len(pd_ratings)))\n",
    "    print('Total of users: ' + str(pd_ratings.userId.nunique()))\n",
    "    \n",
    "    pd_movies = pd.read_csv(folder+'/movies.csv')\n",
    "    print('Total of movies: ' + str(pd_movies.movieId.nunique()))\n",
    "    \n",
    "    return pd_ratings, pd_movies\n",
    "\n",
    "folder = './data/movies'\n",
    "pd_ratings, pd_movies = read_movie_files(folder)\n",
    "\n",
    "# En este ejemplo no vamos a utilizar los géneros para nada"
   ]
  },
  {
   "cell_type": "code",
   "execution_count": 16,
   "metadata": {},
   "outputs": [],
   "source": [
    "import warnings\n",
    "warnings.filterwarnings(\"ignore\")"
   ]
  },
  {
   "cell_type": "code",
   "execution_count": 17,
   "metadata": {},
   "outputs": [
    {
     "data": {
      "text/html": [
       "<div>\n",
       "<style scoped>\n",
       "    .dataframe tbody tr th:only-of-type {\n",
       "        vertical-align: middle;\n",
       "    }\n",
       "\n",
       "    .dataframe tbody tr th {\n",
       "        vertical-align: top;\n",
       "    }\n",
       "\n",
       "    .dataframe thead th {\n",
       "        text-align: right;\n",
       "    }\n",
       "</style>\n",
       "<table border=\"1\" class=\"dataframe\">\n",
       "  <thead>\n",
       "    <tr style=\"text-align: right;\">\n",
       "      <th></th>\n",
       "      <th>userId</th>\n",
       "      <th>movieId</th>\n",
       "      <th>rating</th>\n",
       "      <th>timestamp</th>\n",
       "      <th>user_id_new</th>\n",
       "      <th>movie_id_new</th>\n",
       "    </tr>\n",
       "  </thead>\n",
       "  <tbody>\n",
       "    <tr>\n",
       "      <th>0</th>\n",
       "      <td>1</td>\n",
       "      <td>1</td>\n",
       "      <td>4.0</td>\n",
       "      <td>964982703</td>\n",
       "      <td>1</td>\n",
       "      <td>1</td>\n",
       "    </tr>\n",
       "    <tr>\n",
       "      <th>1</th>\n",
       "      <td>112</td>\n",
       "      <td>1</td>\n",
       "      <td>3.0</td>\n",
       "      <td>1442535639</td>\n",
       "      <td>112</td>\n",
       "      <td>1</td>\n",
       "    </tr>\n",
       "    <tr>\n",
       "      <th>2</th>\n",
       "      <td>448</td>\n",
       "      <td>1</td>\n",
       "      <td>5.0</td>\n",
       "      <td>1019126661</td>\n",
       "      <td>448</td>\n",
       "      <td>1</td>\n",
       "    </tr>\n",
       "    <tr>\n",
       "      <th>3</th>\n",
       "      <td>451</td>\n",
       "      <td>1</td>\n",
       "      <td>5.0</td>\n",
       "      <td>854089165</td>\n",
       "      <td>451</td>\n",
       "      <td>1</td>\n",
       "    </tr>\n",
       "    <tr>\n",
       "      <th>4</th>\n",
       "      <td>453</td>\n",
       "      <td>1</td>\n",
       "      <td>5.0</td>\n",
       "      <td>1005966797</td>\n",
       "      <td>453</td>\n",
       "      <td>1</td>\n",
       "    </tr>\n",
       "    <tr>\n",
       "      <th>...</th>\n",
       "      <td>...</td>\n",
       "      <td>...</td>\n",
       "      <td>...</td>\n",
       "      <td>...</td>\n",
       "      <td>...</td>\n",
       "      <td>...</td>\n",
       "    </tr>\n",
       "    <tr>\n",
       "      <th>100831</th>\n",
       "      <td>184</td>\n",
       "      <td>193581</td>\n",
       "      <td>4.0</td>\n",
       "      <td>1537109082</td>\n",
       "      <td>184</td>\n",
       "      <td>9720</td>\n",
       "    </tr>\n",
       "    <tr>\n",
       "      <th>100832</th>\n",
       "      <td>184</td>\n",
       "      <td>193583</td>\n",
       "      <td>3.5</td>\n",
       "      <td>1537109545</td>\n",
       "      <td>184</td>\n",
       "      <td>9721</td>\n",
       "    </tr>\n",
       "    <tr>\n",
       "      <th>100833</th>\n",
       "      <td>184</td>\n",
       "      <td>193585</td>\n",
       "      <td>3.5</td>\n",
       "      <td>1537109805</td>\n",
       "      <td>184</td>\n",
       "      <td>9722</td>\n",
       "    </tr>\n",
       "    <tr>\n",
       "      <th>100834</th>\n",
       "      <td>184</td>\n",
       "      <td>193587</td>\n",
       "      <td>3.5</td>\n",
       "      <td>1537110021</td>\n",
       "      <td>184</td>\n",
       "      <td>9723</td>\n",
       "    </tr>\n",
       "    <tr>\n",
       "      <th>100835</th>\n",
       "      <td>331</td>\n",
       "      <td>193609</td>\n",
       "      <td>4.0</td>\n",
       "      <td>1537157606</td>\n",
       "      <td>331</td>\n",
       "      <td>9724</td>\n",
       "    </tr>\n",
       "  </tbody>\n",
       "</table>\n",
       "<p>100836 rows × 6 columns</p>\n",
       "</div>"
      ],
      "text/plain": [
       "        userId  movieId  rating   timestamp  user_id_new  movie_id_new\n",
       "0            1        1     4.0   964982703            1             1\n",
       "1          112        1     3.0  1442535639          112             1\n",
       "2          448        1     5.0  1019126661          448             1\n",
       "3          451        1     5.0   854089165          451             1\n",
       "4          453        1     5.0  1005966797          453             1\n",
       "...        ...      ...     ...         ...          ...           ...\n",
       "100831     184   193581     4.0  1537109082          184          9720\n",
       "100832     184   193583     3.5  1537109545          184          9721\n",
       "100833     184   193585     3.5  1537109805          184          9722\n",
       "100834     184   193587     3.5  1537110021          184          9723\n",
       "100835     331   193609     4.0  1537157606          331          9724\n",
       "\n",
       "[100836 rows x 6 columns]"
      ]
     },
     "execution_count": 17,
     "metadata": {},
     "output_type": "execute_result"
    }
   ],
   "source": [
    "# Los usuarios/películas deberían tener un ID consecutivo, por eso hacemos una transformación\n",
    "\n",
    "pd_ratings2 = pd_ratings.copy()\n",
    "\n",
    "pd_ratings2 = pd_ratings2.sort_values('userId').reset_index(drop=True)\n",
    "pd_ratings2['user_id_new'] = 0\n",
    "cnt = 1\n",
    "pd_ratings2.user_id_new[0] = cnt\n",
    "for i in range(1,len(pd_ratings2)):\n",
    "    if pd_ratings2.userId[i] != pd_ratings2.userId[i-1]:\n",
    "        cnt += 1    \n",
    "    pd_ratings2.user_id_new[i] = cnt\n",
    "    \n",
    "\n",
    "pd_ratings2 = pd_ratings2.sort_values('movieId').reset_index(drop=True)\n",
    "pd_ratings2['movie_id_new'] = 0\n",
    "cnt = 1\n",
    "pd_ratings2.movie_id_new[0] = cnt\n",
    "for i in range(1,len(pd_ratings2)):\n",
    "    if pd_ratings2.movieId[i] != pd_ratings2.movieId[i-1]:\n",
    "        cnt += 1    \n",
    "    pd_ratings2.movie_id_new[i] = cnt\n",
    "        \n",
    "\n",
    "# pd_ratings2 = pd_ratings2[['rating','user_id_new','movie_id_new']]\n",
    "pd_ratings2"
   ]
  },
  {
   "cell_type": "markdown",
   "metadata": {},
   "source": [
    "##### Model"
   ]
  },
  {
   "cell_type": "code",
   "execution_count": 19,
   "metadata": {},
   "outputs": [
    {
     "name": "stdout",
     "output_type": "stream",
     "text": [
      "Model: \"model_1\"\n",
      "__________________________________________________________________________________________________\n",
      "Layer (type)                    Output Shape         Param #     Connected to                     \n",
      "==================================================================================================\n",
      "Movie-Input (InputLayer)        (None, 1)            0                                            \n",
      "__________________________________________________________________________________________________\n",
      "User-Input (InputLayer)         (None, 1)            0                                            \n",
      "__________________________________________________________________________________________________\n",
      "Movie-Embedding (Embedding)     (None, 1, 5)         48715       Movie-Input[0][0]                \n",
      "__________________________________________________________________________________________________\n",
      "User-Embedding (Embedding)      (None, 1, 5)         3055        User-Input[0][0]                 \n",
      "__________________________________________________________________________________________________\n",
      "Flatten-Movies (Flatten)        (None, 5)            0           Movie-Embedding[0][0]            \n",
      "__________________________________________________________________________________________________\n",
      "Flatten-Users (Flatten)         (None, 5)            0           User-Embedding[0][0]             \n",
      "__________________________________________________________________________________________________\n",
      "Dot-Product (Dot)               (None, 1)            0           Flatten-Movies[0][0]             \n",
      "                                                                 Flatten-Users[0][0]              \n",
      "==================================================================================================\n",
      "Total params: 51,770\n",
      "Trainable params: 51,770\n",
      "Non-trainable params: 0\n",
      "__________________________________________________________________________________________________\n"
     ]
    }
   ],
   "source": [
    "from keras.layers import Input, Embedding, Flatten, Dot, Dense\n",
    "from keras.models import Model\n",
    "\n",
    "\n",
    "n_users = 610\n",
    "n_movies = 9742\n",
    "\n",
    "# Embedding Layer: An embedding column takes sparse data as input and returns a lower-dimensional dense vector as output.\n",
    "# Dot Layer: Computes a dot product between samples in two tensors.\n",
    "\n",
    "# Una primera arquitectura para transformar las peliculas\n",
    "movie_input = Input(shape=[1], name=\"Movie-Input\")\n",
    "movie_embedding = Embedding(n_movies+1, 5, name=\"Movie-Embedding\")(movie_input)\n",
    "movie_vec = Flatten(name=\"Flatten-Movies\")(movie_embedding)\n",
    "\n",
    "# Una primera arquitectura para transformar los usuarios\n",
    "user_input = Input(shape=[1], name=\"User-Input\")\n",
    "user_embedding = Embedding(n_users+1, 5, name=\"User-Embedding\")(user_input)\n",
    "user_vec = Flatten(name=\"Flatten-Users\")(user_embedding)\n",
    "\n",
    "# Una capa para juntar ambas arquitecturas\n",
    "prod = Dot(name=\"Dot-Product\", axes=1)([movie_vec, user_vec])\n",
    "model = Model([user_input, movie_input], prod)\n",
    "model.compile('adam', 'mean_squared_error')\n",
    "\n",
    "model.summary()"
   ]
  },
  {
   "cell_type": "code",
   "execution_count": 20,
   "metadata": {},
   "outputs": [],
   "source": [
    "from sklearn.model_selection import train_test_split\n",
    "\n",
    "train, test = train_test_split(pd_ratings2, test_size=0.2, random_state=42)"
   ]
  },
  {
   "cell_type": "code",
   "execution_count": 21,
   "metadata": {
    "scrolled": true
   },
   "outputs": [
    {
     "name": "stdout",
     "output_type": "stream",
     "text": [
      "Epoch 1/20\n",
      "80668/80668 [==============================] - 2s 26us/step - loss: 12.1533\n",
      "Epoch 2/20\n",
      "80668/80668 [==============================] - 2s 24us/step - loss: 5.3206\n",
      "Epoch 3/20\n",
      "80668/80668 [==============================] - 2s 25us/step - loss: 2.7048\n",
      "Epoch 4/20\n",
      "80668/80668 [==============================] - 2s 27us/step - loss: 1.8192\n",
      "Epoch 5/20\n",
      "80668/80668 [==============================] - 2s 27us/step - loss: 1.3930\n",
      "Epoch 6/20\n",
      "80668/80668 [==============================] - 2s 25us/step - loss: 1.1565\n",
      "Epoch 7/20\n",
      "80668/80668 [==============================] - 2s 25us/step - loss: 1.0130\n",
      "Epoch 8/20\n",
      "80668/80668 [==============================] - 2s 26us/step - loss: 0.9186: 0s - loss\n",
      "Epoch 9/20\n",
      "80668/80668 [==============================] - 2s 28us/step - loss: 0.8537\n",
      "Epoch 10/20\n",
      "80668/80668 [==============================] - 2s 26us/step - loss: 0.8068\n",
      "Epoch 11/20\n",
      "80668/80668 [==============================] - 2s 24us/step - loss: 0.7712\n",
      "Epoch 12/20\n",
      "80668/80668 [==============================] - 2s 25us/step - loss: 0.7435\n",
      "Epoch 13/20\n",
      "80668/80668 [==============================] - 2s 26us/step - loss: 0.7211\n",
      "Epoch 14/20\n",
      "80668/80668 [==============================] - 2s 26us/step - loss: 0.7030\n",
      "Epoch 15/20\n",
      "80668/80668 [==============================] - 2s 26us/step - loss: 0.6872\n",
      "Epoch 16/20\n",
      "80668/80668 [==============================] - 2s 26us/step - loss: 0.6744\n",
      "Epoch 17/20\n",
      "80668/80668 [==============================] - 2s 27us/step - loss: 0.6637\n",
      "Epoch 18/20\n",
      "80668/80668 [==============================] - 2s 27us/step - loss: 0.6532\n",
      "Epoch 19/20\n",
      "80668/80668 [==============================] - 2s 27us/step - loss: 0.6437\n",
      "Epoch 20/20\n",
      "80668/80668 [==============================] - 2s 27us/step - loss: 0.6352\n"
     ]
    }
   ],
   "source": [
    "history = model.fit([train.user_id_new, train.movie_id_new], train.rating, epochs=20, verbose=1)"
   ]
  },
  {
   "cell_type": "markdown",
   "metadata": {},
   "source": [
    "##### Hacemos una recomendación"
   ]
  },
  {
   "cell_type": "code",
   "execution_count": 22,
   "metadata": {},
   "outputs": [
    {
     "data": {
      "text/plain": [
       "array([[ 3.8443794 ],\n",
       "       [ 3.45454   ],\n",
       "       [ 3.1357245 ],\n",
       "       ...,\n",
       "       [ 3.1254308 ],\n",
       "       [ 3.3249764 ],\n",
       "       [-0.10760764]], dtype=float32)"
      ]
     },
     "execution_count": 22,
     "metadata": {},
     "output_type": "execute_result"
    }
   ],
   "source": [
    "numero_de_usuario = 2\n",
    "movie_data = np.array(list(set(pd_ratings2.movie_id_new)))\n",
    "user = np.array([numero_de_usuario for i in range(len(movie_data))]) \n",
    "\n",
    "predictions = model.predict([user, movie_data])\n",
    "predictions"
   ]
  },
  {
   "cell_type": "code",
   "execution_count": 23,
   "metadata": {},
   "outputs": [],
   "source": [
    "pd_predictions = pd.DataFrame(predictions,columns=['score'])\n",
    "pd_predictions['movie_id_new'] = range(len(pd_predictions))\n",
    "\n",
    "pd_predictions = pd.merge(pd_predictions, pd_ratings2, on='movie_id_new')\n",
    "pd_predictions = pd.merge(pd_predictions, pd_movies, on='movieId')\n",
    "pd_predictions = pd_predictions[['score', 'title']].drop_duplicates()\n",
    "pd_predictions = pd_predictions.sort_values(by='score', ascending=False)"
   ]
  },
  {
   "cell_type": "code",
   "execution_count": 24,
   "metadata": {},
   "outputs": [
    {
     "data": {
      "text/html": [
       "<div>\n",
       "<style scoped>\n",
       "    .dataframe tbody tr th:only-of-type {\n",
       "        vertical-align: middle;\n",
       "    }\n",
       "\n",
       "    .dataframe tbody tr th {\n",
       "        vertical-align: top;\n",
       "    }\n",
       "\n",
       "    .dataframe thead th {\n",
       "        text-align: right;\n",
       "    }\n",
       "</style>\n",
       "<table border=\"1\" class=\"dataframe\">\n",
       "  <thead>\n",
       "    <tr style=\"text-align: right;\">\n",
       "      <th></th>\n",
       "      <th>score</th>\n",
       "      <th>title</th>\n",
       "    </tr>\n",
       "  </thead>\n",
       "  <tbody>\n",
       "    <tr>\n",
       "      <th>76199</th>\n",
       "      <td>5.664088</td>\n",
       "      <td>Johnny Eager (1942)</td>\n",
       "    </tr>\n",
       "    <tr>\n",
       "      <th>78080</th>\n",
       "      <td>5.556177</td>\n",
       "      <td>Gone in 60 Seconds (1974)</td>\n",
       "    </tr>\n",
       "    <tr>\n",
       "      <th>78066</th>\n",
       "      <td>5.375818</td>\n",
       "      <td>They Call Me Trinity (1971)</td>\n",
       "    </tr>\n",
       "    <tr>\n",
       "      <th>2583</th>\n",
       "      <td>5.201447</td>\n",
       "      <td>Mighty Aphrodite (1995)</td>\n",
       "    </tr>\n",
       "    <tr>\n",
       "      <th>78267</th>\n",
       "      <td>5.165329</td>\n",
       "      <td>Visions of Light: The Art of Cinematography (1...</td>\n",
       "    </tr>\n",
       "    <tr>\n",
       "      <th>...</th>\n",
       "      <td>...</td>\n",
       "      <td>...</td>\n",
       "    </tr>\n",
       "    <tr>\n",
       "      <th>66512</th>\n",
       "      <td>-0.240410</td>\n",
       "      <td>Delirious (1991)</td>\n",
       "    </tr>\n",
       "    <tr>\n",
       "      <th>84122</th>\n",
       "      <td>-0.240616</td>\n",
       "      <td>Dam Busters, The (1955)</td>\n",
       "    </tr>\n",
       "    <tr>\n",
       "      <th>92663</th>\n",
       "      <td>-0.247151</td>\n",
       "      <td>Hanna (2011)</td>\n",
       "    </tr>\n",
       "    <tr>\n",
       "      <th>96557</th>\n",
       "      <td>-0.251668</td>\n",
       "      <td>Hunting Elephants (2013)</td>\n",
       "    </tr>\n",
       "    <tr>\n",
       "      <th>83161</th>\n",
       "      <td>-0.291881</td>\n",
       "      <td>Crime Busters (1977)</td>\n",
       "    </tr>\n",
       "  </tbody>\n",
       "</table>\n",
       "<p>9723 rows × 2 columns</p>\n",
       "</div>"
      ],
      "text/plain": [
       "          score                                              title\n",
       "76199  5.664088                                Johnny Eager (1942)\n",
       "78080  5.556177                          Gone in 60 Seconds (1974)\n",
       "78066  5.375818                        They Call Me Trinity (1971)\n",
       "2583   5.201447                            Mighty Aphrodite (1995)\n",
       "78267  5.165329  Visions of Light: The Art of Cinematography (1...\n",
       "...         ...                                                ...\n",
       "66512 -0.240410                                   Delirious (1991)\n",
       "84122 -0.240616                            Dam Busters, The (1955)\n",
       "92663 -0.247151                                       Hanna (2011)\n",
       "96557 -0.251668                           Hunting Elephants (2013)\n",
       "83161 -0.291881                               Crime Busters (1977)\n",
       "\n",
       "[9723 rows x 2 columns]"
      ]
     },
     "execution_count": 24,
     "metadata": {},
     "output_type": "execute_result"
    }
   ],
   "source": [
    "pd_predictions"
   ]
  },
  {
   "cell_type": "markdown",
   "metadata": {},
   "source": [
    "##### Comprobamos la precisión de la red neuronal"
   ]
  },
  {
   "cell_type": "code",
   "execution_count": 25,
   "metadata": {},
   "outputs": [],
   "source": [
    "y_hat = model.predict([pd_ratings2.user_id_new, pd_ratings2.movie_id_new])"
   ]
  },
  {
   "cell_type": "code",
   "execution_count": 26,
   "metadata": {},
   "outputs": [
    {
     "data": {
      "text/html": [
       "<div>\n",
       "<style scoped>\n",
       "    .dataframe tbody tr th:only-of-type {\n",
       "        vertical-align: middle;\n",
       "    }\n",
       "\n",
       "    .dataframe tbody tr th {\n",
       "        vertical-align: top;\n",
       "    }\n",
       "\n",
       "    .dataframe thead th {\n",
       "        text-align: right;\n",
       "    }\n",
       "</style>\n",
       "<table border=\"1\" class=\"dataframe\">\n",
       "  <thead>\n",
       "    <tr style=\"text-align: right;\">\n",
       "      <th></th>\n",
       "      <th>userId</th>\n",
       "      <th>movieId</th>\n",
       "      <th>rating</th>\n",
       "      <th>timestamp</th>\n",
       "      <th>user_id_new</th>\n",
       "      <th>movie_id_new</th>\n",
       "      <th>y_hat</th>\n",
       "    </tr>\n",
       "  </thead>\n",
       "  <tbody>\n",
       "    <tr>\n",
       "      <th>0</th>\n",
       "      <td>1</td>\n",
       "      <td>1</td>\n",
       "      <td>4.0</td>\n",
       "      <td>964982703</td>\n",
       "      <td>1</td>\n",
       "      <td>1</td>\n",
       "      <td>4.726975</td>\n",
       "    </tr>\n",
       "    <tr>\n",
       "      <th>1</th>\n",
       "      <td>112</td>\n",
       "      <td>1</td>\n",
       "      <td>3.0</td>\n",
       "      <td>1442535639</td>\n",
       "      <td>112</td>\n",
       "      <td>1</td>\n",
       "      <td>3.793278</td>\n",
       "    </tr>\n",
       "    <tr>\n",
       "      <th>2</th>\n",
       "      <td>448</td>\n",
       "      <td>1</td>\n",
       "      <td>5.0</td>\n",
       "      <td>1019126661</td>\n",
       "      <td>448</td>\n",
       "      <td>1</td>\n",
       "      <td>3.398350</td>\n",
       "    </tr>\n",
       "    <tr>\n",
       "      <th>3</th>\n",
       "      <td>451</td>\n",
       "      <td>1</td>\n",
       "      <td>5.0</td>\n",
       "      <td>854089165</td>\n",
       "      <td>451</td>\n",
       "      <td>1</td>\n",
       "      <td>4.238129</td>\n",
       "    </tr>\n",
       "    <tr>\n",
       "      <th>4</th>\n",
       "      <td>453</td>\n",
       "      <td>1</td>\n",
       "      <td>5.0</td>\n",
       "      <td>1005966797</td>\n",
       "      <td>453</td>\n",
       "      <td>1</td>\n",
       "      <td>4.320834</td>\n",
       "    </tr>\n",
       "    <tr>\n",
       "      <th>...</th>\n",
       "      <td>...</td>\n",
       "      <td>...</td>\n",
       "      <td>...</td>\n",
       "      <td>...</td>\n",
       "      <td>...</td>\n",
       "      <td>...</td>\n",
       "      <td>...</td>\n",
       "    </tr>\n",
       "    <tr>\n",
       "      <th>100831</th>\n",
       "      <td>184</td>\n",
       "      <td>193581</td>\n",
       "      <td>4.0</td>\n",
       "      <td>1537109082</td>\n",
       "      <td>184</td>\n",
       "      <td>9720</td>\n",
       "      <td>3.870186</td>\n",
       "    </tr>\n",
       "    <tr>\n",
       "      <th>100832</th>\n",
       "      <td>184</td>\n",
       "      <td>193583</td>\n",
       "      <td>3.5</td>\n",
       "      <td>1537109545</td>\n",
       "      <td>184</td>\n",
       "      <td>9721</td>\n",
       "      <td>3.670341</td>\n",
       "    </tr>\n",
       "    <tr>\n",
       "      <th>100833</th>\n",
       "      <td>184</td>\n",
       "      <td>193585</td>\n",
       "      <td>3.5</td>\n",
       "      <td>1537109805</td>\n",
       "      <td>184</td>\n",
       "      <td>9722</td>\n",
       "      <td>3.374825</td>\n",
       "    </tr>\n",
       "    <tr>\n",
       "      <th>100834</th>\n",
       "      <td>184</td>\n",
       "      <td>193587</td>\n",
       "      <td>3.5</td>\n",
       "      <td>1537110021</td>\n",
       "      <td>184</td>\n",
       "      <td>9723</td>\n",
       "      <td>3.583565</td>\n",
       "    </tr>\n",
       "    <tr>\n",
       "      <th>100835</th>\n",
       "      <td>331</td>\n",
       "      <td>193609</td>\n",
       "      <td>4.0</td>\n",
       "      <td>1537157606</td>\n",
       "      <td>331</td>\n",
       "      <td>9724</td>\n",
       "      <td>-0.118226</td>\n",
       "    </tr>\n",
       "  </tbody>\n",
       "</table>\n",
       "<p>100836 rows × 7 columns</p>\n",
       "</div>"
      ],
      "text/plain": [
       "        userId  movieId  rating   timestamp  user_id_new  movie_id_new  \\\n",
       "0            1        1     4.0   964982703            1             1   \n",
       "1          112        1     3.0  1442535639          112             1   \n",
       "2          448        1     5.0  1019126661          448             1   \n",
       "3          451        1     5.0   854089165          451             1   \n",
       "4          453        1     5.0  1005966797          453             1   \n",
       "...        ...      ...     ...         ...          ...           ...   \n",
       "100831     184   193581     4.0  1537109082          184          9720   \n",
       "100832     184   193583     3.5  1537109545          184          9721   \n",
       "100833     184   193585     3.5  1537109805          184          9722   \n",
       "100834     184   193587     3.5  1537110021          184          9723   \n",
       "100835     331   193609     4.0  1537157606          331          9724   \n",
       "\n",
       "           y_hat  \n",
       "0       4.726975  \n",
       "1       3.793278  \n",
       "2       3.398350  \n",
       "3       4.238129  \n",
       "4       4.320834  \n",
       "...          ...  \n",
       "100831  3.870186  \n",
       "100832  3.670341  \n",
       "100833  3.374825  \n",
       "100834  3.583565  \n",
       "100835 -0.118226  \n",
       "\n",
       "[100836 rows x 7 columns]"
      ]
     },
     "execution_count": 26,
     "metadata": {},
     "output_type": "execute_result"
    }
   ],
   "source": [
    "pd_ratings2['y_hat'] = y_hat\n",
    "pd_ratings2"
   ]
  },
  {
   "cell_type": "code",
   "execution_count": 27,
   "metadata": {},
   "outputs": [
    {
     "data": {
      "image/png": "[encoded data removed]",
      "text/plain": [
       "<Figure size 432x288 with 1 Axes>"
      ]
     },
     "metadata": {
      "needs_background": "light"
     },
     "output_type": "display_data"
    }
   ],
   "source": [
    "plt.hist(pd_ratings2.y_hat - pd_ratings2.rating, bins=100)\n",
    "plt.show()"
   ]
  },
  {
   "cell_type": "markdown",
   "metadata": {},
   "source": [
    "### Ejercicio:"
   ]
  },
  {
   "cell_type": "markdown",
   "metadata": {},
   "source": [
    "<div class  = \"alert alert-success\">\n",
    "\n",
    "Con este mismo dataset, realizar un estudio con la precisión del algoritmo cuando el espacio de embeddings aumenta. Así mismo mostrad el error cometido y el tiempo de computación.\n",
    "\n",
    "</div>"
   ]
  },
  {
   "cell_type": "code",
   "execution_count": null,
   "metadata": {},
   "outputs": [],
   "source": []
  },
  {
   "cell_type": "code",
   "execution_count": null,
   "metadata": {},
   "outputs": [],
   "source": []
  },
  {
   "cell_type": "code",
   "execution_count": null,
   "metadata": {},
   "outputs": [],
   "source": []
  },
  {
   "cell_type": "code",
   "execution_count": null,
   "metadata": {},
   "outputs": [],
   "source": []
  }
 ],
 "metadata": {
  "kernelspec": {
   "display_name": "Python 3",
   "language": "python",
   "name": "python3"
  },
  "language_info": {
   "codemirror_mode": {
    "name": "ipython",
    "version": 3
   },
   "file_extension": ".py",
   "mimetype": "text/x-python",
   "name": "python",
   "nbconvert_exporter": "python",
   "pygments_lexer": "ipython3",
   "version": "3.6.9"
  }
 },
 "nbformat": 4,
 "nbformat_minor": 2
}
