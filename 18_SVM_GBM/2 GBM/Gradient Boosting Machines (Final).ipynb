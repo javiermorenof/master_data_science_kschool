{
 "cells": [
  {
   "cell_type": "markdown",
   "metadata": {},
   "source": [
    "<div style=\"font-size: 50px;text-align: center;height:140px;padding:10px;margin:10px 0 0 0;line-height:1.2\">GRADIENT BOOSTING MACHINES</div>"
   ]
  },
  {
   "cell_type": "code",
   "execution_count": 62,
   "metadata": {},
   "outputs": [],
   "source": [
    "import numpy as np\n",
    "import pandas as pd\n",
    "import seaborn as sns\n",
    "import matplotlib.pyplot as plt"
   ]
  },
  {
   "cell_type": "code",
   "execution_count": 63,
   "metadata": {},
   "outputs": [],
   "source": [
    "#Se establece una semilla aleatoria de numpuy\n",
    "np.random.seed(0)\n",
    "\n",
    "#Se establece el tamaño por defecto de las gráficas en pulgadas\n",
    "plt.rcParams[\"figure.figsize\"] = (14, 6)"
   ]
  },
  {
   "cell_type": "markdown",
   "metadata": {},
   "source": [
    "# El dataset \"Breast Cancer\"\n",
    "<div style = \"float:right\"><a style=\"text-decoration:none\" href = \"#inicio\">Inicio</a></div>"
   ]
  },
  {
   "cell_type": "code",
   "execution_count": 64,
   "metadata": {},
   "outputs": [],
   "source": [
    "#Cargamos el dataset\n",
    "from sklearn.datasets import load_breast_cancer"
   ]
  },
  {
   "cell_type": "code",
   "execution_count": 65,
   "metadata": {},
   "outputs": [],
   "source": [
    "data = load_breast_cancer()\n",
    "X = data.data\n",
    "y = data.target"
   ]
  },
  {
   "cell_type": "code",
   "execution_count": 66,
   "metadata": {},
   "outputs": [
    {
     "data": {
      "text/plain": [
       "array([[1.799e+01, 1.038e+01, 1.228e+02, ..., 2.654e-01, 4.601e-01,\n",
       "        1.189e-01],\n",
       "       [2.057e+01, 1.777e+01, 1.329e+02, ..., 1.860e-01, 2.750e-01,\n",
       "        8.902e-02],\n",
       "       [1.969e+01, 2.125e+01, 1.300e+02, ..., 2.430e-01, 3.613e-01,\n",
       "        8.758e-02],\n",
       "       ...,\n",
       "       [1.660e+01, 2.808e+01, 1.083e+02, ..., 1.418e-01, 2.218e-01,\n",
       "        7.820e-02],\n",
       "       [2.060e+01, 2.933e+01, 1.401e+02, ..., 2.650e-01, 4.087e-01,\n",
       "        1.240e-01],\n",
       "       [7.760e+00, 2.454e+01, 4.792e+01, ..., 0.000e+00, 2.871e-01,\n",
       "        7.039e-02]])"
      ]
     },
     "execution_count": 66,
     "metadata": {},
     "output_type": "execute_result"
    }
   ],
   "source": [
    "#X es un array numpy\n",
    "X"
   ]
  },
  {
   "cell_type": "code",
   "execution_count": 67,
   "metadata": {},
   "outputs": [
    {
     "data": {
      "text/plain": [
       "(569, 30)"
      ]
     },
     "execution_count": 67,
     "metadata": {},
     "output_type": "execute_result"
    }
   ],
   "source": [
    "X.shape"
   ]
  },
  {
   "cell_type": "code",
   "execution_count": 68,
   "metadata": {},
   "outputs": [
    {
     "data": {
      "text/plain": [
       "array(['mean radius', 'mean texture', 'mean perimeter', 'mean area',\n",
       "       'mean smoothness', 'mean compactness', 'mean concavity',\n",
       "       'mean concave points', 'mean symmetry', 'mean fractal dimension',\n",
       "       'radius error', 'texture error', 'perimeter error', 'area error',\n",
       "       'smoothness error', 'compactness error', 'concavity error',\n",
       "       'concave points error', 'symmetry error',\n",
       "       'fractal dimension error', 'worst radius', 'worst texture',\n",
       "       'worst perimeter', 'worst area', 'worst smoothness',\n",
       "       'worst compactness', 'worst concavity', 'worst concave points',\n",
       "       'worst symmetry', 'worst fractal dimension'], dtype='<U23')"
      ]
     },
     "execution_count": 68,
     "metadata": {},
     "output_type": "execute_result"
    }
   ],
   "source": [
    "#Los nombres de los datos\n",
    "data.feature_names"
   ]
  },
  {
   "cell_type": "code",
   "execution_count": 69,
   "metadata": {},
   "outputs": [
    {
     "data": {
      "text/plain": [
       "array(['malignant', 'benign'], dtype='<U9')"
      ]
     },
     "execution_count": 69,
     "metadata": {},
     "output_type": "execute_result"
    }
   ],
   "source": [
    "#Los nombres de los target\n",
    "data.target_names"
   ]
  },
  {
   "cell_type": "code",
   "execution_count": 70,
   "metadata": {},
   "outputs": [
    {
     "data": {
      "text/html": [
       "<div>\n",
       "<style scoped>\n",
       "    .dataframe tbody tr th:only-of-type {\n",
       "        vertical-align: middle;\n",
       "    }\n",
       "\n",
       "    .dataframe tbody tr th {\n",
       "        vertical-align: top;\n",
       "    }\n",
       "\n",
       "    .dataframe thead tr th {\n",
       "        text-align: left;\n",
       "    }\n",
       "</style>\n",
       "<table border=\"1\" class=\"dataframe\">\n",
       "  <thead>\n",
       "    <tr>\n",
       "      <th></th>\n",
       "      <th>mean radius</th>\n",
       "      <th>mean texture</th>\n",
       "      <th>mean perimeter</th>\n",
       "      <th>mean area</th>\n",
       "      <th>mean smoothness</th>\n",
       "      <th>mean compactness</th>\n",
       "      <th>mean concavity</th>\n",
       "      <th>mean concave points</th>\n",
       "      <th>mean symmetry</th>\n",
       "      <th>mean fractal dimension</th>\n",
       "      <th>...</th>\n",
       "      <th>worst radius</th>\n",
       "      <th>worst texture</th>\n",
       "      <th>worst perimeter</th>\n",
       "      <th>worst area</th>\n",
       "      <th>worst smoothness</th>\n",
       "      <th>worst compactness</th>\n",
       "      <th>worst concavity</th>\n",
       "      <th>worst concave points</th>\n",
       "      <th>worst symmetry</th>\n",
       "      <th>worst fractal dimension</th>\n",
       "    </tr>\n",
       "  </thead>\n",
       "  <tbody>\n",
       "    <tr>\n",
       "      <th>0</th>\n",
       "      <td>17.99</td>\n",
       "      <td>10.38</td>\n",
       "      <td>122.80</td>\n",
       "      <td>1001.0</td>\n",
       "      <td>0.11840</td>\n",
       "      <td>0.27760</td>\n",
       "      <td>0.30010</td>\n",
       "      <td>0.14710</td>\n",
       "      <td>0.2419</td>\n",
       "      <td>0.07871</td>\n",
       "      <td>...</td>\n",
       "      <td>25.380</td>\n",
       "      <td>17.33</td>\n",
       "      <td>184.60</td>\n",
       "      <td>2019.0</td>\n",
       "      <td>0.16220</td>\n",
       "      <td>0.66560</td>\n",
       "      <td>0.7119</td>\n",
       "      <td>0.2654</td>\n",
       "      <td>0.4601</td>\n",
       "      <td>0.11890</td>\n",
       "    </tr>\n",
       "    <tr>\n",
       "      <th>1</th>\n",
       "      <td>20.57</td>\n",
       "      <td>17.77</td>\n",
       "      <td>132.90</td>\n",
       "      <td>1326.0</td>\n",
       "      <td>0.08474</td>\n",
       "      <td>0.07864</td>\n",
       "      <td>0.08690</td>\n",
       "      <td>0.07017</td>\n",
       "      <td>0.1812</td>\n",
       "      <td>0.05667</td>\n",
       "      <td>...</td>\n",
       "      <td>24.990</td>\n",
       "      <td>23.41</td>\n",
       "      <td>158.80</td>\n",
       "      <td>1956.0</td>\n",
       "      <td>0.12380</td>\n",
       "      <td>0.18660</td>\n",
       "      <td>0.2416</td>\n",
       "      <td>0.1860</td>\n",
       "      <td>0.2750</td>\n",
       "      <td>0.08902</td>\n",
       "    </tr>\n",
       "    <tr>\n",
       "      <th>2</th>\n",
       "      <td>19.69</td>\n",
       "      <td>21.25</td>\n",
       "      <td>130.00</td>\n",
       "      <td>1203.0</td>\n",
       "      <td>0.10960</td>\n",
       "      <td>0.15990</td>\n",
       "      <td>0.19740</td>\n",
       "      <td>0.12790</td>\n",
       "      <td>0.2069</td>\n",
       "      <td>0.05999</td>\n",
       "      <td>...</td>\n",
       "      <td>23.570</td>\n",
       "      <td>25.53</td>\n",
       "      <td>152.50</td>\n",
       "      <td>1709.0</td>\n",
       "      <td>0.14440</td>\n",
       "      <td>0.42450</td>\n",
       "      <td>0.4504</td>\n",
       "      <td>0.2430</td>\n",
       "      <td>0.3613</td>\n",
       "      <td>0.08758</td>\n",
       "    </tr>\n",
       "    <tr>\n",
       "      <th>3</th>\n",
       "      <td>11.42</td>\n",
       "      <td>20.38</td>\n",
       "      <td>77.58</td>\n",
       "      <td>386.1</td>\n",
       "      <td>0.14250</td>\n",
       "      <td>0.28390</td>\n",
       "      <td>0.24140</td>\n",
       "      <td>0.10520</td>\n",
       "      <td>0.2597</td>\n",
       "      <td>0.09744</td>\n",
       "      <td>...</td>\n",
       "      <td>14.910</td>\n",
       "      <td>26.50</td>\n",
       "      <td>98.87</td>\n",
       "      <td>567.7</td>\n",
       "      <td>0.20980</td>\n",
       "      <td>0.86630</td>\n",
       "      <td>0.6869</td>\n",
       "      <td>0.2575</td>\n",
       "      <td>0.6638</td>\n",
       "      <td>0.17300</td>\n",
       "    </tr>\n",
       "    <tr>\n",
       "      <th>4</th>\n",
       "      <td>20.29</td>\n",
       "      <td>14.34</td>\n",
       "      <td>135.10</td>\n",
       "      <td>1297.0</td>\n",
       "      <td>0.10030</td>\n",
       "      <td>0.13280</td>\n",
       "      <td>0.19800</td>\n",
       "      <td>0.10430</td>\n",
       "      <td>0.1809</td>\n",
       "      <td>0.05883</td>\n",
       "      <td>...</td>\n",
       "      <td>22.540</td>\n",
       "      <td>16.67</td>\n",
       "      <td>152.20</td>\n",
       "      <td>1575.0</td>\n",
       "      <td>0.13740</td>\n",
       "      <td>0.20500</td>\n",
       "      <td>0.4000</td>\n",
       "      <td>0.1625</td>\n",
       "      <td>0.2364</td>\n",
       "      <td>0.07678</td>\n",
       "    </tr>\n",
       "    <tr>\n",
       "      <th>...</th>\n",
       "      <td>...</td>\n",
       "      <td>...</td>\n",
       "      <td>...</td>\n",
       "      <td>...</td>\n",
       "      <td>...</td>\n",
       "      <td>...</td>\n",
       "      <td>...</td>\n",
       "      <td>...</td>\n",
       "      <td>...</td>\n",
       "      <td>...</td>\n",
       "      <td>...</td>\n",
       "      <td>...</td>\n",
       "      <td>...</td>\n",
       "      <td>...</td>\n",
       "      <td>...</td>\n",
       "      <td>...</td>\n",
       "      <td>...</td>\n",
       "      <td>...</td>\n",
       "      <td>...</td>\n",
       "      <td>...</td>\n",
       "      <td>...</td>\n",
       "    </tr>\n",
       "    <tr>\n",
       "      <th>564</th>\n",
       "      <td>21.56</td>\n",
       "      <td>22.39</td>\n",
       "      <td>142.00</td>\n",
       "      <td>1479.0</td>\n",
       "      <td>0.11100</td>\n",
       "      <td>0.11590</td>\n",
       "      <td>0.24390</td>\n",
       "      <td>0.13890</td>\n",
       "      <td>0.1726</td>\n",
       "      <td>0.05623</td>\n",
       "      <td>...</td>\n",
       "      <td>25.450</td>\n",
       "      <td>26.40</td>\n",
       "      <td>166.10</td>\n",
       "      <td>2027.0</td>\n",
       "      <td>0.14100</td>\n",
       "      <td>0.21130</td>\n",
       "      <td>0.4107</td>\n",
       "      <td>0.2216</td>\n",
       "      <td>0.2060</td>\n",
       "      <td>0.07115</td>\n",
       "    </tr>\n",
       "    <tr>\n",
       "      <th>565</th>\n",
       "      <td>20.13</td>\n",
       "      <td>28.25</td>\n",
       "      <td>131.20</td>\n",
       "      <td>1261.0</td>\n",
       "      <td>0.09780</td>\n",
       "      <td>0.10340</td>\n",
       "      <td>0.14400</td>\n",
       "      <td>0.09791</td>\n",
       "      <td>0.1752</td>\n",
       "      <td>0.05533</td>\n",
       "      <td>...</td>\n",
       "      <td>23.690</td>\n",
       "      <td>38.25</td>\n",
       "      <td>155.00</td>\n",
       "      <td>1731.0</td>\n",
       "      <td>0.11660</td>\n",
       "      <td>0.19220</td>\n",
       "      <td>0.3215</td>\n",
       "      <td>0.1628</td>\n",
       "      <td>0.2572</td>\n",
       "      <td>0.06637</td>\n",
       "    </tr>\n",
       "    <tr>\n",
       "      <th>566</th>\n",
       "      <td>16.60</td>\n",
       "      <td>28.08</td>\n",
       "      <td>108.30</td>\n",
       "      <td>858.1</td>\n",
       "      <td>0.08455</td>\n",
       "      <td>0.10230</td>\n",
       "      <td>0.09251</td>\n",
       "      <td>0.05302</td>\n",
       "      <td>0.1590</td>\n",
       "      <td>0.05648</td>\n",
       "      <td>...</td>\n",
       "      <td>18.980</td>\n",
       "      <td>34.12</td>\n",
       "      <td>126.70</td>\n",
       "      <td>1124.0</td>\n",
       "      <td>0.11390</td>\n",
       "      <td>0.30940</td>\n",
       "      <td>0.3403</td>\n",
       "      <td>0.1418</td>\n",
       "      <td>0.2218</td>\n",
       "      <td>0.07820</td>\n",
       "    </tr>\n",
       "    <tr>\n",
       "      <th>567</th>\n",
       "      <td>20.60</td>\n",
       "      <td>29.33</td>\n",
       "      <td>140.10</td>\n",
       "      <td>1265.0</td>\n",
       "      <td>0.11780</td>\n",
       "      <td>0.27700</td>\n",
       "      <td>0.35140</td>\n",
       "      <td>0.15200</td>\n",
       "      <td>0.2397</td>\n",
       "      <td>0.07016</td>\n",
       "      <td>...</td>\n",
       "      <td>25.740</td>\n",
       "      <td>39.42</td>\n",
       "      <td>184.60</td>\n",
       "      <td>1821.0</td>\n",
       "      <td>0.16500</td>\n",
       "      <td>0.86810</td>\n",
       "      <td>0.9387</td>\n",
       "      <td>0.2650</td>\n",
       "      <td>0.4087</td>\n",
       "      <td>0.12400</td>\n",
       "    </tr>\n",
       "    <tr>\n",
       "      <th>568</th>\n",
       "      <td>7.76</td>\n",
       "      <td>24.54</td>\n",
       "      <td>47.92</td>\n",
       "      <td>181.0</td>\n",
       "      <td>0.05263</td>\n",
       "      <td>0.04362</td>\n",
       "      <td>0.00000</td>\n",
       "      <td>0.00000</td>\n",
       "      <td>0.1587</td>\n",
       "      <td>0.05884</td>\n",
       "      <td>...</td>\n",
       "      <td>9.456</td>\n",
       "      <td>30.37</td>\n",
       "      <td>59.16</td>\n",
       "      <td>268.6</td>\n",
       "      <td>0.08996</td>\n",
       "      <td>0.06444</td>\n",
       "      <td>0.0000</td>\n",
       "      <td>0.0000</td>\n",
       "      <td>0.2871</td>\n",
       "      <td>0.07039</td>\n",
       "    </tr>\n",
       "  </tbody>\n",
       "</table>\n",
       "<p>569 rows × 30 columns</p>\n",
       "</div>"
      ],
      "text/plain": [
       "    mean radius mean texture mean perimeter mean area mean smoothness  \\\n",
       "0         17.99        10.38         122.80    1001.0         0.11840   \n",
       "1         20.57        17.77         132.90    1326.0         0.08474   \n",
       "2         19.69        21.25         130.00    1203.0         0.10960   \n",
       "3         11.42        20.38          77.58     386.1         0.14250   \n",
       "4         20.29        14.34         135.10    1297.0         0.10030   \n",
       "..          ...          ...            ...       ...             ...   \n",
       "564       21.56        22.39         142.00    1479.0         0.11100   \n",
       "565       20.13        28.25         131.20    1261.0         0.09780   \n",
       "566       16.60        28.08         108.30     858.1         0.08455   \n",
       "567       20.60        29.33         140.10    1265.0         0.11780   \n",
       "568        7.76        24.54          47.92     181.0         0.05263   \n",
       "\n",
       "    mean compactness mean concavity mean concave points mean symmetry  \\\n",
       "0            0.27760        0.30010             0.14710        0.2419   \n",
       "1            0.07864        0.08690             0.07017        0.1812   \n",
       "2            0.15990        0.19740             0.12790        0.2069   \n",
       "3            0.28390        0.24140             0.10520        0.2597   \n",
       "4            0.13280        0.19800             0.10430        0.1809   \n",
       "..               ...            ...                 ...           ...   \n",
       "564          0.11590        0.24390             0.13890        0.1726   \n",
       "565          0.10340        0.14400             0.09791        0.1752   \n",
       "566          0.10230        0.09251             0.05302        0.1590   \n",
       "567          0.27700        0.35140             0.15200        0.2397   \n",
       "568          0.04362        0.00000             0.00000        0.1587   \n",
       "\n",
       "    mean fractal dimension  ... worst radius worst texture worst perimeter  \\\n",
       "0                  0.07871  ...       25.380         17.33          184.60   \n",
       "1                  0.05667  ...       24.990         23.41          158.80   \n",
       "2                  0.05999  ...       23.570         25.53          152.50   \n",
       "3                  0.09744  ...       14.910         26.50           98.87   \n",
       "4                  0.05883  ...       22.540         16.67          152.20   \n",
       "..                     ...  ...          ...           ...             ...   \n",
       "564                0.05623  ...       25.450         26.40          166.10   \n",
       "565                0.05533  ...       23.690         38.25          155.00   \n",
       "566                0.05648  ...       18.980         34.12          126.70   \n",
       "567                0.07016  ...       25.740         39.42          184.60   \n",
       "568                0.05884  ...        9.456         30.37           59.16   \n",
       "\n",
       "    worst area worst smoothness worst compactness worst concavity  \\\n",
       "0       2019.0          0.16220           0.66560          0.7119   \n",
       "1       1956.0          0.12380           0.18660          0.2416   \n",
       "2       1709.0          0.14440           0.42450          0.4504   \n",
       "3        567.7          0.20980           0.86630          0.6869   \n",
       "4       1575.0          0.13740           0.20500          0.4000   \n",
       "..         ...              ...               ...             ...   \n",
       "564     2027.0          0.14100           0.21130          0.4107   \n",
       "565     1731.0          0.11660           0.19220          0.3215   \n",
       "566     1124.0          0.11390           0.30940          0.3403   \n",
       "567     1821.0          0.16500           0.86810          0.9387   \n",
       "568      268.6          0.08996           0.06444          0.0000   \n",
       "\n",
       "    worst concave points worst symmetry worst fractal dimension  \n",
       "0                 0.2654         0.4601                 0.11890  \n",
       "1                 0.1860         0.2750                 0.08902  \n",
       "2                 0.2430         0.3613                 0.08758  \n",
       "3                 0.2575         0.6638                 0.17300  \n",
       "4                 0.1625         0.2364                 0.07678  \n",
       "..                   ...            ...                     ...  \n",
       "564               0.2216         0.2060                 0.07115  \n",
       "565               0.1628         0.2572                 0.06637  \n",
       "566               0.1418         0.2218                 0.07820  \n",
       "567               0.2650         0.4087                 0.12400  \n",
       "568               0.0000         0.2871                 0.07039  \n",
       "\n",
       "[569 rows x 30 columns]"
      ]
     },
     "execution_count": 70,
     "metadata": {},
     "output_type": "execute_result"
    }
   ],
   "source": [
    "#Podemos verlo mejor en un Pandas DataFrame\n",
    "pd.DataFrame(X, columns=[data.feature_names])"
   ]
  },
  {
   "cell_type": "markdown",
   "metadata": {},
   "source": [
    "### DecisionTreeClassifier y Breast Cancer\n",
    "<div style = \"float:right\"><a style=\"text-decoration:none\" href = \"#inicio\">Inicio</a></div>"
   ]
  },
  {
   "cell_type": "markdown",
   "metadata": {},
   "source": [
    "Como referencia vamos a establecer la precisión que nos da un árbol de decisión"
   ]
  },
  {
   "cell_type": "markdown",
   "metadata": {},
   "source": [
    "https://scikit-learn.org/stable/modules/generated/sklearn.tree.DecisionTreeClassifier.html"
   ]
  },
  {
   "cell_type": "markdown",
   "metadata": {},
   "source": [
    "Los resultados de Gini y entropía son muy parecidos. La ventaja de Gini es que es ligerísimamente más rápido, ya que entropía implica realizar logaritmos."
   ]
  },
  {
   "cell_type": "code",
   "execution_count": 71,
   "metadata": {},
   "outputs": [],
   "source": [
    "from sklearn.model_selection import cross_val_score\n",
    "from sklearn.tree import DecisionTreeClassifier"
   ]
  },
  {
   "cell_type": "code",
   "execution_count": 72,
   "metadata": {},
   "outputs": [
    {
     "data": {
      "text/plain": [
       "0.912208322530464"
      ]
     },
     "execution_count": 72,
     "metadata": {},
     "output_type": "execute_result"
    }
   ],
   "source": [
    "#Hacemos una primera aproximación sin parametrizar y vemos que tiene una precisión del 91% con un cross validation model\n",
    "model =  DecisionTreeClassifier()\n",
    "\n",
    "#Con cv=10 le indicamos que queremos que cree 10 folds de validación cruzada\n",
    "cross_val_score(model, X, y, cv=10).mean()"
   ]
  },
  {
   "cell_type": "markdown",
   "metadata": {},
   "source": [
    "Usando un modelo de CROSS-VALIDATION y GRIDSEARCHCV y RANDOMIZEDSEARCHCV podemos buscar el mejor modelo.\n",
    "La accuracy se utiliza como medida estándar para evaluar los modelos de clasificación (cross_val_score)"
   ]
  },
  {
   "cell_type": "code",
   "execution_count": 73,
   "metadata": {},
   "outputs": [
    {
     "data": {
      "text/plain": [
       "0.9599516031457955"
      ]
     },
     "execution_count": 73,
     "metadata": {},
     "output_type": "execute_result"
    }
   ],
   "source": [
    "#Seleccionamos hiperparámetros. Los hiperparámetros son parámetros arbitrarios que decido yo, no se va decidiendo en el árbol\n",
    "#Los hiperparámetros al ser decididos por el que crea el modelo, deben contrastarse con otros hiperparámetros.\n",
    "#Por ejemplo marcamos un max_depth o max_features\n",
    "#Esto se puede hacer con bucles buscando cuál clasifica mejor con validación cruzada para evitar el overfitting.\n",
    "#Otra opción en vez de usar un bucle es usando GridSearchCV y RandomizedSearchCV de Scikit-Learn\n",
    "model = DecisionTreeClassifier(\n",
    "    max_depth = 40,\n",
    "    max_features = 14,\n",
    "    max_leaf_nodes = 44,\n",
    "    min_samples_leaf = 7,\n",
    "    min_samples_split = 9,\n",
    "    min_weight_fraction_leaf = 0.01,\n",
    "    random_state = 0\n",
    ")\n",
    "cross_val_score(model, X, y, cv = 10).mean()"
   ]
  },
  {
   "cell_type": "code",
   "execution_count": 99,
   "metadata": {},
   "outputs": [
    {
     "ename": "ImportError",
     "evalue": "cannot import name 'plot_tree' from 'sklearn.tree' (/home/dsc/anaconda3/lib/python3.7/site-packages/sklearn/tree/__init__.py)",
     "output_type": "error",
     "traceback": [
      "\u001b[0;31m---------------------------------------------------------------------------\u001b[0m",
      "\u001b[0;31mImportError\u001b[0m                               Traceback (most recent call last)",
      "\u001b[0;32m<ipython-input-99-6ed33ba498d9>\u001b[0m in \u001b[0;36m<module>\u001b[0;34m\u001b[0m\n\u001b[0;32m----> 1\u001b[0;31m \u001b[0;32mfrom\u001b[0m \u001b[0msklearn\u001b[0m\u001b[0;34m.\u001b[0m\u001b[0mtree\u001b[0m \u001b[0;32mimport\u001b[0m \u001b[0mplot_tree\u001b[0m\u001b[0;34m\u001b[0m\u001b[0;34m\u001b[0m\u001b[0m\n\u001b[0m",
      "\u001b[0;31mImportError\u001b[0m: cannot import name 'plot_tree' from 'sklearn.tree' (/home/dsc/anaconda3/lib/python3.7/site-packages/sklearn/tree/__init__.py)"
     ]
    }
   ],
   "source": [
    "from sklearn.tree import plot_tree"
   ]
  },
  {
   "cell_type": "code",
   "execution_count": 96,
   "metadata": {
    "scrolled": false
   },
   "outputs": [
    {
     "ename": "NameError",
     "evalue": "name 'plot_tree' is not defined",
     "output_type": "error",
     "traceback": [
      "\u001b[0;31m---------------------------------------------------------------------------\u001b[0m",
      "\u001b[0;31mNameError\u001b[0m                                 Traceback (most recent call last)",
      "\u001b[0;32m<ipython-input-96-42ae59e23b4b>\u001b[0m in \u001b[0;36m<module>\u001b[0;34m\u001b[0m\n\u001b[1;32m      2\u001b[0m \u001b[0mmodel\u001b[0m\u001b[0;34m.\u001b[0m\u001b[0mfit\u001b[0m\u001b[0;34m(\u001b[0m\u001b[0mX\u001b[0m\u001b[0;34m,\u001b[0m \u001b[0my\u001b[0m\u001b[0;34m)\u001b[0m\u001b[0;34m\u001b[0m\u001b[0;34m\u001b[0m\u001b[0m\n\u001b[1;32m      3\u001b[0m \u001b[0mplt\u001b[0m\u001b[0;34m.\u001b[0m\u001b[0mfigure\u001b[0m\u001b[0;34m(\u001b[0m\u001b[0mfigsize\u001b[0m \u001b[0;34m=\u001b[0m \u001b[0;34m(\u001b[0m\u001b[0;36m16\u001b[0m\u001b[0;34m,\u001b[0m \u001b[0;36m12\u001b[0m\u001b[0;34m)\u001b[0m\u001b[0;34m)\u001b[0m\u001b[0;34m\u001b[0m\u001b[0;34m\u001b[0m\u001b[0m\n\u001b[0;32m----> 4\u001b[0;31m \u001b[0m_\u001b[0m \u001b[0;34m=\u001b[0m \u001b[0mplot_tree\u001b[0m\u001b[0;34m(\u001b[0m\u001b[0mmodel\u001b[0m\u001b[0;34m,\u001b[0m \u001b[0mfilled\u001b[0m \u001b[0;34m=\u001b[0m \u001b[0;32mTrue\u001b[0m\u001b[0;34m,\u001b[0m \u001b[0mfeature_names\u001b[0m \u001b[0;34m=\u001b[0m \u001b[0mdata\u001b[0m\u001b[0;34m.\u001b[0m\u001b[0mfeature_names\u001b[0m\u001b[0;34m,\u001b[0m \u001b[0mfontsize\u001b[0m \u001b[0;34m=\u001b[0m \u001b[0;36m12\u001b[0m\u001b[0;34m)\u001b[0m\u001b[0;34m\u001b[0m\u001b[0;34m\u001b[0m\u001b[0m\n\u001b[0m",
      "\u001b[0;31mNameError\u001b[0m: name 'plot_tree' is not defined"
     ]
    },
    {
     "data": {
      "text/plain": [
       "<Figure size 1152x864 with 0 Axes>"
      ]
     },
     "metadata": {},
     "output_type": "display_data"
    }
   ],
   "source": [
    "plt.style.use(\"seaborn-dark\")\n",
    "model.fit(X, y)\n",
    "plt.figure(figsize = (16, 12))\n",
    "_ = plot_tree(model, filled = True, feature_names = data.feature_names, fontsize = 12)"
   ]
  },
  {
   "cell_type": "markdown",
   "metadata": {},
   "source": [
    "### RandomForestClassifier y Breast Cancer\n",
    "<div style = \"float:right\"><a style=\"text-decoration:none\" href = \"#inicio\">Inicio</a></div>"
   ]
  },
  {
   "cell_type": "markdown",
   "metadata": {},
   "source": [
    "https://scikit-learn.org/stable/modules/generated/sklearn.ensemble.RandomForestClassifier.html"
   ]
  },
  {
   "cell_type": "markdown",
   "metadata": {},
   "source": [
    "Ahora hacemos un RandomForestClassifier"
   ]
  },
  {
   "cell_type": "code",
   "execution_count": 76,
   "metadata": {},
   "outputs": [
    {
     "name": "stderr",
     "output_type": "stream",
     "text": [
      "/home/dsc/anaconda3/lib/python3.7/site-packages/sklearn/ensemble/forest.py:246: FutureWarning: The default value of n_estimators will change from 10 in version 0.20 to 100 in 0.22.\n",
      "  \"10 in version 0.20 to 100 in 0.22.\", FutureWarning)\n",
      "/home/dsc/anaconda3/lib/python3.7/site-packages/sklearn/ensemble/forest.py:246: FutureWarning: The default value of n_estimators will change from 10 in version 0.20 to 100 in 0.22.\n",
      "  \"10 in version 0.20 to 100 in 0.22.\", FutureWarning)\n",
      "/home/dsc/anaconda3/lib/python3.7/site-packages/sklearn/ensemble/forest.py:246: FutureWarning: The default value of n_estimators will change from 10 in version 0.20 to 100 in 0.22.\n",
      "  \"10 in version 0.20 to 100 in 0.22.\", FutureWarning)\n",
      "/home/dsc/anaconda3/lib/python3.7/site-packages/sklearn/ensemble/forest.py:246: FutureWarning: The default value of n_estimators will change from 10 in version 0.20 to 100 in 0.22.\n",
      "  \"10 in version 0.20 to 100 in 0.22.\", FutureWarning)\n",
      "/home/dsc/anaconda3/lib/python3.7/site-packages/sklearn/ensemble/forest.py:246: FutureWarning: The default value of n_estimators will change from 10 in version 0.20 to 100 in 0.22.\n",
      "  \"10 in version 0.20 to 100 in 0.22.\", FutureWarning)\n",
      "/home/dsc/anaconda3/lib/python3.7/site-packages/sklearn/ensemble/forest.py:246: FutureWarning: The default value of n_estimators will change from 10 in version 0.20 to 100 in 0.22.\n",
      "  \"10 in version 0.20 to 100 in 0.22.\", FutureWarning)\n",
      "/home/dsc/anaconda3/lib/python3.7/site-packages/sklearn/ensemble/forest.py:246: FutureWarning: The default value of n_estimators will change from 10 in version 0.20 to 100 in 0.22.\n",
      "  \"10 in version 0.20 to 100 in 0.22.\", FutureWarning)\n",
      "/home/dsc/anaconda3/lib/python3.7/site-packages/sklearn/ensemble/forest.py:246: FutureWarning: The default value of n_estimators will change from 10 in version 0.20 to 100 in 0.22.\n",
      "  \"10 in version 0.20 to 100 in 0.22.\", FutureWarning)\n",
      "/home/dsc/anaconda3/lib/python3.7/site-packages/sklearn/ensemble/forest.py:246: FutureWarning: The default value of n_estimators will change from 10 in version 0.20 to 100 in 0.22.\n",
      "  \"10 in version 0.20 to 100 in 0.22.\", FutureWarning)\n",
      "/home/dsc/anaconda3/lib/python3.7/site-packages/sklearn/ensemble/forest.py:246: FutureWarning: The default value of n_estimators will change from 10 in version 0.20 to 100 in 0.22.\n",
      "  \"10 in version 0.20 to 100 in 0.22.\", FutureWarning)\n"
     ]
    },
    {
     "data": {
      "text/plain": [
       "0.9580114078299194"
      ]
     },
     "execution_count": 76,
     "metadata": {},
     "output_type": "execute_result"
    }
   ],
   "source": [
    "#Hacemos una primera aproximación sin parametrizar y vemos que tiene una precisión del 91% con un cross validation model\n",
    "model =  RandomForestClassifier()\n",
    "\n",
    "#Con cv=10 le indicamos que queremos que cree 10 folds de validación cruzada\n",
    "cross_val_score(model, X, y, cv=10).mean()"
   ]
  },
  {
   "cell_type": "code",
   "execution_count": 77,
   "metadata": {},
   "outputs": [],
   "source": [
    "from sklearn.ensemble import RandomForestClassifier"
   ]
  },
  {
   "cell_type": "code",
   "execution_count": 78,
   "metadata": {},
   "outputs": [],
   "source": [
    "model = RandomForestClassifier(\n",
    "    max_depth = 27,\n",
    "    max_features = 2,\n",
    "    max_leaf_nodes = 27,\n",
    "    min_samples_leaf = 1,\n",
    "    min_samples_split = 8,\n",
    "    min_weight_fraction_leaf = 0.02,\n",
    "    n_estimators = 60,\n",
    "    random_state = 0\n",
    ")"
   ]
  },
  {
   "cell_type": "code",
   "execution_count": 79,
   "metadata": {},
   "outputs": [
    {
     "data": {
      "text/plain": [
       "0.9632756460115806"
      ]
     },
     "execution_count": 79,
     "metadata": {},
     "output_type": "execute_result"
    }
   ],
   "source": [
    "cross_val_score(model, X, y, cv = 10).mean()"
   ]
  },
  {
   "cell_type": "markdown",
   "metadata": {},
   "source": [
    "# AdaBoost\n",
    "<div style = \"float:right\"><a style=\"text-decoration:none\" href = \"#inicio\">Inicio</a></div>\n",
    "\n",
    "Es el primer algoritmo de boosting que vamos a ver. El boosting tiene como objetivo agrupar week learners para crear un strong learner.\n",
    "Crea en serie los learners (uno detrás de otro) y decide con qué muestras ha hecho un buen trabajo y cuáles no. Lo que hace el boosting es dar más peso a las muestras mal clasificadas  por el aprendiz anterior para aprender de los errores.\n",
    "\n",
    "Para ello suma el error total de los pesos que han sido mal clasificados y establece un peso del aprendiz para ese modelo predictivo (ver pptx)\n",
    "\n",
    "Lo siguiente es modificar el peso de las muestras que han sido bien clasificadas (reduciendo su peso) y modificar el peso de las muestras mal clasificadas (aumentando su peso). EN este cálculo se tiene en cuenta el peso del aprendiz porque parte de la idea de que si el aprendiz es muy bueno (mucha precisión) y la muestra está mal clasificada, podemos estar seguros de que esa muestra es seguro que está mal clasificada porque el modelo es bueno. La idea es que el nuevo aprendiz genere más muestras por bootstrap (de modo aleatorio y con repetición) de los números que tienen más peso porque son más probables de ser seleccionados.\n",
    "\n",
    "Después, cada uno de los aprendices generados opina para clasificar, pero no es como random forest y cada uno tiene un peso.\n",
    "\n",
    "AdaBoost viene de adaptative boosting.\n",
    "\n",
    "**Ventajas de AdaBoost**:\n",
    "- Fácil de entrenar.\n",
    "- Acepta diferentes tipos de aprendices: acepta random forest pero otros algoritmos.\n",
    "- No tienden al sobreentrenamiento, al contrario que el árbol de decisión. Por eso cuando usamos AdaBoost en árboles de decisión indicamos un max_depth.\n",
    "\n",
    "**Desventajas**:\n",
    "- Sensible al ruido y los outliers\n",
    "- Más lento que otros algoritmos de boostinG"
   ]
  },
  {
   "cell_type": "markdown",
   "metadata": {},
   "source": [
    "### AdaBoost y Breast Cancer\n",
    "<div style = \"float:right\"><a style=\"text-decoration:none\" href = \"#inicio\">Inicio</a></div>"
   ]
  },
  {
   "cell_type": "code",
   "execution_count": 80,
   "metadata": {},
   "outputs": [],
   "source": [
    "from sklearn.ensemble import AdaBoostClassifier"
   ]
  },
  {
   "cell_type": "code",
   "execution_count": 81,
   "metadata": {},
   "outputs": [
    {
     "data": {
      "text/plain": [
       "0.9596123930515945"
      ]
     },
     "execution_count": 81,
     "metadata": {},
     "output_type": "execute_result"
    }
   ],
   "source": [
    "model =  AdaBoostClassifier()\n",
    "cross_val_score(model, X, y, cv=10).mean()"
   ]
  },
  {
   "cell_type": "code",
   "execution_count": 82,
   "metadata": {},
   "outputs": [],
   "source": [
    "base_estimator = DecisionTreeClassifier(\n",
    "    min_weight_fraction_leaf = 0.24,\n",
    "    min_samples_split = 13,\n",
    "    min_samples_leaf = 10,\n",
    "    max_leaf_nodes = 85,\n",
    "    max_features = 10,\n",
    "    max_depth = 36,\n",
    "    random_state = 0\n",
    ")\n",
    "\n",
    "#n_estimators es el número de aprendices que se van a generar\n",
    "#El learning rate. El paper original de AdaBoost no contemplaba ningún learning rate. Este parámetro no está claro en la documentación oficial\n",
    "#A medida que nos desplazamos por los learners, el peso relativo de cada uno de los aprendices se ve reducido por el learning rate, de manera que damos\n",
    "#más peso a los primeros learners y menos a los últimos\n",
    "model = AdaBoostClassifier(\n",
    "    base_estimator = base_estimator,\n",
    "    n_estimators = 281,\n",
    "    learning_rate = 0.85,\n",
    "    #SAMME es porque hay muchas implementaciones de AdaBoost. De estas implementaciones sklearn contempla SAMME y SAMME.R\n",
    "    algorithm = \"SAMME\",\n",
    "    random_state = 0\n",
    ")"
   ]
  },
  {
   "cell_type": "code",
   "execution_count": 83,
   "metadata": {},
   "outputs": [
    {
     "data": {
      "text/plain": [
       "0.984208365741941"
      ]
     },
     "execution_count": 83,
     "metadata": {},
     "output_type": "execute_result"
    }
   ],
   "source": [
    "cross_val_score(model, X, y, cv = 10).mean()"
   ]
  },
  {
   "cell_type": "markdown",
   "metadata": {},
   "source": [
    "### Parámetros de AdaBoostClassifier\n",
    "<div style = \"float:right\"><a style=\"text-decoration:none\" href = \"#inicio\">Inicio</a></div>"
   ]
  },
  {
   "cell_type": "markdown",
   "metadata": {},
   "source": [
    "https://scikit-learn.org/stable/modules/generated/sklearn.ensemble.AdaBoostClassifier.html"
   ]
  },
  {
   "cell_type": "markdown",
   "metadata": {},
   "source": [
    "#### base_estimator"
   ]
  },
  {
   "cell_type": "code",
   "execution_count": 85,
   "metadata": {},
   "outputs": [
    {
     "data": {
      "text/plain": [
       "DecisionTreeClassifier(class_weight=None, criterion='gini', max_depth=36,\n",
       "            max_features=10, max_leaf_nodes=85, min_impurity_decrease=0.0,\n",
       "            min_impurity_split=None, min_samples_leaf=10,\n",
       "            min_samples_split=13, min_weight_fraction_leaf=0.24,\n",
       "            presort=False, random_state=0, splitter='best')"
      ]
     },
     "execution_count": 85,
     "metadata": {},
     "output_type": "execute_result"
    }
   ],
   "source": [
    "model.base_estimator_"
   ]
  },
  {
   "cell_type": "markdown",
   "metadata": {},
   "source": [
    "#### n_estimators"
   ]
  },
  {
   "cell_type": "code",
   "execution_count": 90,
   "metadata": {},
   "outputs": [
    {
     "data": {
      "text/plain": [
       "281"
      ]
     },
     "execution_count": 90,
     "metadata": {},
     "output_type": "execute_result"
    }
   ],
   "source": [
    "#Nos muestra los 281 árboles que dijimos qu tenía que tener el modelo como máximo\n",
    "len(model.estimators_)"
   ]
  },
  {
   "cell_type": "code",
   "execution_count": 91,
   "metadata": {},
   "outputs": [
    {
     "data": {
      "text/plain": [
       "[DecisionTreeClassifier(class_weight=None, criterion='gini', max_depth=36,\n",
       "             max_features=10, max_leaf_nodes=85, min_impurity_decrease=0.0,\n",
       "             min_impurity_split=None, min_samples_leaf=10,\n",
       "             min_samples_split=13, min_weight_fraction_leaf=0.24,\n",
       "             presort=False, random_state=209652396, splitter='best'),\n",
       " DecisionTreeClassifier(class_weight=None, criterion='gini', max_depth=36,\n",
       "             max_features=10, max_leaf_nodes=85, min_impurity_decrease=0.0,\n",
       "             min_impurity_split=None, min_samples_leaf=10,\n",
       "             min_samples_split=13, min_weight_fraction_leaf=0.24,\n",
       "             presort=False, random_state=398764591, splitter='best'),\n",
       " DecisionTreeClassifier(class_weight=None, criterion='gini', max_depth=36,\n",
       "             max_features=10, max_leaf_nodes=85, min_impurity_decrease=0.0,\n",
       "             min_impurity_split=None, min_samples_leaf=10,\n",
       "             min_samples_split=13, min_weight_fraction_leaf=0.24,\n",
       "             presort=False, random_state=924231285, splitter='best'),\n",
       " DecisionTreeClassifier(class_weight=None, criterion='gini', max_depth=36,\n",
       "             max_features=10, max_leaf_nodes=85, min_impurity_decrease=0.0,\n",
       "             min_impurity_split=None, min_samples_leaf=10,\n",
       "             min_samples_split=13, min_weight_fraction_leaf=0.24,\n",
       "             presort=False, random_state=1478610112, splitter='best'),\n",
       " DecisionTreeClassifier(class_weight=None, criterion='gini', max_depth=36,\n",
       "             max_features=10, max_leaf_nodes=85, min_impurity_decrease=0.0,\n",
       "             min_impurity_split=None, min_samples_leaf=10,\n",
       "             min_samples_split=13, min_weight_fraction_leaf=0.24,\n",
       "             presort=False, random_state=441365315, splitter='best'),\n",
       " DecisionTreeClassifier(class_weight=None, criterion='gini', max_depth=36,\n",
       "             max_features=10, max_leaf_nodes=85, min_impurity_decrease=0.0,\n",
       "             min_impurity_split=None, min_samples_leaf=10,\n",
       "             min_samples_split=13, min_weight_fraction_leaf=0.24,\n",
       "             presort=False, random_state=1537364731, splitter='best'),\n",
       " DecisionTreeClassifier(class_weight=None, criterion='gini', max_depth=36,\n",
       "             max_features=10, max_leaf_nodes=85, min_impurity_decrease=0.0,\n",
       "             min_impurity_split=None, min_samples_leaf=10,\n",
       "             min_samples_split=13, min_weight_fraction_leaf=0.24,\n",
       "             presort=False, random_state=192771779, splitter='best'),\n",
       " DecisionTreeClassifier(class_weight=None, criterion='gini', max_depth=36,\n",
       "             max_features=10, max_leaf_nodes=85, min_impurity_decrease=0.0,\n",
       "             min_impurity_split=None, min_samples_leaf=10,\n",
       "             min_samples_split=13, min_weight_fraction_leaf=0.24,\n",
       "             presort=False, random_state=1491434855, splitter='best'),\n",
       " DecisionTreeClassifier(class_weight=None, criterion='gini', max_depth=36,\n",
       "             max_features=10, max_leaf_nodes=85, min_impurity_decrease=0.0,\n",
       "             min_impurity_split=None, min_samples_leaf=10,\n",
       "             min_samples_split=13, min_weight_fraction_leaf=0.24,\n",
       "             presort=False, random_state=1819583497, splitter='best'),\n",
       " DecisionTreeClassifier(class_weight=None, criterion='gini', max_depth=36,\n",
       "             max_features=10, max_leaf_nodes=85, min_impurity_decrease=0.0,\n",
       "             min_impurity_split=None, min_samples_leaf=10,\n",
       "             min_samples_split=13, min_weight_fraction_leaf=0.24,\n",
       "             presort=False, random_state=530702035, splitter='best'),\n",
       " DecisionTreeClassifier(class_weight=None, criterion='gini', max_depth=36,\n",
       "             max_features=10, max_leaf_nodes=85, min_impurity_decrease=0.0,\n",
       "             min_impurity_split=None, min_samples_leaf=10,\n",
       "             min_samples_split=13, min_weight_fraction_leaf=0.24,\n",
       "             presort=False, random_state=626610453, splitter='best'),\n",
       " DecisionTreeClassifier(class_weight=None, criterion='gini', max_depth=36,\n",
       "             max_features=10, max_leaf_nodes=85, min_impurity_decrease=0.0,\n",
       "             min_impurity_split=None, min_samples_leaf=10,\n",
       "             min_samples_split=13, min_weight_fraction_leaf=0.24,\n",
       "             presort=False, random_state=1650906866, splitter='best'),\n",
       " DecisionTreeClassifier(class_weight=None, criterion='gini', max_depth=36,\n",
       "             max_features=10, max_leaf_nodes=85, min_impurity_decrease=0.0,\n",
       "             min_impurity_split=None, min_samples_leaf=10,\n",
       "             min_samples_split=13, min_weight_fraction_leaf=0.24,\n",
       "             presort=False, random_state=1879422756, splitter='best'),\n",
       " DecisionTreeClassifier(class_weight=None, criterion='gini', max_depth=36,\n",
       "             max_features=10, max_leaf_nodes=85, min_impurity_decrease=0.0,\n",
       "             min_impurity_split=None, min_samples_leaf=10,\n",
       "             min_samples_split=13, min_weight_fraction_leaf=0.24,\n",
       "             presort=False, random_state=1277901399, splitter='best'),\n",
       " DecisionTreeClassifier(class_weight=None, criterion='gini', max_depth=36,\n",
       "             max_features=10, max_leaf_nodes=85, min_impurity_decrease=0.0,\n",
       "             min_impurity_split=None, min_samples_leaf=10,\n",
       "             min_samples_split=13, min_weight_fraction_leaf=0.24,\n",
       "             presort=False, random_state=1682652230, splitter='best'),\n",
       " DecisionTreeClassifier(class_weight=None, criterion='gini', max_depth=36,\n",
       "             max_features=10, max_leaf_nodes=85, min_impurity_decrease=0.0,\n",
       "             min_impurity_split=None, min_samples_leaf=10,\n",
       "             min_samples_split=13, min_weight_fraction_leaf=0.24,\n",
       "             presort=False, random_state=243580376, splitter='best'),\n",
       " DecisionTreeClassifier(class_weight=None, criterion='gini', max_depth=36,\n",
       "             max_features=10, max_leaf_nodes=85, min_impurity_decrease=0.0,\n",
       "             min_impurity_split=None, min_samples_leaf=10,\n",
       "             min_samples_split=13, min_weight_fraction_leaf=0.24,\n",
       "             presort=False, random_state=1991416408, splitter='best'),\n",
       " DecisionTreeClassifier(class_weight=None, criterion='gini', max_depth=36,\n",
       "             max_features=10, max_leaf_nodes=85, min_impurity_decrease=0.0,\n",
       "             min_impurity_split=None, min_samples_leaf=10,\n",
       "             min_samples_split=13, min_weight_fraction_leaf=0.24,\n",
       "             presort=False, random_state=1171049868, splitter='best'),\n",
       " DecisionTreeClassifier(class_weight=None, criterion='gini', max_depth=36,\n",
       "             max_features=10, max_leaf_nodes=85, min_impurity_decrease=0.0,\n",
       "             min_impurity_split=None, min_samples_leaf=10,\n",
       "             min_samples_split=13, min_weight_fraction_leaf=0.24,\n",
       "             presort=False, random_state=1646868794, splitter='best'),\n",
       " DecisionTreeClassifier(class_weight=None, criterion='gini', max_depth=36,\n",
       "             max_features=10, max_leaf_nodes=85, min_impurity_decrease=0.0,\n",
       "             min_impurity_split=None, min_samples_leaf=10,\n",
       "             min_samples_split=13, min_weight_fraction_leaf=0.24,\n",
       "             presort=False, random_state=2051556033, splitter='best'),\n",
       " DecisionTreeClassifier(class_weight=None, criterion='gini', max_depth=36,\n",
       "             max_features=10, max_leaf_nodes=85, min_impurity_decrease=0.0,\n",
       "             min_impurity_split=None, min_samples_leaf=10,\n",
       "             min_samples_split=13, min_weight_fraction_leaf=0.24,\n",
       "             presort=False, random_state=1252949478, splitter='best'),\n",
       " DecisionTreeClassifier(class_weight=None, criterion='gini', max_depth=36,\n",
       "             max_features=10, max_leaf_nodes=85, min_impurity_decrease=0.0,\n",
       "             min_impurity_split=None, min_samples_leaf=10,\n",
       "             min_samples_split=13, min_weight_fraction_leaf=0.24,\n",
       "             presort=False, random_state=1340754471, splitter='best'),\n",
       " DecisionTreeClassifier(class_weight=None, criterion='gini', max_depth=36,\n",
       "             max_features=10, max_leaf_nodes=85, min_impurity_decrease=0.0,\n",
       "             min_impurity_split=None, min_samples_leaf=10,\n",
       "             min_samples_split=13, min_weight_fraction_leaf=0.24,\n",
       "             presort=False, random_state=124102743, splitter='best'),\n",
       " DecisionTreeClassifier(class_weight=None, criterion='gini', max_depth=36,\n",
       "             max_features=10, max_leaf_nodes=85, min_impurity_decrease=0.0,\n",
       "             min_impurity_split=None, min_samples_leaf=10,\n",
       "             min_samples_split=13, min_weight_fraction_leaf=0.24,\n",
       "             presort=False, random_state=2061486254, splitter='best'),\n",
       " DecisionTreeClassifier(class_weight=None, criterion='gini', max_depth=36,\n",
       "             max_features=10, max_leaf_nodes=85, min_impurity_decrease=0.0,\n",
       "             min_impurity_split=None, min_samples_leaf=10,\n",
       "             min_samples_split=13, min_weight_fraction_leaf=0.24,\n",
       "             presort=False, random_state=292249176, splitter='best'),\n",
       " DecisionTreeClassifier(class_weight=None, criterion='gini', max_depth=36,\n",
       "             max_features=10, max_leaf_nodes=85, min_impurity_decrease=0.0,\n",
       "             min_impurity_split=None, min_samples_leaf=10,\n",
       "             min_samples_split=13, min_weight_fraction_leaf=0.24,\n",
       "             presort=False, random_state=1686997841, splitter='best'),\n",
       " DecisionTreeClassifier(class_weight=None, criterion='gini', max_depth=36,\n",
       "             max_features=10, max_leaf_nodes=85, min_impurity_decrease=0.0,\n",
       "             min_impurity_split=None, min_samples_leaf=10,\n",
       "             min_samples_split=13, min_weight_fraction_leaf=0.24,\n",
       "             presort=False, random_state=1827923621, splitter='best'),\n",
       " DecisionTreeClassifier(class_weight=None, criterion='gini', max_depth=36,\n",
       "             max_features=10, max_leaf_nodes=85, min_impurity_decrease=0.0,\n",
       "             min_impurity_split=None, min_samples_leaf=10,\n",
       "             min_samples_split=13, min_weight_fraction_leaf=0.24,\n",
       "             presort=False, random_state=1443447321, splitter='best'),\n",
       " DecisionTreeClassifier(class_weight=None, criterion='gini', max_depth=36,\n",
       "             max_features=10, max_leaf_nodes=85, min_impurity_decrease=0.0,\n",
       "             min_impurity_split=None, min_samples_leaf=10,\n",
       "             min_samples_split=13, min_weight_fraction_leaf=0.24,\n",
       "             presort=False, random_state=305097549, splitter='best'),\n",
       " DecisionTreeClassifier(class_weight=None, criterion='gini', max_depth=36,\n",
       "             max_features=10, max_leaf_nodes=85, min_impurity_decrease=0.0,\n",
       "             min_impurity_split=None, min_samples_leaf=10,\n",
       "             min_samples_split=13, min_weight_fraction_leaf=0.24,\n",
       "             presort=False, random_state=1449105480, splitter='best'),\n",
       " DecisionTreeClassifier(class_weight=None, criterion='gini', max_depth=36,\n",
       "             max_features=10, max_leaf_nodes=85, min_impurity_decrease=0.0,\n",
       "             min_impurity_split=None, min_samples_leaf=10,\n",
       "             min_samples_split=13, min_weight_fraction_leaf=0.24,\n",
       "             presort=False, random_state=374217481, splitter='best'),\n",
       " DecisionTreeClassifier(class_weight=None, criterion='gini', max_depth=36,\n",
       "             max_features=10, max_leaf_nodes=85, min_impurity_decrease=0.0,\n",
       "             min_impurity_split=None, min_samples_leaf=10,\n",
       "             min_samples_split=13, min_weight_fraction_leaf=0.24,\n",
       "             presort=False, random_state=636393364, splitter='best'),\n",
       " DecisionTreeClassifier(class_weight=None, criterion='gini', max_depth=36,\n",
       "             max_features=10, max_leaf_nodes=85, min_impurity_decrease=0.0,\n",
       "             min_impurity_split=None, min_samples_leaf=10,\n",
       "             min_samples_split=13, min_weight_fraction_leaf=0.24,\n",
       "             presort=False, random_state=86837363, splitter='best'),\n",
       " DecisionTreeClassifier(class_weight=None, criterion='gini', max_depth=36,\n",
       "             max_features=10, max_leaf_nodes=85, min_impurity_decrease=0.0,\n",
       "             min_impurity_split=None, min_samples_leaf=10,\n",
       "             min_samples_split=13, min_weight_fraction_leaf=0.24,\n",
       "             presort=False, random_state=1581585360, splitter='best'),\n",
       " DecisionTreeClassifier(class_weight=None, criterion='gini', max_depth=36,\n",
       "             max_features=10, max_leaf_nodes=85, min_impurity_decrease=0.0,\n",
       "             min_impurity_split=None, min_samples_leaf=10,\n",
       "             min_samples_split=13, min_weight_fraction_leaf=0.24,\n",
       "             presort=False, random_state=1428591347, splitter='best'),\n",
       " DecisionTreeClassifier(class_weight=None, criterion='gini', max_depth=36,\n",
       "             max_features=10, max_leaf_nodes=85, min_impurity_decrease=0.0,\n",
       "             min_impurity_split=None, min_samples_leaf=10,\n",
       "             min_samples_split=13, min_weight_fraction_leaf=0.24,\n",
       "             presort=False, random_state=1963466437, splitter='best'),\n",
       " DecisionTreeClassifier(class_weight=None, criterion='gini', max_depth=36,\n",
       "             max_features=10, max_leaf_nodes=85, min_impurity_decrease=0.0,\n",
       "             min_impurity_split=None, min_samples_leaf=10,\n",
       "             min_samples_split=13, min_weight_fraction_leaf=0.24,\n",
       "             presort=False, random_state=1194674174, splitter='best'),\n",
       " DecisionTreeClassifier(class_weight=None, criterion='gini', max_depth=36,\n",
       "             max_features=10, max_leaf_nodes=85, min_impurity_decrease=0.0,\n",
       "             min_impurity_split=None, min_samples_leaf=10,\n",
       "             min_samples_split=13, min_weight_fraction_leaf=0.24,\n",
       "             presort=False, random_state=602801999, splitter='best'),\n",
       " DecisionTreeClassifier(class_weight=None, criterion='gini', max_depth=36,\n",
       "             max_features=10, max_leaf_nodes=85, min_impurity_decrease=0.0,\n",
       "             min_impurity_split=None, min_samples_leaf=10,\n",
       "             min_samples_split=13, min_weight_fraction_leaf=0.24,\n",
       "             presort=False, random_state=1589190063, splitter='best'),\n",
       " DecisionTreeClassifier(class_weight=None, criterion='gini', max_depth=36,\n",
       "             max_features=10, max_leaf_nodes=85, min_impurity_decrease=0.0,\n",
       "             min_impurity_split=None, min_samples_leaf=10,\n",
       "             min_samples_split=13, min_weight_fraction_leaf=0.24,\n",
       "             presort=False, random_state=1589512640, splitter='best'),\n",
       " DecisionTreeClassifier(class_weight=None, criterion='gini', max_depth=36,\n",
       "             max_features=10, max_leaf_nodes=85, min_impurity_decrease=0.0,\n",
       "             min_impurity_split=None, min_samples_leaf=10,\n",
       "             min_samples_split=13, min_weight_fraction_leaf=0.24,\n",
       "             presort=False, random_state=2055650130, splitter='best'),\n",
       " DecisionTreeClassifier(class_weight=None, criterion='gini', max_depth=36,\n",
       "             max_features=10, max_leaf_nodes=85, min_impurity_decrease=0.0,\n",
       "             min_impurity_split=None, min_samples_leaf=10,\n",
       "             min_samples_split=13, min_weight_fraction_leaf=0.24,\n",
       "             presort=False, random_state=2034131043, splitter='best'),\n",
       " DecisionTreeClassifier(class_weight=None, criterion='gini', max_depth=36,\n",
       "             max_features=10, max_leaf_nodes=85, min_impurity_decrease=0.0,\n",
       "             min_impurity_split=None, min_samples_leaf=10,\n",
       "             min_samples_split=13, min_weight_fraction_leaf=0.24,\n",
       "             presort=False, random_state=1284876248, splitter='best'),\n",
       " DecisionTreeClassifier(class_weight=None, criterion='gini', max_depth=36,\n",
       "             max_features=10, max_leaf_nodes=85, min_impurity_decrease=0.0,\n",
       "             min_impurity_split=None, min_samples_leaf=10,\n",
       "             min_samples_split=13, min_weight_fraction_leaf=0.24,\n",
       "             presort=False, random_state=1292401841, splitter='best'),\n",
       " DecisionTreeClassifier(class_weight=None, criterion='gini', max_depth=36,\n",
       "             max_features=10, max_leaf_nodes=85, min_impurity_decrease=0.0,\n",
       "             min_impurity_split=None, min_samples_leaf=10,\n",
       "             min_samples_split=13, min_weight_fraction_leaf=0.24,\n",
       "             presort=False, random_state=1982038771, splitter='best'),\n",
       " DecisionTreeClassifier(class_weight=None, criterion='gini', max_depth=36,\n",
       "             max_features=10, max_leaf_nodes=85, min_impurity_decrease=0.0,\n",
       "             min_impurity_split=None, min_samples_leaf=10,\n",
       "             min_samples_split=13, min_weight_fraction_leaf=0.24,\n",
       "             presort=False, random_state=87950109, splitter='best'),\n",
       " DecisionTreeClassifier(class_weight=None, criterion='gini', max_depth=36,\n",
       "             max_features=10, max_leaf_nodes=85, min_impurity_decrease=0.0,\n",
       "             min_impurity_split=None, min_samples_leaf=10,\n",
       "             min_samples_split=13, min_weight_fraction_leaf=0.24,\n",
       "             presort=False, random_state=1204863635, splitter='best'),\n",
       " DecisionTreeClassifier(class_weight=None, criterion='gini', max_depth=36,\n",
       "             max_features=10, max_leaf_nodes=85, min_impurity_decrease=0.0,\n",
       "             min_impurity_split=None, min_samples_leaf=10,\n",
       "             min_samples_split=13, min_weight_fraction_leaf=0.24,\n",
       "             presort=False, random_state=768281747, splitter='best'),\n",
       " DecisionTreeClassifier(class_weight=None, criterion='gini', max_depth=36,\n",
       "             max_features=10, max_leaf_nodes=85, min_impurity_decrease=0.0,\n",
       "             min_impurity_split=None, min_samples_leaf=10,\n",
       "             min_samples_split=13, min_weight_fraction_leaf=0.24,\n",
       "             presort=False, random_state=507984782, splitter='best'),\n",
       " DecisionTreeClassifier(class_weight=None, criterion='gini', max_depth=36,\n",
       "             max_features=10, max_leaf_nodes=85, min_impurity_decrease=0.0,\n",
       "             min_impurity_split=None, min_samples_leaf=10,\n",
       "             min_samples_split=13, min_weight_fraction_leaf=0.24,\n",
       "             presort=False, random_state=947610023, splitter='best'),\n",
       " DecisionTreeClassifier(class_weight=None, criterion='gini', max_depth=36,\n",
       "             max_features=10, max_leaf_nodes=85, min_impurity_decrease=0.0,\n",
       "             min_impurity_split=None, min_samples_leaf=10,\n",
       "             min_samples_split=13, min_weight_fraction_leaf=0.24,\n",
       "             presort=False, random_state=600956192, splitter='best'),\n",
       " DecisionTreeClassifier(class_weight=None, criterion='gini', max_depth=36,\n",
       "             max_features=10, max_leaf_nodes=85, min_impurity_decrease=0.0,\n",
       "             min_impurity_split=None, min_samples_leaf=10,\n",
       "             min_samples_split=13, min_weight_fraction_leaf=0.24,\n",
       "             presort=False, random_state=352272321, splitter='best'),\n",
       " DecisionTreeClassifier(class_weight=None, criterion='gini', max_depth=36,\n",
       "             max_features=10, max_leaf_nodes=85, min_impurity_decrease=0.0,\n",
       "             min_impurity_split=None, min_samples_leaf=10,\n",
       "             min_samples_split=13, min_weight_fraction_leaf=0.24,\n",
       "             presort=False, random_state=615697673, splitter='best'),\n",
       " DecisionTreeClassifier(class_weight=None, criterion='gini', max_depth=36,\n",
       "             max_features=10, max_leaf_nodes=85, min_impurity_decrease=0.0,\n",
       "             min_impurity_split=None, min_samples_leaf=10,\n",
       "             min_samples_split=13, min_weight_fraction_leaf=0.24,\n",
       "             presort=False, random_state=160516793, splitter='best'),\n",
       " DecisionTreeClassifier(class_weight=None, criterion='gini', max_depth=36,\n",
       "             max_features=10, max_leaf_nodes=85, min_impurity_decrease=0.0,\n",
       "             min_impurity_split=None, min_samples_leaf=10,\n",
       "             min_samples_split=13, min_weight_fraction_leaf=0.24,\n",
       "             presort=False, random_state=1909838463, splitter='best'),\n",
       " DecisionTreeClassifier(class_weight=None, criterion='gini', max_depth=36,\n",
       "             max_features=10, max_leaf_nodes=85, min_impurity_decrease=0.0,\n",
       "             min_impurity_split=None, min_samples_leaf=10,\n",
       "             min_samples_split=13, min_weight_fraction_leaf=0.24,\n",
       "             presort=False, random_state=1110745632, splitter='best'),\n",
       " DecisionTreeClassifier(class_weight=None, criterion='gini', max_depth=36,\n",
       "             max_features=10, max_leaf_nodes=85, min_impurity_decrease=0.0,\n",
       "             min_impurity_split=None, min_samples_leaf=10,\n",
       "             min_samples_split=13, min_weight_fraction_leaf=0.24,\n",
       "             presort=False, random_state=93837855, splitter='best'),\n",
       " DecisionTreeClassifier(class_weight=None, criterion='gini', max_depth=36,\n",
       "             max_features=10, max_leaf_nodes=85, min_impurity_decrease=0.0,\n",
       "             min_impurity_split=None, min_samples_leaf=10,\n",
       "             min_samples_split=13, min_weight_fraction_leaf=0.24,\n",
       "             presort=False, random_state=454869706, splitter='best'),\n",
       " DecisionTreeClassifier(class_weight=None, criterion='gini', max_depth=36,\n",
       "             max_features=10, max_leaf_nodes=85, min_impurity_decrease=0.0,\n",
       "             min_impurity_split=None, min_samples_leaf=10,\n",
       "             min_samples_split=13, min_weight_fraction_leaf=0.24,\n",
       "             presort=False, random_state=1780959476, splitter='best'),\n",
       " DecisionTreeClassifier(class_weight=None, criterion='gini', max_depth=36,\n",
       "             max_features=10, max_leaf_nodes=85, min_impurity_decrease=0.0,\n",
       "             min_impurity_split=None, min_samples_leaf=10,\n",
       "             min_samples_split=13, min_weight_fraction_leaf=0.24,\n",
       "             presort=False, random_state=2034098327, splitter='best'),\n",
       " DecisionTreeClassifier(class_weight=None, criterion='gini', max_depth=36,\n",
       "             max_features=10, max_leaf_nodes=85, min_impurity_decrease=0.0,\n",
       "             min_impurity_split=None, min_samples_leaf=10,\n",
       "             min_samples_split=13, min_weight_fraction_leaf=0.24,\n",
       "             presort=False, random_state=1136257699, splitter='best'),\n",
       " DecisionTreeClassifier(class_weight=None, criterion='gini', max_depth=36,\n",
       "             max_features=10, max_leaf_nodes=85, min_impurity_decrease=0.0,\n",
       "             min_impurity_split=None, min_samples_leaf=10,\n",
       "             min_samples_split=13, min_weight_fraction_leaf=0.24,\n",
       "             presort=False, random_state=800291326, splitter='best'),\n",
       " DecisionTreeClassifier(class_weight=None, criterion='gini', max_depth=36,\n",
       "             max_features=10, max_leaf_nodes=85, min_impurity_decrease=0.0,\n",
       "             min_impurity_split=None, min_samples_leaf=10,\n",
       "             min_samples_split=13, min_weight_fraction_leaf=0.24,\n",
       "             presort=False, random_state=1177824715, splitter='best'),\n",
       " DecisionTreeClassifier(class_weight=None, criterion='gini', max_depth=36,\n",
       "             max_features=10, max_leaf_nodes=85, min_impurity_decrease=0.0,\n",
       "             min_impurity_split=None, min_samples_leaf=10,\n",
       "             min_samples_split=13, min_weight_fraction_leaf=0.24,\n",
       "             presort=False, random_state=1017555826, splitter='best'),\n",
       " DecisionTreeClassifier(class_weight=None, criterion='gini', max_depth=36,\n",
       "             max_features=10, max_leaf_nodes=85, min_impurity_decrease=0.0,\n",
       "             min_impurity_split=None, min_samples_leaf=10,\n",
       "             min_samples_split=13, min_weight_fraction_leaf=0.24,\n",
       "             presort=False, random_state=1959150775, splitter='best'),\n",
       " DecisionTreeClassifier(class_weight=None, criterion='gini', max_depth=36,\n",
       "             max_features=10, max_leaf_nodes=85, min_impurity_decrease=0.0,\n",
       "             min_impurity_split=None, min_samples_leaf=10,\n",
       "             min_samples_split=13, min_weight_fraction_leaf=0.24,\n",
       "             presort=False, random_state=930076700, splitter='best'),\n",
       " DecisionTreeClassifier(class_weight=None, criterion='gini', max_depth=36,\n",
       "             max_features=10, max_leaf_nodes=85, min_impurity_decrease=0.0,\n",
       "             min_impurity_split=None, min_samples_leaf=10,\n",
       "             min_samples_split=13, min_weight_fraction_leaf=0.24,\n",
       "             presort=False, random_state=293921570, splitter='best'),\n",
       " DecisionTreeClassifier(class_weight=None, criterion='gini', max_depth=36,\n",
       "             max_features=10, max_leaf_nodes=85, min_impurity_decrease=0.0,\n",
       "             min_impurity_split=None, min_samples_leaf=10,\n",
       "             min_samples_split=13, min_weight_fraction_leaf=0.24,\n",
       "             presort=False, random_state=580757632, splitter='best'),\n",
       " DecisionTreeClassifier(class_weight=None, criterion='gini', max_depth=36,\n",
       "             max_features=10, max_leaf_nodes=85, min_impurity_decrease=0.0,\n",
       "             min_impurity_split=None, min_samples_leaf=10,\n",
       "             min_samples_split=13, min_weight_fraction_leaf=0.24,\n",
       "             presort=False, random_state=80701568, splitter='best'),\n",
       " DecisionTreeClassifier(class_weight=None, criterion='gini', max_depth=36,\n",
       "             max_features=10, max_leaf_nodes=85, min_impurity_decrease=0.0,\n",
       "             min_impurity_split=None, min_samples_leaf=10,\n",
       "             min_samples_split=13, min_weight_fraction_leaf=0.24,\n",
       "             presort=False, random_state=1392175012, splitter='best'),\n",
       " DecisionTreeClassifier(class_weight=None, criterion='gini', max_depth=36,\n",
       "             max_features=10, max_leaf_nodes=85, min_impurity_decrease=0.0,\n",
       "             min_impurity_split=None, min_samples_leaf=10,\n",
       "             min_samples_split=13, min_weight_fraction_leaf=0.24,\n",
       "             presort=False, random_state=505240629, splitter='best'),\n",
       " DecisionTreeClassifier(class_weight=None, criterion='gini', max_depth=36,\n",
       "             max_features=10, max_leaf_nodes=85, min_impurity_decrease=0.0,\n",
       "             min_impurity_split=None, min_samples_leaf=10,\n",
       "             min_samples_split=13, min_weight_fraction_leaf=0.24,\n",
       "             presort=False, random_state=642848645, splitter='best'),\n",
       " DecisionTreeClassifier(class_weight=None, criterion='gini', max_depth=36,\n",
       "             max_features=10, max_leaf_nodes=85, min_impurity_decrease=0.0,\n",
       "             min_impurity_split=None, min_samples_leaf=10,\n",
       "             min_samples_split=13, min_weight_fraction_leaf=0.24,\n",
       "             presort=False, random_state=481447462, splitter='best'),\n",
       " DecisionTreeClassifier(class_weight=None, criterion='gini', max_depth=36,\n",
       "             max_features=10, max_leaf_nodes=85, min_impurity_decrease=0.0,\n",
       "             min_impurity_split=None, min_samples_leaf=10,\n",
       "             min_samples_split=13, min_weight_fraction_leaf=0.24,\n",
       "             presort=False, random_state=954863080, splitter='best'),\n",
       " DecisionTreeClassifier(class_weight=None, criterion='gini', max_depth=36,\n",
       "             max_features=10, max_leaf_nodes=85, min_impurity_decrease=0.0,\n",
       "             min_impurity_split=None, min_samples_leaf=10,\n",
       "             min_samples_split=13, min_weight_fraction_leaf=0.24,\n",
       "             presort=False, random_state=502227700, splitter='best'),\n",
       " DecisionTreeClassifier(class_weight=None, criterion='gini', max_depth=36,\n",
       "             max_features=10, max_leaf_nodes=85, min_impurity_decrease=0.0,\n",
       "             min_impurity_split=None, min_samples_leaf=10,\n",
       "             min_samples_split=13, min_weight_fraction_leaf=0.24,\n",
       "             presort=False, random_state=1659957521, splitter='best'),\n",
       " DecisionTreeClassifier(class_weight=None, criterion='gini', max_depth=36,\n",
       "             max_features=10, max_leaf_nodes=85, min_impurity_decrease=0.0,\n",
       "             min_impurity_split=None, min_samples_leaf=10,\n",
       "             min_samples_split=13, min_weight_fraction_leaf=0.24,\n",
       "             presort=False, random_state=1905883471, splitter='best'),\n",
       " DecisionTreeClassifier(class_weight=None, criterion='gini', max_depth=36,\n",
       "             max_features=10, max_leaf_nodes=85, min_impurity_decrease=0.0,\n",
       "             min_impurity_split=None, min_samples_leaf=10,\n",
       "             min_samples_split=13, min_weight_fraction_leaf=0.24,\n",
       "             presort=False, random_state=1729147268, splitter='best'),\n",
       " DecisionTreeClassifier(class_weight=None, criterion='gini', max_depth=36,\n",
       "             max_features=10, max_leaf_nodes=85, min_impurity_decrease=0.0,\n",
       "             min_impurity_split=None, min_samples_leaf=10,\n",
       "             min_samples_split=13, min_weight_fraction_leaf=0.24,\n",
       "             presort=False, random_state=780912233, splitter='best'),\n",
       " DecisionTreeClassifier(class_weight=None, criterion='gini', max_depth=36,\n",
       "             max_features=10, max_leaf_nodes=85, min_impurity_decrease=0.0,\n",
       "             min_impurity_split=None, min_samples_leaf=10,\n",
       "             min_samples_split=13, min_weight_fraction_leaf=0.24,\n",
       "             presort=False, random_state=1932520490, splitter='best'),\n",
       " DecisionTreeClassifier(class_weight=None, criterion='gini', max_depth=36,\n",
       "             max_features=10, max_leaf_nodes=85, min_impurity_decrease=0.0,\n",
       "             min_impurity_split=None, min_samples_leaf=10,\n",
       "             min_samples_split=13, min_weight_fraction_leaf=0.24,\n",
       "             presort=False, random_state=1544074682, splitter='best'),\n",
       " DecisionTreeClassifier(class_weight=None, criterion='gini', max_depth=36,\n",
       "             max_features=10, max_leaf_nodes=85, min_impurity_decrease=0.0,\n",
       "             min_impurity_split=None, min_samples_leaf=10,\n",
       "             min_samples_split=13, min_weight_fraction_leaf=0.24,\n",
       "             presort=False, random_state=485603871, splitter='best'),\n",
       " DecisionTreeClassifier(class_weight=None, criterion='gini', max_depth=36,\n",
       "             max_features=10, max_leaf_nodes=85, min_impurity_decrease=0.0,\n",
       "             min_impurity_split=None, min_samples_leaf=10,\n",
       "             min_samples_split=13, min_weight_fraction_leaf=0.24,\n",
       "             presort=False, random_state=1877037944, splitter='best'),\n",
       " DecisionTreeClassifier(class_weight=None, criterion='gini', max_depth=36,\n",
       "             max_features=10, max_leaf_nodes=85, min_impurity_decrease=0.0,\n",
       "             min_impurity_split=None, min_samples_leaf=10,\n",
       "             min_samples_split=13, min_weight_fraction_leaf=0.24,\n",
       "             presort=False, random_state=1728073985, splitter='best'),\n",
       " DecisionTreeClassifier(class_weight=None, criterion='gini', max_depth=36,\n",
       "             max_features=10, max_leaf_nodes=85, min_impurity_decrease=0.0,\n",
       "             min_impurity_split=None, min_samples_leaf=10,\n",
       "             min_samples_split=13, min_weight_fraction_leaf=0.24,\n",
       "             presort=False, random_state=848819521, splitter='best'),\n",
       " DecisionTreeClassifier(class_weight=None, criterion='gini', max_depth=36,\n",
       "             max_features=10, max_leaf_nodes=85, min_impurity_decrease=0.0,\n",
       "             min_impurity_split=None, min_samples_leaf=10,\n",
       "             min_samples_split=13, min_weight_fraction_leaf=0.24,\n",
       "             presort=False, random_state=426405863, splitter='best'),\n",
       " DecisionTreeClassifier(class_weight=None, criterion='gini', max_depth=36,\n",
       "             max_features=10, max_leaf_nodes=85, min_impurity_decrease=0.0,\n",
       "             min_impurity_split=None, min_samples_leaf=10,\n",
       "             min_samples_split=13, min_weight_fraction_leaf=0.24,\n",
       "             presort=False, random_state=258666409, splitter='best'),\n",
       " DecisionTreeClassifier(class_weight=None, criterion='gini', max_depth=36,\n",
       "             max_features=10, max_leaf_nodes=85, min_impurity_decrease=0.0,\n",
       "             min_impurity_split=None, min_samples_leaf=10,\n",
       "             min_samples_split=13, min_weight_fraction_leaf=0.24,\n",
       "             presort=False, random_state=2017814585, splitter='best'),\n",
       " DecisionTreeClassifier(class_weight=None, criterion='gini', max_depth=36,\n",
       "             max_features=10, max_leaf_nodes=85, min_impurity_decrease=0.0,\n",
       "             min_impurity_split=None, min_samples_leaf=10,\n",
       "             min_samples_split=13, min_weight_fraction_leaf=0.24,\n",
       "             presort=False, random_state=716257571, splitter='best'),\n",
       " DecisionTreeClassifier(class_weight=None, criterion='gini', max_depth=36,\n",
       "             max_features=10, max_leaf_nodes=85, min_impurity_decrease=0.0,\n",
       "             min_impurity_split=None, min_samples_leaf=10,\n",
       "             min_samples_split=13, min_weight_fraction_leaf=0.24,\n",
       "             presort=False, random_state=657731430, splitter='best'),\n",
       " DecisionTreeClassifier(class_weight=None, criterion='gini', max_depth=36,\n",
       "             max_features=10, max_leaf_nodes=85, min_impurity_decrease=0.0,\n",
       "             min_impurity_split=None, min_samples_leaf=10,\n",
       "             min_samples_split=13, min_weight_fraction_leaf=0.24,\n",
       "             presort=False, random_state=732884087, splitter='best'),\n",
       " DecisionTreeClassifier(class_weight=None, criterion='gini', max_depth=36,\n",
       "             max_features=10, max_leaf_nodes=85, min_impurity_decrease=0.0,\n",
       "             min_impurity_split=None, min_samples_leaf=10,\n",
       "             min_samples_split=13, min_weight_fraction_leaf=0.24,\n",
       "             presort=False, random_state=734051083, splitter='best'),\n",
       " DecisionTreeClassifier(class_weight=None, criterion='gini', max_depth=36,\n",
       "             max_features=10, max_leaf_nodes=85, min_impurity_decrease=0.0,\n",
       "             min_impurity_split=None, min_samples_leaf=10,\n",
       "             min_samples_split=13, min_weight_fraction_leaf=0.24,\n",
       "             presort=False, random_state=903586222, splitter='best'),\n",
       " DecisionTreeClassifier(class_weight=None, criterion='gini', max_depth=36,\n",
       "             max_features=10, max_leaf_nodes=85, min_impurity_decrease=0.0,\n",
       "             min_impurity_split=None, min_samples_leaf=10,\n",
       "             min_samples_split=13, min_weight_fraction_leaf=0.24,\n",
       "             presort=False, random_state=1538251858, splitter='best'),\n",
       " DecisionTreeClassifier(class_weight=None, criterion='gini', max_depth=36,\n",
       "             max_features=10, max_leaf_nodes=85, min_impurity_decrease=0.0,\n",
       "             min_impurity_split=None, min_samples_leaf=10,\n",
       "             min_samples_split=13, min_weight_fraction_leaf=0.24,\n",
       "             presort=False, random_state=553734235, splitter='best'),\n",
       " DecisionTreeClassifier(class_weight=None, criterion='gini', max_depth=36,\n",
       "             max_features=10, max_leaf_nodes=85, min_impurity_decrease=0.0,\n",
       "             min_impurity_split=None, min_samples_leaf=10,\n",
       "             min_samples_split=13, min_weight_fraction_leaf=0.24,\n",
       "             presort=False, random_state=1076688768, splitter='best'),\n",
       " DecisionTreeClassifier(class_weight=None, criterion='gini', max_depth=36,\n",
       "             max_features=10, max_leaf_nodes=85, min_impurity_decrease=0.0,\n",
       "             min_impurity_split=None, min_samples_leaf=10,\n",
       "             min_samples_split=13, min_weight_fraction_leaf=0.24,\n",
       "             presort=False, random_state=1354754446, splitter='best'),\n",
       " DecisionTreeClassifier(class_weight=None, criterion='gini', max_depth=36,\n",
       "             max_features=10, max_leaf_nodes=85, min_impurity_decrease=0.0,\n",
       "             min_impurity_split=None, min_samples_leaf=10,\n",
       "             min_samples_split=13, min_weight_fraction_leaf=0.24,\n",
       "             presort=False, random_state=463129187, splitter='best'),\n",
       " DecisionTreeClassifier(class_weight=None, criterion='gini', max_depth=36,\n",
       "             max_features=10, max_leaf_nodes=85, min_impurity_decrease=0.0,\n",
       "             min_impurity_split=None, min_samples_leaf=10,\n",
       "             min_samples_split=13, min_weight_fraction_leaf=0.24,\n",
       "             presort=False, random_state=1562125877, splitter='best'),\n",
       " DecisionTreeClassifier(class_weight=None, criterion='gini', max_depth=36,\n",
       "             max_features=10, max_leaf_nodes=85, min_impurity_decrease=0.0,\n",
       "             min_impurity_split=None, min_samples_leaf=10,\n",
       "             min_samples_split=13, min_weight_fraction_leaf=0.24,\n",
       "             presort=False, random_state=1396067212, splitter='best'),\n",
       " DecisionTreeClassifier(class_weight=None, criterion='gini', max_depth=36,\n",
       "             max_features=10, max_leaf_nodes=85, min_impurity_decrease=0.0,\n",
       "             min_impurity_split=None, min_samples_leaf=10,\n",
       "             min_samples_split=13, min_weight_fraction_leaf=0.24,\n",
       "             presort=False, random_state=301492857, splitter='best'),\n",
       " DecisionTreeClassifier(class_weight=None, criterion='gini', max_depth=36,\n",
       "             max_features=10, max_leaf_nodes=85, min_impurity_decrease=0.0,\n",
       "             min_impurity_split=None, min_samples_leaf=10,\n",
       "             min_samples_split=13, min_weight_fraction_leaf=0.24,\n",
       "             presort=False, random_state=165035946, splitter='best'),\n",
       " DecisionTreeClassifier(class_weight=None, criterion='gini', max_depth=36,\n",
       "             max_features=10, max_leaf_nodes=85, min_impurity_decrease=0.0,\n",
       "             min_impurity_split=None, min_samples_leaf=10,\n",
       "             min_samples_split=13, min_weight_fraction_leaf=0.24,\n",
       "             presort=False, random_state=1883779156, splitter='best'),\n",
       " DecisionTreeClassifier(class_weight=None, criterion='gini', max_depth=36,\n",
       "             max_features=10, max_leaf_nodes=85, min_impurity_decrease=0.0,\n",
       "             min_impurity_split=None, min_samples_leaf=10,\n",
       "             min_samples_split=13, min_weight_fraction_leaf=0.24,\n",
       "             presort=False, random_state=576702667, splitter='best'),\n",
       " DecisionTreeClassifier(class_weight=None, criterion='gini', max_depth=36,\n",
       "             max_features=10, max_leaf_nodes=85, min_impurity_decrease=0.0,\n",
       "             min_impurity_split=None, min_samples_leaf=10,\n",
       "             min_samples_split=13, min_weight_fraction_leaf=0.24,\n",
       "             presort=False, random_state=2097549636, splitter='best'),\n",
       " DecisionTreeClassifier(class_weight=None, criterion='gini', max_depth=36,\n",
       "             max_features=10, max_leaf_nodes=85, min_impurity_decrease=0.0,\n",
       "             min_impurity_split=None, min_samples_leaf=10,\n",
       "             min_samples_split=13, min_weight_fraction_leaf=0.24,\n",
       "             presort=False, random_state=1971172102, splitter='best'),\n",
       " DecisionTreeClassifier(class_weight=None, criterion='gini', max_depth=36,\n",
       "             max_features=10, max_leaf_nodes=85, min_impurity_decrease=0.0,\n",
       "             min_impurity_split=None, min_samples_leaf=10,\n",
       "             min_samples_split=13, min_weight_fraction_leaf=0.24,\n",
       "             presort=False, random_state=438279108, splitter='best'),\n",
       " DecisionTreeClassifier(class_weight=None, criterion='gini', max_depth=36,\n",
       "             max_features=10, max_leaf_nodes=85, min_impurity_decrease=0.0,\n",
       "             min_impurity_split=None, min_samples_leaf=10,\n",
       "             min_samples_split=13, min_weight_fraction_leaf=0.24,\n",
       "             presort=False, random_state=656229423, splitter='best'),\n",
       " DecisionTreeClassifier(class_weight=None, criterion='gini', max_depth=36,\n",
       "             max_features=10, max_leaf_nodes=85, min_impurity_decrease=0.0,\n",
       "             min_impurity_split=None, min_samples_leaf=10,\n",
       "             min_samples_split=13, min_weight_fraction_leaf=0.24,\n",
       "             presort=False, random_state=897118847, splitter='best'),\n",
       " DecisionTreeClassifier(class_weight=None, criterion='gini', max_depth=36,\n",
       "             max_features=10, max_leaf_nodes=85, min_impurity_decrease=0.0,\n",
       "             min_impurity_split=None, min_samples_leaf=10,\n",
       "             min_samples_split=13, min_weight_fraction_leaf=0.24,\n",
       "             presort=False, random_state=580073460, splitter='best'),\n",
       " DecisionTreeClassifier(class_weight=None, criterion='gini', max_depth=36,\n",
       "             max_features=10, max_leaf_nodes=85, min_impurity_decrease=0.0,\n",
       "             min_impurity_split=None, min_samples_leaf=10,\n",
       "             min_samples_split=13, min_weight_fraction_leaf=0.24,\n",
       "             presort=False, random_state=692819075, splitter='best'),\n",
       " DecisionTreeClassifier(class_weight=None, criterion='gini', max_depth=36,\n",
       "             max_features=10, max_leaf_nodes=85, min_impurity_decrease=0.0,\n",
       "             min_impurity_split=None, min_samples_leaf=10,\n",
       "             min_samples_split=13, min_weight_fraction_leaf=0.24,\n",
       "             presort=False, random_state=2127295436, splitter='best'),\n",
       " DecisionTreeClassifier(class_weight=None, criterion='gini', max_depth=36,\n",
       "             max_features=10, max_leaf_nodes=85, min_impurity_decrease=0.0,\n",
       "             min_impurity_split=None, min_samples_leaf=10,\n",
       "             min_samples_split=13, min_weight_fraction_leaf=0.24,\n",
       "             presort=False, random_state=657595236, splitter='best'),\n",
       " DecisionTreeClassifier(class_weight=None, criterion='gini', max_depth=36,\n",
       "             max_features=10, max_leaf_nodes=85, min_impurity_decrease=0.0,\n",
       "             min_impurity_split=None, min_samples_leaf=10,\n",
       "             min_samples_split=13, min_weight_fraction_leaf=0.24,\n",
       "             presort=False, random_state=351544500, splitter='best'),\n",
       " DecisionTreeClassifier(class_weight=None, criterion='gini', max_depth=36,\n",
       "             max_features=10, max_leaf_nodes=85, min_impurity_decrease=0.0,\n",
       "             min_impurity_split=None, min_samples_leaf=10,\n",
       "             min_samples_split=13, min_weight_fraction_leaf=0.24,\n",
       "             presort=False, random_state=1087879144, splitter='best'),\n",
       " DecisionTreeClassifier(class_weight=None, criterion='gini', max_depth=36,\n",
       "             max_features=10, max_leaf_nodes=85, min_impurity_decrease=0.0,\n",
       "             min_impurity_split=None, min_samples_leaf=10,\n",
       "             min_samples_split=13, min_weight_fraction_leaf=0.24,\n",
       "             presort=False, random_state=1779699534, splitter='best'),\n",
       " DecisionTreeClassifier(class_weight=None, criterion='gini', max_depth=36,\n",
       "             max_features=10, max_leaf_nodes=85, min_impurity_decrease=0.0,\n",
       "             min_impurity_split=None, min_samples_leaf=10,\n",
       "             min_samples_split=13, min_weight_fraction_leaf=0.24,\n",
       "             presort=False, random_state=2002789519, splitter='best'),\n",
       " DecisionTreeClassifier(class_weight=None, criterion='gini', max_depth=36,\n",
       "             max_features=10, max_leaf_nodes=85, min_impurity_decrease=0.0,\n",
       "             min_impurity_split=None, min_samples_leaf=10,\n",
       "             min_samples_split=13, min_weight_fraction_leaf=0.24,\n",
       "             presort=False, random_state=2038810260, splitter='best'),\n",
       " DecisionTreeClassifier(class_weight=None, criterion='gini', max_depth=36,\n",
       "             max_features=10, max_leaf_nodes=85, min_impurity_decrease=0.0,\n",
       "             min_impurity_split=None, min_samples_leaf=10,\n",
       "             min_samples_split=13, min_weight_fraction_leaf=0.24,\n",
       "             presort=False, random_state=1049799907, splitter='best'),\n",
       " DecisionTreeClassifier(class_weight=None, criterion='gini', max_depth=36,\n",
       "             max_features=10, max_leaf_nodes=85, min_impurity_decrease=0.0,\n",
       "             min_impurity_split=None, min_samples_leaf=10,\n",
       "             min_samples_split=13, min_weight_fraction_leaf=0.24,\n",
       "             presort=False, random_state=530471866, splitter='best'),\n",
       " DecisionTreeClassifier(class_weight=None, criterion='gini', max_depth=36,\n",
       "             max_features=10, max_leaf_nodes=85, min_impurity_decrease=0.0,\n",
       "             min_impurity_split=None, min_samples_leaf=10,\n",
       "             min_samples_split=13, min_weight_fraction_leaf=0.24,\n",
       "             presort=False, random_state=682769175, splitter='best'),\n",
       " DecisionTreeClassifier(class_weight=None, criterion='gini', max_depth=36,\n",
       "             max_features=10, max_leaf_nodes=85, min_impurity_decrease=0.0,\n",
       "             min_impurity_split=None, min_samples_leaf=10,\n",
       "             min_samples_split=13, min_weight_fraction_leaf=0.24,\n",
       "             presort=False, random_state=1451731663, splitter='best'),\n",
       " DecisionTreeClassifier(class_weight=None, criterion='gini', max_depth=36,\n",
       "             max_features=10, max_leaf_nodes=85, min_impurity_decrease=0.0,\n",
       "             min_impurity_split=None, min_samples_leaf=10,\n",
       "             min_samples_split=13, min_weight_fraction_leaf=0.24,\n",
       "             presort=False, random_state=474057613, splitter='best'),\n",
       " DecisionTreeClassifier(class_weight=None, criterion='gini', max_depth=36,\n",
       "             max_features=10, max_leaf_nodes=85, min_impurity_decrease=0.0,\n",
       "             min_impurity_split=None, min_samples_leaf=10,\n",
       "             min_samples_split=13, min_weight_fraction_leaf=0.24,\n",
       "             presort=False, random_state=750555509, splitter='best'),\n",
       " DecisionTreeClassifier(class_weight=None, criterion='gini', max_depth=36,\n",
       "             max_features=10, max_leaf_nodes=85, min_impurity_decrease=0.0,\n",
       "             min_impurity_split=None, min_samples_leaf=10,\n",
       "             min_samples_split=13, min_weight_fraction_leaf=0.24,\n",
       "             presort=False, random_state=671430485, splitter='best'),\n",
       " DecisionTreeClassifier(class_weight=None, criterion='gini', max_depth=36,\n",
       "             max_features=10, max_leaf_nodes=85, min_impurity_decrease=0.0,\n",
       "             min_impurity_split=None, min_samples_leaf=10,\n",
       "             min_samples_split=13, min_weight_fraction_leaf=0.24,\n",
       "             presort=False, random_state=1362371120, splitter='best'),\n",
       " DecisionTreeClassifier(class_weight=None, criterion='gini', max_depth=36,\n",
       "             max_features=10, max_leaf_nodes=85, min_impurity_decrease=0.0,\n",
       "             min_impurity_split=None, min_samples_leaf=10,\n",
       "             min_samples_split=13, min_weight_fraction_leaf=0.24,\n",
       "             presort=False, random_state=593491249, splitter='best'),\n",
       " DecisionTreeClassifier(class_weight=None, criterion='gini', max_depth=36,\n",
       "             max_features=10, max_leaf_nodes=85, min_impurity_decrease=0.0,\n",
       "             min_impurity_split=None, min_samples_leaf=10,\n",
       "             min_samples_split=13, min_weight_fraction_leaf=0.24,\n",
       "             presort=False, random_state=1195484741, splitter='best'),\n",
       " DecisionTreeClassifier(class_weight=None, criterion='gini', max_depth=36,\n",
       "             max_features=10, max_leaf_nodes=85, min_impurity_decrease=0.0,\n",
       "             min_impurity_split=None, min_samples_leaf=10,\n",
       "             min_samples_split=13, min_weight_fraction_leaf=0.24,\n",
       "             presort=False, random_state=844314793, splitter='best'),\n",
       " DecisionTreeClassifier(class_weight=None, criterion='gini', max_depth=36,\n",
       "             max_features=10, max_leaf_nodes=85, min_impurity_decrease=0.0,\n",
       "             min_impurity_split=None, min_samples_leaf=10,\n",
       "             min_samples_split=13, min_weight_fraction_leaf=0.24,\n",
       "             presort=False, random_state=1930892963, splitter='best'),\n",
       " DecisionTreeClassifier(class_weight=None, criterion='gini', max_depth=36,\n",
       "             max_features=10, max_leaf_nodes=85, min_impurity_decrease=0.0,\n",
       "             min_impurity_split=None, min_samples_leaf=10,\n",
       "             min_samples_split=13, min_weight_fraction_leaf=0.24,\n",
       "             presort=False, random_state=1583662528, splitter='best'),\n",
       " DecisionTreeClassifier(class_weight=None, criterion='gini', max_depth=36,\n",
       "             max_features=10, max_leaf_nodes=85, min_impurity_decrease=0.0,\n",
       "             min_impurity_split=None, min_samples_leaf=10,\n",
       "             min_samples_split=13, min_weight_fraction_leaf=0.24,\n",
       "             presort=False, random_state=698047583, splitter='best'),\n",
       " DecisionTreeClassifier(class_weight=None, criterion='gini', max_depth=36,\n",
       "             max_features=10, max_leaf_nodes=85, min_impurity_decrease=0.0,\n",
       "             min_impurity_split=None, min_samples_leaf=10,\n",
       "             min_samples_split=13, min_weight_fraction_leaf=0.24,\n",
       "             presort=False, random_state=1378655429, splitter='best'),\n",
       " DecisionTreeClassifier(class_weight=None, criterion='gini', max_depth=36,\n",
       "             max_features=10, max_leaf_nodes=85, min_impurity_decrease=0.0,\n",
       "             min_impurity_split=None, min_samples_leaf=10,\n",
       "             min_samples_split=13, min_weight_fraction_leaf=0.24,\n",
       "             presort=False, random_state=58289758, splitter='best'),\n",
       " DecisionTreeClassifier(class_weight=None, criterion='gini', max_depth=36,\n",
       "             max_features=10, max_leaf_nodes=85, min_impurity_decrease=0.0,\n",
       "             min_impurity_split=None, min_samples_leaf=10,\n",
       "             min_samples_split=13, min_weight_fraction_leaf=0.24,\n",
       "             presort=False, random_state=417046784, splitter='best'),\n",
       " DecisionTreeClassifier(class_weight=None, criterion='gini', max_depth=36,\n",
       "             max_features=10, max_leaf_nodes=85, min_impurity_decrease=0.0,\n",
       "             min_impurity_split=None, min_samples_leaf=10,\n",
       "             min_samples_split=13, min_weight_fraction_leaf=0.24,\n",
       "             presort=False, random_state=527619953, splitter='best'),\n",
       " DecisionTreeClassifier(class_weight=None, criterion='gini', max_depth=36,\n",
       "             max_features=10, max_leaf_nodes=85, min_impurity_decrease=0.0,\n",
       "             min_impurity_split=None, min_samples_leaf=10,\n",
       "             min_samples_split=13, min_weight_fraction_leaf=0.24,\n",
       "             presort=False, random_state=1451462322, splitter='best'),\n",
       " DecisionTreeClassifier(class_weight=None, criterion='gini', max_depth=36,\n",
       "             max_features=10, max_leaf_nodes=85, min_impurity_decrease=0.0,\n",
       "             min_impurity_split=None, min_samples_leaf=10,\n",
       "             min_samples_split=13, min_weight_fraction_leaf=0.24,\n",
       "             presort=False, random_state=745862436, splitter='best'),\n",
       " DecisionTreeClassifier(class_weight=None, criterion='gini', max_depth=36,\n",
       "             max_features=10, max_leaf_nodes=85, min_impurity_decrease=0.0,\n",
       "             min_impurity_split=None, min_samples_leaf=10,\n",
       "             min_samples_split=13, min_weight_fraction_leaf=0.24,\n",
       "             presort=False, random_state=412739490, splitter='best'),\n",
       " DecisionTreeClassifier(class_weight=None, criterion='gini', max_depth=36,\n",
       "             max_features=10, max_leaf_nodes=85, min_impurity_decrease=0.0,\n",
       "             min_impurity_split=None, min_samples_leaf=10,\n",
       "             min_samples_split=13, min_weight_fraction_leaf=0.24,\n",
       "             presort=False, random_state=2026988336, splitter='best'),\n",
       " DecisionTreeClassifier(class_weight=None, criterion='gini', max_depth=36,\n",
       "             max_features=10, max_leaf_nodes=85, min_impurity_decrease=0.0,\n",
       "             min_impurity_split=None, min_samples_leaf=10,\n",
       "             min_samples_split=13, min_weight_fraction_leaf=0.24,\n",
       "             presort=False, random_state=2046377821, splitter='best'),\n",
       " DecisionTreeClassifier(class_weight=None, criterion='gini', max_depth=36,\n",
       "             max_features=10, max_leaf_nodes=85, min_impurity_decrease=0.0,\n",
       "             min_impurity_split=None, min_samples_leaf=10,\n",
       "             min_samples_split=13, min_weight_fraction_leaf=0.24,\n",
       "             presort=False, random_state=1624328579, splitter='best'),\n",
       " DecisionTreeClassifier(class_weight=None, criterion='gini', max_depth=36,\n",
       "             max_features=10, max_leaf_nodes=85, min_impurity_decrease=0.0,\n",
       "             min_impurity_split=None, min_samples_leaf=10,\n",
       "             min_samples_split=13, min_weight_fraction_leaf=0.24,\n",
       "             presort=False, random_state=2012841570, splitter='best'),\n",
       " DecisionTreeClassifier(class_weight=None, criterion='gini', max_depth=36,\n",
       "             max_features=10, max_leaf_nodes=85, min_impurity_decrease=0.0,\n",
       "             min_impurity_split=None, min_samples_leaf=10,\n",
       "             min_samples_split=13, min_weight_fraction_leaf=0.24,\n",
       "             presort=False, random_state=41336362, splitter='best'),\n",
       " DecisionTreeClassifier(class_weight=None, criterion='gini', max_depth=36,\n",
       "             max_features=10, max_leaf_nodes=85, min_impurity_decrease=0.0,\n",
       "             min_impurity_split=None, min_samples_leaf=10,\n",
       "             min_samples_split=13, min_weight_fraction_leaf=0.24,\n",
       "             presort=False, random_state=2047673293, splitter='best'),\n",
       " DecisionTreeClassifier(class_weight=None, criterion='gini', max_depth=36,\n",
       "             max_features=10, max_leaf_nodes=85, min_impurity_decrease=0.0,\n",
       "             min_impurity_split=None, min_samples_leaf=10,\n",
       "             min_samples_split=13, min_weight_fraction_leaf=0.24,\n",
       "             presort=False, random_state=239292784, splitter='best'),\n",
       " DecisionTreeClassifier(class_weight=None, criterion='gini', max_depth=36,\n",
       "             max_features=10, max_leaf_nodes=85, min_impurity_decrease=0.0,\n",
       "             min_impurity_split=None, min_samples_leaf=10,\n",
       "             min_samples_split=13, min_weight_fraction_leaf=0.24,\n",
       "             presort=False, random_state=450308071, splitter='best'),\n",
       " DecisionTreeClassifier(class_weight=None, criterion='gini', max_depth=36,\n",
       "             max_features=10, max_leaf_nodes=85, min_impurity_decrease=0.0,\n",
       "             min_impurity_split=None, min_samples_leaf=10,\n",
       "             min_samples_split=13, min_weight_fraction_leaf=0.24,\n",
       "             presort=False, random_state=1937714069, splitter='best'),\n",
       " DecisionTreeClassifier(class_weight=None, criterion='gini', max_depth=36,\n",
       "             max_features=10, max_leaf_nodes=85, min_impurity_decrease=0.0,\n",
       "             min_impurity_split=None, min_samples_leaf=10,\n",
       "             min_samples_split=13, min_weight_fraction_leaf=0.24,\n",
       "             presort=False, random_state=1027629257, splitter='best'),\n",
       " DecisionTreeClassifier(class_weight=None, criterion='gini', max_depth=36,\n",
       "             max_features=10, max_leaf_nodes=85, min_impurity_decrease=0.0,\n",
       "             min_impurity_split=None, min_samples_leaf=10,\n",
       "             min_samples_split=13, min_weight_fraction_leaf=0.24,\n",
       "             presort=False, random_state=85846399, splitter='best'),\n",
       " DecisionTreeClassifier(class_weight=None, criterion='gini', max_depth=36,\n",
       "             max_features=10, max_leaf_nodes=85, min_impurity_decrease=0.0,\n",
       "             min_impurity_split=None, min_samples_leaf=10,\n",
       "             min_samples_split=13, min_weight_fraction_leaf=0.24,\n",
       "             presort=False, random_state=168310272, splitter='best'),\n",
       " DecisionTreeClassifier(class_weight=None, criterion='gini', max_depth=36,\n",
       "             max_features=10, max_leaf_nodes=85, min_impurity_decrease=0.0,\n",
       "             min_impurity_split=None, min_samples_leaf=10,\n",
       "             min_samples_split=13, min_weight_fraction_leaf=0.24,\n",
       "             presort=False, random_state=1897133962, splitter='best'),\n",
       " DecisionTreeClassifier(class_weight=None, criterion='gini', max_depth=36,\n",
       "             max_features=10, max_leaf_nodes=85, min_impurity_decrease=0.0,\n",
       "             min_impurity_split=None, min_samples_leaf=10,\n",
       "             min_samples_split=13, min_weight_fraction_leaf=0.24,\n",
       "             presort=False, random_state=1214646642, splitter='best'),\n",
       " DecisionTreeClassifier(class_weight=None, criterion='gini', max_depth=36,\n",
       "             max_features=10, max_leaf_nodes=85, min_impurity_decrease=0.0,\n",
       "             min_impurity_split=None, min_samples_leaf=10,\n",
       "             min_samples_split=13, min_weight_fraction_leaf=0.24,\n",
       "             presort=False, random_state=2059809323, splitter='best'),\n",
       " DecisionTreeClassifier(class_weight=None, criterion='gini', max_depth=36,\n",
       "             max_features=10, max_leaf_nodes=85, min_impurity_decrease=0.0,\n",
       "             min_impurity_split=None, min_samples_leaf=10,\n",
       "             min_samples_split=13, min_weight_fraction_leaf=0.24,\n",
       "             presort=False, random_state=516240314, splitter='best'),\n",
       " DecisionTreeClassifier(class_weight=None, criterion='gini', max_depth=36,\n",
       "             max_features=10, max_leaf_nodes=85, min_impurity_decrease=0.0,\n",
       "             min_impurity_split=None, min_samples_leaf=10,\n",
       "             min_samples_split=13, min_weight_fraction_leaf=0.24,\n",
       "             presort=False, random_state=1543802239, splitter='best'),\n",
       " DecisionTreeClassifier(class_weight=None, criterion='gini', max_depth=36,\n",
       "             max_features=10, max_leaf_nodes=85, min_impurity_decrease=0.0,\n",
       "             min_impurity_split=None, min_samples_leaf=10,\n",
       "             min_samples_split=13, min_weight_fraction_leaf=0.24,\n",
       "             presort=False, random_state=1271912471, splitter='best'),\n",
       " DecisionTreeClassifier(class_weight=None, criterion='gini', max_depth=36,\n",
       "             max_features=10, max_leaf_nodes=85, min_impurity_decrease=0.0,\n",
       "             min_impurity_split=None, min_samples_leaf=10,\n",
       "             min_samples_split=13, min_weight_fraction_leaf=0.24,\n",
       "             presort=False, random_state=2065422011, splitter='best'),\n",
       " DecisionTreeClassifier(class_weight=None, criterion='gini', max_depth=36,\n",
       "             max_features=10, max_leaf_nodes=85, min_impurity_decrease=0.0,\n",
       "             min_impurity_split=None, min_samples_leaf=10,\n",
       "             min_samples_split=13, min_weight_fraction_leaf=0.24,\n",
       "             presort=False, random_state=509931650, splitter='best'),\n",
       " DecisionTreeClassifier(class_weight=None, criterion='gini', max_depth=36,\n",
       "             max_features=10, max_leaf_nodes=85, min_impurity_decrease=0.0,\n",
       "             min_impurity_split=None, min_samples_leaf=10,\n",
       "             min_samples_split=13, min_weight_fraction_leaf=0.24,\n",
       "             presort=False, random_state=810293625, splitter='best'),\n",
       " DecisionTreeClassifier(class_weight=None, criterion='gini', max_depth=36,\n",
       "             max_features=10, max_leaf_nodes=85, min_impurity_decrease=0.0,\n",
       "             min_impurity_split=None, min_samples_leaf=10,\n",
       "             min_samples_split=13, min_weight_fraction_leaf=0.24,\n",
       "             presort=False, random_state=1365727330, splitter='best'),\n",
       " DecisionTreeClassifier(class_weight=None, criterion='gini', max_depth=36,\n",
       "             max_features=10, max_leaf_nodes=85, min_impurity_decrease=0.0,\n",
       "             min_impurity_split=None, min_samples_leaf=10,\n",
       "             min_samples_split=13, min_weight_fraction_leaf=0.24,\n",
       "             presort=False, random_state=1634131518, splitter='best'),\n",
       " DecisionTreeClassifier(class_weight=None, criterion='gini', max_depth=36,\n",
       "             max_features=10, max_leaf_nodes=85, min_impurity_decrease=0.0,\n",
       "             min_impurity_split=None, min_samples_leaf=10,\n",
       "             min_samples_split=13, min_weight_fraction_leaf=0.24,\n",
       "             presort=False, random_state=1779245987, splitter='best'),\n",
       " DecisionTreeClassifier(class_weight=None, criterion='gini', max_depth=36,\n",
       "             max_features=10, max_leaf_nodes=85, min_impurity_decrease=0.0,\n",
       "             min_impurity_split=None, min_samples_leaf=10,\n",
       "             min_samples_split=13, min_weight_fraction_leaf=0.24,\n",
       "             presort=False, random_state=1796307678, splitter='best'),\n",
       " DecisionTreeClassifier(class_weight=None, criterion='gini', max_depth=36,\n",
       "             max_features=10, max_leaf_nodes=85, min_impurity_decrease=0.0,\n",
       "             min_impurity_split=None, min_samples_leaf=10,\n",
       "             min_samples_split=13, min_weight_fraction_leaf=0.24,\n",
       "             presort=False, random_state=275511419, splitter='best'),\n",
       " DecisionTreeClassifier(class_weight=None, criterion='gini', max_depth=36,\n",
       "             max_features=10, max_leaf_nodes=85, min_impurity_decrease=0.0,\n",
       "             min_impurity_split=None, min_samples_leaf=10,\n",
       "             min_samples_split=13, min_weight_fraction_leaf=0.24,\n",
       "             presort=False, random_state=931243971, splitter='best'),\n",
       " DecisionTreeClassifier(class_weight=None, criterion='gini', max_depth=36,\n",
       "             max_features=10, max_leaf_nodes=85, min_impurity_decrease=0.0,\n",
       "             min_impurity_split=None, min_samples_leaf=10,\n",
       "             min_samples_split=13, min_weight_fraction_leaf=0.24,\n",
       "             presort=False, random_state=826661458, splitter='best'),\n",
       " DecisionTreeClassifier(class_weight=None, criterion='gini', max_depth=36,\n",
       "             max_features=10, max_leaf_nodes=85, min_impurity_decrease=0.0,\n",
       "             min_impurity_split=None, min_samples_leaf=10,\n",
       "             min_samples_split=13, min_weight_fraction_leaf=0.24,\n",
       "             presort=False, random_state=279984046, splitter='best'),\n",
       " DecisionTreeClassifier(class_weight=None, criterion='gini', max_depth=36,\n",
       "             max_features=10, max_leaf_nodes=85, min_impurity_decrease=0.0,\n",
       "             min_impurity_split=None, min_samples_leaf=10,\n",
       "             min_samples_split=13, min_weight_fraction_leaf=0.24,\n",
       "             presort=False, random_state=286051043, splitter='best'),\n",
       " DecisionTreeClassifier(class_weight=None, criterion='gini', max_depth=36,\n",
       "             max_features=10, max_leaf_nodes=85, min_impurity_decrease=0.0,\n",
       "             min_impurity_split=None, min_samples_leaf=10,\n",
       "             min_samples_split=13, min_weight_fraction_leaf=0.24,\n",
       "             presort=False, random_state=1568103572, splitter='best'),\n",
       " DecisionTreeClassifier(class_weight=None, criterion='gini', max_depth=36,\n",
       "             max_features=10, max_leaf_nodes=85, min_impurity_decrease=0.0,\n",
       "             min_impurity_split=None, min_samples_leaf=10,\n",
       "             min_samples_split=13, min_weight_fraction_leaf=0.24,\n",
       "             presort=False, random_state=1139839185, splitter='best'),\n",
       " DecisionTreeClassifier(class_weight=None, criterion='gini', max_depth=36,\n",
       "             max_features=10, max_leaf_nodes=85, min_impurity_decrease=0.0,\n",
       "             min_impurity_split=None, min_samples_leaf=10,\n",
       "             min_samples_split=13, min_weight_fraction_leaf=0.24,\n",
       "             presort=False, random_state=38521394, splitter='best'),\n",
       " DecisionTreeClassifier(class_weight=None, criterion='gini', max_depth=36,\n",
       "             max_features=10, max_leaf_nodes=85, min_impurity_decrease=0.0,\n",
       "             min_impurity_split=None, min_samples_leaf=10,\n",
       "             min_samples_split=13, min_weight_fraction_leaf=0.24,\n",
       "             presort=False, random_state=99849627, splitter='best'),\n",
       " DecisionTreeClassifier(class_weight=None, criterion='gini', max_depth=36,\n",
       "             max_features=10, max_leaf_nodes=85, min_impurity_decrease=0.0,\n",
       "             min_impurity_split=None, min_samples_leaf=10,\n",
       "             min_samples_split=13, min_weight_fraction_leaf=0.24,\n",
       "             presort=False, random_state=1789811470, splitter='best'),\n",
       " DecisionTreeClassifier(class_weight=None, criterion='gini', max_depth=36,\n",
       "             max_features=10, max_leaf_nodes=85, min_impurity_decrease=0.0,\n",
       "             min_impurity_split=None, min_samples_leaf=10,\n",
       "             min_samples_split=13, min_weight_fraction_leaf=0.24,\n",
       "             presort=False, random_state=403471401, splitter='best'),\n",
       " DecisionTreeClassifier(class_weight=None, criterion='gini', max_depth=36,\n",
       "             max_features=10, max_leaf_nodes=85, min_impurity_decrease=0.0,\n",
       "             min_impurity_split=None, min_samples_leaf=10,\n",
       "             min_samples_split=13, min_weight_fraction_leaf=0.24,\n",
       "             presort=False, random_state=1808858170, splitter='best'),\n",
       " DecisionTreeClassifier(class_weight=None, criterion='gini', max_depth=36,\n",
       "             max_features=10, max_leaf_nodes=85, min_impurity_decrease=0.0,\n",
       "             min_impurity_split=None, min_samples_leaf=10,\n",
       "             min_samples_split=13, min_weight_fraction_leaf=0.24,\n",
       "             presort=False, random_state=326187713, splitter='best'),\n",
       " DecisionTreeClassifier(class_weight=None, criterion='gini', max_depth=36,\n",
       "             max_features=10, max_leaf_nodes=85, min_impurity_decrease=0.0,\n",
       "             min_impurity_split=None, min_samples_leaf=10,\n",
       "             min_samples_split=13, min_weight_fraction_leaf=0.24,\n",
       "             presort=False, random_state=356965412, splitter='best'),\n",
       " DecisionTreeClassifier(class_weight=None, criterion='gini', max_depth=36,\n",
       "             max_features=10, max_leaf_nodes=85, min_impurity_decrease=0.0,\n",
       "             min_impurity_split=None, min_samples_leaf=10,\n",
       "             min_samples_split=13, min_weight_fraction_leaf=0.24,\n",
       "             presort=False, random_state=1843813130, splitter='best'),\n",
       " DecisionTreeClassifier(class_weight=None, criterion='gini', max_depth=36,\n",
       "             max_features=10, max_leaf_nodes=85, min_impurity_decrease=0.0,\n",
       "             min_impurity_split=None, min_samples_leaf=10,\n",
       "             min_samples_split=13, min_weight_fraction_leaf=0.24,\n",
       "             presort=False, random_state=1192792150, splitter='best'),\n",
       " DecisionTreeClassifier(class_weight=None, criterion='gini', max_depth=36,\n",
       "             max_features=10, max_leaf_nodes=85, min_impurity_decrease=0.0,\n",
       "             min_impurity_split=None, min_samples_leaf=10,\n",
       "             min_samples_split=13, min_weight_fraction_leaf=0.24,\n",
       "             presort=False, random_state=1368243243, splitter='best'),\n",
       " DecisionTreeClassifier(class_weight=None, criterion='gini', max_depth=36,\n",
       "             max_features=10, max_leaf_nodes=85, min_impurity_decrease=0.0,\n",
       "             min_impurity_split=None, min_samples_leaf=10,\n",
       "             min_samples_split=13, min_weight_fraction_leaf=0.24,\n",
       "             presort=False, random_state=40186728, splitter='best'),\n",
       " DecisionTreeClassifier(class_weight=None, criterion='gini', max_depth=36,\n",
       "             max_features=10, max_leaf_nodes=85, min_impurity_decrease=0.0,\n",
       "             min_impurity_split=None, min_samples_leaf=10,\n",
       "             min_samples_split=13, min_weight_fraction_leaf=0.24,\n",
       "             presort=False, random_state=719022091, splitter='best'),\n",
       " DecisionTreeClassifier(class_weight=None, criterion='gini', max_depth=36,\n",
       "             max_features=10, max_leaf_nodes=85, min_impurity_decrease=0.0,\n",
       "             min_impurity_split=None, min_samples_leaf=10,\n",
       "             min_samples_split=13, min_weight_fraction_leaf=0.24,\n",
       "             presort=False, random_state=1470348034, splitter='best'),\n",
       " DecisionTreeClassifier(class_weight=None, criterion='gini', max_depth=36,\n",
       "             max_features=10, max_leaf_nodes=85, min_impurity_decrease=0.0,\n",
       "             min_impurity_split=None, min_samples_leaf=10,\n",
       "             min_samples_split=13, min_weight_fraction_leaf=0.24,\n",
       "             presort=False, random_state=566067507, splitter='best'),\n",
       " DecisionTreeClassifier(class_weight=None, criterion='gini', max_depth=36,\n",
       "             max_features=10, max_leaf_nodes=85, min_impurity_decrease=0.0,\n",
       "             min_impurity_split=None, min_samples_leaf=10,\n",
       "             min_samples_split=13, min_weight_fraction_leaf=0.24,\n",
       "             presort=False, random_state=632108112, splitter='best'),\n",
       " DecisionTreeClassifier(class_weight=None, criterion='gini', max_depth=36,\n",
       "             max_features=10, max_leaf_nodes=85, min_impurity_decrease=0.0,\n",
       "             min_impurity_split=None, min_samples_leaf=10,\n",
       "             min_samples_split=13, min_weight_fraction_leaf=0.24,\n",
       "             presort=False, random_state=929118240, splitter='best'),\n",
       " DecisionTreeClassifier(class_weight=None, criterion='gini', max_depth=36,\n",
       "             max_features=10, max_leaf_nodes=85, min_impurity_decrease=0.0,\n",
       "             min_impurity_split=None, min_samples_leaf=10,\n",
       "             min_samples_split=13, min_weight_fraction_leaf=0.24,\n",
       "             presort=False, random_state=1466242230, splitter='best'),\n",
       " DecisionTreeClassifier(class_weight=None, criterion='gini', max_depth=36,\n",
       "             max_features=10, max_leaf_nodes=85, min_impurity_decrease=0.0,\n",
       "             min_impurity_split=None, min_samples_leaf=10,\n",
       "             min_samples_split=13, min_weight_fraction_leaf=0.24,\n",
       "             presort=False, random_state=1242989696, splitter='best'),\n",
       " DecisionTreeClassifier(class_weight=None, criterion='gini', max_depth=36,\n",
       "             max_features=10, max_leaf_nodes=85, min_impurity_decrease=0.0,\n",
       "             min_impurity_split=None, min_samples_leaf=10,\n",
       "             min_samples_split=13, min_weight_fraction_leaf=0.24,\n",
       "             presort=False, random_state=1137007398, splitter='best'),\n",
       " DecisionTreeClassifier(class_weight=None, criterion='gini', max_depth=36,\n",
       "             max_features=10, max_leaf_nodes=85, min_impurity_decrease=0.0,\n",
       "             min_impurity_split=None, min_samples_leaf=10,\n",
       "             min_samples_split=13, min_weight_fraction_leaf=0.24,\n",
       "             presort=False, random_state=786800915, splitter='best'),\n",
       " DecisionTreeClassifier(class_weight=None, criterion='gini', max_depth=36,\n",
       "             max_features=10, max_leaf_nodes=85, min_impurity_decrease=0.0,\n",
       "             min_impurity_split=None, min_samples_leaf=10,\n",
       "             min_samples_split=13, min_weight_fraction_leaf=0.24,\n",
       "             presort=False, random_state=1708627118, splitter='best'),\n",
       " DecisionTreeClassifier(class_weight=None, criterion='gini', max_depth=36,\n",
       "             max_features=10, max_leaf_nodes=85, min_impurity_decrease=0.0,\n",
       "             min_impurity_split=None, min_samples_leaf=10,\n",
       "             min_samples_split=13, min_weight_fraction_leaf=0.24,\n",
       "             presort=False, random_state=371570218, splitter='best'),\n",
       " DecisionTreeClassifier(class_weight=None, criterion='gini', max_depth=36,\n",
       "             max_features=10, max_leaf_nodes=85, min_impurity_decrease=0.0,\n",
       "             min_impurity_split=None, min_samples_leaf=10,\n",
       "             min_samples_split=13, min_weight_fraction_leaf=0.24,\n",
       "             presort=False, random_state=226866547, splitter='best'),\n",
       " DecisionTreeClassifier(class_weight=None, criterion='gini', max_depth=36,\n",
       "             max_features=10, max_leaf_nodes=85, min_impurity_decrease=0.0,\n",
       "             min_impurity_split=None, min_samples_leaf=10,\n",
       "             min_samples_split=13, min_weight_fraction_leaf=0.24,\n",
       "             presort=False, random_state=86361272, splitter='best'),\n",
       " DecisionTreeClassifier(class_weight=None, criterion='gini', max_depth=36,\n",
       "             max_features=10, max_leaf_nodes=85, min_impurity_decrease=0.0,\n",
       "             min_impurity_split=None, min_samples_leaf=10,\n",
       "             min_samples_split=13, min_weight_fraction_leaf=0.24,\n",
       "             presort=False, random_state=708413884, splitter='best'),\n",
       " DecisionTreeClassifier(class_weight=None, criterion='gini', max_depth=36,\n",
       "             max_features=10, max_leaf_nodes=85, min_impurity_decrease=0.0,\n",
       "             min_impurity_split=None, min_samples_leaf=10,\n",
       "             min_samples_split=13, min_weight_fraction_leaf=0.24,\n",
       "             presort=False, random_state=1412786664, splitter='best'),\n",
       " DecisionTreeClassifier(class_weight=None, criterion='gini', max_depth=36,\n",
       "             max_features=10, max_leaf_nodes=85, min_impurity_decrease=0.0,\n",
       "             min_impurity_split=None, min_samples_leaf=10,\n",
       "             min_samples_split=13, min_weight_fraction_leaf=0.24,\n",
       "             presort=False, random_state=1588313677, splitter='best'),\n",
       " DecisionTreeClassifier(class_weight=None, criterion='gini', max_depth=36,\n",
       "             max_features=10, max_leaf_nodes=85, min_impurity_decrease=0.0,\n",
       "             min_impurity_split=None, min_samples_leaf=10,\n",
       "             min_samples_split=13, min_weight_fraction_leaf=0.24,\n",
       "             presort=False, random_state=20166942, splitter='best'),\n",
       " DecisionTreeClassifier(class_weight=None, criterion='gini', max_depth=36,\n",
       "             max_features=10, max_leaf_nodes=85, min_impurity_decrease=0.0,\n",
       "             min_impurity_split=None, min_samples_leaf=10,\n",
       "             min_samples_split=13, min_weight_fraction_leaf=0.24,\n",
       "             presort=False, random_state=628962584, splitter='best'),\n",
       " DecisionTreeClassifier(class_weight=None, criterion='gini', max_depth=36,\n",
       "             max_features=10, max_leaf_nodes=85, min_impurity_decrease=0.0,\n",
       "             min_impurity_split=None, min_samples_leaf=10,\n",
       "             min_samples_split=13, min_weight_fraction_leaf=0.24,\n",
       "             presort=False, random_state=763716221, splitter='best'),\n",
       " DecisionTreeClassifier(class_weight=None, criterion='gini', max_depth=36,\n",
       "             max_features=10, max_leaf_nodes=85, min_impurity_decrease=0.0,\n",
       "             min_impurity_split=None, min_samples_leaf=10,\n",
       "             min_samples_split=13, min_weight_fraction_leaf=0.24,\n",
       "             presort=False, random_state=299008770, splitter='best'),\n",
       " DecisionTreeClassifier(class_weight=None, criterion='gini', max_depth=36,\n",
       "             max_features=10, max_leaf_nodes=85, min_impurity_decrease=0.0,\n",
       "             min_impurity_split=None, min_samples_leaf=10,\n",
       "             min_samples_split=13, min_weight_fraction_leaf=0.24,\n",
       "             presort=False, random_state=1159675395, splitter='best'),\n",
       " DecisionTreeClassifier(class_weight=None, criterion='gini', max_depth=36,\n",
       "             max_features=10, max_leaf_nodes=85, min_impurity_decrease=0.0,\n",
       "             min_impurity_split=None, min_samples_leaf=10,\n",
       "             min_samples_split=13, min_weight_fraction_leaf=0.24,\n",
       "             presort=False, random_state=875044958, splitter='best'),\n",
       " DecisionTreeClassifier(class_weight=None, criterion='gini', max_depth=36,\n",
       "             max_features=10, max_leaf_nodes=85, min_impurity_decrease=0.0,\n",
       "             min_impurity_split=None, min_samples_leaf=10,\n",
       "             min_samples_split=13, min_weight_fraction_leaf=0.24,\n",
       "             presort=False, random_state=1010150626, splitter='best'),\n",
       " DecisionTreeClassifier(class_weight=None, criterion='gini', max_depth=36,\n",
       "             max_features=10, max_leaf_nodes=85, min_impurity_decrease=0.0,\n",
       "             min_impurity_split=None, min_samples_leaf=10,\n",
       "             min_samples_split=13, min_weight_fraction_leaf=0.24,\n",
       "             presort=False, random_state=1238996843, splitter='best'),\n",
       " DecisionTreeClassifier(class_weight=None, criterion='gini', max_depth=36,\n",
       "             max_features=10, max_leaf_nodes=85, min_impurity_decrease=0.0,\n",
       "             min_impurity_split=None, min_samples_leaf=10,\n",
       "             min_samples_split=13, min_weight_fraction_leaf=0.24,\n",
       "             presort=False, random_state=1985084685, splitter='best'),\n",
       " DecisionTreeClassifier(class_weight=None, criterion='gini', max_depth=36,\n",
       "             max_features=10, max_leaf_nodes=85, min_impurity_decrease=0.0,\n",
       "             min_impurity_split=None, min_samples_leaf=10,\n",
       "             min_samples_split=13, min_weight_fraction_leaf=0.24,\n",
       "             presort=False, random_state=1860958064, splitter='best'),\n",
       " DecisionTreeClassifier(class_weight=None, criterion='gini', max_depth=36,\n",
       "             max_features=10, max_leaf_nodes=85, min_impurity_decrease=0.0,\n",
       "             min_impurity_split=None, min_samples_leaf=10,\n",
       "             min_samples_split=13, min_weight_fraction_leaf=0.24,\n",
       "             presort=False, random_state=1068386600, splitter='best'),\n",
       " DecisionTreeClassifier(class_weight=None, criterion='gini', max_depth=36,\n",
       "             max_features=10, max_leaf_nodes=85, min_impurity_decrease=0.0,\n",
       "             min_impurity_split=None, min_samples_leaf=10,\n",
       "             min_samples_split=13, min_weight_fraction_leaf=0.24,\n",
       "             presort=False, random_state=1099969864, splitter='best'),\n",
       " DecisionTreeClassifier(class_weight=None, criterion='gini', max_depth=36,\n",
       "             max_features=10, max_leaf_nodes=85, min_impurity_decrease=0.0,\n",
       "             min_impurity_split=None, min_samples_leaf=10,\n",
       "             min_samples_split=13, min_weight_fraction_leaf=0.24,\n",
       "             presort=False, random_state=327093267, splitter='best'),\n",
       " DecisionTreeClassifier(class_weight=None, criterion='gini', max_depth=36,\n",
       "             max_features=10, max_leaf_nodes=85, min_impurity_decrease=0.0,\n",
       "             min_impurity_split=None, min_samples_leaf=10,\n",
       "             min_samples_split=13, min_weight_fraction_leaf=0.24,\n",
       "             presort=False, random_state=1701229151, splitter='best'),\n",
       " DecisionTreeClassifier(class_weight=None, criterion='gini', max_depth=36,\n",
       "             max_features=10, max_leaf_nodes=85, min_impurity_decrease=0.0,\n",
       "             min_impurity_split=None, min_samples_leaf=10,\n",
       "             min_samples_split=13, min_weight_fraction_leaf=0.24,\n",
       "             presort=False, random_state=395317064, splitter='best'),\n",
       " DecisionTreeClassifier(class_weight=None, criterion='gini', max_depth=36,\n",
       "             max_features=10, max_leaf_nodes=85, min_impurity_decrease=0.0,\n",
       "             min_impurity_split=None, min_samples_leaf=10,\n",
       "             min_samples_split=13, min_weight_fraction_leaf=0.24,\n",
       "             presort=False, random_state=1700971930, splitter='best'),\n",
       " DecisionTreeClassifier(class_weight=None, criterion='gini', max_depth=36,\n",
       "             max_features=10, max_leaf_nodes=85, min_impurity_decrease=0.0,\n",
       "             min_impurity_split=None, min_samples_leaf=10,\n",
       "             min_samples_split=13, min_weight_fraction_leaf=0.24,\n",
       "             presort=False, random_state=310319554, splitter='best'),\n",
       " DecisionTreeClassifier(class_weight=None, criterion='gini', max_depth=36,\n",
       "             max_features=10, max_leaf_nodes=85, min_impurity_decrease=0.0,\n",
       "             min_impurity_split=None, min_samples_leaf=10,\n",
       "             min_samples_split=13, min_weight_fraction_leaf=0.24,\n",
       "             presort=False, random_state=596661496, splitter='best'),\n",
       " DecisionTreeClassifier(class_weight=None, criterion='gini', max_depth=36,\n",
       "             max_features=10, max_leaf_nodes=85, min_impurity_decrease=0.0,\n",
       "             min_impurity_split=None, min_samples_leaf=10,\n",
       "             min_samples_split=13, min_weight_fraction_leaf=0.24,\n",
       "             presort=False, random_state=958128308, splitter='best'),\n",
       " DecisionTreeClassifier(class_weight=None, criterion='gini', max_depth=36,\n",
       "             max_features=10, max_leaf_nodes=85, min_impurity_decrease=0.0,\n",
       "             min_impurity_split=None, min_samples_leaf=10,\n",
       "             min_samples_split=13, min_weight_fraction_leaf=0.24,\n",
       "             presort=False, random_state=1681713475, splitter='best'),\n",
       " DecisionTreeClassifier(class_weight=None, criterion='gini', max_depth=36,\n",
       "             max_features=10, max_leaf_nodes=85, min_impurity_decrease=0.0,\n",
       "             min_impurity_split=None, min_samples_leaf=10,\n",
       "             min_samples_split=13, min_weight_fraction_leaf=0.24,\n",
       "             presort=False, random_state=1944542188, splitter='best'),\n",
       " DecisionTreeClassifier(class_weight=None, criterion='gini', max_depth=36,\n",
       "             max_features=10, max_leaf_nodes=85, min_impurity_decrease=0.0,\n",
       "             min_impurity_split=None, min_samples_leaf=10,\n",
       "             min_samples_split=13, min_weight_fraction_leaf=0.24,\n",
       "             presort=False, random_state=773332797, splitter='best'),\n",
       " DecisionTreeClassifier(class_weight=None, criterion='gini', max_depth=36,\n",
       "             max_features=10, max_leaf_nodes=85, min_impurity_decrease=0.0,\n",
       "             min_impurity_split=None, min_samples_leaf=10,\n",
       "             min_samples_split=13, min_weight_fraction_leaf=0.24,\n",
       "             presort=False, random_state=1920388878, splitter='best'),\n",
       " DecisionTreeClassifier(class_weight=None, criterion='gini', max_depth=36,\n",
       "             max_features=10, max_leaf_nodes=85, min_impurity_decrease=0.0,\n",
       "             min_impurity_split=None, min_samples_leaf=10,\n",
       "             min_samples_split=13, min_weight_fraction_leaf=0.24,\n",
       "             presort=False, random_state=1929289568, splitter='best'),\n",
       " DecisionTreeClassifier(class_weight=None, criterion='gini', max_depth=36,\n",
       "             max_features=10, max_leaf_nodes=85, min_impurity_decrease=0.0,\n",
       "             min_impurity_split=None, min_samples_leaf=10,\n",
       "             min_samples_split=13, min_weight_fraction_leaf=0.24,\n",
       "             presort=False, random_state=1487813892, splitter='best'),\n",
       " DecisionTreeClassifier(class_weight=None, criterion='gini', max_depth=36,\n",
       "             max_features=10, max_leaf_nodes=85, min_impurity_decrease=0.0,\n",
       "             min_impurity_split=None, min_samples_leaf=10,\n",
       "             min_samples_split=13, min_weight_fraction_leaf=0.24,\n",
       "             presort=False, random_state=2055446467, splitter='best'),\n",
       " DecisionTreeClassifier(class_weight=None, criterion='gini', max_depth=36,\n",
       "             max_features=10, max_leaf_nodes=85, min_impurity_decrease=0.0,\n",
       "             min_impurity_split=None, min_samples_leaf=10,\n",
       "             min_samples_split=13, min_weight_fraction_leaf=0.24,\n",
       "             presort=False, random_state=856756973, splitter='best'),\n",
       " DecisionTreeClassifier(class_weight=None, criterion='gini', max_depth=36,\n",
       "             max_features=10, max_leaf_nodes=85, min_impurity_decrease=0.0,\n",
       "             min_impurity_split=None, min_samples_leaf=10,\n",
       "             min_samples_split=13, min_weight_fraction_leaf=0.24,\n",
       "             presort=False, random_state=499083403, splitter='best'),\n",
       " DecisionTreeClassifier(class_weight=None, criterion='gini', max_depth=36,\n",
       "             max_features=10, max_leaf_nodes=85, min_impurity_decrease=0.0,\n",
       "             min_impurity_split=None, min_samples_leaf=10,\n",
       "             min_samples_split=13, min_weight_fraction_leaf=0.24,\n",
       "             presort=False, random_state=1277481980, splitter='best'),\n",
       " DecisionTreeClassifier(class_weight=None, criterion='gini', max_depth=36,\n",
       "             max_features=10, max_leaf_nodes=85, min_impurity_decrease=0.0,\n",
       "             min_impurity_split=None, min_samples_leaf=10,\n",
       "             min_samples_split=13, min_weight_fraction_leaf=0.24,\n",
       "             presort=False, random_state=1146858070, splitter='best'),\n",
       " DecisionTreeClassifier(class_weight=None, criterion='gini', max_depth=36,\n",
       "             max_features=10, max_leaf_nodes=85, min_impurity_decrease=0.0,\n",
       "             min_impurity_split=None, min_samples_leaf=10,\n",
       "             min_samples_split=13, min_weight_fraction_leaf=0.24,\n",
       "             presort=False, random_state=1347751373, splitter='best'),\n",
       " DecisionTreeClassifier(class_weight=None, criterion='gini', max_depth=36,\n",
       "             max_features=10, max_leaf_nodes=85, min_impurity_decrease=0.0,\n",
       "             min_impurity_split=None, min_samples_leaf=10,\n",
       "             min_samples_split=13, min_weight_fraction_leaf=0.24,\n",
       "             presort=False, random_state=1768754041, splitter='best'),\n",
       " DecisionTreeClassifier(class_weight=None, criterion='gini', max_depth=36,\n",
       "             max_features=10, max_leaf_nodes=85, min_impurity_decrease=0.0,\n",
       "             min_impurity_split=None, min_samples_leaf=10,\n",
       "             min_samples_split=13, min_weight_fraction_leaf=0.24,\n",
       "             presort=False, random_state=1702979181, splitter='best'),\n",
       " DecisionTreeClassifier(class_weight=None, criterion='gini', max_depth=36,\n",
       "             max_features=10, max_leaf_nodes=85, min_impurity_decrease=0.0,\n",
       "             min_impurity_split=None, min_samples_leaf=10,\n",
       "             min_samples_split=13, min_weight_fraction_leaf=0.24,\n",
       "             presort=False, random_state=753505099, splitter='best'),\n",
       " DecisionTreeClassifier(class_weight=None, criterion='gini', max_depth=36,\n",
       "             max_features=10, max_leaf_nodes=85, min_impurity_decrease=0.0,\n",
       "             min_impurity_split=None, min_samples_leaf=10,\n",
       "             min_samples_split=13, min_weight_fraction_leaf=0.24,\n",
       "             presort=False, random_state=1636825784, splitter='best'),\n",
       " DecisionTreeClassifier(class_weight=None, criterion='gini', max_depth=36,\n",
       "             max_features=10, max_leaf_nodes=85, min_impurity_decrease=0.0,\n",
       "             min_impurity_split=None, min_samples_leaf=10,\n",
       "             min_samples_split=13, min_weight_fraction_leaf=0.24,\n",
       "             presort=False, random_state=1072866832, splitter='best'),\n",
       " DecisionTreeClassifier(class_weight=None, criterion='gini', max_depth=36,\n",
       "             max_features=10, max_leaf_nodes=85, min_impurity_decrease=0.0,\n",
       "             min_impurity_split=None, min_samples_leaf=10,\n",
       "             min_samples_split=13, min_weight_fraction_leaf=0.24,\n",
       "             presort=False, random_state=349064344, splitter='best'),\n",
       " DecisionTreeClassifier(class_weight=None, criterion='gini', max_depth=36,\n",
       "             max_features=10, max_leaf_nodes=85, min_impurity_decrease=0.0,\n",
       "             min_impurity_split=None, min_samples_leaf=10,\n",
       "             min_samples_split=13, min_weight_fraction_leaf=0.24,\n",
       "             presort=False, random_state=1345262493, splitter='best'),\n",
       " DecisionTreeClassifier(class_weight=None, criterion='gini', max_depth=36,\n",
       "             max_features=10, max_leaf_nodes=85, min_impurity_decrease=0.0,\n",
       "             min_impurity_split=None, min_samples_leaf=10,\n",
       "             min_samples_split=13, min_weight_fraction_leaf=0.24,\n",
       "             presort=False, random_state=1639540885, splitter='best'),\n",
       " DecisionTreeClassifier(class_weight=None, criterion='gini', max_depth=36,\n",
       "             max_features=10, max_leaf_nodes=85, min_impurity_decrease=0.0,\n",
       "             min_impurity_split=None, min_samples_leaf=10,\n",
       "             min_samples_split=13, min_weight_fraction_leaf=0.24,\n",
       "             presort=False, random_state=1998947438, splitter='best'),\n",
       " DecisionTreeClassifier(class_weight=None, criterion='gini', max_depth=36,\n",
       "             max_features=10, max_leaf_nodes=85, min_impurity_decrease=0.0,\n",
       "             min_impurity_split=None, min_samples_leaf=10,\n",
       "             min_samples_split=13, min_weight_fraction_leaf=0.24,\n",
       "             presort=False, random_state=826916889, splitter='best'),\n",
       " DecisionTreeClassifier(class_weight=None, criterion='gini', max_depth=36,\n",
       "             max_features=10, max_leaf_nodes=85, min_impurity_decrease=0.0,\n",
       "             min_impurity_split=None, min_samples_leaf=10,\n",
       "             min_samples_split=13, min_weight_fraction_leaf=0.24,\n",
       "             presort=False, random_state=379954640, splitter='best'),\n",
       " DecisionTreeClassifier(class_weight=None, criterion='gini', max_depth=36,\n",
       "             max_features=10, max_leaf_nodes=85, min_impurity_decrease=0.0,\n",
       "             min_impurity_split=None, min_samples_leaf=10,\n",
       "             min_samples_split=13, min_weight_fraction_leaf=0.24,\n",
       "             presort=False, random_state=967459772, splitter='best'),\n",
       " DecisionTreeClassifier(class_weight=None, criterion='gini', max_depth=36,\n",
       "             max_features=10, max_leaf_nodes=85, min_impurity_decrease=0.0,\n",
       "             min_impurity_split=None, min_samples_leaf=10,\n",
       "             min_samples_split=13, min_weight_fraction_leaf=0.24,\n",
       "             presort=False, random_state=685770617, splitter='best'),\n",
       " DecisionTreeClassifier(class_weight=None, criterion='gini', max_depth=36,\n",
       "             max_features=10, max_leaf_nodes=85, min_impurity_decrease=0.0,\n",
       "             min_impurity_split=None, min_samples_leaf=10,\n",
       "             min_samples_split=13, min_weight_fraction_leaf=0.24,\n",
       "             presort=False, random_state=5688182, splitter='best'),\n",
       " DecisionTreeClassifier(class_weight=None, criterion='gini', max_depth=36,\n",
       "             max_features=10, max_leaf_nodes=85, min_impurity_decrease=0.0,\n",
       "             min_impurity_split=None, min_samples_leaf=10,\n",
       "             min_samples_split=13, min_weight_fraction_leaf=0.24,\n",
       "             presort=False, random_state=142619765, splitter='best'),\n",
       " DecisionTreeClassifier(class_weight=None, criterion='gini', max_depth=36,\n",
       "             max_features=10, max_leaf_nodes=85, min_impurity_decrease=0.0,\n",
       "             min_impurity_split=None, min_samples_leaf=10,\n",
       "             min_samples_split=13, min_weight_fraction_leaf=0.24,\n",
       "             presort=False, random_state=1958864317, splitter='best'),\n",
       " DecisionTreeClassifier(class_weight=None, criterion='gini', max_depth=36,\n",
       "             max_features=10, max_leaf_nodes=85, min_impurity_decrease=0.0,\n",
       "             min_impurity_split=None, min_samples_leaf=10,\n",
       "             min_samples_split=13, min_weight_fraction_leaf=0.24,\n",
       "             presort=False, random_state=990131795, splitter='best'),\n",
       " DecisionTreeClassifier(class_weight=None, criterion='gini', max_depth=36,\n",
       "             max_features=10, max_leaf_nodes=85, min_impurity_decrease=0.0,\n",
       "             min_impurity_split=None, min_samples_leaf=10,\n",
       "             min_samples_split=13, min_weight_fraction_leaf=0.24,\n",
       "             presort=False, random_state=618433185, splitter='best'),\n",
       " DecisionTreeClassifier(class_weight=None, criterion='gini', max_depth=36,\n",
       "             max_features=10, max_leaf_nodes=85, min_impurity_decrease=0.0,\n",
       "             min_impurity_split=None, min_samples_leaf=10,\n",
       "             min_samples_split=13, min_weight_fraction_leaf=0.24,\n",
       "             presort=False, random_state=1695950696, splitter='best'),\n",
       " DecisionTreeClassifier(class_weight=None, criterion='gini', max_depth=36,\n",
       "             max_features=10, max_leaf_nodes=85, min_impurity_decrease=0.0,\n",
       "             min_impurity_split=None, min_samples_leaf=10,\n",
       "             min_samples_split=13, min_weight_fraction_leaf=0.24,\n",
       "             presort=False, random_state=1820443552, splitter='best'),\n",
       " DecisionTreeClassifier(class_weight=None, criterion='gini', max_depth=36,\n",
       "             max_features=10, max_leaf_nodes=85, min_impurity_decrease=0.0,\n",
       "             min_impurity_split=None, min_samples_leaf=10,\n",
       "             min_samples_split=13, min_weight_fraction_leaf=0.24,\n",
       "             presort=False, random_state=510278884, splitter='best'),\n",
       " DecisionTreeClassifier(class_weight=None, criterion='gini', max_depth=36,\n",
       "             max_features=10, max_leaf_nodes=85, min_impurity_decrease=0.0,\n",
       "             min_impurity_split=None, min_samples_leaf=10,\n",
       "             min_samples_split=13, min_weight_fraction_leaf=0.24,\n",
       "             presort=False, random_state=456955387, splitter='best'),\n",
       " DecisionTreeClassifier(class_weight=None, criterion='gini', max_depth=36,\n",
       "             max_features=10, max_leaf_nodes=85, min_impurity_decrease=0.0,\n",
       "             min_impurity_split=None, min_samples_leaf=10,\n",
       "             min_samples_split=13, min_weight_fraction_leaf=0.24,\n",
       "             presort=False, random_state=2039540475, splitter='best'),\n",
       " DecisionTreeClassifier(class_weight=None, criterion='gini', max_depth=36,\n",
       "             max_features=10, max_leaf_nodes=85, min_impurity_decrease=0.0,\n",
       "             min_impurity_split=None, min_samples_leaf=10,\n",
       "             min_samples_split=13, min_weight_fraction_leaf=0.24,\n",
       "             presort=False, random_state=82434169, splitter='best'),\n",
       " DecisionTreeClassifier(class_weight=None, criterion='gini', max_depth=36,\n",
       "             max_features=10, max_leaf_nodes=85, min_impurity_decrease=0.0,\n",
       "             min_impurity_split=None, min_samples_leaf=10,\n",
       "             min_samples_split=13, min_weight_fraction_leaf=0.24,\n",
       "             presort=False, random_state=2019202374, splitter='best'),\n",
       " DecisionTreeClassifier(class_weight=None, criterion='gini', max_depth=36,\n",
       "             max_features=10, max_leaf_nodes=85, min_impurity_decrease=0.0,\n",
       "             min_impurity_split=None, min_samples_leaf=10,\n",
       "             min_samples_split=13, min_weight_fraction_leaf=0.24,\n",
       "             presort=False, random_state=1295253973, splitter='best'),\n",
       " DecisionTreeClassifier(class_weight=None, criterion='gini', max_depth=36,\n",
       "             max_features=10, max_leaf_nodes=85, min_impurity_decrease=0.0,\n",
       "             min_impurity_split=None, min_samples_leaf=10,\n",
       "             min_samples_split=13, min_weight_fraction_leaf=0.24,\n",
       "             presort=False, random_state=928033055, splitter='best'),\n",
       " DecisionTreeClassifier(class_weight=None, criterion='gini', max_depth=36,\n",
       "             max_features=10, max_leaf_nodes=85, min_impurity_decrease=0.0,\n",
       "             min_impurity_split=None, min_samples_leaf=10,\n",
       "             min_samples_split=13, min_weight_fraction_leaf=0.24,\n",
       "             presort=False, random_state=687940109, splitter='best'),\n",
       " DecisionTreeClassifier(class_weight=None, criterion='gini', max_depth=36,\n",
       "             max_features=10, max_leaf_nodes=85, min_impurity_decrease=0.0,\n",
       "             min_impurity_split=None, min_samples_leaf=10,\n",
       "             min_samples_split=13, min_weight_fraction_leaf=0.24,\n",
       "             presort=False, random_state=1236911943, splitter='best'),\n",
       " DecisionTreeClassifier(class_weight=None, criterion='gini', max_depth=36,\n",
       "             max_features=10, max_leaf_nodes=85, min_impurity_decrease=0.0,\n",
       "             min_impurity_split=None, min_samples_leaf=10,\n",
       "             min_samples_split=13, min_weight_fraction_leaf=0.24,\n",
       "             presort=False, random_state=1245873848, splitter='best'),\n",
       " DecisionTreeClassifier(class_weight=None, criterion='gini', max_depth=36,\n",
       "             max_features=10, max_leaf_nodes=85, min_impurity_decrease=0.0,\n",
       "             min_impurity_split=None, min_samples_leaf=10,\n",
       "             min_samples_split=13, min_weight_fraction_leaf=0.24,\n",
       "             presort=False, random_state=1646957720, splitter='best'),\n",
       " DecisionTreeClassifier(class_weight=None, criterion='gini', max_depth=36,\n",
       "             max_features=10, max_leaf_nodes=85, min_impurity_decrease=0.0,\n",
       "             min_impurity_split=None, min_samples_leaf=10,\n",
       "             min_samples_split=13, min_weight_fraction_leaf=0.24,\n",
       "             presort=False, random_state=506872399, splitter='best'),\n",
       " DecisionTreeClassifier(class_weight=None, criterion='gini', max_depth=36,\n",
       "             max_features=10, max_leaf_nodes=85, min_impurity_decrease=0.0,\n",
       "             min_impurity_split=None, min_samples_leaf=10,\n",
       "             min_samples_split=13, min_weight_fraction_leaf=0.24,\n",
       "             presort=False, random_state=1070176297, splitter='best'),\n",
       " DecisionTreeClassifier(class_weight=None, criterion='gini', max_depth=36,\n",
       "             max_features=10, max_leaf_nodes=85, min_impurity_decrease=0.0,\n",
       "             min_impurity_split=None, min_samples_leaf=10,\n",
       "             min_samples_split=13, min_weight_fraction_leaf=0.24,\n",
       "             presort=False, random_state=1841547538, splitter='best'),\n",
       " DecisionTreeClassifier(class_weight=None, criterion='gini', max_depth=36,\n",
       "             max_features=10, max_leaf_nodes=85, min_impurity_decrease=0.0,\n",
       "             min_impurity_split=None, min_samples_leaf=10,\n",
       "             min_samples_split=13, min_weight_fraction_leaf=0.24,\n",
       "             presort=False, random_state=1625439784, splitter='best'),\n",
       " DecisionTreeClassifier(class_weight=None, criterion='gini', max_depth=36,\n",
       "             max_features=10, max_leaf_nodes=85, min_impurity_decrease=0.0,\n",
       "             min_impurity_split=None, min_samples_leaf=10,\n",
       "             min_samples_split=13, min_weight_fraction_leaf=0.24,\n",
       "             presort=False, random_state=581856694, splitter='best'),\n",
       " DecisionTreeClassifier(class_weight=None, criterion='gini', max_depth=36,\n",
       "             max_features=10, max_leaf_nodes=85, min_impurity_decrease=0.0,\n",
       "             min_impurity_split=None, min_samples_leaf=10,\n",
       "             min_samples_split=13, min_weight_fraction_leaf=0.24,\n",
       "             presort=False, random_state=441794767, splitter='best'),\n",
       " DecisionTreeClassifier(class_weight=None, criterion='gini', max_depth=36,\n",
       "             max_features=10, max_leaf_nodes=85, min_impurity_decrease=0.0,\n",
       "             min_impurity_split=None, min_samples_leaf=10,\n",
       "             min_samples_split=13, min_weight_fraction_leaf=0.24,\n",
       "             presort=False, random_state=1281112843, splitter='best'),\n",
       " DecisionTreeClassifier(class_weight=None, criterion='gini', max_depth=36,\n",
       "             max_features=10, max_leaf_nodes=85, min_impurity_decrease=0.0,\n",
       "             min_impurity_split=None, min_samples_leaf=10,\n",
       "             min_samples_split=13, min_weight_fraction_leaf=0.24,\n",
       "             presort=False, random_state=396742822, splitter='best'),\n",
       " DecisionTreeClassifier(class_weight=None, criterion='gini', max_depth=36,\n",
       "             max_features=10, max_leaf_nodes=85, min_impurity_decrease=0.0,\n",
       "             min_impurity_split=None, min_samples_leaf=10,\n",
       "             min_samples_split=13, min_weight_fraction_leaf=0.24,\n",
       "             presort=False, random_state=300497007, splitter='best'),\n",
       " DecisionTreeClassifier(class_weight=None, criterion='gini', max_depth=36,\n",
       "             max_features=10, max_leaf_nodes=85, min_impurity_decrease=0.0,\n",
       "             min_impurity_split=None, min_samples_leaf=10,\n",
       "             min_samples_split=13, min_weight_fraction_leaf=0.24,\n",
       "             presort=False, random_state=1520618845, splitter='best'),\n",
       " DecisionTreeClassifier(class_weight=None, criterion='gini', max_depth=36,\n",
       "             max_features=10, max_leaf_nodes=85, min_impurity_decrease=0.0,\n",
       "             min_impurity_split=None, min_samples_leaf=10,\n",
       "             min_samples_split=13, min_weight_fraction_leaf=0.24,\n",
       "             presort=False, random_state=390295545, splitter='best'),\n",
       " DecisionTreeClassifier(class_weight=None, criterion='gini', max_depth=36,\n",
       "             max_features=10, max_leaf_nodes=85, min_impurity_decrease=0.0,\n",
       "             min_impurity_split=None, min_samples_leaf=10,\n",
       "             min_samples_split=13, min_weight_fraction_leaf=0.24,\n",
       "             presort=False, random_state=222549121, splitter='best'),\n",
       " DecisionTreeClassifier(class_weight=None, criterion='gini', max_depth=36,\n",
       "             max_features=10, max_leaf_nodes=85, min_impurity_decrease=0.0,\n",
       "             min_impurity_split=None, min_samples_leaf=10,\n",
       "             min_samples_split=13, min_weight_fraction_leaf=0.24,\n",
       "             presort=False, random_state=319224543, splitter='best'),\n",
       " DecisionTreeClassifier(class_weight=None, criterion='gini', max_depth=36,\n",
       "             max_features=10, max_leaf_nodes=85, min_impurity_decrease=0.0,\n",
       "             min_impurity_split=None, min_samples_leaf=10,\n",
       "             min_samples_split=13, min_weight_fraction_leaf=0.24,\n",
       "             presort=False, random_state=144418678, splitter='best'),\n",
       " DecisionTreeClassifier(class_weight=None, criterion='gini', max_depth=36,\n",
       "             max_features=10, max_leaf_nodes=85, min_impurity_decrease=0.0,\n",
       "             min_impurity_split=None, min_samples_leaf=10,\n",
       "             min_samples_split=13, min_weight_fraction_leaf=0.24,\n",
       "             presort=False, random_state=657992492, splitter='best'),\n",
       " DecisionTreeClassifier(class_weight=None, criterion='gini', max_depth=36,\n",
       "             max_features=10, max_leaf_nodes=85, min_impurity_decrease=0.0,\n",
       "             min_impurity_split=None, min_samples_leaf=10,\n",
       "             min_samples_split=13, min_weight_fraction_leaf=0.24,\n",
       "             presort=False, random_state=2014175448, splitter='best'),\n",
       " DecisionTreeClassifier(class_weight=None, criterion='gini', max_depth=36,\n",
       "             max_features=10, max_leaf_nodes=85, min_impurity_decrease=0.0,\n",
       "             min_impurity_split=None, min_samples_leaf=10,\n",
       "             min_samples_split=13, min_weight_fraction_leaf=0.24,\n",
       "             presort=False, random_state=653278589, splitter='best'),\n",
       " DecisionTreeClassifier(class_weight=None, criterion='gini', max_depth=36,\n",
       "             max_features=10, max_leaf_nodes=85, min_impurity_decrease=0.0,\n",
       "             min_impurity_split=None, min_samples_leaf=10,\n",
       "             min_samples_split=13, min_weight_fraction_leaf=0.24,\n",
       "             presort=False, random_state=1378672664, splitter='best'),\n",
       " DecisionTreeClassifier(class_weight=None, criterion='gini', max_depth=36,\n",
       "             max_features=10, max_leaf_nodes=85, min_impurity_decrease=0.0,\n",
       "             min_impurity_split=None, min_samples_leaf=10,\n",
       "             min_samples_split=13, min_weight_fraction_leaf=0.24,\n",
       "             presort=False, random_state=1852928067, splitter='best'),\n",
       " DecisionTreeClassifier(class_weight=None, criterion='gini', max_depth=36,\n",
       "             max_features=10, max_leaf_nodes=85, min_impurity_decrease=0.0,\n",
       "             min_impurity_split=None, min_samples_leaf=10,\n",
       "             min_samples_split=13, min_weight_fraction_leaf=0.24,\n",
       "             presort=False, random_state=950315986, splitter='best'),\n",
       " DecisionTreeClassifier(class_weight=None, criterion='gini', max_depth=36,\n",
       "             max_features=10, max_leaf_nodes=85, min_impurity_decrease=0.0,\n",
       "             min_impurity_split=None, min_samples_leaf=10,\n",
       "             min_samples_split=13, min_weight_fraction_leaf=0.24,\n",
       "             presort=False, random_state=1703154671, splitter='best')]"
      ]
     },
     "execution_count": 91,
     "metadata": {},
     "output_type": "execute_result"
    }
   ],
   "source": [
    "model.estimators_"
   ]
  },
  {
   "cell_type": "code",
   "execution_count": 92,
   "metadata": {},
   "outputs": [
    {
     "ename": "NameError",
     "evalue": "name 'plot_tree' is not defined",
     "output_type": "error",
     "traceback": [
      "\u001b[0;31m---------------------------------------------------------------------------\u001b[0m",
      "\u001b[0;31mNameError\u001b[0m                                 Traceback (most recent call last)",
      "\u001b[0;32m<ipython-input-92-4d18fa716943>\u001b[0m in \u001b[0;36m<module>\u001b[0;34m\u001b[0m\n\u001b[0;32m----> 1\u001b[0;31m \u001b[0m_\u001b[0m \u001b[0;34m=\u001b[0m \u001b[0mplot_tree\u001b[0m\u001b[0;34m(\u001b[0m\u001b[0mmodel\u001b[0m\u001b[0;34m.\u001b[0m\u001b[0mestimators_\u001b[0m\u001b[0;34m[\u001b[0m\u001b[0;36m0\u001b[0m\u001b[0;34m]\u001b[0m\u001b[0;34m,\u001b[0m \u001b[0mfilled\u001b[0m\u001b[0;34m=\u001b[0m\u001b[0;32mTrue\u001b[0m\u001b[0;34m)\u001b[0m\u001b[0;34m\u001b[0m\u001b[0;34m\u001b[0m\u001b[0m\n\u001b[0m",
      "\u001b[0;31mNameError\u001b[0m: name 'plot_tree' is not defined"
     ]
    }
   ],
   "source": [
    "_ = plot_tree(model.estimators_[0], filled=True, feature_names = data.feature_names)"
   ]
  },
  {
   "cell_type": "markdown",
   "metadata": {},
   "source": [
    "##### learning_rate"
   ]
  },
  {
   "cell_type": "markdown",
   "metadata": {},
   "source": [
    "#### algorithm"
   ]
  },
  {
   "cell_type": "markdown",
   "metadata": {},
   "source": [
    "### Atributos de AdaBoostClassifier\n",
    "<div style = \"float:right\"><a style=\"text-decoration:none\" href = \"#inicio\">Inicio</a></div>"
   ]
  },
  {
   "cell_type": "code",
   "execution_count": 84,
   "metadata": {},
   "outputs": [
    {
     "data": {
      "text/plain": [
       "AdaBoostClassifier(algorithm='SAMME',\n",
       "          base_estimator=DecisionTreeClassifier(class_weight=None, criterion='gini', max_depth=36,\n",
       "            max_features=10, max_leaf_nodes=85, min_impurity_decrease=0.0,\n",
       "            min_impurity_split=None, min_samples_leaf=10,\n",
       "            min_samples_split=13, min_weight_fraction_leaf=0.24,\n",
       "            presort=False, random_state=0, splitter='best'),\n",
       "          learning_rate=0.85, n_estimators=281, random_state=0)"
      ]
     },
     "execution_count": 84,
     "metadata": {},
     "output_type": "execute_result"
    }
   ],
   "source": [
    "model.fit(X, y)"
   ]
  },
  {
   "cell_type": "markdown",
   "metadata": {},
   "source": [
    "#### base_estimator_"
   ]
  },
  {
   "cell_type": "markdown",
   "metadata": {},
   "source": [
    "#### estimators_"
   ]
  },
  {
   "cell_type": "markdown",
   "metadata": {},
   "source": [
    "#### classes_"
   ]
  },
  {
   "cell_type": "markdown",
   "metadata": {},
   "source": [
    "#### n_classes_"
   ]
  },
  {
   "cell_type": "markdown",
   "metadata": {},
   "source": [
    "#### estimator_weights_"
   ]
  },
  {
   "cell_type": "code",
   "execution_count": 106,
   "metadata": {},
   "outputs": [
    {
     "data": {
      "text/plain": [
       "array([2.06629906, 1.6593858 , 1.28726077, 1.46638751, 0.96138216,\n",
       "       0.8277132 , 0.82935045, 0.77790028, 0.64397488, 0.75106079,\n",
       "       0.99434306, 0.92920353, 0.92384279, 0.66003483, 0.95388929,\n",
       "       0.81636661, 0.55847324, 0.84148603, 0.71843055, 0.55294605,\n",
       "       0.91156541, 1.16967977, 0.7757958 , 0.56413076, 0.62364806,\n",
       "       0.6190245 , 0.66047894, 0.57194077, 0.51720684, 0.71993963,\n",
       "       0.57512418, 0.75773063, 0.70334967, 0.77766355, 0.78810068,\n",
       "       0.76697504, 0.7124046 , 0.84656497, 0.73600331, 0.47804416,\n",
       "       0.6149669 , 0.60616889, 0.78949901, 0.71238683, 0.60356355,\n",
       "       0.64946247, 0.62022902, 0.80394031, 0.60794302, 0.45678467,\n",
       "       0.62995785, 0.77555032, 0.72225211, 0.56301204, 0.73424066,\n",
       "       0.75917602, 0.55150453, 0.80906882, 0.39171843, 0.65486988,\n",
       "       0.65832269, 0.75202634, 0.72221226, 0.61272671, 0.71018377,\n",
       "       0.45370743, 0.63824014, 0.65273166, 0.70745479, 0.62131226,\n",
       "       0.58732188, 0.67001618, 0.90037638, 0.75516522, 0.6632261 ,\n",
       "       0.73368104, 0.8178746 , 0.5647399 , 0.49858032, 0.5893128 ,\n",
       "       0.67744423, 0.63810508, 0.64538352, 0.55643931, 0.55916902,\n",
       "       0.71446069, 0.49197975, 0.5974763 , 0.59954274, 0.73421748,\n",
       "       0.63496282, 0.79045841, 0.55724961, 0.75151682, 0.81615023,\n",
       "       0.50716907, 0.56138404, 0.56830137, 0.60138293, 0.73676581,\n",
       "       0.66442655, 0.69252175, 0.63595375, 0.65190033, 0.67860987,\n",
       "       0.64802611, 0.61716023, 0.95073876, 0.73387819, 0.79047694,\n",
       "       0.68893633, 0.74528615, 0.6177815 , 0.43950215, 0.59823013,\n",
       "       0.53503745, 0.44009907, 0.60411791, 0.7041882 , 0.61424914,\n",
       "       0.71086476, 0.7317621 , 0.78041247, 0.69100057, 0.82132077,\n",
       "       0.68829626, 0.57403876, 0.62776018, 0.52878268, 0.48623058,\n",
       "       0.54642933, 0.6178492 , 0.67580254, 0.56365301, 0.71768793,\n",
       "       0.4390317 , 0.44722533, 0.70899587, 0.57653276, 0.57975922,\n",
       "       0.63479998, 0.5792892 , 0.49081986, 0.65387158, 0.7993957 ,\n",
       "       0.78692075, 0.62102222, 0.63921159, 0.60453482, 0.70033159,\n",
       "       0.67671829, 0.65484343, 0.81050819, 0.61762545, 0.67216253,\n",
       "       0.59936929, 0.76846707, 0.53097958, 0.53867344, 0.70149462,\n",
       "       0.61913874, 0.65904645, 0.56994753, 0.46361703, 0.56285189,\n",
       "       0.5948013 , 0.72638295, 0.52156632, 0.69614611, 0.6982057 ,\n",
       "       0.53508807, 0.47006733, 0.57958715, 0.67528791, 0.61114587,\n",
       "       0.68435483, 0.89228708, 0.6115977 , 0.72549722, 0.5754221 ,\n",
       "       0.54390083, 0.77038185, 0.75921671, 0.59542598, 0.56702104,\n",
       "       0.68405944, 0.61116511, 0.68487884, 0.64766549, 0.52948997,\n",
       "       0.97122709, 0.8413494 , 0.54645822, 0.65437172, 0.49441187,\n",
       "       0.50500514, 0.65133241, 0.77613645, 0.5854197 , 0.80434532,\n",
       "       0.6754493 , 0.82583932, 0.68836863, 0.61427049, 0.65143687,\n",
       "       0.49812989, 0.59051766, 0.58295925, 0.59681948, 0.57505779,\n",
       "       0.55593225, 0.62013346, 0.61290181, 0.87831714, 0.85683436,\n",
       "       0.53969125, 0.60997718, 0.5607266 , 0.73642886, 0.80046905,\n",
       "       0.49209698, 0.47185358, 0.48916792, 0.64748536, 0.60883407,\n",
       "       0.60161938, 0.62938047, 0.64702421, 0.62324905, 0.67524693,\n",
       "       0.56054949, 0.71143004, 0.60962861, 0.53295067, 0.60288034,\n",
       "       0.38037853, 0.69979129, 0.57623306, 0.6546049 , 0.60898888,\n",
       "       0.49860379, 0.61127478, 0.49129908, 0.59812824, 0.67477909,\n",
       "       0.55090951, 0.48186284, 0.65231176, 0.56878113, 0.64445591,\n",
       "       0.53300564, 0.45383981, 0.60620988, 0.42187611, 0.77036597,\n",
       "       0.75067803, 0.51049916, 0.42390497, 0.71538164, 0.62157716,\n",
       "       0.74531917, 0.73063581, 0.73275776, 0.43527788, 0.57756196,\n",
       "       0.55214681, 0.72272951, 0.57352104, 0.51571046, 0.65405579,\n",
       "       0.69594465, 0.47803946, 0.75868728, 0.62378862, 0.70936917,\n",
       "       0.51731282, 0.62363306, 0.65948458, 0.55066454, 0.65141731,\n",
       "       0.5766843 ])"
      ]
     },
     "execution_count": 106,
     "metadata": {},
     "output_type": "execute_result"
    }
   ],
   "source": [
    "model.estimator_weights_"
   ]
  },
  {
   "cell_type": "markdown",
   "metadata": {},
   "source": [
    "#### estimator_errors_"
   ]
  },
  {
   "cell_type": "code",
   "execution_count": 100,
   "metadata": {},
   "outputs": [
    {
     "data": {
      "text/plain": [
       "array([0.08084359, 0.12431164, 0.18028402, 0.15120749, 0.24396962,\n",
       "       0.27412766, 0.27374456, 0.28594167, 0.31916376, 0.29243213,\n",
       "       0.23688836, 0.25101982, 0.25220741, 0.31507221, 0.24559923,\n",
       "       0.27679185, 0.34140769, 0.27091532, 0.30043813, 0.34287129,\n",
       "       0.25494126, 0.20163708, 0.28644746, 0.33991271, 0.32438252,\n",
       "       0.32557577, 0.31495947, 0.33785416, 0.35240632, 0.30006512,\n",
       "       0.33701684, 0.29081114, 0.30418025, 0.28599854, 0.28349774,\n",
       "       0.28857324, 0.30193024, 0.26973671, 0.29611101, 0.3629912 ,\n",
       "       0.32662482, 0.32890542, 0.28316369, 0.30193464, 0.32958232,\n",
       "       0.31776252, 0.32526469, 0.27972781, 0.32844488, 0.36879408,\n",
       "       0.32275777, 0.28650649, 0.29949404, 0.34020807, 0.29654341,\n",
       "       0.29046057, 0.3432535 , 0.27851379, 0.38678534, 0.31638498,\n",
       "       0.31550706, 0.29219714, 0.29950387, 0.32720474, 0.3024812 ,\n",
       "       0.36963722, 0.3206316 , 0.31692931, 0.30315902, 0.32498506,\n",
       "       0.33381801, 0.31254362, 0.25744969, 0.29143399, 0.31426256,\n",
       "       0.29668077, 0.27643685, 0.33975193, 0.35742337, 0.33329734,\n",
       "       0.31066907, 0.32066621, 0.31880375, 0.34194593, 0.34122367,\n",
       "       0.30142065, 0.35920883, 0.33116663, 0.33062837, 0.2965491 ,\n",
       "       0.32147205, 0.28293464, 0.34173145, 0.29232114, 0.27684281,\n",
       "       0.35510603, 0.34063812, 0.33881267, 0.33014942, 0.29592407,\n",
       "       0.31395829, 0.30688316, 0.32121781, 0.31714108, 0.31037546,\n",
       "       0.31812897, 0.32605754, 0.24628662, 0.29663238, 0.28293022,\n",
       "       0.30778112, 0.29383983, 0.32589695, 0.37353964, 0.33097023,\n",
       "       0.34763394, 0.37337532, 0.32943823, 0.30397149, 0.32681057,\n",
       "       0.3023122 , 0.29715206, 0.2853386 , 0.30726396, 0.27562665,\n",
       "       0.30794158, 0.33730222, 0.32332318, 0.34930461, 0.36076717,\n",
       "       0.34460076, 0.32587945, 0.31108283, 0.34003883, 0.30062178,\n",
       "       0.37366917, 0.37141588, 0.30277614, 0.33664667, 0.33579953,\n",
       "       0.32151384, 0.33592287, 0.35952298, 0.31663906, 0.28080632,\n",
       "       0.28377979, 0.32505992, 0.3203827 , 0.32932989, 0.30493229,\n",
       "       0.31085199, 0.31639171, 0.27817365, 0.32593728, 0.31200133,\n",
       "       0.33067353, 0.288213  , 0.34871739, 0.34666447, 0.30464236,\n",
       "       0.32554626, 0.3153232 , 0.33837896, 0.36692491, 0.34025037,\n",
       "       0.33186406, 0.29847546, 0.35123673, 0.30597695, 0.30546264,\n",
       "       0.34762043, 0.36516394, 0.33584468, 0.3112126 , 0.3276143 ,\n",
       "       0.30893066, 0.25927321, 0.32749721, 0.29869369, 0.33693853,\n",
       "       0.34527291, 0.28775109, 0.2904507 , 0.33170112, 0.33915019,\n",
       "       0.30900486, 0.32760931, 0.30879906, 0.31822101, 0.3491155 ,\n",
       "       0.24183963, 0.27094707, 0.34459309, 0.31651175, 0.35855048,\n",
       "       0.35568925, 0.31728579, 0.28636555, 0.33431586, 0.27963182,\n",
       "       0.3111719 , 0.27456655, 0.30792343, 0.32680504, 0.31725917,\n",
       "       0.35754509, 0.33298243, 0.33496037, 0.33133781, 0.33703429,\n",
       "       0.34208017, 0.32528936, 0.3271594 , 0.26244207, 0.26736352,\n",
       "       0.34639332, 0.32791724, 0.34081187, 0.29600667, 0.28055137,\n",
       "       0.35917708, 0.36467692, 0.35997062, 0.31826699, 0.3282137 ,\n",
       "       0.3300879 , 0.32290627, 0.31838472, 0.32448541, 0.31122294,\n",
       "       0.34085868, 0.30217195, 0.32800763, 0.34819091, 0.32975995,\n",
       "       0.38995434, 0.30506703, 0.33672542, 0.31645241, 0.32817354,\n",
       "       0.35741703, 0.32758089, 0.35939317, 0.33099677, 0.31134094,\n",
       "       0.34341132, 0.36195303, 0.31703626, 0.33868624, 0.31904079,\n",
       "       0.34817623, 0.36960093, 0.32889477, 0.37840473, 0.28775492,\n",
       "       0.29252532, 0.35420935, 0.37784346, 0.30119255, 0.3249167 ,\n",
       "       0.29383177, 0.29742887, 0.29690747, 0.37470333, 0.33637633,\n",
       "       0.34308318, 0.29937622, 0.33743838, 0.35280819, 0.31659217,\n",
       "       0.30602728, 0.36299248, 0.29057908, 0.32434628, 0.30268344,\n",
       "       0.35237787, 0.32438639, 0.31521193, 0.34347631, 0.31726416,\n",
       "       0.33660686])"
      ]
     },
     "execution_count": 100,
     "metadata": {},
     "output_type": "execute_result"
    }
   ],
   "source": [
    "model.estimator_errors_"
   ]
  },
  {
   "cell_type": "markdown",
   "metadata": {},
   "source": [
    "### Visualización de los errores"
   ]
  },
  {
   "cell_type": "code",
   "execution_count": 101,
   "metadata": {},
   "outputs": [
    {
     "data": {
      "image/png": "[encoded data removed]",
      "text/plain": [
       "<Figure size 1008x432 with 1 Axes>"
      ]
     },
     "metadata": {},
     "output_type": "display_data"
    }
   ],
   "source": [
    "plt.plot(model.estimator_errors_)\n",
    "plt.show()"
   ]
  },
  {
   "cell_type": "markdown",
   "metadata": {},
   "source": [
    "#### feature_importances_\n",
    "Es la importancia que ha dado el modelo a cada una de las características predictivas.\n",
    "Es con qué frecuencia cada características aparecen en nuestros modelos de decisión.\n",
    "Eso no significa que debamos quitar las que aparecen poco. "
   ]
  },
  {
   "cell_type": "code",
   "execution_count": 105,
   "metadata": {},
   "outputs": [
    {
     "data": {
      "text/plain": [
       "array([0.00461228, 0.05918122, 0.01148596, 0.02476109, 0.03195819,\n",
       "       0.03849549, 0.03501636, 0.04958625, 0.0086304 , 0.011466  ,\n",
       "       0.01325151, 0.01546483, 0.00732097, 0.07270102, 0.00983437,\n",
       "       0.03832885, 0.01114458, 0.04004269, 0.02766709, 0.06102512,\n",
       "       0.04057811, 0.09320596, 0.03122051, 0.03417357, 0.04298222,\n",
       "       0.01590987, 0.05198041, 0.03960156, 0.04957037, 0.02880315])"
      ]
     },
     "execution_count": 105,
     "metadata": {},
     "output_type": "execute_result"
    }
   ],
   "source": [
    "model.feature_importances_"
   ]
  },
  {
   "cell_type": "markdown",
   "metadata": {},
   "source": [
    "#### Visualización de la importancia de las características"
   ]
  },
  {
   "cell_type": "code",
   "execution_count": 104,
   "metadata": {},
   "outputs": [
    {
     "data": {
      "image/png": "[encoded data removed]",
      "text/plain": [
       "<Figure size 1008x432 with 1 Axes>"
      ]
     },
     "metadata": {},
     "output_type": "display_data"
    }
   ],
   "source": [
    "plt.barh(data.feature_names, model.feature_importances_)\n",
    "plt.show()"
   ]
  },
  {
   "cell_type": "markdown",
   "metadata": {},
   "source": [
    "# Gradient Boosting\n",
    "<div style = \"float:right\"><a style=\"text-decoration:none\" href = \"#inicio\">Inicio</a></div>"
   ]
  },
  {
   "cell_type": "markdown",
   "metadata": {},
   "source": [
    "### Gradient Boosting y Breast Cancer\n",
    "<div style = \"float:right\"><a style=\"text-decoration:none\" href = \"#inicio\">Inicio</a></div>\n",
    "\n",
    "**NOTA**: **Sklearn no es la mejor librería de boosting, aunque es buena para aprender. Las mejores implementaciones son la slibrerías XGBOOST y LIGHTGBM**.\n",
    "\n",
    "El mejor algoritmo en entornos en los que no se usa deep learning es el Gradient Boosting.\n",
    "\n",
    "También es un método de boosting, pero tiene una diferencia con AdaBoost. En AdaBoost cada aprendiz intenta hacer una predicción habiendo dado a las muestras unos pesos distintos. En Gradient Boosting cada aprendiz va a intentar predecir el error del aprendiz anterior.\n",
    "\n",
    "En Gradient Boosting hay un learning rate establecido desde el principio.\n",
    "\n",
    "Ejemplo (ver pptx):\n",
    "- Partimos de probabilidad de accidente de los datos de entrenamiento (es información que tenemos de conductores pasados) y elaboramos una predicción que es el promedio de las probabildiades. Calculamos el residual (Diferencia entre probabilidad y predicción del aprendiz cero) y se realiza además una predicción del residual mediante un modelo de regresión. Si sumamos la primera predicción que era media con la predicción del residual, obtenemos un valor de predicción similar al valor real. Esto es sorbeentrenamiento puro y duro, es lógico que el resultado sea bueno. Pero para evitar el sobreentrenamiento hacemos que nuestra predicción la multiplicamos por un learning rate de modo que el resultado del primer árbol de decisión ya es un número que no coincide con la probabildiad real pero se acerca un poquito respecto a la primera predicción.\n",
    "\n",
    "El learning rate es un hiperparámetro y debemos probar para obtener uno adecuado\n",
    "\n",
    "El learrning rate puede ser estático o ir cambiando en cada ciclo\n",
    "\n",
    "**Limitaciones**:\n",
    "\n",
    "Para hacer predicciones en el tiempo no se pueden usar árboles de decisión, gradient boosting, etc. Ya que los árboles de decisión realizan cortes y no puede extrapolar. Es decir, si en el eje X está el tiempo y llega hasta 2019, 2020 lo meterá dentro del corte del último parámetro de X, es decir, 2019.\n",
    "\n",
    "Para hacer predicciones en el tiempo se deben usar modelos como ARIMA, de suavizado exponencial."
   ]
  },
  {
   "cell_type": "markdown",
   "metadata": {},
   "source": [
    "from sklearn.ensemble import GradientBoostingClassifier"
   ]
  },
  {
   "cell_type": "code",
   "execution_count": 107,
   "metadata": {},
   "outputs": [
    {
     "data": {
      "text/plain": [
       "0.9632453979777027"
      ]
     },
     "execution_count": 107,
     "metadata": {},
     "output_type": "execute_result"
    }
   ],
   "source": [
    "model = GradientBoostingClassifier()\n",
    "cross_val_score(model, X, y, cv = 10).mean()"
   ]
  },
  {
   "cell_type": "code",
   "execution_count": 114,
   "metadata": {},
   "outputs": [],
   "source": [
    "model = GradientBoostingClassifier(\n",
    "    learning_rate = 0.44,\n",
    "    max_depth = 20,\n",
    "    max_features = 4,\n",
    "    max_leaf_nodes = 77,\n",
    "    min_samples_leaf = 11,\n",
    "    min_samples_split = 15,\n",
    "    min_weight_fraction_leaf = 0.26,\n",
    "    n_estimators = 317,\n",
    "    random_state = 0,\n",
    "    subsample = 0.59\n",
    ")"
   ]
  },
  {
   "cell_type": "code",
   "execution_count": 115,
   "metadata": {},
   "outputs": [
    {
     "data": {
      "text/plain": [
       "0.9806369371705124"
      ]
     },
     "execution_count": 115,
     "metadata": {},
     "output_type": "execute_result"
    }
   ],
   "source": [
    "cross_val_score(model, X, y, cv = 10).mean()"
   ]
  },
  {
   "cell_type": "markdown",
   "metadata": {},
   "source": [
    "La implementación de sklearn de GBM no es ni de lejos la mejor.\n",
    "Las mejores que hay son LightGBM y XGBoost. Quizás XGBoost es más preciso pero LightGBM pero LightGBM es mucho más rápido.\n",
    "POr lo tanto, no debemos utilizar en la práctica la implementación de sklearn, sino usar una de estas dos."
   ]
  },
  {
   "cell_type": "markdown",
   "metadata": {},
   "source": [
    "### Parametros de GradientBoostingClassifier\n",
    "<div style = \"float:right\"><a style=\"text-decoration:none\" href = \"#inicio\">Inicio</a></div>"
   ]
  },
  {
   "cell_type": "markdown",
   "metadata": {},
   "source": [
    "#### loss"
   ]
  },
  {
   "cell_type": "markdown",
   "metadata": {},
   "source": [
    "#### learning_rate"
   ]
  },
  {
   "cell_type": "markdown",
   "metadata": {},
   "source": [
    "#### n_estimators"
   ]
  },
  {
   "cell_type": "markdown",
   "metadata": {},
   "source": [
    "#### subsample"
   ]
  },
  {
   "cell_type": "markdown",
   "metadata": {},
   "source": [
    "#### criterion"
   ]
  },
  {
   "cell_type": "markdown",
   "metadata": {},
   "source": [
    "#### min_samples_split"
   ]
  },
  {
   "cell_type": "markdown",
   "metadata": {},
   "source": [
    "#### min_samples_leaf"
   ]
  },
  {
   "cell_type": "markdown",
   "metadata": {},
   "source": [
    "#### max_depth"
   ]
  },
  {
   "cell_type": "markdown",
   "metadata": {},
   "source": [
    "#### max_features"
   ]
  },
  {
   "cell_type": "markdown",
   "metadata": {},
   "source": [
    "#### max_leaf_nodes"
   ]
  },
  {
   "cell_type": "markdown",
   "metadata": {},
   "source": [
    "### Atributos de GradientBoostingClassifier\n",
    "<div style = \"float:right\"><a style=\"text-decoration:none\" href = \"#inicio\">Inicio</a></div>"
   ]
  },
  {
   "cell_type": "markdown",
   "metadata": {},
   "source": [
    "#### n_estimators_"
   ]
  },
  {
   "cell_type": "markdown",
   "metadata": {},
   "source": [
    "#### n_classes_"
   ]
  },
  {
   "cell_type": "markdown",
   "metadata": {},
   "source": [
    "#### estimators_"
   ]
  },
  {
   "cell_type": "markdown",
   "metadata": {},
   "source": [
    "Entrenemos un model con 3 aprendices:"
   ]
  },
  {
   "cell_type": "markdown",
   "metadata": {},
   "source": [
    "#### oob_improvement_"
   ]
  },
  {
   "cell_type": "markdown",
   "metadata": {},
   "source": [
    "###### Representación de la evolución"
   ]
  },
  {
   "cell_type": "markdown",
   "metadata": {},
   "source": [
    "#### train_score_"
   ]
  },
  {
   "cell_type": "markdown",
   "metadata": {},
   "source": [
    "###### Representación de la evolución"
   ]
  },
  {
   "cell_type": "markdown",
   "metadata": {},
   "source": [
    "# El dataset MNIST\n",
    "<div style = \"float:right\"><a style=\"text-decoration:none\" href = \"#inicio\">Inicio</a></div>"
   ]
  },
  {
   "cell_type": "code",
   "execution_count": 35,
   "metadata": {},
   "outputs": [],
   "source": [
    "from sklearn.datasets import load_digits"
   ]
  },
  {
   "cell_type": "code",
   "execution_count": 36,
   "metadata": {},
   "outputs": [],
   "source": [
    "digits = load_digits()\n",
    "X = digits.data\n",
    "y = digits.target"
   ]
  },
  {
   "cell_type": "markdown",
   "metadata": {},
   "source": [
    "### DecisionTreeClassifier\n",
    "<div style = \"float:right\"><a style=\"text-decoration:none\" href = \"#inicio\">Inicio</a></div>"
   ]
  },
  {
   "cell_type": "code",
   "execution_count": 37,
   "metadata": {},
   "outputs": [],
   "source": [
    "model = DecisionTreeClassifier(\n",
    "    max_depth = 10,\n",
    "    max_features = 25,\n",
    "    max_leaf_nodes = 95,\n",
    "    min_samples_leaf = 1,\n",
    "    min_samples_split = 6,\n",
    "    random_state = 0\n",
    ")"
   ]
  },
  {
   "cell_type": "markdown",
   "metadata": {},
   "source": [
    "### RandomForestClassifier\n",
    "<div style = \"float:right\"><a style=\"text-decoration:none\" href = \"#inicio\">Inicio</a></div>"
   ]
  },
  {
   "cell_type": "code",
   "execution_count": 38,
   "metadata": {
    "scrolled": true
   },
   "outputs": [],
   "source": [
    "model = RandomForestClassifier(\n",
    "    max_depth = 45,\n",
    "    max_features = 2,\n",
    "    n_estimators = 398,\n",
    "    random_state = 0\n",
    ")"
   ]
  },
  {
   "cell_type": "markdown",
   "metadata": {},
   "source": [
    "### AdaBoostClassifier\n",
    "<div style = \"float:right\"><a style=\"text-decoration:none\" href = \"#inicio\">Inicio</a></div>"
   ]
  },
  {
   "cell_type": "code",
   "execution_count": 39,
   "metadata": {},
   "outputs": [],
   "source": [
    "base_estimator = DecisionTreeClassifier(\n",
    "    min_weight_fraction_leaf = 0.01,\n",
    "    min_samples_split = 21,\n",
    "    min_samples_leaf = 3,\n",
    "    max_leaf_nodes = 65,\n",
    "    max_features = 7,\n",
    "    max_depth = 18,\n",
    "    random_state = 0\n",
    ")\n",
    "\n",
    "model = AdaBoostClassifier(\n",
    "    base_estimator = base_estimator,\n",
    "    n_estimators = 351,\n",
    "    learning_rate = 0.23,\n",
    "    algorithm = \"SAMME\",\n",
    "    random_state = 0\n",
    ")"
   ]
  },
  {
   "cell_type": "markdown",
   "metadata": {},
   "source": [
    "### GradientBoostingClassifier\n",
    "<div style = \"float:right\"><a style=\"text-decoration:none\" href = \"#inicio\">Inicio</a></div>"
   ]
  },
  {
   "cell_type": "code",
   "execution_count": 40,
   "metadata": {},
   "outputs": [],
   "source": [
    "model = GradientBoostingClassifier(\n",
    "    learning_rate = 0.12,\n",
    "    max_depth = 17,\n",
    "    max_features = 8,\n",
    "    max_leaf_nodes = 289,\n",
    "    min_samples_leaf = 6,\n",
    "    min_samples_split = 6,\n",
    "    min_weight_fraction_leaf = 0.07,\n",
    "    n_estimators = 241,\n",
    "    random_state = 0,\n",
    "    subsample = 0.89\n",
    ")"
   ]
  },
  {
   "cell_type": "markdown",
   "metadata": {},
   "source": [
    "# Evolución del error\n",
    "<div style = \"float:right\"><a style=\"text-decoration:none\" href = \"#inicio\">Inicio</a></div>"
   ]
  },
  {
   "cell_type": "code",
   "execution_count": 41,
   "metadata": {},
   "outputs": [],
   "source": [
    "from sklearn.model_selection import train_test_split"
   ]
  },
  {
   "cell_type": "code",
   "execution_count": 42,
   "metadata": {},
   "outputs": [],
   "source": [
    "X_train, X_test, y_train, y_test = train_test_split(X, y)"
   ]
  },
  {
   "cell_type": "code",
   "execution_count": 43,
   "metadata": {},
   "outputs": [
    {
     "data": {
      "text/plain": [
       "GradientBoostingClassifier(criterion='friedman_mse', init=None,\n",
       "              learning_rate=0.12, loss='deviance', max_depth=17,\n",
       "              max_features=8, max_leaf_nodes=289,\n",
       "              min_impurity_decrease=0.0, min_impurity_split=None,\n",
       "              min_samples_leaf=6, min_samples_split=6,\n",
       "              min_weight_fraction_leaf=0.07, n_estimators=241,\n",
       "              n_iter_no_change=None, presort='auto', random_state=0,\n",
       "              subsample=0.89, tol=0.0001, validation_fraction=0.1,\n",
       "              verbose=0, warm_start=False)"
      ]
     },
     "execution_count": 43,
     "metadata": {},
     "output_type": "execute_result"
    }
   ],
   "source": [
    "model.fit(X_train, y_train)"
   ]
  },
  {
   "cell_type": "code",
   "execution_count": 44,
   "metadata": {},
   "outputs": [],
   "source": [
    "train_prediction = list(model.staged_predict(X_train))"
   ]
  },
  {
   "cell_type": "code",
   "execution_count": 45,
   "metadata": {},
   "outputs": [],
   "source": [
    "from sklearn.metrics import accuracy_score"
   ]
  },
  {
   "cell_type": "code",
   "execution_count": 46,
   "metadata": {},
   "outputs": [
    {
     "data": {
      "text/plain": [
       "0.6317743132887899"
      ]
     },
     "execution_count": 46,
     "metadata": {},
     "output_type": "execute_result"
    }
   ],
   "source": [
    "accuracy_score(y_train, train_prediction[0])"
   ]
  },
  {
   "cell_type": "code",
   "execution_count": 47,
   "metadata": {},
   "outputs": [],
   "source": [
    "train_score = []\n",
    "for i in range(model.n_estimators_):\n",
    "    train_score.append(accuracy_score(y_train, train_prediction[i]))"
   ]
  },
  {
   "cell_type": "code",
   "execution_count": 48,
   "metadata": {},
   "outputs": [
    {
     "data": {
      "image/png": "[encoded data removed]",
      "text/plain": [
       "<Figure size 1080x360 with 1 Axes>"
      ]
     },
     "metadata": {},
     "output_type": "display_data"
    }
   ],
   "source": [
    "plt.figure(figsize = (15, 5))\n",
    "plt.plot(range(model.n_estimators_), train_score, label = \"Train set\")\n",
    "plt.legend(fontsize = 14)\n",
    "plt.show()"
   ]
  },
  {
   "cell_type": "code",
   "execution_count": 49,
   "metadata": {},
   "outputs": [],
   "source": [
    "test_prediction = list(model.staged_predict(X_test))"
   ]
  },
  {
   "cell_type": "code",
   "execution_count": 50,
   "metadata": {},
   "outputs": [
    {
     "data": {
      "text/plain": [
       "0.6066666666666667"
      ]
     },
     "execution_count": 50,
     "metadata": {},
     "output_type": "execute_result"
    }
   ],
   "source": [
    "accuracy_score(y_test, test_prediction[0])"
   ]
  },
  {
   "cell_type": "code",
   "execution_count": 51,
   "metadata": {},
   "outputs": [],
   "source": [
    "test_score = []\n",
    "for i in range(model.n_estimators_):\n",
    "    test_score.append(accuracy_score(y_test, test_prediction[i]))"
   ]
  },
  {
   "cell_type": "code",
   "execution_count": 52,
   "metadata": {},
   "outputs": [
    {
     "data": {
      "image/png": "[encoded data removed]",
      "text/plain": [
       "<Figure size 1080x360 with 1 Axes>"
      ]
     },
     "metadata": {},
     "output_type": "display_data"
    }
   ],
   "source": [
    "plt.figure(figsize = (15, 5))\n",
    "plt.plot(range(model.n_estimators_), test_score, label = \"Test set\")\n",
    "plt.legend(fontsize = 14)\n",
    "plt.show()"
   ]
  },
  {
   "cell_type": "code",
   "execution_count": 53,
   "metadata": {},
   "outputs": [
    {
     "data": {
      "image/png": "[encoded data removed]",
      "text/plain": [
       "<Figure size 1080x360 with 1 Axes>"
      ]
     },
     "metadata": {},
     "output_type": "display_data"
    }
   ],
   "source": [
    "plt.figure(figsize = (15, 5))\n",
    "plt.plot(range(model.n_estimators_), train_score, label = \"Train set\")\n",
    "plt.plot(range(model.n_estimators_), test_score, label = \"Test set\")\n",
    "plt.legend(fontsize = 14)\n",
    "plt.show()"
   ]
  },
  {
   "cell_type": "code",
   "execution_count": null,
   "metadata": {},
   "outputs": [],
   "source": []
  }
 ],
 "metadata": {
  "kernelspec": {
   "display_name": "Python 3",
   "language": "python",
   "name": "python3"
  },
  "language_info": {
   "codemirror_mode": {
    "name": "ipython",
    "version": 3
   },
   "file_extension": ".py",
   "mimetype": "text/x-python",
   "name": "python",
   "nbconvert_exporter": "python",
   "pygments_lexer": "ipython3",
   "version": "3.7.6"
  }
 },
 "nbformat": 4,
 "nbformat_minor": 4
}
