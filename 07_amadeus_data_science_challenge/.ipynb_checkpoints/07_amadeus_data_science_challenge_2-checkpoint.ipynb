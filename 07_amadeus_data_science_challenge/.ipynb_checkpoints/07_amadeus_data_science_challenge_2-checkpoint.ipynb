{
 "cells": [
  {
   "cell_type": "markdown",
   "metadata": {},
   "source": [
    "## Amadeus Data Science Challenge"
   ]
  },
  {
   "cell_type": "markdown",
   "metadata": {},
   "source": [
    "## Ejercicio 1. Cuenta el número de línease del documento \"bookings.csv\" \n",
    "- Esta situado en: home/dsc/Data/challenge\n",
    "\n",
    "- Posibles formas de solucionarlo:\n",
    "    - Usando la línea de comandos\n",
    "    - Usando bucles en Python\n",
    "    - Usando Pandas"
   ]
  },
  {
   "cell_type": "markdown",
   "metadata": {},
   "source": [
    "### Solución 1. Usando la línea de comandos"
   ]
  },
  {
   "cell_type": "code",
   "execution_count": 12,
   "metadata": {},
   "outputs": [
    {
     "name": "stdout",
     "output_type": "stream",
     "text": [
      "/home/dsc/Data/challenge\n"
     ]
    }
   ],
   "source": [
    "! pwd"
   ]
  },
  {
   "cell_type": "code",
   "execution_count": 13,
   "metadata": {},
   "outputs": [],
   "source": [
    "%%bash\n",
    "cd /home/dsc/Data/challenge"
   ]
  },
  {
   "cell_type": "code",
   "execution_count": 14,
   "metadata": {},
   "outputs": [
    {
     "name": "stdout",
     "output_type": "stream",
     "text": [
      "total 1019072\n",
      "-rw-rw-r-- 1 dsc dsc 554970628 abr  2  2018 \u001b[0m\u001b[01;31mbookings.csv.bz2\u001b[0m\n",
      "-rw-rw-r-- 1 dsc dsc   4232732 ene 27 23:35 bookings_sample.csv\n",
      "-rw-rw-r-- 1 dsc dsc    535893 ene 25 09:41 \u001b[01;31mbookings_sample.csv.bz2\u001b[0m\n",
      "-rw-rw-r-- 1 dsc dsc 483188920 abr  2  2018 \u001b[01;31msearches.csv.bz2\u001b[0m\n",
      "-rw-rw-r-- 1 dsc dsc     77878 ene 25 13:11 top_airports.csv\n",
      "-rw-rw-r-- 1 dsc dsc    246473 ene 25 13:35 Untitled1.ipynb\n",
      "-rw-rw-r-- 1 dsc dsc    248766 ene 25 13:45 Untitled1_por_si_acasov1.ipynb\n",
      "-rw-rw-r-- 1 dsc dsc        72 ene 25 09:16 Untitled.ipynb\n"
     ]
    }
   ],
   "source": [
    "ls -l"
   ]
  },
  {
   "cell_type": "markdown",
   "metadata": {},
   "source": [
    "- Vemos que es muy pesado (+5GB), por lo que es mejor trabajar con él en formato bz2\n",
    "-  Se podría descomprimir con `! bunzip2` y comprimir con `! bzip2`, pero mejor trabajar con este formato bzip\n",
    "    - Este formato es aconsejable para archivos de +128MB\n",
    "    - Es más recomendable que .zip, pero más lento. Además, con .bzip2 nos aseguramos que cada uno de ellos solo contenga un archivo, algo que no pasa con los .zip"
   ]
  },
  {
   "cell_type": "code",
   "execution_count": 4,
   "metadata": {},
   "outputs": [
    {
     "name": "stdout",
     "output_type": "stream",
     "text": [
      "bzcat: Can't open input file bookings.csv.bz2: No such file or directory.\n",
      "0\n"
     ]
    }
   ],
   "source": [
    "# El archivo es muy pesado, durará un rato\n",
    "! bzcat bookings.csv.bz2 | wc -l"
   ]
  },
  {
   "cell_type": "code",
   "execution_count": 15,
   "metadata": {},
   "outputs": [
    {
     "name": "stdout",
     "output_type": "stream",
     "text": [
      "\n",
      "bzcat: I/O or other error, bailing out.  Possible reason follows.\n",
      "bzcat: Broken pipe\n",
      "\tInput file = ./bookings.csv.bz2, output file = (stdout)\n"
     ]
    }
   ],
   "source": [
    "# Para ejercicios posteriores, vamos a exportar una muestra de las 10.000 primeras líneas\n",
    "! bzcat ./bookings.csv.bz2 | head -10000 > ./bookings_sample.csv"
   ]
  },
  {
   "cell_type": "code",
   "execution_count": 10,
   "metadata": {},
   "outputs": [
    {
     "name": "stdout",
     "output_type": "stream",
     "text": [
      "bzip2: Can't open input file bookins_sample.csv: No such file or directory.\n"
     ]
    }
   ],
   "source": [
    "# La convertimos a bz2 para trabjar con todos los archivos en el mismo formato y luego evitar estar cambiando el código\n",
    "! bzip2 bookings_sample.csv"
   ]
  },
  {
   "cell_type": "markdown",
   "metadata": {},
   "source": [
    "### Solución 2. Usando Python\n",
    "- Se puede resolver mediante el uso de bucles"
   ]
  },
  {
   "cell_type": "code",
   "execution_count": 16,
   "metadata": {},
   "outputs": [],
   "source": [
    "import bz2"
   ]
  },
  {
   "cell_type": "code",
   "execution_count": 17,
   "metadata": {},
   "outputs": [],
   "source": [
    "fileBz2 =  bz2.BZ2File(\"./bookings_sample.csv.bz2\")"
   ]
  },
  {
   "cell_type": "code",
   "execution_count": 18,
   "metadata": {},
   "outputs": [
    {
     "data": {
      "text/plain": [
       "bz2.BZ2File"
      ]
     },
     "execution_count": 18,
     "metadata": {},
     "output_type": "execute_result"
    }
   ],
   "source": [
    "type(fileBz2)"
   ]
  },
  {
   "cell_type": "code",
   "execution_count": 19,
   "metadata": {},
   "outputs": [
    {
     "name": "stdout",
     "output_type": "stream",
     "text": [
      "10000\n"
     ]
    }
   ],
   "source": [
    "#Para evitar retardos en el cálculo se usará la muestra de 10.000 líneas, pero el concepto queda claro...\n",
    "k = 0\n",
    "\n",
    "for line in fileBz2:\n",
    "    k += 1\n",
    "\n",
    "print(k)"
   ]
  },
  {
   "cell_type": "code",
   "execution_count": 20,
   "metadata": {},
   "outputs": [
    {
     "name": "stdout",
     "output_type": "stream",
     "text": [
      "0\n"
     ]
    }
   ],
   "source": [
    "# Mucho ojo con volver a correr el bucle ahora, ya que dará cero al apuntar ahora el puntero al final...\n",
    "k = 0\n",
    "\n",
    "for line in fileBz2:\n",
    "    k += 1\n",
    "\n",
    "print(k)"
   ]
  },
  {
   "cell_type": "markdown",
   "metadata": {},
   "source": [
    "### Mejorando la solución 2\n",
    "- ¿El fichero está cerrado?"
   ]
  },
  {
   "cell_type": "code",
   "execution_count": 21,
   "metadata": {},
   "outputs": [
    {
     "data": {
      "text/plain": [
       "False"
      ]
     },
     "execution_count": 21,
     "metadata": {},
     "output_type": "execute_result"
    }
   ],
   "source": [
    "fileBz2.closed"
   ]
  },
  {
   "cell_type": "markdown",
   "metadata": {},
   "source": [
    "- Cerramos entonces el fichero"
   ]
  },
  {
   "cell_type": "code",
   "execution_count": 22,
   "metadata": {},
   "outputs": [],
   "source": [
    "fileBz2.close()"
   ]
  },
  {
   "cell_type": "code",
   "execution_count": 23,
   "metadata": {},
   "outputs": [
    {
     "data": {
      "text/plain": [
       "True"
      ]
     },
     "execution_count": 23,
     "metadata": {},
     "output_type": "execute_result"
    }
   ],
   "source": [
    "fileBz2.closed"
   ]
  },
  {
   "cell_type": "markdown",
   "metadata": {},
   "source": [
    "### Mejorando aún más la solución 2.\n",
    "- El `with` está para algo..."
   ]
  },
  {
   "cell_type": "code",
   "execution_count": 24,
   "metadata": {},
   "outputs": [
    {
     "name": "stdout",
     "output_type": "stream",
     "text": [
      "10000\n"
     ]
    }
   ],
   "source": [
    "import bz2\n",
    "with bz2.BZ2File(\"./bookings_sample.csv.bz2\") as fileBz2:\n",
    "    k = 0\n",
    "    for line in fileBz2:\n",
    "        k += 1\n",
    "    print(k)"
   ]
  },
  {
   "cell_type": "code",
   "execution_count": null,
   "metadata": {},
   "outputs": [],
   "source": [
    "fileBz2.closed"
   ]
  },
  {
   "cell_type": "markdown",
   "metadata": {},
   "source": [
    "### Mejorando aún más la solución 2.\n",
    "- Podemos manejar excepciones con un `try/except`"
   ]
  },
  {
   "cell_type": "code",
   "execution_count": 25,
   "metadata": {},
   "outputs": [
    {
     "name": "stdout",
     "output_type": "stream",
     "text": [
      "10000\n"
     ]
    }
   ],
   "source": [
    "import bz2\n",
    "try:\n",
    "    with bz2.BZ2File(\"./bookings_sample.csv.bz2\") as fileBz2:\n",
    "        k = 0\n",
    "        for line in fileBz2:\n",
    "            k += 1\n",
    "except:\n",
    "    print(\"Error counting lines\")\n",
    "        \n",
    "print(k)"
   ]
  },
  {
   "cell_type": "markdown",
   "metadata": {},
   "source": [
    "- Podemos dar un paso mas:"
   ]
  },
  {
   "cell_type": "code",
   "execution_count": 29,
   "metadata": {},
   "outputs": [
    {
     "name": "stdout",
     "output_type": "stream",
     "text": [
      "10000\n"
     ]
    }
   ],
   "source": [
    "import bz2\n",
    "try:\n",
    "    with bz2.BZ2File(\"./bookings_sample.csv.bz2\") as fileBz2:\n",
    "        k = 0\n",
    "        for line in fileBz2:\n",
    "            k += 1\n",
    "except FileNotFoundError:\n",
    "    print(\"File Not Found\")\n",
    "except:\n",
    "    print(\"Unexpected error\")\n",
    "        \n",
    "print(k)"
   ]
  },
  {
   "cell_type": "markdown",
   "metadata": {},
   "source": [
    "- Una persona más experimentada hubiera puesto este código, haciendo que salte por defecto el error del mensaje"
   ]
  },
  {
   "cell_type": "code",
   "execution_count": 28,
   "metadata": {},
   "outputs": [
    {
     "name": "stdout",
     "output_type": "stream",
     "text": [
      "[Errno 2] No such file or directory: './bookisdfngs_sample.csv.bz2'\n",
      "10000\n"
     ]
    }
   ],
   "source": [
    "import bz2\n",
    "try:\n",
    "    with bz2.BZ2File(\"./bookisdfngs_sample.csv.bz2\") as fileBz2:\n",
    "        k = 0\n",
    "        for line in fileBz2:\n",
    "            k += 1\n",
    "except FileNotFoundError as message:\n",
    "    print(message)\n",
    "except:\n",
    "    print(\"Unexpected error\")\n",
    "        \n",
    "print(k)"
   ]
  },
  {
   "cell_type": "markdown",
   "metadata": {},
   "source": [
    "- O incluso poniendo un `enumerate`"
   ]
  },
  {
   "cell_type": "code",
   "execution_count": 30,
   "metadata": {},
   "outputs": [
    {
     "name": "stdout",
     "output_type": "stream",
     "text": [
      "10000\n"
     ]
    }
   ],
   "source": [
    "import bz2\n",
    "try:\n",
    "    with bz2.BZ2File(\"./bookings_sample.csv.bz2\") as fileBz2:\n",
    "        for k, line in enumerate(fileBz2):\n",
    "            pass\n",
    "        print(k+1)\n",
    "except FileNotFoundError as message:\n",
    "    print(message)\n",
    "except ValueError:\n",
    "    print(\"value error\")\n",
    "except:\n",
    "    print('unexpected error')"
   ]
  },
  {
   "cell_type": "markdown",
   "metadata": {},
   "source": [
    "# Solución 3. MEdiante el uso de Pandas"
   ]
  },
  {
   "cell_type": "code",
   "execution_count": 31,
   "metadata": {},
   "outputs": [
    {
     "name": "stdout",
     "output_type": "stream",
     "text": [
      "\n",
      "bzcat: I/O or other error, bailing out.  Possible reason follows.\n",
      "bzcat: Broken pipe\n",
      "\tInput file = bookings_sample.csv.bz2, output file = (stdout)\n",
      "act_date           \n",
      "source\n",
      "pos_ctry\n",
      "pos_iata\n",
      "pos_oid  \n",
      "rloc          \n",
      "cre_date           \n",
      "duration\n",
      "distance\n",
      "dep_port\n",
      "dep_city\n",
      "dep_ctry\n",
      "arr_port\n",
      "arr_city\n",
      "arr_ctry\n",
      "lst_port\n",
      "lst_city\n",
      "lst_ctry\n",
      "brd_port\n",
      "brd_city\n",
      "brd_ctry\n",
      "off_port\n",
      "off_city\n",
      "off_ctry\n",
      "mkt_port\n",
      "mkt_city\n",
      "mkt_ctry\n",
      "intl\n",
      "route          \n",
      "carrier\n",
      "bkg_class\n",
      "cab_class\n",
      "brd_time           \n",
      "off_time           \n",
      "pax\n",
      "year\n",
      "month\n",
      "oid      \n"
     ]
    }
   ],
   "source": [
    "import pandas as pd\n",
    "! bzcat bookings_sample.csv.bz2 | head -1 |tr ^ \"\\n\""
   ]
  },
  {
   "cell_type": "markdown",
   "metadata": {},
   "source": [
    "- Seleccionando una columna pueod ver el largo, por ejemplo:"
   ]
  },
  {
   "cell_type": "code",
   "execution_count": 32,
   "metadata": {},
   "outputs": [],
   "source": [
    "df = pd.read_csv(\"bookings_sample.csv.bz2\", sep=\"^\", usecols=[\"pax\"])"
   ]
  },
  {
   "cell_type": "code",
   "execution_count": 34,
   "metadata": {},
   "outputs": [
    {
     "data": {
      "text/plain": [
       "(9999, 1)"
      ]
     },
     "execution_count": 34,
     "metadata": {},
     "output_type": "execute_result"
    }
   ],
   "source": [
    "df.shape"
   ]
  },
  {
   "cell_type": "code",
   "execution_count": 35,
   "metadata": {},
   "outputs": [
    {
     "data": {
      "text/plain": [
       "9999"
      ]
     },
     "execution_count": 35,
     "metadata": {},
     "output_type": "execute_result"
    }
   ],
   "source": [
    "df.shape[0]"
   ]
  },
  {
   "cell_type": "markdown",
   "metadata": {},
   "source": [
    "- Y si le añado el header, tengo las 10.000 líneas"
   ]
  },
  {
   "cell_type": "markdown",
   "metadata": {},
   "source": [
    "## EJERCICO 2"
   ]
  },
  {
   "cell_type": "code",
   "execution_count": null,
   "metadata": {},
   "outputs": [],
   "source": [
    "import pandas as pd\n",
    "import numpy as np"
   ]
  },
  {
   "cell_type": "code",
   "execution_count": null,
   "metadata": {},
   "outputs": [],
   "source": [
    "df.describe()"
   ]
  },
  {
   "cell_type": "markdown",
   "metadata": {},
   "source": [
    "Partes para desrrollar el ejercico.\n",
    "- Familiarizarse con los datos: qué columnos seleccionaremos, qué hacemos con los NAN\n",
    "- Realizar plan de accion. TEnemos un codigo que funciona bien sobre una muestra de 10000 lineas.\n",
    "- Luego ltrabajaremos con un codigo que lo adaptaremos a big data seleccionando 10000 lineas mediante chunks (por ejemplo 3000 lineas, 3000 lineas, 30000 lineas y 1000)\n",
    "- FInalmente se adaptata a big data"
   ]
  },
  {
   "cell_type": "markdown",
   "metadata": {},
   "source": [
    "Comenzamos, pero trabajamos con el Sample. SI no se trabajase con el sample, como son muchisimas lineas, probablemente petaria, asi que como hemos dicho vamos a comenzar a trabajar con el sample"
   ]
  },
  {
   "cell_type": "code",
   "execution_count": null,
   "metadata": {},
   "outputs": [],
   "source": [
    "import pandas as pd\n",
    "import numpy as np"
   ]
  },
  {
   "cell_type": "code",
   "execution_count": null,
   "metadata": {},
   "outputs": [],
   "source": [
    "b = pd.read_csv(\"bookings_sample.csv.bz2\", sep=\"^\")"
   ]
  },
  {
   "cell_type": "code",
   "execution_count": null,
   "metadata": {},
   "outputs": [],
   "source": [
    "COn shape podemos ver el numero de filas y columnas"
   ]
  },
  {
   "cell_type": "code",
   "execution_count": null,
   "metadata": {},
   "outputs": [],
   "source": [
    "b.shape"
   ]
  },
  {
   "cell_type": "markdown",
   "metadata": {},
   "source": [
    "Tenemos 38 columnas"
   ]
  },
  {
   "cell_type": "markdown",
   "metadata": {},
   "source": [
    "Podemos ver las 5 primeras lineas"
   ]
  },
  {
   "cell_type": "code",
   "execution_count": null,
   "metadata": {},
   "outputs": [],
   "source": [
    "b.head()"
   ]
  },
  {
   "cell_type": "markdown",
   "metadata": {},
   "source": [
    "POdemos ver 5 columnas aleatorias"
   ]
  },
  {
   "cell_type": "code",
   "execution_count": null,
   "metadata": {},
   "outputs": [],
   "source": [
    "b.sample(5)"
   ]
  },
  {
   "cell_type": "markdown",
   "metadata": {},
   "source": [
    "VEmos que no estamos viendo todas las columnas. No lo está indicando pandas con (...)\n",
    "\n",
    "Hya una opción de pandas donde se puede definir el numero de columnas que queremos visualizar. COn None no marcamos limites"
   ]
  },
  {
   "cell_type": "code",
   "execution_count": null,
   "metadata": {},
   "outputs": [],
   "source": [
    "pd.set_option(\"display.max_columns\", None)"
   ]
  },
  {
   "cell_type": "code",
   "execution_count": null,
   "metadata": {},
   "outputs": [],
   "source": [
    "b.sample(5)"
   ]
  },
  {
   "cell_type": "markdown",
   "metadata": {},
   "source": [
    "QUe representa esta table? Son bookings pero no tenemos idnea de como se ha creado. Este dataset si el tkiempo entre las conexiones de vuelos es mayor a 8 horas, crea una linea por cada destino. Si es menor a 8 horas, los une en una sola linea.\n",
    "Vemos por ejemplo que tenemos activity date que tiene fecha y hora siempre a cero. Es cuando se ha hecho esta actividad\n",
    "Cration Data que es cuando se ha hehco la reserva\n",
    "SOurce indica de donde viene la reserva\n",
    "pos_ctry es el point of sale\n",
    "pos_iata\n",
    "pos_office id\n",
    "rloc es record locate es el codigo de reserva\n",
    "Estos codigos de arriba se llama hashing es decir, que se ha cogido codigo, se ha pasado por un algoritmo y ha devuelto un codigo hexadecimal, pero no puedes ver como se ha generado, es decir, no puedes ver que hay detras, dando  anonimato. PEro algunos rloc son compartidos si son de la misma persona.\n",
    "duration es la fecha del primer vuelo y del ultimo\n",
    "distance es 0 si es de ida y vuelta"
   ]
  },
  {
   "cell_type": "markdown",
   "metadata": {},
   "source": [
    "Voy a intentar agrupar por rloc"
   ]
  },
  {
   "cell_type": "code",
   "execution_count": null,
   "metadata": {},
   "outputs": [],
   "source": [
    "b.groupby(\"rloc\")[\"act_date\"].count().sort_values(ascending=False)"
   ]
  },
  {
   "cell_type": "code",
   "execution_count": null,
   "metadata": {},
   "outputs": [],
   "source": [
    "Pero me da un Keyerror por rloc, diciendo que no existe. Eso se debe a que el nombre de rloc NO ESTÁ BIEN PUESTO PORQUE TIENE ESPACIOS EN BLANCO"
   ]
  },
  {
   "cell_type": "code",
   "execution_count": null,
   "metadata": {},
   "outputs": [],
   "source": [
    "list(b.columns)"
   ]
  },
  {
   "cell_type": "code",
   "execution_count": null,
   "metadata": {},
   "outputs": [],
   "source": [
    "b.groupby(\"rloc          \")[\"act_date           \"].count().sort_values(ascending=False)"
   ]
  },
  {
   "cell_type": "code",
   "execution_count": null,
   "metadata": {},
   "outputs": [],
   "source": [
    "Y veo que tengo una columna repetida 42 veces. Es raro, Voy a investigar"
   ]
  },
  {
   "cell_type": "code",
   "execution_count": null,
   "metadata": {},
   "outputs": [],
   "source": [
    "b[b[\"rloc          \"]==\"ae15bcfc5aec0eb64b2c5204d08201d5\"].sort_values(\"act_date           \",ascending=False)"
   ]
  },
  {
   "cell_type": "markdown",
   "metadata": {},
   "source": [
    "SI con los resultados objetivos comparo el activity date con el creation date veo que son fechas diferentes asi que veo que hay algo anterior que no estoy obteniendo"
   ]
  },
  {
   "cell_type": "markdown",
   "metadata": {},
   "source": [
    "Con describe all puedo ver algo de todas esas columnas no solo de la de caracter numerico y puedo ver qiue el rloc que mas se repite es ese con una frecuencia de 42"
   ]
  },
  {
   "cell_type": "code",
   "execution_count": null,
   "metadata": {},
   "outputs": [],
   "source": [
    "b.describe(include=\"all\")"
   ]
  },
  {
   "cell_type": "markdown",
   "metadata": {},
   "source": [
    "Puedo ver el tipo de los elementos mediante info"
   ]
  },
  {
   "cell_type": "code",
   "execution_count": null,
   "metadata": {},
   "outputs": [],
   "source": [
    "b.info()"
   ]
  },
  {
   "cell_type": "code",
   "execution_count": null,
   "metadata": {},
   "outputs": [],
   "source": [
    "Puedo ver si hay nulos en los primeros 10.000, que es mi muestra. Es decir, no hay NAN"
   ]
  },
  {
   "cell_type": "code",
   "execution_count": null,
   "metadata": {},
   "outputs": [],
   "source": [
    "b.isnull().sum()"
   ]
  },
  {
   "cell_type": "code",
   "execution_count": null,
   "metadata": {},
   "outputs": [],
   "source": [
    "Vamos a elegir ahora las columna de interés. Por el enunciado del ejercicio nos quedamos con arrival_port, pax, year.\n",
    "VAmos a abrir el fichero solo con estas tres columnas\n",
    "Cda vez que lo cojo de nrows lo hacemos desde el principio pero veremos que con chunk va a cambiar"
   ]
  },
  {
   "cell_type": "code",
   "execution_count": null,
   "metadata": {},
   "outputs": [],
   "source": [
    "import pandas as pd\n",
    "pd.set_option(\"display.max_columns\", None)\n",
    "b = pd.read_csv(\"bookings.csv.bz2\", \n",
    "                sep=\"^\", nrows = 9999,\n",
    "                usecols=[\"arr_port\",\"pax\",\"year\"])\n",
    "\n",
    "#Vemos qué hacemos con los nulls. LOs vamos a eliminar si son nulos. AHora mismo no hace nada pero puede que en un futuro haga algo\n",
    "b = b.dropna()"
   ]
  },
  {
   "cell_type": "code",
   "execution_count": null,
   "metadata": {},
   "outputs": [],
   "source": [
    "b.shape"
   ]
  },
  {
   "cell_type": "code",
   "execution_count": null,
   "metadata": {},
   "outputs": [],
   "source": [
    "b.head()"
   ]
  },
  {
   "cell_type": "markdown",
   "metadata": {},
   "source": [
    "Comenzamos con el plan de acción"
   ]
  },
  {
   "cell_type": "code",
   "execution_count": null,
   "metadata": {},
   "outputs": [],
   "source": [
    "b[b.loc[:,\"year\"] == 2013].groupby(\"arr_port\").sum().sort_values(\"pax\", ascending=False).head(10)[\"pax\"]"
   ]
  },
  {
   "cell_type": "markdown",
   "metadata": {},
   "source": [
    "Veo que arr_port es ahora un index. Si quisiera sacarlo fuera como una columna haría un reset index"
   ]
  },
  {
   "cell_type": "code",
   "execution_count": null,
   "metadata": {},
   "outputs": [],
   "source": [
    "b[b.loc[:,\"year\"] == 2013].groupby(\"arr_port\").sum().sort_values(\"pax\", ascending=False).reset_index().head(10)[[\"arr_port\",\"pax\"]]"
   ]
  },
  {
   "cell_type": "markdown",
   "metadata": {},
   "source": [
    "Con los chunks lo que vamos a hacer es partir nuestra muestra de 10.000 en trocitos e ir sumando resultados, para que se pueda trabajar en datasets más grandes. Eso es hacerlo en chunks"
   ]
  },
  {
   "cell_type": "markdown",
   "metadata": {},
   "source": [
    "## CHunks"
   ]
  },
  {
   "cell_type": "markdown",
   "metadata": {},
   "source": [
    "Recordemos el código anterior"
   ]
  },
  {
   "cell_type": "code",
   "execution_count": null,
   "metadata": {},
   "outputs": [],
   "source": [
    "#Chunks\n",
    "import pandas as pd\n",
    "pd.set_option(\"display.max_columns\", None)\n",
    "b = pd.read_csv(\"bookings.csv.bz2\", \n",
    "                sep=\"^\", nrows = 9999,\n",
    "                usecols=[\"arr_port\",\"pax\",\"year\"])\n",
    "\n",
    "#Vemos qué hacemos con los nulls. LOs vamos a eliminar si son nulos. AHora mismo no hace nada pero puede que en un futuro haga algo\n",
    "b = b.dropna()\n",
    "b=b[b[\"year\"]==2013]\n",
    "del b [\"year\"]\n",
    "b_gr=b.groupby(\"arr_port\").sum().sort_values(\"pax\", ascending=False)\n",
    "b_gr.reset_index(inplace=True)\n",
    "b_gr.head(10)"
   ]
  },
  {
   "cell_type": "code",
   "execution_count": null,
   "metadata": {},
   "outputs": [],
   "source": [
    "type(b)"
   ]
  },
  {
   "cell_type": "markdown",
   "metadata": {},
   "source": [
    "Ahora cmabio el codigo y simplemente pongo iterator = True en el codigo de read_csv"
   ]
  },
  {
   "cell_type": "code",
   "execution_count": null,
   "metadata": {},
   "outputs": [],
   "source": [
    "#Chunks\n",
    "import pandas as pd\n",
    "pd.set_option(\"display.max_columns\", None)\n",
    "bi = pd.read_csv(\"bookings.csv.bz2\", \n",
    "                sep=\"^\",\n",
    "                usecols=[\"arr_port\",\"pax\",\"year\"],\n",
    "                nrows = 9999, iterator = True)"
   ]
  },
  {
   "cell_type": "code",
   "execution_count": null,
   "metadata": {},
   "outputs": [],
   "source": [
    "type(bi)"
   ]
  },
  {
   "cell_type": "markdown",
   "metadata": {},
   "source": [
    "Ahora veo con el tipo que ya no es un dataFrame, sino un parser\n",
    "\n",
    "Hay dos maneras de trabajr con los chunks: una en la que no definimos el tamaño de chunks y otra en la que si. En esta no esta definido el tamaño de chunks."
   ]
  },
  {
   "cell_type": "code",
   "execution_count": null,
   "metadata": {},
   "outputs": [],
   "source": [
    "b = bi.get_chunk(3000)"
   ]
  },
  {
   "cell_type": "code",
   "execution_count": null,
   "metadata": {},
   "outputs": [],
   "source": [
    "type(b)"
   ]
  },
  {
   "cell_type": "markdown",
   "metadata": {},
   "source": [
    "AHora con esto ya si nos devuelve un dataframe. Es decir, con el iterator=True creamos la comunicación y con get_chunk hacemos el training."
   ]
  },
  {
   "cell_type": "code",
   "execution_count": null,
   "metadata": {},
   "outputs": [],
   "source": [
    "b.head()"
   ]
  },
  {
   "cell_type": "markdown",
   "metadata": {},
   "source": [
    "Con el iterator, coloca el puntero y cuando volvamos hacer head nos colocará el puntero sobre donde se ha quedado.\n",
    "\n",
    "No pasa nada si el iterator es mayor al archivo la ñprimera vez, pero si volvemos a ejecutar, nos dará un error de que se ha situado en el final y no puede hacerlo más"
   ]
  },
  {
   "cell_type": "markdown",
   "metadata": {},
   "source": [
    "Otra manera es poniendo el chunksize de antemano. EN cuyo caso no hace falta poner iterator=True porque ya asimila que existe"
   ]
  },
  {
   "cell_type": "code",
   "execution_count": null,
   "metadata": {},
   "outputs": [],
   "source": [
    "#Chunks\n",
    "#Chunks\n",
    "import pandas as pd\n",
    "pd.set_option(\"display.max_columns\", None)\n",
    "bi = pd.read_csv(\"bookings.csv.bz2\", \n",
    "                sep=\"^\",\n",
    "                usecols=[\"arr_port\",\"pax\",\"year\"],\n",
    "                nrows = 9999, chunksize=3000, iterator = True)"
   ]
  },
  {
   "cell_type": "markdown",
   "metadata": {},
   "source": [
    "El codigo de debajo va hacer un bucle para cada chunk, metiendo los resultados en b. devuelve 4 i porque como nuestro dataset es de 10000 y el chunk es de 3000, tiene que hacer 4 chunks.\n",
    "Cada b es un dataframe"
   ]
  },
  {
   "cell_type": "code",
   "execution_count": null,
   "metadata": {},
   "outputs": [],
   "source": [
    "for i, b in enumerate(bi):\n",
    "    print(i)\n",
    "    print(len(b))"
   ]
  },
  {
   "cell_type": "markdown",
   "metadata": {},
   "source": [
    "EL codigo de debajo funciona, pero no nos va  aguardar nada porque no hemos pedido que guarde los dataframse"
   ]
  },
  {
   "cell_type": "code",
   "execution_count": null,
   "metadata": {},
   "outputs": [],
   "source": [
    "import pandas as pd\n",
    "pd.set_option(\"display.max_columns\", None)\n",
    "bi = pd.read_csv(\"bookings.csv.bz2\", \n",
    "                sep=\"^\",\n",
    "                usecols=[\"arr_port\",\"pax\",\"year\"],\n",
    "                nrows = 9999, chunksize=3000, iterator = True)\n",
    "\n",
    "\n",
    "for i, b in enumerate(bi):\n",
    "    print(i)\n",
    "    b = b.dropna()\n",
    "    b=b[b[\"year\"]==2013]\n",
    "    del b [\"year\"]\n",
    "    b_gr=b.groupby(\"arr_port\").sum().sort_values(\"pax\", ascending=False).reset_index()\n",
    "    b_gr.head(10)"
   ]
  },
  {
   "cell_type": "code",
   "execution_count": null,
   "metadata": {},
   "outputs": [],
   "source": [
    "Por ello vamos a crear un dataframe vacio que guarde los resultados de todos los chunks, pero vamos a quitar el head, ya que no nosinteresa eso, nos interesa el resultado de todo. El head lo metremos al final"
   ]
  },
  {
   "cell_type": "code",
   "execution_count": null,
   "metadata": {},
   "outputs": [],
   "source": [
    "import pandas as pd\n",
    "pd.set_option(\"display.max_columns\", None)\n",
    "bi = pd.read_csv(\"bookings.csv.bz2\", \n",
    "                sep=\"^\",\n",
    "                usecols=[\"arr_port\",\"pax\",\"year\"],\n",
    "                nrows = 9999, chunksize=3000, iterator = True)\n",
    "\n",
    "all_chunks=pd.DataFrame()\n",
    "for i, b in enumerate(bi):\n",
    "    print(i)\n",
    "    b = b.dropna()\n",
    "    b=b[b[\"year\"]==2013]\n",
    "    del b [\"year\"]\n",
    "    b_gr=b.groupby(\"arr_port\").sum().sort_values(\"pax\", ascending=False).reset_index()\n",
    "    all_chunks=all_chunks.append(b_gr)\n"
   ]
  },
  {
   "cell_type": "code",
   "execution_count": null,
   "metadata": {},
   "outputs": [],
   "source": [
    "all_chunks.shape"
   ]
  },
  {
   "cell_type": "markdown",
   "metadata": {},
   "source": [
    "Tiene sentido, pero ahora tenemos 4 chunks. Para tener el resultado final tenemos que volver a agrupar, todos los resultados pero fuera del iterador"
   ]
  },
  {
   "cell_type": "code",
   "execution_count": null,
   "metadata": {},
   "outputs": [],
   "source": [
    "import pandas as pd\n",
    "pd.set_option(\"display.max_columns\", None)\n",
    "bi = pd.read_csv(\"bookings.csv.bz2\", \n",
    "                sep=\"^\",\n",
    "                usecols=[\"arr_port\",\"pax\",\"year\"],\n",
    "                nrows = 9999, chunksize=3000, iterator = True)\n",
    "\n",
    "all_chunks=pd.DataFrame()\n",
    "for i, b in enumerate(bi):\n",
    "    print(i)\n",
    "    b = b.dropna()\n",
    "    b=b[b[\"year\"]==2013]\n",
    "    del b [\"year\"]\n",
    "    b_gr=b.groupby(\"arr_port\").sum().sort_values(\"pax\", ascending=False).reset_index()\n",
    "    all_chunks=all_chunks.append(b_gr)\n",
    "    \n",
    "all_result=all_chunks.groupby([\"arr_port\"]).sum().sort_values(\"pax\", ascending=False).reset_index()"
   ]
  },
  {
   "cell_type": "code",
   "execution_count": null,
   "metadata": {},
   "outputs": [],
   "source": [
    "all_result.head(10)"
   ]
  },
  {
   "cell_type": "markdown",
   "metadata": {},
   "source": [
    "Ojo con el reset index. Dependiendo de donde lo ponga tengo que poner inplace=True o no poner nada. COmo en el iterador de abajo está en otra línea y quiero que me lo cmabie, tengo que poner inplace=True"
   ]
  },
  {
   "cell_type": "code",
   "execution_count": null,
   "metadata": {},
   "outputs": [],
   "source": [
    "import pandas as pd\n",
    "pd.set_option(\"display.max_columns\", None)\n",
    "bi = pd.read_csv(\"bookings.csv.bz2\", \n",
    "                sep=\"^\",\n",
    "                usecols=[\"arr_port\",\"pax\",\"year\"],\n",
    "                nrows = 9999, chunksize=3000, iterator = True)\n",
    "\n",
    "all_chunks=pd.DataFrame()\n",
    "for i, b in enumerate(bi):\n",
    "    print(i)\n",
    "    b = b.dropna()\n",
    "    b=b[b[\"year\"]==2013]\n",
    "    del b [\"year\"]\n",
    "    b_gr=b.groupby(\"arr_port\").sum().sort_values(\"pax\", ascending=False)\n",
    "    b_gr=b_gr.reset_index(inplace=True)\n",
    "    all_chunks=all_chunks.append(b_gr)\n",
    "    \n",
    "all_result=all_chunks.groupby([\"arr_port\"]).sum().sort_values(\"pax\", ascending=False).reset_index()"
   ]
  },
  {
   "cell_type": "code",
   "execution_count": null,
   "metadata": {},
   "outputs": [],
   "source": [
    "Voy a comenzar a implementarlo: aumentar ahora el chunksizze, añado time y quito el nrwos"
   ]
  },
  {
   "cell_type": "code",
   "execution_count": null,
   "metadata": {},
   "outputs": [],
   "source": [
    "%%time\n",
    "import pandas as pd\n",
    "pd.set_option(\"display.max_columns\", None)\n",
    "bi = pd.read_csv(\"bookings.csv.bz2\", \n",
    "                sep=\"^\",\n",
    "                usecols=[\"arr_port\",\"pax\",\"year\"],\n",
    "                chunksize=1000000, iterator = True)\n",
    "\n",
    "all_chunks=pd.DataFrame()\n",
    "for i, b in enumerate(bi):\n",
    "    print(i)\n",
    "    b = b.dropna()\n",
    "    b=b[b[\"year\"]==2013]\n",
    "    del b [\"year\"]\n",
    "    b_gr=b.groupby(\"arr_port\").sum().sort_values(\"pax\", ascending=False).reset_index()\n",
    "    all_chunks=all_chunks.append(b_gr)\n",
    "    \n",
    "all_result=all_chunks.groupby([\"arr_port\"]).sum().sort_values(\"pax\", ascending=False).reset_index()"
   ]
  },
  {
   "cell_type": "code",
   "execution_count": null,
   "metadata": {},
   "outputs": [],
   "source": [
    "all_result.head(10)"
   ]
  },
  {
   "cell_type": "markdown",
   "metadata": {},
   "source": [
    "Vamos con el bonus (Geobase/Neobases)"
   ]
  },
  {
   "cell_type": "code",
   "execution_count": null,
   "metadata": {},
   "outputs": [],
   "source": [
    "! pip install Neobase"
   ]
  },
  {
   "cell_type": "code",
   "execution_count": null,
   "metadata": {},
   "outputs": [],
   "source": [
    "import neobase as nb"
   ]
  },
  {
   "cell_type": "code",
   "execution_count": null,
   "metadata": {},
   "outputs": [],
   "source": [
    "from neobase import NeoBase"
   ]
  },
  {
   "cell_type": "code",
   "execution_count": null,
   "metadata": {},
   "outputs": [],
   "source": [
    "geoDict=NeoBase()"
   ]
  },
  {
   "cell_type": "code",
   "execution_count": null,
   "metadata": {},
   "outputs": [],
   "source": [
    "type(geoDict)"
   ]
  },
  {
   "cell_type": "code",
   "execution_count": null,
   "metadata": {},
   "outputs": [],
   "source": [
    "geoDict.get(\"LHR\")"
   ]
  },
  {
   "cell_type": "code",
   "execution_count": null,
   "metadata": {},
   "outputs": [],
   "source": [
    "type(geoDict.get(\"LHR\"))"
   ]
  },
  {
   "cell_type": "code",
   "execution_count": null,
   "metadata": {},
   "outputs": [],
   "source": [
    "Vemos que es un diccionario"
   ]
  },
  {
   "cell_type": "code",
   "execution_count": null,
   "metadata": {},
   "outputs": [],
   "source": [
    "geoDict.get(\"LHR\").keys()"
   ]
  },
  {
   "cell_type": "code",
   "execution_count": null,
   "metadata": {},
   "outputs": [],
   "source": [
    "geoDict.get(\"LHR\")[\"name\"]"
   ]
  },
  {
   "cell_type": "markdown",
   "metadata": {},
   "source": [
    "Vamos a cruzarlo con all_results"
   ]
  },
  {
   "cell_type": "markdown",
   "metadata": {},
   "source": [
    "Pero a partir de aquí comienzan los problemas..."
   ]
  },
  {
   "cell_type": "code",
   "execution_count": null,
   "metadata": {},
   "outputs": [],
   "source": [
    "all_result[\"arr_port\"][0]"
   ]
  },
  {
   "cell_type": "markdown",
   "metadata": {},
   "source": [
    "Vemos que hay un espacio en blanco"
   ]
  },
  {
   "cell_type": "code",
   "execution_count": null,
   "metadata": {},
   "outputs": [],
   "source": [
    "all_result[\"arr_port\"][0].strip()"
   ]
  },
  {
   "cell_type": "code",
   "execution_count": null,
   "metadata": {},
   "outputs": [],
   "source": [
    "Lo vamos a convertir eliminando los espacios en blanco:"
   ]
  },
  {
   "cell_type": "code",
   "execution_count": null,
   "metadata": {},
   "outputs": [],
   "source": [
    "all_result[\"arr_port\"]=all_result[\"arr_port\"].str.strip()"
   ]
  },
  {
   "cell_type": "code",
   "execution_count": null,
   "metadata": {},
   "outputs": [],
   "source": [
    "all_result[\"arr_port\"][0]"
   ]
  },
  {
   "cell_type": "markdown",
   "metadata": {},
   "source": [
    "Pero que pasa cuando hay espacios en blanco en medio¿?"
   ]
  },
  {
   "cell_type": "code",
   "execution_count": null,
   "metadata": {},
   "outputs": [],
   "source": [
    "\"        kadjnkfk    dfbjsdfb  hf hdfd jk      sdfsdf            \".strip()"
   ]
  },
  {
   "cell_type": "code",
   "execution_count": null,
   "metadata": {},
   "outputs": [],
   "source": [
    "Pero volcamos al ejercicio. Vamos a llamar a cada elemento y busquemos su nombre en el diccionario de NEobases incorporando una nueva columna"
   ]
  },
  {
   "cell_type": "code",
   "execution_count": null,
   "metadata": {},
   "outputs": [],
   "source": [
    "all_result[\"AirportNAme\"]=all_result[\"arr_port\"].map(lambda x: geoDict.get(x)[\"name\"])"
   ]
  },
  {
   "cell_type": "code",
   "execution_count": null,
   "metadata": {},
   "outputs": [],
   "source": [
    "Pero nos da un error, que significa que el aeropuerto CPQ no aparezca"
   ]
  },
  {
   "cell_type": "code",
   "execution_count": null,
   "metadata": {},
   "outputs": [],
   "source": [
    "all_result[all_result[\"arr_port\"]==\"CPQ\"]"
   ]
  },
  {
   "cell_type": "code",
   "execution_count": null,
   "metadata": {},
   "outputs": [],
   "source": [
    "all_result=all_result[all_result[\"arr_port\"]!=\"CPQ\"]"
   ]
  },
  {
   "cell_type": "code",
   "execution_count": null,
   "metadata": {},
   "outputs": [],
   "source": [
    "all_result[\"AirportNAme\"]=all_result[\"arr_port\"].map(lambda x: geoDict.get(x)[\"name\"])"
   ]
  },
  {
   "cell_type": "code",
   "execution_count": null,
   "metadata": {},
   "outputs": [],
   "source": [
    "all_result.head(10)"
   ]
  },
  {
   "cell_type": "code",
   "execution_count": null,
   "metadata": {},
   "outputs": [],
   "source": [
    "Veo que pax me lo suelta en modo float pero es un integer, asi que lo cambio"
   ]
  },
  {
   "cell_type": "code",
   "execution_count": null,
   "metadata": {},
   "outputs": [],
   "source": [
    "all_result=all_result.astype({\"pax\":int})"
   ]
  },
  {
   "cell_type": "code",
   "execution_count": null,
   "metadata": {},
   "outputs": [],
   "source": [
    "all_result.head(10)"
   ]
  },
  {
   "cell_type": "code",
   "execution_count": null,
   "metadata": {},
   "outputs": [],
   "source": [
    "all_result.shape"
   ]
  },
  {
   "cell_type": "code",
   "execution_count": null,
   "metadata": {},
   "outputs": [],
   "source": [
    "Lo exporto"
   ]
  },
  {
   "cell_type": "code",
   "execution_count": null,
   "metadata": {},
   "outputs": [],
   "source": [
    "all_result.to_csv(\"top_airports.csv\", sep=\"^\", index=False)"
   ]
  },
  {
   "cell_type": "code",
   "execution_count": null,
   "metadata": {},
   "outputs": [],
   "source": [
    "ls"
   ]
  },
  {
   "cell_type": "code",
   "execution_count": null,
   "metadata": {},
   "outputs": [],
   "source": [
    "Compruebo que se ha guardado bien"
   ]
  },
  {
   "cell_type": "code",
   "execution_count": null,
   "metadata": {},
   "outputs": [],
   "source": [
    "! head -2 top_airports.csv"
   ]
  },
  {
   "cell_type": "markdown",
   "metadata": {},
   "source": [
    "Vamos al ejercicio 5.\n",
    "Hay que escribir un webservice"
   ]
  },
  {
   "cell_type": "markdown",
   "metadata": {},
   "source": [
    "Hay que crear un JSON que es un formato texto pero con estructura de datos y sirve para intercambiar información.\n",
    "DJango es una estructura de WebService pero muy compleja. SE puede usar flusk\n",
    "Que es un web service? Una especie de app. Python es un webservice y se ejecuta en local (localhost), pero el web service puede ser "
   ]
  },
  {
   "cell_type": "code",
   "execution_count": null,
   "metadata": {},
   "outputs": [],
   "source": [
    "from flask import Flask\n",
    "\n",
    "app = Flask(\"My first web service\")\n",
    "@app.route(\"/hello\", methods=[\"GET\"])\n",
    "# GET    The browser tells the server to just get the information stored\n",
    "def get_hello():\n",
    "    return \"Hello DS from the service!\""
   ]
  },
  {
   "cell_type": "code",
   "execution_count": null,
   "metadata": {},
   "outputs": [],
   "source": [
    "app.run()"
   ]
  },
  {
   "cell_type": "code",
   "execution_count": null,
   "metadata": {},
   "outputs": [],
   "source": [
    "Le estoy diciendo que la ruta (la de jupyter es localhost:888) yo le estoy diciento que sea hello\n",
    "Y dentro de la aplicacion"
   ]
  },
  {
   "cell_type": "code",
   "execution_count": null,
   "metadata": {},
   "outputs": [],
   "source": [
    "Así si ponemos lo que pone running on: + hello nos mostrará lo que quere,ps"
   ]
  },
  {
   "cell_type": "code",
   "execution_count": null,
   "metadata": {},
   "outputs": [],
   "source": [
    "http://127.0.0.1:5000/hello"
   ]
  },
  {
   "cell_type": "code",
   "execution_count": null,
   "metadata": {},
   "outputs": [],
   "source": [
    "from flask import Flask\n",
    "\n",
    "app = Flask(\"My first web service\")\n",
    "@app.route(\"/hello\", methods=[\"GET\"])\n",
    "# GET    The browser tells the server to just get the information stored\n",
    "def get_hello():\n",
    "    return \"Hello DS from the service!\"\n",
    "\n",
    "#COn el codigo de debajo digo que en esa ruta estoy esperado un numero de tipo integer de nomvre n que voy a indicar abajo\n",
    "@app.route(\"/ret_number/<int:n>\", methods=[\"GET\"])\n",
    "def get_number(n):\n",
    "    return \"I got %d\"%n\n",
    "\n",
    "app.run()"
   ]
  },
  {
   "cell_type": "code",
   "execution_count": null,
   "metadata": {},
   "outputs": [],
   "source": [
    "Si escribo en mi navegador: http://127.0.0.1:5000/ret_number/10"
   ]
  },
  {
   "cell_type": "code",
   "execution_count": null,
   "metadata": {},
   "outputs": [],
   "source": [
    "Me devolverá I got 10"
   ]
  }
 ],
 "metadata": {
  "kernelspec": {
   "display_name": "Python 3",
   "language": "python",
   "name": "python3"
  },
  "language_info": {
   "codemirror_mode": {
    "name": "ipython",
    "version": 3
   },
   "file_extension": ".py",
   "mimetype": "text/x-python",
   "name": "python",
   "nbconvert_exporter": "python",
   "pygments_lexer": "ipython3",
   "version": "3.7.1"
  }
 },
 "nbformat": 4,
 "nbformat_minor": 2
}
