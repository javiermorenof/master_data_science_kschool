{
  "nbformat": 4,
  "nbformat_minor": 0,
  "metadata": {
    "colab": {
      "name": "Untitled3.ipynb",
      "provenance": [],
      "collapsed_sections": []
    },
    "kernelspec": {
      "name": "python3",
      "display_name": "Python 3"
    }
  },
  "cells": [
    {
      "cell_type": "code",
      "metadata": {
        "id": "viDp0jryrEfI",
        "colab_type": "code",
        "colab": {}
      },
      "source": [
        "!pip install streamlit -q"
      ],
      "execution_count": 2,
      "outputs": []
    },
    {
      "cell_type": "code",
      "metadata": {
        "id": "oLf3vzigrVw2",
        "colab_type": "code",
        "colab": {
          "base_uri": "https://localhost:8080/",
          "height": 202
        },
        "outputId": "582e8b82-b561-4440-e51a-0280e124c64b"
      },
      "source": [
        "!wget https://bin.equinox.io/c/4VmDzA7iaHb/ngrok-stable-linux-amd64.zip\n",
        "!unzip -qq ngrok-stable-linux-amd64.zip\n"
      ],
      "execution_count": 3,
      "outputs": [
        {
          "output_type": "stream",
          "text": [
            "--2020-09-12 09:37:40--  https://bin.equinox.io/c/4VmDzA7iaHb/ngrok-stable-linux-amd64.zip\n",
            "Resolving bin.equinox.io (bin.equinox.io)... 3.225.89.236, 52.0.105.155, 3.229.211.71, ...\n",
            "Connecting to bin.equinox.io (bin.equinox.io)|3.225.89.236|:443... connected.\n",
            "HTTP request sent, awaiting response... 200 OK\n",
            "Length: 13773305 (13M) [application/octet-stream]\n",
            "Saving to: ‘ngrok-stable-linux-amd64.zip’\n",
            "\n",
            "ngrok-stable-linux- 100%[===================>]  13.13M  73.6MB/s    in 0.2s    \n",
            "\n",
            "2020-09-12 09:37:40 (73.6 MB/s) - ‘ngrok-stable-linux-amd64.zip’ saved [13773305/13773305]\n",
            "\n"
          ],
          "name": "stdout"
        }
      ]
    },
    {
      "cell_type": "code",
      "metadata": {
        "id": "_5G7kcZ-r-uy",
        "colab_type": "code",
        "colab": {
          "base_uri": "https://localhost:8080/",
          "height": 34
        },
        "outputId": "0e98df6e-b04c-4dfb-ae47-37cdaf5c24af"
      },
      "source": [
        "get_ipython().system_raw('./ngrok http 8501 &')\n",
        "! curl -s http://localhost:4040/api/tunnels | python3 -c \\\n",
        "\"import sys, json; print(json.load(sys.stdin)['tunnels'][0]['public_url'])\""
      ],
      "execution_count": 38,
      "outputs": [
        {
          "output_type": "stream",
          "text": [
            "http://91c673ab7b22.ngrok.io\n"
          ],
          "name": "stdout"
        }
      ]
    },
    {
      "cell_type": "code",
      "metadata": {
        "id": "DZauafi4ssRK",
        "colab_type": "code",
        "colab": {
          "base_uri": "https://localhost:8080/",
          "height": 34
        },
        "outputId": "04889335-cbf9-46be-d640-36ebad4d30f7"
      },
      "source": [
        "%%file hello.py\n",
        "\n",
        "import streamlit as st\n",
        "import pandas as pd\n",
        "\n",
        "st.title(\"Hello world\")\n",
        "brain = pd.read_csv(\"https://raw.githubusercontent.com/rezpe/datos_viz/master/brain.csv\")\n",
        "\n",
        "#Mostrar tablas de datos\n",
        "st.dataframe(brain.head())\n",
        "st.table(brain.head())\n",
        "\n",
        "#Mostrar texto\n",
        "st.markdown(\"\"\"\n",
        "## Texto de ejemplo\n",
        "```python\n",
        "1+1\n",
        "```\n",
        "\"\"\")\n",
        "\n",
        "# Gráficos\n",
        "# Matplotlib\n",
        "import matplotlib.pyplot as plt\n",
        "plt.scatter(brain[\"Body Weight\"],brain[\"Brain Weight\"])\n",
        "st.pyplot()\n",
        "\n",
        "# Altair\n",
        "import altair as alt\n",
        "hist_brain = alt.Chart(brain).mark_bar().encode(\n",
        "    x=alt.X('Brain Weight',bin=alt.Bin(maxbins=100)),\n",
        "    y=\"count()\"\n",
        ").properties(\n",
        "    width=300,\n",
        "    height=150,\n",
        "    title=\"Relación peso del cerebro y del cuerpo\"\n",
        ").interactive()\n",
        "\n",
        "hist_body = alt.Chart(brain).mark_bar().encode(\n",
        "    x=alt.X('Body Weight',bin=alt.Bin(maxbins=100)),\n",
        "    y=\"count()\"\n",
        ").properties(\n",
        "    width=300,\n",
        "    height=150,\n",
        "    title=\"Relación peso del cerebro y del cuerpo\"\n",
        ").interactive()\n",
        "\n",
        "scatter_brain_body = alt.Chart(brain).mark_circle().encode(\n",
        "    x='Body Weight',\n",
        "    y='Brain Weight'\n",
        ").properties(\n",
        "    width=700,\n",
        "    height=300,\n",
        "    title=\"Relación peso del cerebro y del cuerpo\"\n",
        ").interactive()\n",
        "\n",
        "comp_brain = (hist_brain|hist_body)&scatter_brain_body\n",
        "st.write(comp_brain)"
      ],
      "execution_count": 28,
      "outputs": [
        {
          "output_type": "stream",
          "text": [
            "Overwriting hello.py\n"
          ],
          "name": "stdout"
        }
      ]
    },
    {
      "cell_type": "code",
      "metadata": {
        "id": "fJm0Odah7qxw",
        "colab_type": "code",
        "colab": {}
      },
      "source": [
        ""
      ],
      "execution_count": null,
      "outputs": []
    },
    {
      "cell_type": "code",
      "metadata": {
        "id": "0f-XqTfo5MfS",
        "colab_type": "code",
        "colab": {
          "base_uri": "https://localhost:8080/",
          "height": 34
        },
        "outputId": "f688957b-32a3-4af5-cd02-52bbfa56c346"
      },
      "source": [
        "%%file hello.py\n",
        "\n",
        "import streamlit as st \n",
        "import pandas as pd\n",
        "import altair as alt\n",
        "import matplotlib.pyplot as plt\n",
        "\n",
        "st.title(\"Google Trends\")\n",
        "\n",
        "st.markdown(\"Hemos analizado las búsquedas de Google de 4 tecnologías:\")\n",
        "\n",
        "trends = pd.read_csv(\"https://raw.githubusercontent.com/rezpe/datos_viz/master/google_trends.csv\")\n",
        "\n",
        "select_term = alt.selection(type=\"single\",encodings=[\"x\"])\n",
        "\n",
        "trend_line = alt.Chart(trends).mark_line().encode(\n",
        "    x=\"yearmonth(date):T\",\n",
        "    y=\"mean(value)\",\n",
        "    color=\"search_term\"\n",
        ").transform_filter(\n",
        "    select_term\n",
        ")\n",
        "\n",
        "trend_bar = alt.Chart(trends).mark_bar().encode(\n",
        "    x=\"search_term\",\n",
        "    y=\"value\",\n",
        "    color=\"search_term\",\n",
        "    tooltip=\"search_term\"\n",
        ").properties(\n",
        "    selection=select_term\n",
        ")\n",
        "\n",
        "st.write(trend_bar|trend_line)\n",
        "\n",
        "st.markdown(\"Puede hacer zoom para ver el detalle:\")\n",
        "\n",
        "select_date = alt.selection(type=\"interval\",encodings=[\"x\"])\n",
        "\n",
        "mini_trend_line = alt.Chart(trends).mark_line().encode(\n",
        "    x=\"yearmonth(date):T\",\n",
        "    y=\"mean(value)\",\n",
        "    color=\"search_term\"\n",
        ").properties(\n",
        "    height=100\n",
        ").add_selection(\n",
        "    select_date\n",
        ")\n",
        "\n",
        "trend_line = alt.Chart(trends).mark_line().encode(\n",
        "    x=\"yearmonth(date):T\",\n",
        "    y=\"mean(value)\",\n",
        "    color=\"search_term\"\n",
        ").transform_filter(\n",
        "    select_date\n",
        ")\n",
        "\n",
        "st.write(mini_trend_line&trend_line)\n"
      ],
      "execution_count": 33,
      "outputs": [
        {
          "output_type": "stream",
          "text": [
            "Overwriting hello.py\n"
          ],
          "name": "stdout"
        }
      ]
    },
    {
      "cell_type": "code",
      "metadata": {
        "id": "wdgeDyQmtAJw",
        "colab_type": "code",
        "colab": {
          "base_uri": "https://localhost:8080/",
          "height": 201
        },
        "outputId": "be748126-2ada-45ab-d2fe-d5a3a18c42c1"
      },
      "source": [
        "!streamlit run hello.py"
      ],
      "execution_count": null,
      "outputs": [
        {
          "output_type": "stream",
          "text": [
            "\u001b[0m\n",
            "\u001b[34m\u001b[1m  You can now view your Streamlit app in your browser.\u001b[0m\n",
            "\u001b[0m\n",
            "\u001b[34m  Network URL: \u001b[0m\u001b[1mhttp://172.28.0.2:8501\u001b[0m\n",
            "\u001b[34m  External URL: \u001b[0m\u001b[1mhttp://35.196.53.209:8501\u001b[0m\n",
            "\u001b[0m\n",
            "/usr/lib/python3.6/threading.py:864: DtypeWarning: Columns (31,32,37,38) have mixed types.Specify dtype option on import or set low_memory=False.\n",
            "  self._target(*self._args, **self._kwargs)\n"
          ],
          "name": "stdout"
        }
      ]
    },
    {
      "cell_type": "code",
      "metadata": {
        "id": "4r1d7Mm0A_rU",
        "colab_type": "code",
        "colab": {
          "base_uri": "https://localhost:8080/",
          "height": 34
        },
        "outputId": "94875827-645b-4b16-cf41-5361207f41fb"
      },
      "source": [
        "%%file hello.py\n",
        "\n",
        "import streamlit as st \n",
        "import pandas as pd\n",
        "import altair as alt\n",
        "import matplotlib.pyplot as plt\n",
        "\n",
        "st.title(\"Locales de Madrid\")\n",
        "\n",
        "st.markdown(\"Hemos obtenido la lista de locales de la comunidad de Madrid. Teclee el tipo de local que quiera buscar:\")\n",
        "\n",
        "texto = st.text_input(\"Insertar tipo\",\"BAR\")\n",
        "\n",
        "locales = pd.read_csv(\"https://github.com/rezpe/datos_viz/blob/master/locales_madrid.csv?raw=true\")\n",
        "\n",
        "alt.data_transformers.disable_max_rows()\n",
        "\n",
        "# filtrar locales\n",
        "\n",
        "locales_filt = locales[locales[\"rotulo\"].str.contains(texto)]\n",
        "\n",
        "st.markdown(f\"La comunidad de Madrid contiene: {len(locales_filt)} {texto}(s) \")\n",
        "\n",
        "points = alt.Chart(locales_filt).mark_point().encode(\n",
        "    latitude=\"lat\",\n",
        "    longitude=\"lon\",\n",
        "    color=\"desc_distrito_local\"\n",
        ")\n",
        "\n",
        "# remote geojson data object\n",
        "url_geojson = 'https://raw.githubusercontent.com/codeforamerica/click_that_hood/master/public/data/madrid.geojson'\n",
        "data_geojson_remote = alt.Data(url=url_geojson, format=alt.DataFormat(property='features',type='json'))\n",
        "\n",
        "# chart object\n",
        "background = alt.Chart(data_geojson_remote).mark_geoshape(\n",
        ").encode(\n",
        ").properties(\n",
        ")\n",
        "\n",
        "st.write(background+points)\n"
      ],
      "execution_count": 36,
      "outputs": [
        {
          "output_type": "stream",
          "text": [
            "Overwriting hello.py\n"
          ],
          "name": "stdout"
        }
      ]
    },
    {
      "cell_type": "code",
      "metadata": {
        "id": "Ccqgckdv9Sgp",
        "colab_type": "code",
        "colab": {
          "base_uri": "https://localhost:8080/",
          "height": 34
        },
        "outputId": "4b79a583-e291-4c9f-9cfc-af7f56e67861"
      },
      "source": [
        "%%file hello.py\n",
        "\n",
        "import streamlit as st \n",
        "import pandas as pd\n",
        "import altair as alt\n",
        "import matplotlib.pyplot as plt\n",
        "\n",
        "st.title(\"GDS Life Expectancy\")\n",
        "\n",
        "st.markdown(\"We gathered stats on several countries to check relationships between GDP and life expectancy\")\n",
        "\n",
        "lifecountries = pd.read_csv(\"https://raw.githubusercontent.com/rezpe/datos_viz/master/lifecountries.csv\")\n",
        "\n",
        "st.write(alt.Chart(lifecountries).mark_circle().encode(\n",
        "    x='Country GDP',\n",
        "    y=alt.Y('Life Expectancy',scale=alt.Scale(zero=False)),\n",
        "    color='Continent',\n",
        "    tooltip='country',\n",
        "    size='size'\n",
        "))\n",
        "\n",
        "st.markdown(\"We see that after a certain level, there's no significant increase in life expectancy\")\n"
      ],
      "execution_count": 35,
      "outputs": [
        {
          "output_type": "stream",
          "text": [
            "Overwriting hello.py\n"
          ],
          "name": "stdout"
        }
      ]
    },
    {
      "cell_type": "code",
      "metadata": {
        "id": "_uVDcO6jB21r",
        "colab_type": "code",
        "colab": {}
      },
      "source": [
        "El problemna es que cada vez que se ejecuta tiene que bajarse todos los documentos. Esto se arregla con el decorador @st.bbchache"
      ],
      "execution_count": null,
      "outputs": []
    },
    {
      "cell_type": "code",
      "metadata": {
        "id": "vQ48a63ACAmN",
        "colab_type": "code",
        "colab": {}
      },
      "source": [
        "%%file hello.py\n",
        "\n",
        "import streamlit as st \n",
        "import pandas as pd\n",
        "import altair as alt\n",
        "import matplotlib.pyplot as plt\n",
        "\n",
        "st.title(\"Locales de Madrid\")\n",
        "\n",
        "st.markdown(\"Hemos obtenido la lista de locales de la comunidad de Madrid. Teclee el tipo de local que quiera buscar:\")\n",
        "\n",
        "texto = st.text_input(\"Insertar tipo\",\"BAR\")\n",
        "\n",
        "@st.cache\n",
        "def get_locales():\n",
        "  return pd.read_csv(\"https://github.com/rezpe/datos_viz/blob/master/locales_madrid.csv?raw=true\")\n",
        "\n",
        "locales = get_locales()\n",
        "\n",
        "alt.data_transformers.disable_max_rows()\n",
        "\n",
        "# filtrar locales\n",
        "\n",
        "locales_filt = locales[locales[\"rotulo\"].str.contains(texto)]\n",
        "\n",
        "st.markdown(f\"La comunidad de Madrid contiene: {len(locales_filt)} {texto}(s) \")\n",
        "\n",
        "points = alt.Chart(locales_filt).mark_point().encode(\n",
        "    latitude=\"lat\",\n",
        "    longitude=\"lon\",\n",
        "    color=\"desc_distrito_local\"\n",
        ")\n",
        "\n",
        "# remote geojson data object\n",
        "url_geojson = 'https://raw.githubusercontent.com/codeforamerica/click_that_hood/master/public/data/madrid.geojson'\n",
        "data_geojson_remote = alt.Data(url=url_geojson, format=alt.DataFormat(property='features',type='json'))\n",
        "\n",
        "# chart object\n",
        "background = alt.Chart(data_geojson_remote).mark_geoshape(\n",
        ").encode(\n",
        ").properties(\n",
        ")\n",
        "\n",
        "st.write(background+points)\n"
      ],
      "execution_count": null,
      "outputs": []
    },
    {
      "cell_type": "code",
      "metadata": {
        "id": "dbVzZZuHDqsA",
        "colab_type": "code",
        "colab": {}
      },
      "source": [
        "opciones de streamlit"
      ],
      "execution_count": null,
      "outputs": []
    },
    {
      "cell_type": "code",
      "metadata": {
        "id": "4JPtKG90Dsmx",
        "colab_type": "code",
        "colab": {}
      },
      "source": [
        "%%file hello.py\n",
        "\n",
        "import streamlit as st \n",
        "import pandas as pd\n",
        "import altair as alt\n",
        "import matplotlib.pyplot as plt\n",
        "import datetime\n",
        "\n",
        "st.button('Say hello')\n",
        "\n",
        "agree = st.checkbox('I agree')\n",
        "\n",
        "genre = st.radio(\n",
        "    \"What's your favorite movie genre\",\n",
        "    ('Comedy', 'Drama', 'Documentary'))\n",
        "\n",
        "option = st.selectbox(\n",
        "     'How would you like to be contacted?',\n",
        "     ('Email', 'Home phone', 'Mobile phone'))\n",
        "\n",
        "\n",
        "options = st.multiselect(\n",
        "     'What are your favorite colors',\n",
        "     ['Green', 'Yellow', 'Red', 'Blue'],\n",
        "     ['Yellow', 'Red'])\n",
        "\n",
        "age = st.slider('How old are you?', 0, 130, 25)\n",
        "\n",
        "color = st.select_slider(\n",
        "     'Select a color of the rainbow',\n",
        "     options=['red', 'orange', 'yellow', 'green', 'blue', 'indigo', 'violet'])\n",
        "\n",
        "d = st.date_input(\n",
        "     \"When's your birthday\",\n",
        "     datetime.date(2019, 7, 6))\n",
        "\n",
        "\n",
        "t = st.time_input('Set an alarm for', datetime.time(8, 45))\n",
        "\n",
        "uploaded_file = st.file_uploader(\"Choose a CSV file\", type=\"csv\")\n"
      ],
      "execution_count": null,
      "outputs": []
    },
    {
      "cell_type": "code",
      "metadata": {
        "id": "d23fsKy7ML-L",
        "colab_type": "code",
        "colab": {}
      },
      "source": [
        "%%file hello.py\n",
        "\n",
        "import streamlit as st \n",
        "import pandas as pd\n",
        "import altair as alt\n",
        "import matplotlib.pyplot as plt\n",
        "import datetime\n",
        "# Load the library with the iris dataset\n",
        "from sklearn.datasets import load_iris\n",
        "# Load scikit's random forest classifier library\n",
        "from sklearn.ensemble import RandomForestClassifier\n",
        "\n",
        "st.title(\"Iris Classifier\")\n",
        "\n",
        "# Create an object called iris with the iris data\n",
        "iris = load_iris()\n",
        "\n",
        "# Create a random forest Classifier. By convention, clf means 'Classifier'\n",
        "clf = RandomForestClassifier(n_jobs=-1, random_state=0)\n",
        "\n",
        "# Train the Classifier to take the training features and learn how they relate\n",
        "# to the training y (the species)\n",
        "clf.fit(iris.data, iris.target)\n",
        "\n",
        "st.markdown(\"Change the value of sliders to get predictions\")\n",
        "\n",
        "feature1 = st.slider('Feature 1', 0, 10)\n",
        "feature2 = st.slider('Feature 2', 0, 10)\n",
        "feature3 = st.slider('Feature 3', 0, 10)\n",
        "feature4 = st.slider('Feature 4', 0, 10)\n",
        "\n",
        "prediction = clf.predict([[feature1,feature2,feature3,feature4]])\n",
        "\n",
        "st.write(\"The prediction is:\"+str(prediction))\n"
      ],
      "execution_count": null,
      "outputs": []
    },
    {
      "cell_type": "code",
      "metadata": {
        "id": "HHD3hf-MMM4t",
        "colab_type": "code",
        "colab": {}
      },
      "source": [
        "%%file hello.py\n",
        "\n",
        "import streamlit as st \n",
        "import pandas as pd\n",
        "import altair as alt\n",
        "import matplotlib.pyplot as plt\n",
        "import datetime\n",
        "import pickle\n",
        "\n",
        "st.title(\"Iris Classifier\")\n",
        "\n",
        "#Solution 2\n",
        "@st.cache\n",
        "def get_model():\n",
        "  return pickle.load(open(\"irisrf.pickle\",\"rb\"))\n",
        "\n",
        "clf = get_model()\n",
        "\n",
        "st.markdown(\"Change the value of sliders to get predictions\")\n",
        "\n",
        "feature1 = st.slider('Feature 1', 0, 10)\n",
        "feature2 = st.slider('Feature 2', 0, 10)\n",
        "feature3 = st.slider('Feature 3', 0, 10)\n",
        "feature4 = st.slider('Feature 4', 0, 10)\n",
        "\n",
        "prediction = clf.predict([[feature1,feature2,feature3,feature4]])\n",
        "\n",
        "st.write(\"The prediction is:\"+str(prediction))\n"
      ],
      "execution_count": null,
      "outputs": []
    }
  ]
}